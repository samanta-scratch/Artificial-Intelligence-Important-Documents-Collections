{
 "cells": [
  {
   "cell_type": "code",
   "execution_count": 1,
   "id": "61b62b5c",
   "metadata": {
    "execution": {
     "iopub.execute_input": "2023-01-29T01:52:04.455907Z",
     "iopub.status.busy": "2023-01-29T01:52:04.455246Z",
     "iopub.status.idle": "2023-01-29T01:52:13.178859Z",
     "shell.execute_reply": "2023-01-29T01:52:13.177486Z"
    },
    "id": "1LeaulHR91bL",
    "outputId": "e142837a-e169-4c07-c18b-9048b5f16ff1",
    "papermill": {
     "duration": 8.73036,
     "end_time": "2023-01-29T01:52:13.181614",
     "exception": false,
     "start_time": "2023-01-29T01:52:04.451254",
     "status": "completed"
    },
    "tags": []
   },
   "outputs": [
    {
     "name": "stdout",
     "output_type": "stream",
     "text": [
      "Downloading data from https://storage.googleapis.com/tensorflow/tf-keras-datasets/train-labels-idx1-ubyte.gz\n",
      "32768/29515 [=================================] - 0s 0us/step\n",
      "40960/29515 [=========================================] - 0s 0us/step\n",
      "Downloading data from https://storage.googleapis.com/tensorflow/tf-keras-datasets/train-images-idx3-ubyte.gz\n",
      "26427392/26421880 [==============================] - 0s 0us/step\n",
      "26435584/26421880 [==============================] - 0s 0us/step\n",
      "Downloading data from https://storage.googleapis.com/tensorflow/tf-keras-datasets/t10k-labels-idx1-ubyte.gz\n",
      "16384/5148 [===============================================================================================] - 0s 0us/step\n",
      "Downloading data from https://storage.googleapis.com/tensorflow/tf-keras-datasets/t10k-images-idx3-ubyte.gz\n",
      "4423680/4422102 [==============================] - 0s 0us/step\n",
      "4431872/4422102 [==============================] - 0s 0us/step\n",
      "Training Dataset Shape: (60000, 28, 28, 1)\n",
      "No. of Training Dataset Labels: 60000\n",
      "Test Dataset Shape: (10000, 28, 28, 1)\n",
      "No. of Test Dataset Labels: 10000\n"
     ]
    },
    {
     "name": "stderr",
     "output_type": "stream",
     "text": [
      "2023-01-29 01:52:10.660084: I tensorflow/stream_executor/cuda/cuda_gpu_executor.cc:937] successful NUMA node read from SysFS had negative value (-1), but there must be at least one NUMA node, so returning NUMA node zero\n",
      "2023-01-29 01:52:10.755170: I tensorflow/stream_executor/cuda/cuda_gpu_executor.cc:937] successful NUMA node read from SysFS had negative value (-1), but there must be at least one NUMA node, so returning NUMA node zero\n",
      "2023-01-29 01:52:10.755915: I tensorflow/stream_executor/cuda/cuda_gpu_executor.cc:937] successful NUMA node read from SysFS had negative value (-1), but there must be at least one NUMA node, so returning NUMA node zero\n",
      "2023-01-29 01:52:10.757564: I tensorflow/core/platform/cpu_feature_guard.cc:142] This TensorFlow binary is optimized with oneAPI Deep Neural Network Library (oneDNN) to use the following CPU instructions in performance-critical operations:  AVX2 AVX512F FMA\n",
      "To enable them in other operations, rebuild TensorFlow with the appropriate compiler flags.\n",
      "2023-01-29 01:52:10.757867: I tensorflow/stream_executor/cuda/cuda_gpu_executor.cc:937] successful NUMA node read from SysFS had negative value (-1), but there must be at least one NUMA node, so returning NUMA node zero\n",
      "2023-01-29 01:52:10.758547: I tensorflow/stream_executor/cuda/cuda_gpu_executor.cc:937] successful NUMA node read from SysFS had negative value (-1), but there must be at least one NUMA node, so returning NUMA node zero\n",
      "2023-01-29 01:52:10.759172: I tensorflow/stream_executor/cuda/cuda_gpu_executor.cc:937] successful NUMA node read from SysFS had negative value (-1), but there must be at least one NUMA node, so returning NUMA node zero\n",
      "2023-01-29 01:52:12.821502: I tensorflow/stream_executor/cuda/cuda_gpu_executor.cc:937] successful NUMA node read from SysFS had negative value (-1), but there must be at least one NUMA node, so returning NUMA node zero\n",
      "2023-01-29 01:52:12.822408: I tensorflow/stream_executor/cuda/cuda_gpu_executor.cc:937] successful NUMA node read from SysFS had negative value (-1), but there must be at least one NUMA node, so returning NUMA node zero\n",
      "2023-01-29 01:52:12.823099: I tensorflow/stream_executor/cuda/cuda_gpu_executor.cc:937] successful NUMA node read from SysFS had negative value (-1), but there must be at least one NUMA node, so returning NUMA node zero\n",
      "2023-01-29 01:52:12.823676: I tensorflow/core/common_runtime/gpu/gpu_device.cc:1510] Created device /job:localhost/replica:0/task:0/device:GPU:0 with 15401 MB memory:  -> device: 0, name: Tesla P100-PCIE-16GB, pci bus id: 0000:00:04.0, compute capability: 6.0\n"
     ]
    }
   ],
   "source": [
    "import tensorflow as tf\n",
    "from tensorflow import keras as ks\n",
    "mnist_fashion = ks.datasets.fashion_mnist\n",
    "(training_images, training_labels), (test_images, test_labels) = mnist_fashion.load_data()\n",
    "\n",
    "# Scale values\n",
    "training_images=training_images/255.0\n",
    "test_images=test_images/255.0\n",
    "\n",
    "training_images = training_images.reshape((60000, 28, 28, 1))\n",
    "test_images = test_images.reshape((10000, 28, 28, 1))\n",
    "\n",
    "\n",
    "\n",
    "print('Training Dataset Shape: {}'.format(training_images.shape))\n",
    "print('No. of Training Dataset Labels: {}'.format(len(training_labels)))\n",
    "print('Test Dataset Shape: {}'.format(test_images.shape))\n",
    "print('No. of Test Dataset Labels: {}'.format(len(test_labels)))\n",
    "\n",
    "cnn_model = ks.models.Sequential()\n"
   ]
  },
  {
   "cell_type": "code",
   "execution_count": 2,
   "id": "c620ea96",
   "metadata": {
    "execution": {
     "iopub.execute_input": "2023-01-29T01:52:13.189988Z",
     "iopub.status.busy": "2023-01-29T01:52:13.188822Z",
     "iopub.status.idle": "2023-01-29T01:52:13.199861Z",
     "shell.execute_reply": "2023-01-29T01:52:13.199029Z"
    },
    "id": "HmvOInz_FOBr",
    "papermill": {
     "duration": 0.017119,
     "end_time": "2023-01-29T01:52:13.202198",
     "exception": false,
     "start_time": "2023-01-29T01:52:13.185079",
     "status": "completed"
    },
    "tags": []
   },
   "outputs": [],
   "source": [
    "from tensorflow.keras.layers import Conv2D, MaxPooling2D,Dense, Flatten\n",
    "from tensorflow.keras.optimizers import Adam"
   ]
  },
  {
   "cell_type": "code",
   "execution_count": 3,
   "id": "635ae32f",
   "metadata": {
    "execution": {
     "iopub.execute_input": "2023-01-29T01:52:13.209083Z",
     "iopub.status.busy": "2023-01-29T01:52:13.208788Z",
     "iopub.status.idle": "2023-01-29T01:52:13.302406Z",
     "shell.execute_reply": "2023-01-29T01:52:13.301569Z"
    },
    "id": "RFvCrH1WFREK",
    "papermill": {
     "duration": 0.099347,
     "end_time": "2023-01-29T01:52:13.304577",
     "exception": false,
     "start_time": "2023-01-29T01:52:13.205230",
     "status": "completed"
    },
    "tags": []
   },
   "outputs": [],
   "source": [
    "cnn_model.add(Conv2D(64, (5, 5),padding=\"same\",activation=\"relu\",input_shape=(28, 28, 1)))\n",
    "cnn_model.add(MaxPooling2D(pool_size=(2, 2)))\n",
    "cnn_model.add(Conv2D(128, (5, 5), padding=\"same\",activation=\"relu\"))\n",
    "cnn_model.add(MaxPooling2D(pool_size=(2, 2)))\n",
    "cnn_model.add(Conv2D(256, (5, 5), padding=\"same\",activation=\"relu\"))\n",
    "cnn_model.add(MaxPooling2D(pool_size=(2, 2)))\n",
    "cnn_model.add(Flatten())\n",
    "cnn_model.add(Dense(50, activation=\"relu\"))\n",
    "cnn_model.add(Dense(50, activation=\"relu\"))\n",
    "cnn_model.add(Dense(10, activation=\"softmax\"))\n",
    " "
   ]
  },
  {
   "cell_type": "code",
   "execution_count": 4,
   "id": "d7af16a4",
   "metadata": {
    "execution": {
     "iopub.execute_input": "2023-01-29T01:52:13.311444Z",
     "iopub.status.busy": "2023-01-29T01:52:13.311188Z",
     "iopub.status.idle": "2023-01-29T01:52:13.325506Z",
     "shell.execute_reply": "2023-01-29T01:52:13.324467Z"
    },
    "id": "voqEz0nQGNu0",
    "outputId": "092b688b-2d55-43e0-f119-1debc2652557",
    "papermill": {
     "duration": 0.020463,
     "end_time": "2023-01-29T01:52:13.328114",
     "exception": false,
     "start_time": "2023-01-29T01:52:13.307651",
     "status": "completed"
    },
    "tags": []
   },
   "outputs": [
    {
     "name": "stdout",
     "output_type": "stream",
     "text": [
      "Model: \"sequential\"\n",
      "_________________________________________________________________\n",
      "Layer (type)                 Output Shape              Param #   \n",
      "=================================================================\n",
      "conv2d (Conv2D)              (None, 28, 28, 64)        1664      \n",
      "_________________________________________________________________\n",
      "max_pooling2d (MaxPooling2D) (None, 14, 14, 64)        0         \n",
      "_________________________________________________________________\n",
      "conv2d_1 (Conv2D)            (None, 14, 14, 128)       204928    \n",
      "_________________________________________________________________\n",
      "max_pooling2d_1 (MaxPooling2 (None, 7, 7, 128)         0         \n",
      "_________________________________________________________________\n",
      "conv2d_2 (Conv2D)            (None, 7, 7, 256)         819456    \n",
      "_________________________________________________________________\n",
      "max_pooling2d_2 (MaxPooling2 (None, 3, 3, 256)         0         \n",
      "_________________________________________________________________\n",
      "flatten (Flatten)            (None, 2304)              0         \n",
      "_________________________________________________________________\n",
      "dense (Dense)                (None, 50)                115250    \n",
      "_________________________________________________________________\n",
      "dense_1 (Dense)              (None, 50)                2550      \n",
      "_________________________________________________________________\n",
      "dense_2 (Dense)              (None, 10)                510       \n",
      "=================================================================\n",
      "Total params: 1,144,358\n",
      "Trainable params: 1,144,358\n",
      "Non-trainable params: 0\n",
      "_________________________________________________________________\n"
     ]
    }
   ],
   "source": [
    "cnn_model.compile(optimizer='Adam',\n",
    "              loss='sparse_categorical_crossentropy',\n",
    "              metrics=['sparse_categorical_accuracy'])\n",
    " \n",
    "cnn_model.summary()"
   ]
  },
  {
   "cell_type": "code",
   "execution_count": 5,
   "id": "4aa70cff",
   "metadata": {
    "execution": {
     "iopub.execute_input": "2023-01-29T01:52:13.335328Z",
     "iopub.status.busy": "2023-01-29T01:52:13.335026Z",
     "iopub.status.idle": "2023-01-29T01:53:00.919998Z",
     "shell.execute_reply": "2023-01-29T01:53:00.918944Z"
    },
    "id": "KWd5aTY-GTpL",
    "outputId": "f4463eb8-46b2-416c-e2b7-bcc1a77a3b4e",
    "papermill": {
     "duration": 47.591031,
     "end_time": "2023-01-29T01:53:00.922189",
     "exception": false,
     "start_time": "2023-01-29T01:52:13.331158",
     "status": "completed"
    },
    "tags": []
   },
   "outputs": [
    {
     "name": "stderr",
     "output_type": "stream",
     "text": [
      "2023-01-29 01:52:13.820371: I tensorflow/compiler/mlir/mlir_graph_optimization_pass.cc:185] None of the MLIR Optimization Passes are enabled (registered 2)\n"
     ]
    },
    {
     "name": "stdout",
     "output_type": "stream",
     "text": [
      "Epoch 1/10\n"
     ]
    },
    {
     "name": "stderr",
     "output_type": "stream",
     "text": [
      "2023-01-29 01:52:15.141489: I tensorflow/stream_executor/cuda/cuda_dnn.cc:369] Loaded cuDNN version 8005\n"
     ]
    },
    {
     "name": "stdout",
     "output_type": "stream",
     "text": [
      "100/100 [==============================] - 12s 44ms/step - loss: 0.7780 - sparse_categorical_accuracy: 0.7056 - val_loss: 0.4868 - val_sparse_categorical_accuracy: 0.8256\n",
      "Epoch 2/10\n",
      "100/100 [==============================] - 4s 37ms/step - loss: 0.4210 - sparse_categorical_accuracy: 0.8471 - val_loss: 0.3956 - val_sparse_categorical_accuracy: 0.8568\n",
      "Epoch 3/10\n",
      "100/100 [==============================] - 4s 36ms/step - loss: 0.3400 - sparse_categorical_accuracy: 0.8768 - val_loss: 0.3192 - val_sparse_categorical_accuracy: 0.8841\n",
      "Epoch 4/10\n",
      "100/100 [==============================] - 5s 48ms/step - loss: 0.3020 - sparse_categorical_accuracy: 0.8908 - val_loss: 0.3116 - val_sparse_categorical_accuracy: 0.8870\n",
      "Epoch 5/10\n",
      "100/100 [==============================] - 4s 37ms/step - loss: 0.2751 - sparse_categorical_accuracy: 0.8984 - val_loss: 0.2907 - val_sparse_categorical_accuracy: 0.8955\n",
      "Epoch 6/10\n",
      "100/100 [==============================] - 5s 48ms/step - loss: 0.2485 - sparse_categorical_accuracy: 0.9092 - val_loss: 0.2965 - val_sparse_categorical_accuracy: 0.8944\n",
      "Epoch 7/10\n",
      "100/100 [==============================] - 4s 36ms/step - loss: 0.2279 - sparse_categorical_accuracy: 0.9169 - val_loss: 0.2634 - val_sparse_categorical_accuracy: 0.9042\n",
      "Epoch 8/10\n",
      "100/100 [==============================] - 4s 39ms/step - loss: 0.2064 - sparse_categorical_accuracy: 0.9239 - val_loss: 0.2730 - val_sparse_categorical_accuracy: 0.9021\n",
      "Epoch 9/10\n",
      "100/100 [==============================] - 4s 36ms/step - loss: 0.1893 - sparse_categorical_accuracy: 0.9322 - val_loss: 0.2458 - val_sparse_categorical_accuracy: 0.9124\n",
      "Epoch 10/10\n",
      "100/100 [==============================] - 4s 36ms/step - loss: 0.1741 - sparse_categorical_accuracy: 0.9364 - val_loss: 0.2356 - val_sparse_categorical_accuracy: 0.9156\n"
     ]
    },
    {
     "data": {
      "text/plain": [
       "<keras.callbacks.History at 0x7f193428b190>"
      ]
     },
     "execution_count": 5,
     "metadata": {},
     "output_type": "execute_result"
    }
   ],
   "source": [
    "import numpy as np\n",
    "cnn_model.fit(\n",
    "    training_images, training_labels,\n",
    "    epochs=10,\n",
    "    steps_per_epoch=100,\n",
    "    validation_split=0.33\n",
    ")"
   ]
  }
 ],
 "metadata": {
  "kernelspec": {
   "display_name": "Python 3",
   "language": "python",
   "name": "python3"
  },
  "language_info": {
   "codemirror_mode": {
    "name": "ipython",
    "version": 3
   },
   "file_extension": ".py",
   "mimetype": "text/x-python",
   "name": "python",
   "nbconvert_exporter": "python",
   "pygments_lexer": "ipython3",
   "version": "3.7.12"
  },
  "papermill": {
   "default_parameters": {},
   "duration": 67.219546,
   "end_time": "2023-01-29T01:53:04.325561",
   "environment_variables": {},
   "exception": null,
   "input_path": "__notebook__.ipynb",
   "output_path": "__notebook__.ipynb",
   "parameters": {},
   "start_time": "2023-01-29T01:51:57.106015",
   "version": "2.3.4"
  }
 },
 "nbformat": 4,
 "nbformat_minor": 5
}
