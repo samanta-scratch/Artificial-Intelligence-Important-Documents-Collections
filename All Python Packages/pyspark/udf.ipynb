{
 "cells": [
  {
   "cell_type": "markdown",
   "metadata": {},
   "source": [
    "# Configuration"
   ]
  },
  {
   "cell_type": "code",
   "execution_count": null,
   "metadata": {},
   "outputs": [],
   "source": [
    "import pandas as pd\n",
    "import pyspark\n",
    "from pyspark_common import *\n",
    "\n",
    "spark = pyspark.sql.SparkSession.builder \\\n",
    "        .master('local') \\\n",
    "        .appName('Spark Datatype') \\\n",
    "        .getOrCreate()"
   ]
  },
  {
   "cell_type": "markdown",
   "metadata": {},
   "source": [
    "# Import data"
   ]
  },
  {
   "cell_type": "code",
   "execution_count": null,
   "metadata": {},
   "outputs": [],
   "source": [
    "# If datatype is not specified, string will be default\n",
    "squared = udf(lambda x: x**2)\n",
    "# squared = udf(lambda x: x**2, FloatType())"
   ]
  },
  {
   "cell_type": "code",
   "execution_count": null,
   "metadata": {},
   "outputs": [],
   "source": [
    "df_pd = pd.DataFrame(data=\n",
    "                     {'integers': [1, 2, 3], \n",
    "                      'floats': [-1.0, 0.5, 2.7], \n",
    "                      'integer_array': [[1, 2], [3, 4, 5], [6, 7, 8, 9]], \n",
    "                      'str_array': [[], ['a'], ['a','b']], \n",
    "                      'literal_str_array': \"[[], ['a'], ['a','b']]\", \n",
    "                      'literal_str_array2': '\"[[], [a], [a,b]]\"', \n",
    "                      'strs': ['null', '', None]\n",
    "                     })"
   ]
  },
  {
   "cell_type": "code",
   "execution_count": null,
   "metadata": {},
   "outputs": [],
   "source": [
    "df = spark.createDataFrame(df_pd)\n",
    "df.printSchema()"
   ]
  },
  {
   "cell_type": "code",
   "execution_count": null,
   "metadata": {},
   "outputs": [],
   "source": [
    "type(float('inf'))"
   ]
  },
  {
   "cell_type": "code",
   "execution_count": null,
   "metadata": {},
   "outputs": [],
   "source": [
    "print_pandas(df)"
   ]
  },
  {
   "cell_type": "code",
   "execution_count": null,
   "metadata": {},
   "outputs": [],
   "source": [
    "print_pandas(df.withColumn('floats_sq', squared('floats')).withColumn('integers_sq', squared('integers')))\n",
    "\n",
    "# df.withColumn('floats_sq', squared('floats'))\\\n",
    "#     .withColumn('integers_sq', squared('integers'))\\\n",
    "#     .printSchema()"
   ]
  },
  {
   "cell_type": "code",
   "execution_count": null,
   "metadata": {},
   "outputs": [],
   "source": [
    "print_pandas(df.select(squared('floats').alias('floats_sq'), \n",
    "                       squared('integers').alias('integers_sq')))\n",
    "\n",
    "# df.select(squared('floats').alias('floats_sq'), \n",
    "#           squared('integers').alias('integers_sq')).printSchema()"
   ]
  },
  {
   "cell_type": "code",
   "execution_count": null,
   "metadata": {},
   "outputs": [],
   "source": [
    "from pyspark.sql.types import ArrayType, FloatType\n",
    "\n",
    "squared_list = udf(lambda x: [v**2 for v in x])\n",
    "\n",
    "# # If you specific FloatType, but v is Integer, it will return None\n",
    "# squared_list = udf(lambda x: [v**2 for v in x], ArrayType(FloatType()))\n",
    "# squared_list = udf(lambda x: [float(v)**2 for v in x], ArrayType(FloatType()))"
   ]
  },
  {
   "cell_type": "code",
   "execution_count": null,
   "metadata": {},
   "outputs": [],
   "source": [
    "print_pandas(df.withColumn('integer_arrays_sq', squared_list('integer_arrays')))\n",
    "# df.withColumn('integer_arrays_sq', squared_list('integer_arrays')).printSchema()"
   ]
  },
  {
   "cell_type": "code",
   "execution_count": null,
   "metadata": {},
   "outputs": [],
   "source": [
    "for col in df.columns:\n",
    "    print(col)"
   ]
  },
  {
   "cell_type": "code",
   "execution_count": null,
   "metadata": {},
   "outputs": [],
   "source": [
    "for col in df.columns:\n",
    "    print(type(df[col]))"
   ]
  }
 ],
 "metadata": {
  "kernelspec": {
   "display_name": "Python 3",
   "language": "python",
   "name": "python3"
  },
  "language_info": {
   "codemirror_mode": {
    "name": "ipython",
    "version": 3
   },
   "file_extension": ".py",
   "mimetype": "text/x-python",
   "name": "python",
   "nbconvert_exporter": "python",
   "pygments_lexer": "ipython3",
   "version": "3.7.4"
  }
 },
 "nbformat": 4,
 "nbformat_minor": 2
}
