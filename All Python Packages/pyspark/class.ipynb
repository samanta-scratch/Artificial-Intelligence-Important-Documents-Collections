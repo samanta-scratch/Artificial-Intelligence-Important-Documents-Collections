{
 "cells": [
  {
   "cell_type": "markdown",
   "metadata": {},
   "source": [
    "# Configuration\n",
    "\n",
    "- https://towardsdatascience.com/how-to-get-started-with-pyspark-1adc142456ec"
   ]
  },
  {
   "cell_type": "code",
   "execution_count": 1,
   "metadata": {},
   "outputs": [],
   "source": [
    "# Most straightforward method\n",
    "import pyspark\n",
    "import pandas as pd\n",
    "from pyspark_common import *\n",
    "\n",
    "spark = pyspark.sql.SparkSession.builder \\\n",
    "        .master('local') \\\n",
    "        .appName('Spark Datatype') \\\n",
    "        .getOrCreate()"
   ]
  },
  {
   "cell_type": "markdown",
   "metadata": {},
   "source": [
    "# Import data"
   ]
  },
  {
   "cell_type": "code",
   "execution_count": 2,
   "metadata": {},
   "outputs": [],
   "source": [
    "auto = spark.read.csv('auto-mpg.csv', header=True)"
   ]
  },
  {
   "cell_type": "code",
   "execution_count": 3,
   "metadata": {},
   "outputs": [
    {
     "name": "stdout",
     "output_type": "stream",
     "text": [
      "root\n",
      " |-- mpg: string (nullable = true)\n",
      " |-- cyl: string (nullable = true)\n",
      " |-- displ: string (nullable = true)\n",
      " |-- hp: string (nullable = true)\n",
      " |-- weight: string (nullable = true)\n",
      " |-- accel: string (nullable = true)\n",
      " |-- yr: string (nullable = true)\n",
      " |-- origin: string (nullable = true)\n",
      " |-- name: string (nullable = true)\n",
      " |-- color: string (nullable = true)\n",
      " |-- size: string (nullable = true)\n",
      " |-- marker: string (nullable = true)\n",
      "\n"
     ]
    }
   ],
   "source": [
    "auto.printSchema()"
   ]
  },
  {
   "cell_type": "code",
   "execution_count": 4,
   "metadata": {
    "scrolled": true
   },
   "outputs": [
    {
     "name": "stdout",
     "output_type": "stream",
     "text": [
      "+----+---+-----+---+------+-----+---+------+--------------------+-----+------------------+------+\n",
      "| mpg|cyl|displ| hp|weight|accel| yr|origin|                name|color|              size|marker|\n",
      "+----+---+-----+---+------+-----+---+------+--------------------+-----+------------------+------+\n",
      "|18.0|  6|250.0| 88|  3139| 14.5| 71|    US|        ford mustang|  red|27.370336111111108|     o|\n",
      "| 9.0|  8|304.0|193|  4732| 18.5| 70|    US|            hi 1200d|green|62.199511111111114|     o|\n",
      "|36.1|  4| 91.0| 60|  1800| 16.4| 78|  Asia|    honda civic cvcc| blue|               9.0|     x|\n",
      "|18.5|  6|250.0| 98|  3525| 19.0| 77|    US|        ford granada|  red|         34.515625|     o|\n",
      "|34.3|  4| 97.0| 78|  2188| 15.8| 80|Europe|           audi 4000| blue|13.298177777777777|     s|\n",
      "|32.9|  4|119.0|100|  2615| 14.8| 81|  Asia|        datsun 200sx| blue|18.995069444444447|     x|\n",
      "|32.2|  4|108.0| 75|  2265| 15.2| 80|  Asia|      toyota corolla| blue|         14.250625|     x|\n",
      "|22.0|  4|121.0| 76|  2511| 18.0| 72|Europe| volkswagen 411 (sw)| blue|17.514224999999996|     s|\n",
      "|15.0|  8|302.0|130|  4295| 14.9| 77|    US|mercury cougar br...|green| 51.24173611111111|     o|\n",
      "|17.0|  8|302.0|140|  3449| 10.5| 70|    US|         ford torino|green| 33.04333611111111|     o|\n",
      "+----+---+-----+---+------+-----+---+------+--------------------+-----+------------------+------+\n",
      "\n"
     ]
    }
   ],
   "source": [
    "auto.limit(10).show()"
   ]
  },
  {
   "cell_type": "code",
   "execution_count": 5,
   "metadata": {
    "scrolled": true
   },
   "outputs": [
    {
     "data": {
      "text/html": [
       "<div>\n",
       "<style scoped>\n",
       "    .dataframe tbody tr th:only-of-type {\n",
       "        vertical-align: middle;\n",
       "    }\n",
       "\n",
       "    .dataframe tbody tr th {\n",
       "        vertical-align: top;\n",
       "    }\n",
       "\n",
       "    .dataframe thead th {\n",
       "        text-align: right;\n",
       "    }\n",
       "</style>\n",
       "<table border=\"1\" class=\"dataframe\">\n",
       "  <thead>\n",
       "    <tr style=\"text-align: right;\">\n",
       "      <th></th>\n",
       "      <th>mpg</th>\n",
       "      <th>cyl</th>\n",
       "      <th>displ</th>\n",
       "      <th>hp</th>\n",
       "      <th>weight</th>\n",
       "      <th>accel</th>\n",
       "      <th>yr</th>\n",
       "      <th>origin</th>\n",
       "      <th>name</th>\n",
       "      <th>color</th>\n",
       "      <th>size</th>\n",
       "      <th>marker</th>\n",
       "    </tr>\n",
       "  </thead>\n",
       "  <tbody>\n",
       "    <tr>\n",
       "      <th>0</th>\n",
       "      <td>18.0</td>\n",
       "      <td>6</td>\n",
       "      <td>250.0</td>\n",
       "      <td>88</td>\n",
       "      <td>3139</td>\n",
       "      <td>14.5</td>\n",
       "      <td>71</td>\n",
       "      <td>US</td>\n",
       "      <td>ford mustang</td>\n",
       "      <td>red</td>\n",
       "      <td>27.370336111111108</td>\n",
       "      <td>o</td>\n",
       "    </tr>\n",
       "    <tr>\n",
       "      <th>1</th>\n",
       "      <td>9.0</td>\n",
       "      <td>8</td>\n",
       "      <td>304.0</td>\n",
       "      <td>193</td>\n",
       "      <td>4732</td>\n",
       "      <td>18.5</td>\n",
       "      <td>70</td>\n",
       "      <td>US</td>\n",
       "      <td>hi 1200d</td>\n",
       "      <td>green</td>\n",
       "      <td>62.199511111111114</td>\n",
       "      <td>o</td>\n",
       "    </tr>\n",
       "    <tr>\n",
       "      <th>2</th>\n",
       "      <td>36.1</td>\n",
       "      <td>4</td>\n",
       "      <td>91.0</td>\n",
       "      <td>60</td>\n",
       "      <td>1800</td>\n",
       "      <td>16.4</td>\n",
       "      <td>78</td>\n",
       "      <td>Asia</td>\n",
       "      <td>honda civic cvcc</td>\n",
       "      <td>blue</td>\n",
       "      <td>9.0</td>\n",
       "      <td>x</td>\n",
       "    </tr>\n",
       "    <tr>\n",
       "      <th>3</th>\n",
       "      <td>18.5</td>\n",
       "      <td>6</td>\n",
       "      <td>250.0</td>\n",
       "      <td>98</td>\n",
       "      <td>3525</td>\n",
       "      <td>19.0</td>\n",
       "      <td>77</td>\n",
       "      <td>US</td>\n",
       "      <td>ford granada</td>\n",
       "      <td>red</td>\n",
       "      <td>34.515625</td>\n",
       "      <td>o</td>\n",
       "    </tr>\n",
       "    <tr>\n",
       "      <th>4</th>\n",
       "      <td>34.3</td>\n",
       "      <td>4</td>\n",
       "      <td>97.0</td>\n",
       "      <td>78</td>\n",
       "      <td>2188</td>\n",
       "      <td>15.8</td>\n",
       "      <td>80</td>\n",
       "      <td>Europe</td>\n",
       "      <td>audi 4000</td>\n",
       "      <td>blue</td>\n",
       "      <td>13.298177777777777</td>\n",
       "      <td>s</td>\n",
       "    </tr>\n",
       "    <tr>\n",
       "      <th>5</th>\n",
       "      <td>32.9</td>\n",
       "      <td>4</td>\n",
       "      <td>119.0</td>\n",
       "      <td>100</td>\n",
       "      <td>2615</td>\n",
       "      <td>14.8</td>\n",
       "      <td>81</td>\n",
       "      <td>Asia</td>\n",
       "      <td>datsun 200sx</td>\n",
       "      <td>blue</td>\n",
       "      <td>18.995069444444447</td>\n",
       "      <td>x</td>\n",
       "    </tr>\n",
       "    <tr>\n",
       "      <th>6</th>\n",
       "      <td>32.2</td>\n",
       "      <td>4</td>\n",
       "      <td>108.0</td>\n",
       "      <td>75</td>\n",
       "      <td>2265</td>\n",
       "      <td>15.2</td>\n",
       "      <td>80</td>\n",
       "      <td>Asia</td>\n",
       "      <td>toyota corolla</td>\n",
       "      <td>blue</td>\n",
       "      <td>14.250625</td>\n",
       "      <td>x</td>\n",
       "    </tr>\n",
       "    <tr>\n",
       "      <th>7</th>\n",
       "      <td>22.0</td>\n",
       "      <td>4</td>\n",
       "      <td>121.0</td>\n",
       "      <td>76</td>\n",
       "      <td>2511</td>\n",
       "      <td>18.0</td>\n",
       "      <td>72</td>\n",
       "      <td>Europe</td>\n",
       "      <td>volkswagen 411 (sw)</td>\n",
       "      <td>blue</td>\n",
       "      <td>17.514224999999996</td>\n",
       "      <td>s</td>\n",
       "    </tr>\n",
       "    <tr>\n",
       "      <th>8</th>\n",
       "      <td>15.0</td>\n",
       "      <td>8</td>\n",
       "      <td>302.0</td>\n",
       "      <td>130</td>\n",
       "      <td>4295</td>\n",
       "      <td>14.9</td>\n",
       "      <td>77</td>\n",
       "      <td>US</td>\n",
       "      <td>mercury cougar brougham</td>\n",
       "      <td>green</td>\n",
       "      <td>51.24173611111111</td>\n",
       "      <td>o</td>\n",
       "    </tr>\n",
       "    <tr>\n",
       "      <th>9</th>\n",
       "      <td>17.0</td>\n",
       "      <td>8</td>\n",
       "      <td>302.0</td>\n",
       "      <td>140</td>\n",
       "      <td>3449</td>\n",
       "      <td>10.5</td>\n",
       "      <td>70</td>\n",
       "      <td>US</td>\n",
       "      <td>ford torino</td>\n",
       "      <td>green</td>\n",
       "      <td>33.04333611111111</td>\n",
       "      <td>o</td>\n",
       "    </tr>\n",
       "  </tbody>\n",
       "</table>\n",
       "</div>"
      ],
      "text/plain": [
       "    mpg cyl  displ   hp weight accel  yr  origin                     name  \\\n",
       "0  18.0   6  250.0   88   3139  14.5  71      US             ford mustang   \n",
       "1   9.0   8  304.0  193   4732  18.5  70      US                 hi 1200d   \n",
       "2  36.1   4   91.0   60   1800  16.4  78    Asia         honda civic cvcc   \n",
       "3  18.5   6  250.0   98   3525  19.0  77      US             ford granada   \n",
       "4  34.3   4   97.0   78   2188  15.8  80  Europe                audi 4000   \n",
       "5  32.9   4  119.0  100   2615  14.8  81    Asia             datsun 200sx   \n",
       "6  32.2   4  108.0   75   2265  15.2  80    Asia           toyota corolla   \n",
       "7  22.0   4  121.0   76   2511  18.0  72  Europe      volkswagen 411 (sw)   \n",
       "8  15.0   8  302.0  130   4295  14.9  77      US  mercury cougar brougham   \n",
       "9  17.0   8  302.0  140   3449  10.5  70      US              ford torino   \n",
       "\n",
       "   color                size marker  \n",
       "0    red  27.370336111111108      o  \n",
       "1  green  62.199511111111114      o  \n",
       "2   blue                 9.0      x  \n",
       "3    red           34.515625      o  \n",
       "4   blue  13.298177777777777      s  \n",
       "5   blue  18.995069444444447      x  \n",
       "6   blue           14.250625      x  \n",
       "7   blue  17.514224999999996      s  \n",
       "8  green   51.24173611111111      o  \n",
       "9  green   33.04333611111111      o  "
      ]
     },
     "execution_count": 5,
     "metadata": {},
     "output_type": "execute_result"
    }
   ],
   "source": [
    "to_pandas(auto)"
   ]
  },
  {
   "cell_type": "markdown",
   "metadata": {},
   "source": [
    "# Data type\n",
    "## Convert Spark Dataframe to RDD"
   ]
  },
  {
   "cell_type": "code",
   "execution_count": 6,
   "metadata": {},
   "outputs": [
    {
     "data": {
      "text/plain": [
       "MapPartitionsRDD[20] at javaToPython at NativeMethodAccessorImpl.java:0"
      ]
     },
     "execution_count": 6,
     "metadata": {},
     "output_type": "execute_result"
    }
   ],
   "source": [
    "auto_rdd = auto.rdd\n",
    "auto_rdd"
   ]
  },
  {
   "cell_type": "code",
   "execution_count": 7,
   "metadata": {},
   "outputs": [
    {
     "data": {
      "text/plain": [
       "1"
      ]
     },
     "execution_count": 7,
     "metadata": {},
     "output_type": "execute_result"
    }
   ],
   "source": [
    "auto_rdd.getNumPartitions()"
   ]
  },
  {
   "cell_type": "code",
   "execution_count": 8,
   "metadata": {},
   "outputs": [
    {
     "data": {
      "text/plain": [
       "pyspark.rdd.RDD"
      ]
     },
     "execution_count": 8,
     "metadata": {},
     "output_type": "execute_result"
    }
   ],
   "source": [
    "type(auto_rdd)"
   ]
  },
  {
   "cell_type": "code",
   "execution_count": 9,
   "metadata": {},
   "outputs": [
    {
     "data": {
      "text/plain": [
       "392"
      ]
     },
     "execution_count": 9,
     "metadata": {},
     "output_type": "execute_result"
    }
   ],
   "source": [
    "auto_rdd.count()"
   ]
  },
  {
   "cell_type": "code",
   "execution_count": 10,
   "metadata": {},
   "outputs": [
    {
     "data": {
      "text/plain": [
       "[Row(mpg='18.0', cyl='6', displ='250.0', hp='88', weight='3139', accel='14.5', yr='71', origin='US', name='ford mustang', color='red', size='27.370336111111108', marker='o'),\n",
       " Row(mpg='9.0', cyl='8', displ='304.0', hp='193', weight='4732', accel='18.5', yr='70', origin='US', name='hi 1200d', color='green', size='62.199511111111114', marker='o'),\n",
       " Row(mpg='36.1', cyl='4', displ='91.0', hp='60', weight='1800', accel='16.4', yr='78', origin='Asia', name='honda civic cvcc', color='blue', size='9.0', marker='x'),\n",
       " Row(mpg='18.5', cyl='6', displ='250.0', hp='98', weight='3525', accel='19.0', yr='77', origin='US', name='ford granada', color='red', size='34.515625', marker='o'),\n",
       " Row(mpg='34.3', cyl='4', displ='97.0', hp='78', weight='2188', accel='15.8', yr='80', origin='Europe', name='audi 4000', color='blue', size='13.298177777777777', marker='s'),\n",
       " Row(mpg='32.9', cyl='4', displ='119.0', hp='100', weight='2615', accel='14.8', yr='81', origin='Asia', name='datsun 200sx', color='blue', size='18.995069444444447', marker='x'),\n",
       " Row(mpg='32.2', cyl='4', displ='108.0', hp='75', weight='2265', accel='15.2', yr='80', origin='Asia', name='toyota corolla', color='blue', size='14.250625', marker='x'),\n",
       " Row(mpg='22.0', cyl='4', displ='121.0', hp='76', weight='2511', accel='18.0', yr='72', origin='Europe', name='volkswagen 411 (sw)', color='blue', size='17.514224999999996', marker='s'),\n",
       " Row(mpg='15.0', cyl='8', displ='302.0', hp='130', weight='4295', accel='14.9', yr='77', origin='US', name='mercury cougar brougham', color='green', size='51.24173611111111', marker='o'),\n",
       " Row(mpg='17.0', cyl='8', displ='302.0', hp='140', weight='3449', accel='10.5', yr='70', origin='US', name='ford torino', color='green', size='33.04333611111111', marker='o'),\n",
       " Row(mpg='44.0', cyl='4', displ='97.0', hp='52', weight='2130', accel='24.6', yr='82', origin='Europe', name='vw pickup', color='blue', size='12.6025', marker='s'),\n",
       " Row(mpg='24.5', cyl='4', displ='151.0', hp='88', weight='2740', accel='16.0', yr='77', origin='US', name='pontiac sunbird coupe', color='blue', size='20.854444444444443', marker='o'),\n",
       " Row(mpg='32.0', cyl='4', displ='135.0', hp='84', weight='2295', accel='11.6', yr='82', origin='US', name='dodge rampage', color='blue', size='14.630625000000002', marker='o'),\n",
       " Row(mpg='14.0', cyl='8', displ='351.0', hp='148', weight='4657', accel='13.5', yr='75', origin='US', name='ford ltd', color='green', size='60.24346944444444', marker='o'),\n",
       " Row(mpg='15.0', cyl='8', displ='400.0', hp='150', weight='3761', accel='9.5', yr='70', origin='US', name='chevrolet monte carlo', color='green', size='39.29200277777778', marker='o'),\n",
       " Row(mpg='13.0', cyl='8', displ='307.0', hp='130', weight='4098', accel='14.0', yr='72', origin='US', name='chevrolet chevelle concours (sw)', color='green', size='46.6489', marker='o'),\n",
       " Row(mpg='36.0', cyl='4', displ='79.0', hp='58', weight='1825', accel='18.6', yr='77', origin='Europe', name='renault 5 gtl', color='blue', size='9.25173611111111', marker='s'),\n",
       " Row(mpg='31.0', cyl='4', displ='119.0', hp='82', weight='2720', accel='19.4', yr='82', origin='US', name='chevy s-10', color='blue', size='20.55111111111111', marker='o'),\n",
       " Row(mpg='32.0', cyl='4', displ='71.0', hp='65', weight='1836', accel='21.0', yr='74', origin='Asia', name='toyota corolla 1200', color='blue', size='9.3636', marker='x'),\n",
       " Row(mpg='21.5', cyl='3', displ='80.0', hp='110', weight='2720', accel='13.5', yr='77', origin='Asia', name='mazda rx-4', color='black', size='20.55111111111111', marker='x'),\n",
       " Row(mpg='19.0', cyl='6', displ='225.0', hp='95', weight='3264', accel='16.0', yr='75', origin='US', name='plymouth valiant custom', color='red', size='29.593600000000006', marker='o'),\n",
       " Row(mpg='17.0', cyl='6', displ='231.0', hp='110', weight='3907', accel='21.0', yr='75', origin='US', name='buick century', color='red', size='42.40180277777778', marker='o'),\n",
       " Row(mpg='16.0', cyl='8', displ='302.0', hp='140', weight='4141', accel='14.0', yr='74', origin='US', name='ford gran torino', color='green', size='47.633002777777776', marker='o'),\n",
       " Row(mpg='15.0', cyl='8', displ='383.0', hp='170', weight='3563', accel='10.0', yr='70', origin='US', name='dodge challenger se', color='green', size='35.26380277777778', marker='o'),\n",
       " Row(mpg='23.0', cyl='4', displ='140.0', hp='78', weight='2592', accel='18.5', yr='75', origin='US', name='pontiac astro', color='blue', size='18.6624', marker='o'),\n",
       " Row(mpg='26.0', cyl='4', displ='98.0', hp='90', weight='2265', accel='15.5', yr='73', origin='Europe', name='fiat 124 sport coupe', color='blue', size='14.250625', marker='s'),\n",
       " Row(mpg='32.0', cyl='4', displ='144.0', hp='96', weight='2665', accel='13.9', yr='82', origin='Asia', name='toyota celica gt', color='blue', size='19.728402777777777', marker='x'),\n",
       " Row(mpg='24.0', cyl='4', displ='113.0', hp='95', weight='2372', accel='15.0', yr='70', origin='Asia', name='toyota corona mark ii', color='blue', size='15.628844444444443', marker='x'),\n",
       " Row(mpg='21.0', cyl='6', displ='231.0', hp='110', weight='3039', accel='15.0', yr='75', origin='US', name='buick skyhawk', color='red', size='25.654225000000004', marker='o'),\n",
       " Row(mpg='31.3', cyl='4', displ='120.0', hp='75', weight='2542', accel='17.5', yr='80', origin='Asia', name='mazda 626', color='blue', size='17.949344444444442', marker='x'),\n",
       " Row(mpg='32.7', cyl='6', displ='168.0', hp='132', weight='2910', accel='11.4', yr='80', origin='Asia', name='datsun 280-zx', color='red', size='23.522499999999997', marker='x'),\n",
       " Row(mpg='15.0', cyl='8', displ='304.0', hp='150', weight='3892', accel='12.5', yr='72', origin='US', name='amc matador (sw)', color='green', size='42.07684444444444', marker='o'),\n",
       " Row(mpg='23.0', cyl='4', displ='140.0', hp='83', weight='2639', accel='17.0', yr='75', origin='US', name='ford pinto', color='blue', size='19.345336111111113', marker='o'),\n",
       " Row(mpg='17.6', cyl='6', displ='225.0', hp='85', weight='3465', accel='16.6', yr='81', origin='US', name='chrysler lebaron salon', color='red', size='33.350625', marker='o'),\n",
       " Row(mpg='28.0', cyl='4', displ='107.0', hp='86', weight='2464', accel='15.5', yr='76', origin='Europe', name='fiat 131', color='blue', size='16.86471111111111', marker='s'),\n",
       " Row(mpg='24.0', cyl='4', displ='116.0', hp='75', weight='2158', accel='15.5', yr='73', origin='Europe', name='opel manta', color='blue', size='12.936011111111112', marker='s'),\n",
       " Row(mpg='14.0', cyl='8', displ='302.0', hp='140', weight='4638', accel='16.0', yr='74', origin='US', name='ford gran torino (sw)', color='green', size='59.752900000000004', marker='o'),\n",
       " Row(mpg='18.1', cyl='8', displ='302.0', hp='139', weight='3205', accel='11.2', yr='78', origin='US', name='ford futura', color='green', size='28.53340277777778', marker='o'),\n",
       " Row(mpg='36.0', cyl='4', displ='98.0', hp='70', weight='2125', accel='17.3', yr='82', origin='US', name='mercury lynx l', color='blue', size='12.543402777777777', marker='o'),\n",
       " Row(mpg='29.0', cyl='4', displ='85.0', hp='52', weight='2035', accel='22.2', yr='76', origin='US', name='chevrolet chevette', color='blue', size='11.503402777777778', marker='o'),\n",
       " Row(mpg='35.1', cyl='4', displ='81.0', hp='60', weight='1760', accel='16.1', yr='81', origin='Asia', name='honda civic 1300', color='blue', size='8.604444444444443', marker='x'),\n",
       " Row(mpg='36.0', cyl='4', displ='135.0', hp='84', weight='2370', accel='13.0', yr='82', origin='US', name='dodge charger 2.2', color='blue', size='15.602500000000001', marker='o'),\n",
       " Row(mpg='16.5', cyl='8', displ='351.0', hp='138', weight='3955', accel='13.2', yr='79', origin='US', name='mercury grand marquis', color='green', size='43.450069444444445', marker='o'),\n",
       " Row(mpg='16.0', cyl='8', displ='400.0', hp='180', weight='4220', accel='11.1', yr='77', origin='US', name='pontiac grand prix lj', color='green', size='49.467777777777776', marker='o'),\n",
       " Row(mpg='29.9', cyl='4', displ='98.0', hp='65', weight='2380', accel='20.7', yr='81', origin='US', name='ford escort 2h', color='blue', size='15.734444444444446', marker='o'),\n",
       " Row(mpg='31.0', cyl='4', displ='79.0', hp='67', weight='1950', accel='19.0', yr='74', origin='Asia', name='datsun b210', color='blue', size='10.5625', marker='x'),\n",
       " Row(mpg='27.2', cyl='4', displ='119.0', hp='97', weight='2300', accel='14.7', yr='78', origin='Asia', name='datsun 510', color='blue', size='14.694444444444446', marker='x'),\n",
       " Row(mpg='14.0', cyl='8', displ='318.0', hp='150', weight='4457', accel='13.5', yr='74', origin='US', name='dodge coronet custom (sw)', color='green', size='55.18013611111112', marker='o'),\n",
       " Row(mpg='32.1', cyl='4', displ='98.0', hp='70', weight='2120', accel='15.5', yr='80', origin='US', name='chevrolet chevette', color='blue', size='12.484444444444444', marker='o'),\n",
       " Row(mpg='15.0', cyl='6', displ='250.0', hp='100', weight='3336', accel='17.0', yr='74', origin='US', name='chevrolet nova', color='red', size='30.913599999999995', marker='o'),\n",
       " Row(mpg='12.0', cyl='8', displ='383.0', hp='180', weight='4955', accel='11.5', yr='71', origin='US', name='dodge monaco (sw)', color='green', size='68.20006944444444', marker='o'),\n",
       " Row(mpg='17.6', cyl='8', displ='302.0', hp='129', weight='3725', accel='13.4', yr='79', origin='US', name='ford ltd landau', color='green', size='38.54340277777777', marker='o'),\n",
       " Row(mpg='25.0', cyl='4', displ='113.0', hp='95', weight='2228', accel='14.0', yr='71', origin='Asia', name='toyota corona', color='blue', size='13.788844444444445', marker='x'),\n",
       " Row(mpg='28.4', cyl='4', displ='151.0', hp='90', weight='2670', accel='16.0', yr='79', origin='US', name='buick skylark limited', color='blue', size='19.802500000000002', marker='o'),\n",
       " Row(mpg='29.0', cyl='4', displ='98.0', hp='83', weight='2219', accel='16.5', yr='74', origin='Europe', name='audi fox', color='blue', size='13.677669444444444', marker='s'),\n",
       " Row(mpg='30.9', cyl='4', displ='105.0', hp='75', weight='2230', accel='14.5', yr='78', origin='US', name='dodge omni', color='blue', size='13.813611111111111', marker='o'),\n",
       " Row(mpg='20.0', cyl='6', displ='232.0', hp='100', weight='2914', accel='16.0', yr='75', origin='US', name='amc gremlin', color='red', size='23.58721111111111', marker='o'),\n",
       " Row(mpg='20.8', cyl='6', displ='200.0', hp='85', weight='3070', accel='16.7', yr='78', origin='US', name='mercury zephyr', color='red', size='26.180277777777775', marker='o'),\n",
       " Row(mpg='22.0', cyl='6', displ='232.0', hp='112', weight='2835', accel='14.7', yr='82', origin='US', name='ford granada l', color='red', size='22.325624999999995', marker='o'),\n",
       " Row(mpg='38.0', cyl='4', displ='91.0', hp='67', weight='1965', accel='15.0', yr='82', origin='Asia', name='honda civic', color='blue', size='10.725624999999999', marker='x'),\n",
       " Row(mpg='31.0', cyl='4', displ='71.0', hp='65', weight='1773', accel='19.0', yr='71', origin='Asia', name='toyota corolla 1200', color='blue', size='8.732025', marker='x'),\n",
       " Row(mpg='19.0', cyl='6', displ='250.0', hp='88', weight='3302', accel='15.5', yr='71', origin='US', name='ford torino 500', color='red', size='30.286677777777772', marker='o'),\n",
       " Row(mpg='16.0', cyl='6', displ='250.0', hp='100', weight='3781', accel='17.0', yr='74', origin='US', name='chevrolet chevelle malibu classic', color='red', size='39.71100277777778', marker='o'),\n",
       " Row(mpg='25.0', cyl='4', displ='140.0', hp='75', weight='2542', accel='17.0', yr='74', origin='US', name='chevrolet vega', color='blue', size='17.949344444444442', marker='o'),\n",
       " Row(mpg='22.0', cyl='6', displ='225.0', hp='100', weight='3233', accel='15.4', yr='76', origin='US', name='plymouth valiant', color='red', size='29.034136111111113', marker='o'),\n",
       " Row(mpg='26.0', cyl='4', displ='91.0', hp='70', weight='1955', accel='20.5', yr='71', origin='US', name='plymouth cricket', color='blue', size='10.616736111111111', marker='o'),\n",
       " Row(mpg='13.0', cyl='8', displ='350.0', hp='145', weight='4055', accel='12.0', yr='76', origin='US', name='chevy c10', color='green', size='45.67506944444445', marker='o'),\n",
       " Row(mpg='19.9', cyl='8', displ='260.0', hp='110', weight='3365', accel='15.5', yr='78', origin='US', name='oldsmobile cutlass salon brougham', color='green', size='31.45340277777778', marker='o'),\n",
       " Row(mpg='11.0', cyl='8', displ='318.0', hp='210', weight='4382', accel='13.5', yr='70', origin='US', name='dodge d200', color='green', size='53.33867777777778', marker='o'),\n",
       " Row(mpg='28.0', cyl='4', displ='98.0', hp='80', weight='2164', accel='15.0', yr='72', origin='US', name='dodge colt (sw)', color='blue', size='13.008044444444444', marker='o'),\n",
       " Row(mpg='15.5', cyl='8', displ='318.0', hp='145', weight='4140', accel='13.7', yr='77', origin='US', name='dodge monaco brougham', color='green', size='47.61000000000001', marker='o'),\n",
       " Row(mpg='26.0', cyl='4', displ='96.0', hp='69', weight='2189', accel='18.0', yr='72', origin='Europe', name='renault 12 (sw)', color='blue', size='13.310336111111111', marker='s'),\n",
       " Row(mpg='14.0', cyl='8', displ='318.0', hp='150', weight='4237', accel='14.5', yr='73', origin='US', name='plymouth fury gran sedan', color='green', size='49.86713611111111', marker='o'),\n",
       " Row(mpg='12.0', cyl='8', displ='429.0', hp='198', weight='4952', accel='11.5', yr='73', origin='US', name='mercury marquis brougham', color='green', size='68.11751111111111', marker='o'),\n",
       " Row(mpg='24.2', cyl='6', displ='146.0', hp='120', weight='2930', accel='13.8', yr='81', origin='Asia', name='datsun 810 maxima', color='red', size='23.84694444444445', marker='x'),\n",
       " Row(mpg='25.0', cyl='4', displ='140.0', hp='92', weight='2572', accel='14.9', yr='76', origin='US', name='capri ii', color='blue', size='18.375511111111116', marker='o'),\n",
       " Row(mpg='22.5', cyl='6', displ='232.0', hp='90', weight='3085', accel='17.6', yr='76', origin='US', name='amc hornet', color='red', size='26.43673611111111', marker='o'),\n",
       " Row(mpg='26.8', cyl='6', displ='173.0', hp='115', weight='2700', accel='12.9', yr='79', origin='US', name='oldsmobile omega brougham', color='red', size='20.25', marker='o'),\n",
       " Row(mpg='23.0', cyl='6', displ='198.0', hp='95', weight='2904', accel='16.0', yr='73', origin='US', name='plymouth duster', color='red', size='23.4256', marker='o'),\n",
       " Row(mpg='26.0', cyl='4', displ='116.0', hp='75', weight='2246', accel='14.0', yr='74', origin='Europe', name='fiat 124 tc', color='blue', size='14.012544444444444', marker='s'),\n",
       " Row(mpg='30.7', cyl='6', displ='145.0', hp='76', weight='3160', accel='19.6', yr='81', origin='Europe', name='volvo diesel', color='red', size='27.737777777777776', marker='s'),\n",
       " Row(mpg='31.0', cyl='4', displ='79.0', hp='67', weight='2000', accel='16.0', yr='74', origin='Europe', name='fiat x1.9', color='blue', size='11.111111111111112', marker='s'),\n",
       " Row(mpg='27.2', cyl='4', displ='141.0', hp='71', weight='3190', accel='24.8', yr='79', origin='Europe', name='peugeot 504', color='blue', size='28.26694444444444', marker='s'),\n",
       " Row(mpg='21.5', cyl='6', displ='231.0', hp='115', weight='3245', accel='15.4', yr='79', origin='US', name='pontiac lemans v6', color='red', size='29.250069444444442', marker='o'),\n",
       " Row(mpg='29.0', cyl='4', displ='135.0', hp='84', weight='2525', accel='16.0', yr='82', origin='US', name='dodge aries se', color='blue', size='17.710069444444443', marker='o'),\n",
       " Row(mpg='20.0', cyl='4', displ='114.0', hp='91', weight='2582', accel='14.0', yr='73', origin='Europe', name='audi 100ls', color='blue', size='18.518677777777782', marker='s'),\n",
       " Row(mpg='13.0', cyl='8', displ='350.0', hp='150', weight='4699', accel='14.5', yr='74', origin='US', name='buick century luxus (sw)', color='green', size='61.33500277777778', marker='o'),\n",
       " Row(mpg='14.0', cyl='8', displ='440.0', hp='215', weight='4312', accel='8.5', yr='70', origin='US', name='plymouth fury iii', color='green', size='51.648177777777775', marker='o'),\n",
       " Row(mpg='38.0', cyl='4', displ='91.0', hp='67', weight='1995', accel='16.2', yr='82', origin='Asia', name='datsun 310 gx', color='blue', size='11.055625000000001', marker='x'),\n",
       " Row(mpg='13.0', cyl='8', displ='400.0', hp='175', weight='5140', accel='12.0', yr='71', origin='US', name='pontiac safari (sw)', color='green', size='73.38777777777777', marker='o'),\n",
       " Row(mpg='24.5', cyl='4', displ='98.0', hp='60', weight='2164', accel='22.1', yr='76', origin='US', name='chevrolet woody', color='blue', size='13.008044444444444', marker='o'),\n",
       " Row(mpg='13.0', cyl='8', displ='350.0', hp='175', weight='4100', accel='13.0', yr='73', origin='US', name='buick century 350', color='green', size='46.69444444444444', marker='o'),\n",
       " Row(mpg='25.0', cyl='6', displ='181.0', hp='110', weight='2945', accel='16.4', yr='82', origin='US', name='buick century limited', color='red', size='24.09173611111111', marker='o'),\n",
       " Row(mpg='24.0', cyl='4', displ='113.0', hp='95', weight='2278', accel='15.5', yr='72', origin='Asia', name='toyota corona hardtop', color='blue', size='14.41467777777778', marker='x'),\n",
       " Row(mpg='34.1', cyl='4', displ='91.0', hp='68', weight='1985', accel='16.0', yr='81', origin='Asia', name='mazda glc 4', color='blue', size='10.945069444444442', marker='x'),\n",
       " Row(mpg='13.0', cyl='8', displ='400.0', hp='150', weight='4464', accel='12.0', yr='73', origin='US', name='chevrolet caprice classic', color='green', size='55.35360000000001', marker='o'),\n",
       " Row(mpg='44.6', cyl='4', displ='91.0', hp='67', weight='1850', accel='13.8', yr='80', origin='Asia', name='honda civic 1500 gl', color='blue', size='9.506944444444445', marker='x'),\n",
       " Row(mpg='20.5', cyl='6', displ='200.0', hp='95', weight='3155', accel='18.2', yr='78', origin='US', name='chevrolet malibu', color='red', size='27.650069444444448', marker='o'),\n",
       " Row(mpg='18.0', cyl='6', displ='258.0', hp='110', weight='2962', accel='13.5', yr='71', origin='US', name='amc hornet sportabout (sw)', color='red', size='24.370677777777775', marker='o'),\n",
       " Row(mpg='23.2', cyl='4', displ='156.0', hp='105', weight='2745', accel='16.7', yr='78', origin='US', name='plymouth sapporo', color='blue', size='20.930625000000003', marker='o'),\n",
       " Row(mpg='20.0', cyl='4', displ='130.0', hp='102', weight='3150', accel='15.7', yr='76', origin='Europe', name='volvo 245', color='blue', size='27.5625', marker='s'),\n",
       " Row(mpg='24.0', cyl='4', displ='121.0', hp='110', weight='2660', accel='14.0', yr='73', origin='Europe', name='saab 99le', color='blue', size='19.654444444444447', marker='s'),\n",
       " Row(mpg='25.5', cyl='4', displ='140.0', hp='89', weight='2755', accel='15.8', yr='77', origin='US', name='ford mustang ii 2+2', color='blue', size='21.083402777777778', marker='o'),\n",
       " Row(mpg='36.1', cyl='4', displ='98.0', hp='66', weight='1800', accel='14.4', yr='78', origin='US', name='ford fiesta', color='blue', size='9.0', marker='o'),\n",
       " Row(mpg='23.0', cyl='4', displ='120.0', hp='88', weight='2957', accel='17.0', yr='75', origin='Europe', name='peugeot 504', color='blue', size='24.28846944444445', marker='s'),\n",
       " Row(mpg='24.0', cyl='4', displ='90.0', hp='75', weight='2108', accel='15.5', yr='74', origin='Europe', name='fiat 128', color='blue', size='12.34351111111111', marker='s'),\n",
       " Row(mpg='18.0', cyl='6', displ='250.0', hp='78', weight='3574', accel='21.0', yr='76', origin='US', name='ford granada ghia', color='red', size='35.48187777777778', marker='o'),\n",
       " Row(mpg='26.6', cyl='8', displ='350.0', hp='105', weight='3725', accel='19.0', yr='81', origin='US', name='oldsmobile cutlass ls', color='green', size='38.54340277777777', marker='o'),\n",
       " Row(mpg='32.0', cyl='4', displ='85.0', hp='70', weight='1990', accel='17.0', yr='76', origin='Asia', name='datsun b-210', color='blue', size='11.000277777777779', marker='x'),\n",
       " Row(mpg='20.3', cyl='5', displ='131.0', hp='103', weight='2830', accel='15.9', yr='78', origin='Europe', name='audi 5000', color='purple', size='22.246944444444445', marker='s'),\n",
       " Row(mpg='27.0', cyl='4', displ='97.0', hp='60', weight='1834', accel='19.0', yr='71', origin='Europe', name='volkswagen model 111', color='blue', size='9.343211111111112', marker='s'),\n",
       " Row(mpg='17.0', cyl='8', displ='304.0', hp='150', weight='3672', accel='11.5', yr='72', origin='US', name='amc ambassador sst', color='green', size='37.4544', marker='o'),\n",
       " Row(mpg='21.0', cyl='4', displ='140.0', hp='72', weight='2401', accel='19.5', yr='73', origin='US', name='chevrolet vega', color='blue', size='16.013336111111112', marker='o'),\n",
       " Row(mpg='13.0', cyl='8', displ='400.0', hp='170', weight='4746', accel='12.0', yr='71', origin='US', name='ford country squire (sw)', color='green', size='62.5681', marker='o'),\n",
       " Row(mpg='24.0', cyl='4', displ='107.0', hp='90', weight='2430', accel='14.5', yr='70', origin='Europe', name='audi 100 ls', color='blue', size='16.4025', marker='s'),\n",
       " Row(mpg='17.0', cyl='8', displ='260.0', hp='110', weight='4060', accel='19.0', yr='77', origin='US', name='oldsmobile cutlass supreme', color='green', size='45.78777777777778', marker='o'),\n",
       " Row(mpg='39.1', cyl='4', displ='79.0', hp='58', weight='1755', accel='16.9', yr='81', origin='Asia', name='toyota starlet', color='blue', size='8.555625', marker='x'),\n",
       " Row(mpg='14.5', cyl='8', displ='351.0', hp='152', weight='4215', accel='12.8', yr='76', origin='US', name='ford gran torino', color='green', size='49.35062500000001', marker='o'),\n",
       " Row(mpg='13.0', cyl='8', displ='350.0', hp='145', weight='3988', accel='13.0', yr='73', origin='US', name='chevrolet malibu', color='green', size='44.178177777777776', marker='o'),\n",
       " Row(mpg='20.2', cyl='8', displ='302.0', hp='139', weight='3570', accel='12.8', yr='78', origin='US', name='mercury monarch ghia', color='green', size='35.4025', marker='o'),\n",
       " Row(mpg='27.0', cyl='4', displ='101.0', hp='83', weight='2202', accel='15.3', yr='76', origin='Europe', name='renault 12tl', color='blue', size='13.4689', marker='s'),\n",
       " Row(mpg='35.0', cyl='4', displ='72.0', hp='69', weight='1613', accel='18.0', yr='71', origin='Asia', name='datsun 1200', color='blue', size='7.227136111111112', marker='x'),\n",
       " Row(mpg='15.0', cyl='8', displ='318.0', hp='150', weight='3777', accel='12.5', yr='73', origin='US', name='dodge coronet custom', color='green', size='39.627024999999996', marker='o'),\n",
       " Row(mpg='36.4', cyl='5', displ='121.0', hp='67', weight='2950', accel='19.9', yr='80', origin='Europe', name='audi 5000s (diesel)', color='purple', size='24.173611111111114', marker='s'),\n",
       " Row(mpg='30.0', cyl='4', displ='111.0', hp='80', weight='2155', accel='14.8', yr='77', origin='US', name='buick opel isuzu deluxe', color='blue', size='12.900069444444446', marker='o'),\n",
       " Row(mpg='31.9', cyl='4', displ='89.0', hp='71', weight='1925', accel='14.0', yr='79', origin='Europe', name='vw rabbit custom', color='blue', size='10.293402777777779', marker='s'),\n",
       " Row(mpg='26.0', cyl='4', displ='97.0', hp='46', weight='1835', accel='20.5', yr='70', origin='Europe', name='volkswagen 1131 deluxe sedan', color='blue', size='9.353402777777777', marker='s'),\n",
       " Row(mpg='16.0', cyl='6', displ='225.0', hp='105', weight='3439', accel='15.5', yr='71', origin='US', name='plymouth satellite custom', color='red', size='32.85200277777778', marker='o'),\n",
       " Row(mpg='20.0', cyl='4', displ='140.0', hp='90', weight='2408', accel='19.5', yr='72', origin='US', name='chevrolet vega', color='blue', size='16.106844444444448', marker='o'),\n",
       " Row(mpg='18.6', cyl='6', displ='225.0', hp='110', weight='3620', accel='18.7', yr='78', origin='US', name='dodge aspen', color='red', size='36.401111111111106', marker='o'),\n",
       " Row(mpg='14.0', cyl='8', displ='400.0', hp='175', weight='4464', accel='11.5', yr='71', origin='US', name='pontiac catalina brougham', color='green', size='55.35360000000001', marker='o'),\n",
       " Row(mpg='25.0', cyl='4', displ='97.5', hp='80', weight='2126', accel='17.0', yr='72', origin='US', name='dodge colt hardtop', color='blue', size='12.555211111111111', marker='o'),\n",
       " Row(mpg='33.0', cyl='4', displ='105.0', hp='74', weight='2190', accel='14.2', yr='81', origin='Europe', name='volkswagen jetta', color='blue', size='13.3225', marker='s'),\n",
       " Row(mpg='14.0', cyl='8', displ='318.0', hp='150', weight='4096', accel='13.0', yr='71', origin='US', name='plymouth fury iii', color='green', size='46.60337777777779', marker='o'),\n",
       " Row(mpg='18.5', cyl='8', displ='360.0', hp='150', weight='3940', accel='13.0', yr='79', origin='US', name='chrysler lebaron town @ country (sw)', color='green', size='43.121111111111105', marker='o'),\n",
       " Row(mpg='37.2', cyl='4', displ='86.0', hp='65', weight='2019', accel='16.4', yr='80', origin='Asia', name='datsun 310', color='blue', size='11.323225', marker='x'),\n",
       " Row(mpg='18.0', cyl='6', displ='232.0', hp='100', weight='3288', accel='15.5', yr='71', origin='US', name='amc matador', color='red', size='30.030400000000004', marker='o'),\n",
       " Row(mpg='44.3', cyl='4', displ='90.0', hp='48', weight='2085', accel='21.7', yr='80', origin='Europe', name='vw rabbit c (diesel)', color='blue', size='12.075625', marker='s'),\n",
       " Row(mpg='18.0', cyl='6', displ='250.0', hp='105', weight='3459', accel='16.0', yr='75', origin='US', name='chevrolet nova', color='red', size='33.235225', marker='o'),\n",
       " Row(mpg='28.0', cyl='4', displ='140.0', hp='90', weight='2264', accel='15.5', yr='71', origin='US', name='chevrolet vega 2300', color='blue', size='14.238044444444444', marker='o'),\n",
       " Row(mpg='43.4', cyl='4', displ='90.0', hp='48', weight='2335', accel='23.7', yr='80', origin='Europe', name='vw dasher (diesel)', color='blue', size='15.145069444444443', marker='s'),\n",
       " Row(mpg='20.6', cyl='6', displ='231.0', hp='105', weight='3380', accel='15.8', yr='78', origin='US', name='buick century special', color='red', size='31.73444444444445', marker='o'),\n",
       " Row(mpg='19.2', cyl='6', displ='231.0', hp='105', weight='3535', accel='19.2', yr='78', origin='US', name='pontiac phoenix lj', color='red', size='34.71173611111111', marker='o'),\n",
       " Row(mpg='26.4', cyl='4', displ='140.0', hp='88', weight='2870', accel='18.1', yr='80', origin='US', name='ford fairmont', color='blue', size='22.880277777777778', marker='o'),\n",
       " Row(mpg='18.0', cyl='6', displ='232.0', hp='100', weight='2945', accel='16.0', yr='73', origin='US', name='amc hornet', color='red', size='24.09173611111111', marker='o'),\n",
       " Row(mpg='28.0', cyl='4', displ='97.0', hp='75', weight='2155', accel='16.4', yr='76', origin='Asia', name='toyota corolla', color='blue', size='12.900069444444446', marker='x'),\n",
       " Row(mpg='26.0', cyl='4', displ='121.0', hp='113', weight='2234', accel='12.5', yr='70', origin='Europe', name='bmw 2002', color='blue', size='13.86321111111111', marker='s'),\n",
       " Row(mpg='13.0', cyl='8', displ='400.0', hp='190', weight='4422', accel='12.5', yr='72', origin='US', name='chrysler newport royal', color='green', size='54.316900000000004', marker='o'),\n",
       " Row(mpg='25.8', cyl='4', displ='156.0', hp='92', weight='2620', accel='14.4', yr='81', origin='US', name='dodge aries wagon (sw)', color='blue', size='19.067777777777774', marker='o'),\n",
       " Row(mpg='28.1', cyl='4', displ='141.0', hp='80', weight='3230', accel='20.4', yr='81', origin='Europe', name='peugeot 505s turbo diesel', color='blue', size='28.980277777777783', marker='s'),\n",
       " Row(mpg='13.0', cyl='8', displ='350.0', hp='165', weight='4274', accel='12.0', yr='72', origin='US', name='chevrolet impala', color='green', size='50.74187777777777', marker='o'),\n",
       " Row(mpg='16.5', cyl='8', displ='350.0', hp='180', weight='4380', accel='12.1', yr='76', origin='US', name='cadillac seville', color='green', size='53.29', marker='o'),\n",
       " Row(mpg='31.5', cyl='4', displ='89.0', hp='71', weight='1990', accel='14.9', yr='78', origin='Europe', name='volkswagen scirocco', color='blue', size='11.000277777777779', marker='s'),\n",
       " Row(mpg='24.0', cyl='4', displ='120.0', hp='97', weight='2489', accel='15.0', yr='74', origin='Asia', name='honda civic', color='blue', size='17.208669444444446', marker='x'),\n",
       " Row(mpg='15.0', cyl='6', displ='250.0', hp='72', weight='3158', accel='19.5', yr='75', origin='US', name='ford maverick', color='red', size='27.70267777777778', marker='o'),\n",
       " Row(mpg='18.0', cyl='6', displ='225.0', hp='105', weight='3613', accel='16.5', yr='74', origin='US', name='plymouth satellite sebring', color='red', size='36.26046944444444', marker='o'),\n",
       " Row(mpg='33.5', cyl='4', displ='151.0', hp='90', weight='2556', accel='13.2', yr='79', origin='US', name='pontiac phoenix', color='blue', size='18.147599999999997', marker='o'),\n",
       " Row(mpg='32.4', cyl='4', displ='108.0', hp='75', weight='2350', accel='16.8', yr='81', origin='Asia', name='toyota corolla', color='blue', size='15.340277777777777', marker='x'),\n",
       " Row(mpg='27.0', cyl='4', displ='97.0', hp='88', weight='2130', accel='14.5', yr='70', origin='Asia', name='datsun pl510', color='blue', size='12.6025', marker='x'),\n",
       " Row(mpg='13.0', cyl='8', displ='350.0', hp='155', weight='4502', accel='13.5', yr='72', origin='US', name='buick lesabre custom', color='green', size='56.300011111111104', marker='o'),\n",
       " Row(mpg='31.0', cyl='4', displ='91.0', hp='68', weight='1970', accel='17.6', yr='82', origin='Asia', name='mazda glc custom', color='blue', size='10.780277777777776', marker='x'),\n",
       " Row(mpg='28.0', cyl='4', displ='151.0', hp='90', weight='2678', accel='16.5', yr='80', origin='US', name='chevrolet citation', color='blue', size='19.92134444444444', marker='o'),\n",
       " Row(mpg='27.2', cyl='4', displ='135.0', hp='84', weight='2490', accel='15.7', yr='81', origin='US', name='plymouth reliant', color='blue', size='17.222500000000004', marker='o'),\n",
       " Row(mpg='21.0', cyl='4', displ='120.0', hp='87', weight='2979', accel='19.5', yr='72', origin='Europe', name='peugeot 504 (sw)', color='blue', size='24.651225', marker='s'),\n",
       " Row(mpg='19.0', cyl='4', displ='121.0', hp='112', weight='2868', accel='15.5', yr='73', origin='Europe', name='volvo 144ea', color='blue', size='22.8484', marker='s'),\n",
       " Row(mpg='25.0', cyl='4', displ='110.0', hp='87', weight='2672', accel='17.5', yr='70', origin='Europe', name='peugeot 504', color='blue', size='19.832177777777776', marker='s'),\n",
       " Row(mpg='23.0', cyl='8', displ='350.0', hp='125', weight='3900', accel='17.4', yr='79', origin='US', name='cadillac eldorado', color='green', size='42.25', marker='o'),\n",
       " Row(mpg='19.0', cyl='6', displ='156.0', hp='108', weight='2930', accel='15.5', yr='76', origin='Asia', name='toyota mark ii', color='red', size='23.84694444444445', marker='x'),\n",
       " Row(mpg='15.5', cyl='8', displ='351.0', hp='142', weight='4054', accel='14.3', yr='79', origin='US', name='ford country squire (sw)', color='green', size='45.652544444444445', marker='o'),\n",
       " Row(mpg='23.9', cyl='4', displ='119.0', hp='97', weight='2405', accel='14.9', yr='78', origin='Asia', name='datsun 200-sx', color='blue', size='16.066736111111116', marker='x'),\n",
       " Row(mpg='22.0', cyl='6', displ='250.0', hp='105', weight='3353', accel='14.5', yr='76', origin='US', name='chevrolet nova', color='red', size='31.22946944444444', marker='o'),\n",
       " Row(mpg='29.0', cyl='4', displ='97.0', hp='75', weight='2171', accel='16.0', yr='75', origin='Asia', name='toyota corolla', color='blue', size='13.09233611111111', marker='x'),\n",
       " Row(mpg='14.0', cyl='8', displ='302.0', hp='137', weight='4042', accel='14.5', yr='73', origin='US', name='ford gran torino', color='green', size='45.38267777777777', marker='o'),\n",
       " Row(mpg='15.0', cyl='8', displ='318.0', hp='150', weight='3399', accel='11.0', yr='73', origin='US', name='dodge dart custom', color='green', size='32.092225', marker='o'),\n",
       " Row(mpg='27.0', cyl='4', displ='112.0', hp='88', weight='2640', accel='18.6', yr='82', origin='US', name='chevrolet cavalier wagon', color='blue', size='19.360000000000003', marker='o'),\n",
       " Row(mpg='15.0', cyl='8', displ='350.0', hp='145', weight='4440', accel='14.0', yr='75', origin='US', name='chevrolet bel air', color='green', size='54.760000000000005', marker='o'),\n",
       " Row(mpg='30.5', cyl='4', displ='98.0', hp='63', weight='2051', accel='17.0', yr='77', origin='US', name='chevrolet chevette', color='blue', size='11.685002777777779', marker='o'),\n",
       " Row(mpg='25.0', cyl='4', displ='104.0', hp='95', weight='2375', accel='17.5', yr='70', origin='Europe', name='saab 99e', color='blue', size='15.668402777777779', marker='s'),\n",
       " Row(mpg='17.5', cyl='8', displ='305.0', hp='140', weight='4215', accel='13.0', yr='76', origin='US', name='chevrolet chevelle malibu classic', color='green', size='49.35062500000001', marker='o'),\n",
       " Row(mpg='34.0', cyl='4', displ='112.0', hp='88', weight='2395', accel='18.0', yr='82', origin='US', name='chevrolet cavalier 2-door', color='blue', size='15.933402777777777', marker='o'),\n",
       " Row(mpg='38.0', cyl='6', displ='262.0', hp='85', weight='3015', accel='17.0', yr='82', origin='US', name='oldsmobile cutlass ciera (diesel)', color='red', size='25.250625000000003', marker='o'),\n",
       " Row(mpg='30.0', cyl='4', displ='79.0', hp='70', weight='2074', accel='19.5', yr='71', origin='Europe', name='peugeot 304', color='blue', size='11.948544444444444', marker='s'),\n",
       " Row(mpg='19.8', cyl='6', displ='200.0', hp='85', weight='2990', accel='18.2', yr='79', origin='US', name='mercury zephyr 6', color='red', size='24.83361111111111', marker='o'),\n",
       " Row(mpg='25.0', cyl='4', displ='121.0', hp='115', weight='2671', accel='13.5', yr='75', origin='Europe', name='saab 99le', color='blue', size='19.817336111111114', marker='s'),\n",
       " Row(mpg='21.0', cyl='4', displ='122.0', hp='86', weight='2226', accel='16.5', yr='72', origin='US', name='ford pinto runabout', color='blue', size='13.7641', marker='o'),\n",
       " Row(mpg='26.0', cyl='4', displ='98.0', hp='79', weight='2255', accel='17.7', yr='76', origin='US', name='dodge colt', color='blue', size='14.125069444444444', marker='o'),\n",
       " Row(mpg='16.5', cyl='6', displ='168.0', hp='120', weight='3820', accel='16.7', yr='76', origin='Europe', name='mercedes-benz 280s', color='red', size='40.53444444444444', marker='s'),\n",
       " Row(mpg='18.1', cyl='6', displ='258.0', hp='120', weight='3410', accel='15.1', yr='78', origin='US', name='amc concord d/l', color='red', size='32.30027777777778', marker='o'),\n",
       " Row(mpg='46.6', cyl='4', displ='86.0', hp='65', weight='2110', accel='17.9', yr='80', origin='Asia', name='mazda glc', color='blue', size='12.366944444444444', marker='x'),\n",
       " Row(mpg='21.5', cyl='4', displ='121.0', hp='110', weight='2600', accel='12.8', yr='77', origin='Europe', name='bmw 320i', color='blue', size='18.777777777777775', marker='s'),\n",
       " Row(mpg='14.0', cyl='8', displ='454.0', hp='220', weight='4354', accel='9.0', yr='70', origin='US', name='chevrolet impala', color='green', size='52.65921111111111', marker='o'),\n",
       " Row(mpg='21.6', cyl='4', displ='121.0', hp='115', weight='2795', accel='15.7', yr='78', origin='Europe', name='saab 99gle', color='blue', size='21.700069444444445', marker='s'),\n",
       " Row(mpg='15.5', cyl='8', displ='350.0', hp='170', weight='4165', accel='11.4', yr='77', origin='US', name='chevrolet monte carlo landau', color='green', size='48.18673611111111', marker='o'),\n",
       " Row(mpg='20.5', cyl='6', displ='225.0', hp='100', weight='3430', accel='17.2', yr='78', origin='US', name='plymouth volare', color='red', size='32.68027777777778', marker='o'),\n",
       " Row(mpg='23.9', cyl='8', displ='260.0', hp='90', weight='3420', accel='22.2', yr='79', origin='US', name='oldsmobile cutlass salon brougham', color='green', size='32.49', marker='o'),\n",
       " Row(mpg='12.0', cyl='8', displ='455.0', hp='225', weight='4951', accel='11.0', yr='73', origin='US', name='buick electra 225 custom', color='green', size='68.09000277777778', marker='o'),\n",
       " Row(mpg='20.2', cyl='6', displ='200.0', hp='85', weight='2965', accel='15.8', yr='78', origin='US', name='ford fairmont (auto)', color='red', size='24.420069444444444', marker='o'),\n",
       " Row(mpg='34.4', cyl='4', displ='98.0', hp='65', weight='2045', accel='16.2', yr='81', origin='US', name='ford escort 4w', color='blue', size='11.616736111111111', marker='o'),\n",
       " Row(mpg='23.0', cyl='4', displ='120.0', hp='97', weight='2506', accel='14.5', yr='72', origin='Asia', name='toyouta corona mark ii (sw)', color='blue', size='17.444544444444446', marker='x'),\n",
       " Row(mpg='24.3', cyl='4', displ='151.0', hp='90', weight='3003', accel='20.1', yr='80', origin='US', name='amc concord', color='blue', size='25.050024999999998', marker='o'),\n",
       " Row(mpg='19.0', cyl='6', displ='232.0', hp='90', weight='3211', accel='17.0', yr='75', origin='US', name='amc pacer', color='red', size='28.64033611111111', marker='o'),\n",
       " Row(mpg='29.0', cyl='4', displ='68.0', hp='49', weight='1867', accel='19.5', yr='73', origin='Europe', name='fiat 128', color='blue', size='9.682469444444445', marker='s'),\n",
       " Row(mpg='23.5', cyl='6', displ='173.0', hp='110', weight='2725', accel='12.6', yr='81', origin='US', name='chevrolet citation', color='red', size='20.626736111111114', marker='o'),\n",
       " Row(mpg='34.0', cyl='4', displ='108.0', hp='70', weight='2245', accel='16.9', yr='82', origin='Asia', name='toyota corolla', color='blue', size='14.000069444444444', marker='x'),\n",
       " Row(mpg='37.0', cyl='4', displ='119.0', hp='92', weight='2434', accel='15.0', yr='80', origin='Asia', name='datsun 510 hatchback', color='blue', size='16.456544444444443', marker='x'),\n",
       " Row(mpg='33.0', cyl='4', displ='91.0', hp='53', weight='1795', accel='17.5', yr='75', origin='Asia', name='honda civic cvcc', color='blue', size='8.950069444444445', marker='x'),\n",
       " Row(mpg='18.0', cyl='6', displ='232.0', hp='100', weight='2789', accel='15.0', yr='73', origin='US', name='amc gremlin', color='red', size='21.60700277777778', marker='o'),\n",
       " Row(mpg='15.0', cyl='8', displ='390.0', hp='190', weight='3850', accel='8.5', yr='70', origin='US', name='amc ambassador dpl', color='green', size='41.173611111111114', marker='o'),\n",
       " Row(mpg='34.7', cyl='4', displ='105.0', hp='63', weight='2215', accel='14.9', yr='81', origin='US', name='plymouth horizon 4', color='blue', size='13.62840277777778', marker='o'),\n",
       " Row(mpg='19.4', cyl='6', displ='232.0', hp='90', weight='3210', accel='17.2', yr='78', origin='US', name='amc concord', color='red', size='28.622499999999995', marker='o'),\n",
       " Row(mpg='32.0', cyl='4', displ='91.0', hp='67', weight='1965', accel='15.7', yr='82', origin='Asia', name='honda civic (auto)', color='blue', size='10.725624999999999', marker='x'),\n",
       " Row(mpg='34.1', cyl='4', displ='86.0', hp='65', weight='1975', accel='15.2', yr='79', origin='Asia', name='maxda glc deluxe', color='blue', size='10.835069444444443', marker='x'),\n",
       " Row(mpg='33.7', cyl='4', displ='107.0', hp='75', weight='2210', accel='14.4', yr='81', origin='Asia', name='honda prelude', color='blue', size='13.566944444444443', marker='x'),\n",
       " Row(mpg='20.0', cyl='6', displ='225.0', hp='100', weight='3651', accel='17.7', yr='76', origin='US', name='dodge aspen se', color='red', size='37.027225', marker='o'),\n",
       " Row(mpg='15.0', cyl='6', displ='258.0', hp='110', weight='3730', accel='19.0', yr='75', origin='US', name='amc matador', color='red', size='38.64694444444444', marker='o'),\n",
       " Row(mpg='38.1', cyl='4', displ='89.0', hp='60', weight='1968', accel='18.8', yr='80', origin='Asia', name='toyota corolla tercel', color='blue', size='10.758399999999998', marker='x'),\n",
       " Row(mpg='26.0', cyl='4', displ='108.0', hp='93', weight='2391', accel='15.5', yr='74', origin='Asia', name='subaru', color='blue', size='15.880225', marker='x'),\n",
       " Row(mpg='27.0', cyl='4', displ='97.0', hp='88', weight='2100', accel='16.5', yr='72', origin='Asia', name='toyota corolla 1600 (sw)', color='blue', size='12.25', marker='x'),\n",
       " Row(mpg='16.0', cyl='8', displ='318.0', hp='150', weight='4498', accel='14.5', yr='75', origin='US', name='plymouth grand fury', color='green', size='56.20001111111112', marker='o'),\n",
       " Row(mpg='17.0', cyl='6', displ='250.0', hp='100', weight='3329', accel='15.5', yr='71', origin='US', name='chevrolet chevelle malibu', color='red', size='30.784002777777772', marker='o'),\n",
       " Row(mpg='13.0', cyl='8', displ='318.0', hp='150', weight='3940', accel='13.2', yr='76', origin='US', name='plymouth volare premier v8', color='green', size='43.121111111111105', marker='o'),\n",
       " Row(mpg='28.0', cyl='4', displ='112.0', hp='88', weight='2605', accel='19.6', yr='82', origin='US', name='chevrolet cavalier', color='blue', size='18.850069444444447', marker='o'),\n",
       " Row(mpg='14.0', cyl='8', displ='455.0', hp='225', weight='3086', accel='10.0', yr='70', origin='US', name='buick estate wagon (sw)', color='green', size='26.45387777777778', marker='o'),\n",
       " Row(mpg='31.5', cyl='4', displ='98.0', hp='68', weight='2045', accel='18.5', yr='77', origin='Asia', name='honda accord cvcc', color='blue', size='11.616736111111111', marker='x'),\n",
       " Row(mpg='34.5', cyl='4', displ='105.0', hp='70', weight='2150', accel='14.9', yr='79', origin='US', name='plymouth horizon tc3', color='blue', size='12.840277777777779', marker='o'),\n",
       " Row(mpg='11.0', cyl='8', displ='429.0', hp='208', weight='4633', accel='11.0', yr='72', origin='US', name='mercury marquis', color='green', size='59.62413611111111', marker='o'),\n",
       " Row(mpg='16.0', cyl='6', displ='250.0', hp='105', weight='3897', accel='18.5', yr='75', origin='US', name='chevroelt chevelle malibu', color='red', size='42.185025', marker='o'),\n",
       " Row(mpg='31.6', cyl='4', displ='120.0', hp='74', weight='2635', accel='18.3', yr='81', origin='Asia', name='mazda 626', color='blue', size='19.28673611111111', marker='x'),\n",
       " Row(mpg='19.1', cyl='6', displ='225.0', hp='90', weight='3381', accel='18.7', yr='80', origin='US', name='dodge aspen', color='red', size='31.753224999999997', marker='o'),\n",
       " Row(mpg='18.5', cyl='6', displ='250.0', hp='110', weight='3645', accel='16.2', yr='76', origin='US', name='pontiac ventura sj', color='red', size='36.905625', marker='o'),\n",
       " Row(mpg='15.0', cyl='6', displ='250.0', hp='72', weight='3432', accel='21.0', yr='75', origin='US', name='mercury monarch', color='red', size='32.718399999999995', marker='o'),\n",
       " Row(mpg='18.0', cyl='6', displ='199.0', hp='97', weight='2774', accel='15.5', yr='70', origin='US', name='amc hornet', color='red', size='21.37521111111111', marker='o'),\n",
       " Row(mpg='35.0', cyl='4', displ='122.0', hp='88', weight='2500', accel='15.1', yr='80', origin='Europe', name='triumph tr7 coupe', color='blue', size='17.361111111111114', marker='s'),\n",
       " Row(mpg='20.2', cyl='6', displ='200.0', hp='88', weight='3060', accel='17.1', yr='81', origin='US', name='ford granada gl', color='red', size='26.009999999999998', marker='o'),\n",
       " Row(mpg='13.0', cyl='8', displ='302.0', hp='129', weight='3169', accel='12.0', yr='75', origin='US', name='ford mustang ii', color='green', size='27.896002777777774', marker='o'),\n",
       " Row(mpg='31.0', cyl='4', displ='112.0', hp='85', weight='2575', accel='16.2', yr='82', origin='US', name='pontiac j2000 se hatchback', color='blue', size='18.41840277777778', marker='o'),\n",
       " Row(mpg='22.0', cyl='4', displ='122.0', hp='86', weight='2395', accel='16.0', yr='72', origin='US', name='ford pinto (sw)', color='blue', size='15.933402777777777', marker='o'),\n",
       " Row(mpg='11.0', cyl='8', displ='400.0', hp='150', weight='4997', accel='14.0', yr='73', origin='US', name='chevrolet impala', color='green', size='69.36113611111111', marker='o'),\n",
       " Row(mpg='33.5', cyl='4', displ='85.0', hp='70', weight='1945', accel='16.8', yr='77', origin='Asia', name='datsun f-10 hatchback', color='blue', size='10.508402777777778', marker='x'),\n",
       " Row(mpg='43.1', cyl='4', displ='90.0', hp='48', weight='1985', accel='21.5', yr='78', origin='Europe', name='volkswagen rabbit custom diesel', color='blue', size='10.945069444444442', marker='s'),\n",
       " Row(mpg='25.4', cyl='5', displ='183.0', hp='77', weight='3530', accel='20.1', yr='79', origin='Europe', name='mercedes benz 300d', color='purple', size='34.61361111111112', marker='s'),\n",
       " Row(mpg='40.8', cyl='4', displ='85.0', hp='65', weight='2110', accel='19.2', yr='80', origin='Asia', name='datsun 210', color='blue', size='12.366944444444444', marker='x'),\n",
       " Row(mpg='14.0', cyl='8', displ='400.0', hp='175', weight='4385', accel='12.0', yr='72', origin='US', name='pontiac catalina', color='green', size='53.41173611111112', marker='o'),\n",
       " Row(mpg='29.8', cyl='4', displ='134.0', hp='90', weight='2711', accel='15.5', yr='80', origin='Asia', name='toyota corona liftback', color='blue', size='20.415336111111113', marker='x'),\n",
       " Row(mpg='16.0', cyl='8', displ='318.0', hp='150', weight='4190', accel='13.0', yr='76', origin='US', name='dodge coronet brougham', color='green', size='48.76694444444445', marker='o'),\n",
       " Row(mpg='20.6', cyl='6', displ='225.0', hp='110', weight='3360', accel='16.6', yr='79', origin='US', name='dodge aspen 6', color='red', size='31.359999999999996', marker='o'),\n",
       " Row(mpg='18.0', cyl='8', displ='307.0', hp='130', weight='3504', accel='12.0', yr='70', origin='US', name='chevrolet chevelle malibu', color='green', size='34.105599999999995', marker='o'),\n",
       " Row(mpg='33.0', cyl='4', displ='91.0', hp='53', weight='1795', accel='17.4', yr='76', origin='Asia', name='honda civic', color='blue', size='8.950069444444445', marker='x'),\n",
       " Row(mpg='31.8', cyl='4', displ='85.0', hp='65', weight='2020', accel='19.2', yr='79', origin='Asia', name='datsun 210', color='blue', size='11.334444444444445', marker='x'),\n",
       " Row(mpg='13.0', cyl='8', displ='351.0', hp='158', weight='4363', accel='13.0', yr='73', origin='US', name='ford ltd', color='green', size='52.877136111111106', marker='o'),\n",
       " Row(mpg='20.0', cyl='6', displ='198.0', hp='95', weight='3102', accel='16.5', yr='74', origin='US', name='plymouth duster', color='red', size='26.7289', marker='o'),\n",
       " Row(mpg='32.0', cyl='4', displ='83.0', hp='61', weight='2003', accel='19.0', yr='74', origin='Asia', name='datsun 710', color='blue', size='11.144469444444445', marker='x'),\n",
       " Row(mpg='13.0', cyl='8', displ='440.0', hp='215', weight='4735', accel='11.0', yr='73', origin='US', name='chrysler new yorker brougham', color='green', size='62.27840277777778', marker='o'),\n",
       " Row(mpg='23.7', cyl='3', displ='70.0', hp='100', weight='2420', accel='12.5', yr='80', origin='Asia', name='mazda rx-7 gs', color='black', size='16.267777777777777', marker='x'),\n",
       " Row(mpg='19.2', cyl='8', displ='305.0', hp='145', weight='3425', accel='13.2', yr='78', origin='US', name='chevrolet monte carlo landau', color='green', size='32.58506944444444', marker='o'),\n",
       " Row(mpg='37.0', cyl='4', displ='91.0', hp='68', weight='2025', accel='18.2', yr='82', origin='Asia', name='mazda glc custom l', color='blue', size='11.390625', marker='x'),\n",
       " Row(mpg='18.0', cyl='8', displ='318.0', hp='150', weight='3436', accel='11.0', yr='70', origin='US', name='plymouth satellite', color='green', size='32.79471111111111', marker='o'),\n",
       " Row(mpg='19.0', cyl='4', displ='120.0', hp='88', weight='3270', accel='21.9', yr='76', origin='Europe', name='peugeot 504', color='blue', size='29.7025', marker='s'),\n",
       " Row(mpg='32.3', cyl='4', displ='97.0', hp='67', weight='2065', accel='17.8', yr='81', origin='Asia', name='subaru', color='blue', size='11.845069444444446', marker='x'),\n",
       " Row(mpg='18.0', cyl='6', displ='225.0', hp='105', weight='3121', accel='16.5', yr='73', origin='US', name='plymouth valiant', color='red', size='27.057336111111116', marker='o'),\n",
       " Row(mpg='13.0', cyl='8', displ='360.0', hp='175', weight='3821', accel='11.0', yr='73', origin='US', name='amc ambassador brougham', color='green', size='40.55566944444444', marker='o'),\n",
       " Row(mpg='12.0', cyl='8', displ='350.0', hp='160', weight='4456', accel='13.5', yr='72', origin='US', name='oldsmobile delta 88 royale', color='green', size='55.15537777777778', marker='o'),\n",
       " Row(mpg='36.0', cyl='4', displ='105.0', hp='74', weight='1980', accel='15.3', yr='82', origin='Europe', name='volkswagen rabbit l', color='blue', size='10.889999999999999', marker='s'),\n",
       " Row(mpg='18.2', cyl='8', displ='318.0', hp='135', weight='3830', accel='15.2', yr='79', origin='US', name='dodge st. regis', color='green', size='40.74694444444445', marker='o'),\n",
       " Row(mpg='19.0', cyl='6', displ='232.0', hp='100', weight='2634', accel='13.0', yr='71', origin='US', name='amc gremlin', color='red', size='19.2721', marker='o'),\n",
       " Row(mpg='30.0', cyl='4', displ='146.0', hp='67', weight='3250', accel='21.8', yr='80', origin='Europe', name='mercedes-benz 240d', color='blue', size='29.340277777777782', marker='s'),\n",
       " Row(mpg='15.0', cyl='8', displ='429.0', hp='198', weight='4341', accel='10.0', yr='70', origin='US', name='ford galaxie 500', color='green', size='52.345225000000006', marker='o'),\n",
       " Row(mpg='11.0', cyl='8', displ='350.0', hp='180', weight='3664', accel='11.0', yr='73', origin='US', name='oldsmobile omega', color='green', size='37.291377777777775', marker='o'),\n",
       " Row(mpg='10.0', cyl='8', displ='360.0', hp='215', weight='4615', accel='14.0', yr='70', origin='US', name='ford f250', color='green', size='59.16173611111111', marker='o'),\n",
       " Row(mpg='16.0', cyl='6', displ='250.0', hp='100', weight='3278', accel='18.0', yr='73', origin='US', name='chevrolet nova custom', color='red', size='29.848011111111106', marker='o'),\n",
       " Row(mpg='14.0', cyl='8', displ='455.0', hp='225', weight='4425', accel='10.0', yr='70', origin='US', name='pontiac catalina', color='green', size='54.390625', marker='o'),\n",
       " Row(mpg='16.9', cyl='8', displ='350.0', hp='155', weight='4360', accel='14.9', yr='79', origin='US', name='buick estate wagon (sw)', color='green', size='52.80444444444444', marker='o'),\n",
       " Row(mpg='13.0', cyl='8', displ='360.0', hp='170', weight='4654', accel='13.0', yr='73', origin='US', name='plymouth custom suburb', color='green', size='60.16587777777778', marker='o'),\n",
       " Row(mpg='25.0', cyl='4', displ='116.0', hp='81', weight='2220', accel='16.9', yr='76', origin='Europe', name='opel 1900', color='blue', size='13.690000000000001', marker='s'),\n",
       " Row(mpg='21.0', cyl='6', displ='200.0', hp='85', weight='2587', accel='16.0', yr='70', origin='US', name='ford maverick', color='red', size='18.590469444444444', marker='o'),\n",
       " Row(mpg='21.1', cyl='4', displ='134.0', hp='95', weight='2515', accel='14.8', yr='78', origin='Asia', name='toyota celica gt liftback', color='blue', size='17.570069444444442', marker='x'),\n",
       " Row(mpg='26.0', cyl='4', displ='122.0', hp='80', weight='2451', accel='16.5', yr='74', origin='US', name='ford pinto', color='blue', size='16.687224999999998', marker='o'),\n",
       " Row(mpg='28.0', cyl='4', displ='97.0', hp='92', weight='2288', accel='17.0', yr='72', origin='Asia', name='datsun 510 (sw)', color='blue', size='14.541511111111111', marker='x'),\n",
       " Row(mpg='29.0', cyl='4', displ='90.0', hp='70', weight='1937', accel='14.0', yr='75', origin='Europe', name='volkswagen rabbit', color='blue', size='10.422136111111111', marker='s'),\n",
       " Row(mpg='16.0', cyl='8', displ='351.0', hp='149', weight='4335', accel='14.5', yr='77', origin='US', name='ford thunderbird', color='green', size='52.200624999999995', marker='o'),\n",
       " Row(mpg='26.6', cyl='4', displ='151.0', hp='84', weight='2635', accel='16.4', yr='81', origin='US', name='buick skylark', color='blue', size='19.28673611111111', marker='o'),\n",
       " Row(mpg='19.0', cyl='3', displ='70.0', hp='97', weight='2330', accel='13.5', yr='72', origin='Asia', name='mazda rx2 coupe', color='black', size='15.080277777777777', marker='x'),\n",
       " Row(mpg='32.8', cyl='4', displ='78.0', hp='52', weight='1985', accel='19.4', yr='78', origin='Asia', name='mazda glc deluxe', color='blue', size='10.945069444444442', marker='x'),\n",
       " Row(mpg='22.0', cyl='4', displ='140.0', hp='72', weight='2408', accel='19.0', yr='71', origin='US', name='chevrolet vega (sw)', color='blue', size='16.106844444444448', marker='o'),\n",
       " Row(mpg='19.0', cyl='4', displ='122.0', hp='85', weight='2310', accel='18.5', yr='73', origin='US', name='ford pinto', color='blue', size='14.822500000000002', marker='o'),\n",
       " Row(mpg='31.0', cyl='4', displ='76.0', hp='52', weight='1649', accel='16.5', yr='74', origin='Asia', name='toyota corona', color='blue', size='7.553336111111112', marker='x'),\n",
       " Row(mpg='23.0', cyl='4', displ='115.0', hp='95', weight='2694', accel='15.0', yr='75', origin='Europe', name='audi 100ls', color='blue', size='20.160100000000003', marker='s'),\n",
       " Row(mpg='29.5', cyl='4', displ='97.0', hp='71', weight='1825', accel='12.2', yr='76', origin='Europe', name='volkswagen rabbit', color='blue', size='9.25173611111111', marker='s'),\n",
       " Row(mpg='17.5', cyl='8', displ='318.0', hp='140', weight='4080', accel='13.7', yr='78', origin='US', name='dodge magnum xe', color='green', size='46.239999999999995', marker='o'),\n",
       " Row(mpg='19.0', cyl='6', displ='250.0', hp='100', weight='3282', accel='15.0', yr='71', origin='US', name='pontiac firebird', color='red', size='29.920899999999996', marker='o'),\n",
       " Row(mpg='24.0', cyl='4', displ='134.0', hp='96', weight='2702', accel='13.5', yr='75', origin='Asia', name='toyota corona', color='blue', size='20.280011111111108', marker='x'),\n",
       " Row(mpg='14.0', cyl='8', displ='304.0', hp='150', weight='4257', accel='15.5', yr='74', origin='US', name='amc matador (sw)', color='green', size='50.339025', marker='o'),\n",
       " Row(mpg='28.0', cyl='4', displ='90.0', hp='75', weight='2125', accel='14.5', yr='74', origin='US', name='dodge colt', color='blue', size='12.543402777777777', marker='o'),\n",
       " Row(mpg='21.0', cyl='6', displ='155.0', hp='107', weight='2472', accel='14.0', yr='73', origin='US', name='mercury capri v6', color='red', size='16.9744', marker='o'),\n",
       " Row(mpg='22.4', cyl='6', displ='231.0', hp='110', weight='3415', accel='15.8', yr='81', origin='US', name='buick century', color='red', size='32.395069444444445', marker='o'),\n",
       " Row(mpg='36.0', cyl='4', displ='107.0', hp='75', weight='2205', accel='14.5', yr='82', origin='Asia', name='honda accord', color='blue', size='13.505624999999998', marker='x'),\n",
       " Row(mpg='18.0', cyl='6', displ='171.0', hp='97', weight='2984', accel='14.5', yr='75', origin='US', name='ford pinto', color='red', size='24.734044444444446', marker='o'),\n",
       " Row(mpg='16.2', cyl='6', displ='163.0', hp='133', weight='3410', accel='15.8', yr='78', origin='Europe', name='peugeot 604sl', color='red', size='32.30027777777778', marker='s'),\n",
       " Row(mpg='39.4', cyl='4', displ='85.0', hp='70', weight='2070', accel='18.6', yr='78', origin='Asia', name='datsun b210 gx', color='blue', size='11.902500000000002', marker='x'),\n",
       " Row(mpg='30.0', cyl='4', displ='97.0', hp='67', weight='1985', accel='16.4', yr='77', origin='Asia', name='subaru dl', color='blue', size='10.945069444444442', marker='x'),\n",
       " Row(mpg='18.0', cyl='4', displ='121.0', hp='112', weight='2933', accel='14.5', yr='72', origin='Europe', name='volvo 145e (sw)', color='blue', size='23.89580277777778', marker='s'),\n",
       " Row(mpg='17.5', cyl='8', displ='305.0', hp='145', weight='3880', accel='12.5', yr='77', origin='US', name='chevrolet caprice classic', color='green', size='41.81777777777778', marker='o'),\n",
       " Row(mpg='28.8', cyl='6', displ='173.0', hp='115', weight='2595', accel='11.3', yr='79', origin='US', name='chevrolet citation', color='red', size='18.705625', marker='o'),\n",
       " Row(mpg='22.0', cyl='4', displ='121.0', hp='98', weight='2945', accel='14.5', yr='75', origin='Europe', name='volvo 244dl', color='blue', size='24.09173611111111', marker='s'),\n",
       " Row(mpg='34.2', cyl='4', displ='105.0', hp='70', weight='2200', accel='13.2', yr='79', origin='US', name='plymouth horizon', color='blue', size='13.444444444444443', marker='o'),\n",
       " Row(mpg='30.5', cyl='4', displ='97.0', hp='78', weight='2190', accel='14.1', yr='77', origin='Europe', name='volkswagen dasher', color='blue', size='13.3225', marker='s'),\n",
       " Row(mpg='16.0', cyl='8', displ='400.0', hp='230', weight='4278', accel='9.5', yr='73', origin='US', name='pontiac grand prix', color='green', size='50.8369', marker='o'),\n",
       " Row(mpg='38.0', cyl='4', displ='105.0', hp='63', weight='2125', accel='14.7', yr='82', origin='US', name='plymouth horizon miser', color='blue', size='12.543402777777777', marker='o'),\n",
       " Row(mpg='41.5', cyl='4', displ='98.0', hp='76', weight='2144', accel='14.7', yr='80', origin='Europe', name='vw rabbit', color='blue', size='12.768711111111111', marker='s'),\n",
       " Row(mpg='27.9', cyl='4', displ='156.0', hp='105', weight='2800', accel='14.4', yr='80', origin='US', name='dodge colt', color='blue', size='21.777777777777782', marker='o'),\n",
       " Row(mpg='22.0', cyl='6', displ='198.0', hp='95', weight='2833', accel='15.5', yr='70', origin='US', name='plymouth duster', color='red', size='22.29413611111111', marker='o'),\n",
       " Row(mpg='29.8', cyl='4', displ='89.0', hp='62', weight='1845', accel='15.3', yr='80', origin='Europe', name='vokswagen rabbit', color='blue', size='9.455625000000001', marker='s'),\n",
       " Row(mpg='17.7', cyl='6', displ='231.0', hp='165', weight='3445', accel='13.4', yr='78', origin='US', name='buick regal sport coupe (turbo)', color='red', size='32.9667361111111', marker='o'),\n",
       " Row(mpg='15.0', cyl='8', displ='350.0', hp='165', weight='3693', accel='11.5', yr='70', origin='US', name='buick skylark 320', color='green', size='37.884025', marker='o'),\n",
       " Row(mpg='14.0', cyl='8', displ='340.0', hp='160', weight='3609', accel='8.0', yr='70', origin='US', name=\"plymouth 'cuda 340\", color='green', size='36.18022499999999', marker='o'),\n",
       " Row(mpg='15.5', cyl='8', displ='400.0', hp='190', weight='4325', accel='12.2', yr='77', origin='US', name='chrysler cordoba', color='green', size='51.96006944444444', marker='o'),\n",
       " Row(mpg='17.5', cyl='6', displ='258.0', hp='95', weight='3193', accel='17.8', yr='76', origin='US', name='amc pacer d/l', color='red', size='28.320136111111108', marker='o'),\n",
       " Row(mpg='12.0', cyl='8', displ='350.0', hp='180', weight='4499', accel='12.5', yr='73', origin='US', name='oldsmobile vista cruiser', color='green', size='56.225002777777775', marker='o'),\n",
       " Row(mpg='29.0', cyl='4', displ='97.0', hp='78', weight='1940', accel='14.5', yr='77', origin='Europe', name='volkswagen rabbit custom', color='blue', size='10.454444444444444', marker='s'),\n",
       " Row(mpg='15.5', cyl='8', displ='304.0', hp='120', weight='3962', accel='13.9', yr='76', origin='US', name='amc matador', color='green', size='43.60401111111111', marker='o'),\n",
       " Row(mpg='35.7', cyl='4', displ='98.0', hp='80', weight='1915', accel='14.4', yr='79', origin='US', name='dodge colt hatchback custom', color='blue', size='10.186736111111113', marker='o'),\n",
       " Row(mpg='26.0', cyl='4', displ='97.0', hp='75', weight='2265', accel='18.2', yr='77', origin='Asia', name='toyota corolla liftback', color='blue', size='14.250625', marker='x'),\n",
       " Row(mpg='30.0', cyl='4', displ='98.0', hp='68', weight='2155', accel='16.5', yr='78', origin='US', name='chevrolet chevette', color='blue', size='12.900069444444446', marker='o'),\n",
       " Row(mpg='33.8', cyl='4', displ='97.0', hp='67', weight='2145', accel='18.0', yr='80', origin='Asia', name='subaru dl', color='blue', size='12.780625', marker='x'),\n",
       " Row(mpg='18.0', cyl='6', displ='225.0', hp='95', weight='3785', accel='19.0', yr='75', origin='US', name='plymouth fury', color='red', size='39.79506944444445', marker='o'),\n",
       " Row(mpg='13.0', cyl='8', displ='302.0', hp='140', weight='4294', accel='16.0', yr='72', origin='US', name='ford gran torino (sw)', color='green', size='51.21787777777777', marker='o'),\n",
       " Row(mpg='20.0', cyl='8', displ='262.0', hp='110', weight='3221', accel='13.5', yr='75', origin='US', name='chevrolet monza 2+2', color='green', size='28.819002777777776', marker='o'),\n",
       " Row(mpg='32.4', cyl='4', displ='107.0', hp='72', weight='2290', accel='17.0', yr='80', origin='Asia', name='honda accord', color='blue', size='14.566944444444445', marker='x'),\n",
       " Row(mpg='16.0', cyl='8', displ='304.0', hp='150', weight='3433', accel='12.0', yr='70', origin='US', name='amc rebel sst', color='green', size='32.73746944444444', marker='o'),\n",
       " Row(mpg='27.5', cyl='4', displ='134.0', hp='95', weight='2560', accel='14.2', yr='78', origin='Asia', name='toyota corona', color='blue', size='18.204444444444444', marker='x'),\n",
       " Row(mpg='23.0', cyl='4', displ='97.0', hp='54', weight='2254', accel='23.5', yr='72', origin='Europe', name='volkswagen type 3', color='blue', size='14.112544444444445', marker='s'),\n",
       " Row(mpg='14.0', cyl='8', displ='351.0', hp='153', weight='4129', accel='13.0', yr='72', origin='US', name='ford galaxie 500', color='green', size='47.35733611111111', marker='o'),\n",
       " Row(mpg='17.0', cyl='8', displ='305.0', hp='130', weight='3840', accel='15.4', yr='79', origin='US', name='chevrolet caprice classic', color='green', size='40.96000000000001', marker='o'),\n",
       " Row(mpg='16.0', cyl='8', displ='400.0', hp='170', weight='4668', accel='11.5', yr='75', origin='US', name='pontiac catalina', color='green', size='60.528400000000005', marker='o'),\n",
       " Row(mpg='23.0', cyl='4', displ='122.0', hp='86', weight='2220', accel='14.0', yr='71', origin='US', name='mercury capri 2000', color='blue', size='13.690000000000001', marker='o'),\n",
       " Row(mpg='24.0', cyl='4', displ='119.0', hp='97', weight='2545', accel='17.0', yr='75', origin='Asia', name='datsun 710', color='blue', size='17.99173611111111', marker='x'),\n",
       " Row(mpg='27.0', cyl='4', displ='151.0', hp='90', weight='2735', accel='18.0', yr='82', origin='US', name='pontiac phoenix', color='blue', size='20.77840277777778', marker='o'),\n",
       " Row(mpg='15.0', cyl='8', displ='350.0', hp='145', weight='4082', accel='13.0', yr='73', origin='US', name='chevrolet monte carlo s', color='green', size='46.28534444444445', marker='o'),\n",
       " Row(mpg='27.0', cyl='4', displ='140.0', hp='86', weight='2790', accel='15.6', yr='82', origin='US', name='ford mustang gl', color='blue', size='21.622500000000002', marker='o'),\n",
       " Row(mpg='28.0', cyl='4', displ='120.0', hp='79', weight='2625', accel='18.6', yr='82', origin='US', name='ford ranger', color='blue', size='19.140625', marker='o'),\n",
       " Row(mpg='14.0', cyl='8', displ='350.0', hp='165', weight='4209', accel='12.0', yr='71', origin='US', name='chevrolet impala', color='green', size='49.210224999999994', marker='o'),\n",
       " Row(mpg='33.5', cyl='4', displ='98.0', hp='83', weight='2075', accel='15.9', yr='77', origin='US', name='dodge colt m/m', color='blue', size='11.960069444444445', marker='o'),\n",
       " Row(mpg='39.0', cyl='4', displ='86.0', hp='64', weight='1875', accel='16.4', yr='81', origin='US', name='plymouth champ', color='blue', size='9.765625', marker='o'),\n",
       " Row(mpg='24.0', cyl='4', displ='140.0', hp='92', weight='2865', accel='16.4', yr='82', origin='US', name='ford fairmont futura', color='blue', size='22.800625000000004', marker='o'),\n",
       " Row(mpg='26.5', cyl='4', displ='140.0', hp='72', weight='2565', accel='13.6', yr='76', origin='US', name='ford pinto', color='blue', size='18.275625', marker='o'),\n",
       " Row(mpg='19.4', cyl='8', displ='318.0', hp='140', weight='3735', accel='13.2', yr='78', origin='US', name='dodge diplomat', color='green', size='38.75062499999999', marker='o'),\n",
       " Row(mpg='15.0', cyl='8', displ='318.0', hp='150', weight='4135', accel='13.5', yr='72', origin='US', name='plymouth fury iii', color='green', size='47.49506944444445', marker='o'),\n",
       " Row(mpg='25.5', cyl='4', displ='122.0', hp='96', weight='2300', accel='15.5', yr='77', origin='US', name='plymouth arrow gs', color='blue', size='14.694444444444446', marker='o'),\n",
       " Row(mpg='14.0', cyl='8', displ='304.0', hp='150', weight='3672', accel='11.5', yr='73', origin='US', name='amc matador', color='green', size='37.4544', marker='o'),\n",
       " Row(mpg='27.4', cyl='4', displ='121.0', hp='80', weight='2670', accel='15.0', yr='79', origin='US', name='amc spirit dl', color='blue', size='19.802500000000002', marker='o'),\n",
       " Row(mpg='13.0', cyl='8', displ='302.0', hp='130', weight='3870', accel='15.0', yr='76', origin='US', name='ford f108', color='green', size='41.6025', marker='o'),\n",
       " Row(mpg='19.0', cyl='6', displ='225.0', hp='100', weight='3630', accel='17.7', yr='77', origin='US', name='plymouth volare custom', color='red', size='36.6025', marker='o'),\n",
       " Row(mpg='17.0', cyl='6', displ='163.0', hp='125', weight='3140', accel='13.6', yr='78', origin='Europe', name='volvo 264gl', color='red', size='27.387777777777778', marker='s'),\n",
       " Row(mpg='28.0', cyl='4', displ='116.0', hp='90', weight='2123', accel='14.0', yr='71', origin='Europe', name='opel 1900', color='blue', size='12.519802777777779', marker='s'),\n",
       " Row(mpg='22.0', cyl='4', displ='108.0', hp='94', weight='2379', accel='16.5', yr='73', origin='Asia', name='datsun 610', color='blue', size='15.721224999999999', marker='x'),\n",
       " Row(mpg='30.0', cyl='4', displ='88.0', hp='76', weight='2065', accel='14.5', yr='71', origin='Europe', name='fiat 124b', color='blue', size='11.845069444444446', marker='s'),\n",
       " Row(mpg='18.0', cyl='3', displ='70.0', hp='90', weight='2124', accel='13.5', yr='73', origin='Asia', name='maxda rx3', color='black', size='12.531600000000001', marker='x'),\n",
       " Row(mpg='14.0', cyl='8', displ='318.0', hp='150', weight='4077', accel='14.0', yr='72', origin='US', name='plymouth satellite custom (sw)', color='green', size='46.172025', marker='o'),\n",
       " Row(mpg='22.0', cyl='6', displ='146.0', hp='97', weight='2815', accel='14.5', yr='77', origin='Asia', name='datsun 810', color='red', size='22.01173611111111', marker='x'),\n",
       " Row(mpg='23.8', cyl='4', displ='151.0', hp='85', weight='2855', accel='17.6', yr='78', origin='US', name='oldsmobile starfire sx', color='blue', size='22.641736111111115', marker='o'),\n",
       " Row(mpg='24.0', cyl='6', displ='200.0', hp='81', weight='3012', accel='17.6', yr='76', origin='US', name='ford maverick', color='red', size='25.200399999999995', marker='o'),\n",
       " Row(mpg='26.0', cyl='4', displ='97.0', hp='78', weight='2300', accel='14.5', yr='74', origin='Europe', name='opel manta', color='blue', size='14.694444444444446', marker='s'),\n",
       " Row(mpg='26.0', cyl='4', displ='97.0', hp='46', weight='1950', accel='21.0', yr='73', origin='Europe', name='volkswagen super beetle', color='blue', size='10.5625', marker='s'),\n",
       " Row(mpg='30.0', cyl='4', displ='135.0', hp='84', weight='2385', accel='12.9', yr='81', origin='US', name='plymouth reliant', color='blue', size='15.800625', marker='o'),\n",
       " Row(mpg='29.0', cyl='4', displ='90.0', hp='70', weight='1937', accel='14.2', yr='76', origin='Europe', name='vw rabbit', color='blue', size='10.422136111111111', marker='s'),\n",
       " Row(mpg='14.0', cyl='8', displ='351.0', hp='153', weight='4154', accel='13.5', yr='71', origin='US', name='ford galaxie 500', color='green', size='47.93254444444444', marker='o'),\n",
       " Row(mpg='25.4', cyl='6', displ='168.0', hp='116', weight='2900', accel='12.6', yr='81', origin='Asia', name='toyota cressida', color='red', size='23.361111111111107', marker='x'),\n",
       " Row(mpg='19.0', cyl='6', displ='232.0', hp='100', weight='2901', accel='16.0', yr='74', origin='US', name='amc hornet', color='red', size='23.377225', marker='o'),\n",
       " Row(mpg='12.0', cyl='8', displ='400.0', hp='167', weight='4906', accel='12.5', yr='73', origin='US', name='ford country', color='green', size='66.85787777777776', marker='o'),\n",
       " Row(mpg='20.0', cyl='4', displ='97.0', hp='88', weight='2279', accel='19.0', yr='73', origin='Asia', name='toyota carina', color='blue', size='14.427336111111112', marker='x'),\n",
       " Row(mpg='27.0', cyl='4', displ='97.0', hp='88', weight='2130', accel='14.5', yr='71', origin='Asia', name='datsun pl510', color='blue', size='12.6025', marker='x'),\n",
       " Row(mpg='22.3', cyl='4', displ='140.0', hp='88', weight='2890', accel='17.3', yr='79', origin='US', name='ford fairmont 4', color='blue', size='23.200277777777774', marker='o'),\n",
       " Row(mpg='10.0', cyl='8', displ='307.0', hp='200', weight='4376', accel='15.0', yr='70', origin='US', name='chevy c20', color='green', size='53.19271111111111', marker='o'),\n",
       " Row(mpg='19.2', cyl='8', displ='267.0', hp='125', weight='3605', accel='15.0', yr='79', origin='US', name='chevrolet malibu classic (sw)', color='green', size='36.10006944444445', marker='o'),\n",
       " Row(mpg='26.0', cyl='4', displ='156.0', hp='92', weight='2585', accel='14.5', yr='82', origin='US', name='chrysler lebaron medallion', color='blue', size='18.561736111111113', marker='o'),\n",
       " Row(mpg='16.0', cyl='6', displ='258.0', hp='110', weight='3632', accel='18.0', yr='74', origin='US', name='amc matador', color='red', size='36.64284444444445', marker='o'),\n",
       " Row(mpg='37.3', cyl='4', displ='91.0', hp='69', weight='2130', accel='14.7', yr='79', origin='Europe', name='fiat strada custom', color='blue', size='12.6025', marker='s'),\n",
       " Row(mpg='26.0', cyl='4', displ='79.0', hp='67', weight='1963', accel='15.5', yr='74', origin='Europe', name='volkswagen dasher', color='blue', size='10.703802777777776', marker='s'),\n",
       " Row(mpg='20.2', cyl='6', displ='232.0', hp='90', weight='3265', accel='18.2', yr='79', origin='US', name='amc concord dl 6', color='red', size='29.61173611111111', marker='o'),\n",
       " Row(mpg='13.0', cyl='8', displ='318.0', hp='150', weight='3755', accel='14.0', yr='76', origin='US', name='dodge d100', color='green', size='39.16673611111111', marker='o'),\n",
       " Row(mpg='21.0', cyl='6', displ='199.0', hp='90', weight='2648', accel='15.0', yr='70', origin='US', name='amc gremlin', color='red', size='19.47751111111111', marker='o'),\n",
       " Row(mpg='25.0', cyl='4', displ='90.0', hp='71', weight='2223', accel='16.5', yr='75', origin='Europe', name='volkswagen dasher', color='blue', size='13.727025000000001', marker='s'),\n",
       " Row(mpg='20.5', cyl='6', displ='231.0', hp='105', weight='3425', accel='16.9', yr='77', origin='US', name='buick skylark', color='red', size='32.58506944444444', marker='o'),\n",
       " Row(mpg='37.7', cyl='4', displ='89.0', hp='62', weight='2050', accel='17.3', yr='81', origin='Asia', name='toyota tercel', color='blue', size='11.67361111111111', marker='x'),\n",
       " Row(mpg='36.0', cyl='4', displ='120.0', hp='88', weight='2160', accel='14.5', yr='82', origin='Asia', name='nissan stanza xe', color='blue', size='12.96', marker='x'),\n",
       " Row(mpg='20.0', cyl='6', displ='156.0', hp='122', weight='2807', accel='13.5', yr='73', origin='Asia', name='toyota mark ii', color='red', size='21.88680277777778', marker='x'),\n",
       " Row(mpg='37.0', cyl='4', displ='85.0', hp='65', weight='1975', accel='19.4', yr='81', origin='Asia', name='datsun 210 mpg', color='blue', size='10.835069444444443', marker='x'),\n",
       " Row(mpg='18.0', cyl='6', displ='250.0', hp='88', weight='3021', accel='16.5', yr='73', origin='US', name='ford maverick', color='red', size='25.351225000000003', marker='o'),\n",
       " Row(mpg='27.0', cyl='4', displ='151.0', hp='90', weight='2950', accel='17.3', yr='82', origin='US', name='chevrolet camaro', color='blue', size='24.173611111111114', marker='o'),\n",
       " Row(mpg='29.5', cyl='4', displ='98.0', hp='68', weight='2135', accel='16.6', yr='78', origin='Asia', name='honda accord lx', color='blue', size='12.661736111111109', marker='x'),\n",
       " Row(mpg='17.5', cyl='6', displ='250.0', hp='110', weight='3520', accel='16.4', yr='77', origin='US', name='chevrolet concours', color='red', size='34.41777777777777', marker='o'),\n",
       " Row(mpg='25.1', cyl='4', displ='140.0', hp='88', weight='2720', accel='15.4', yr='78', origin='US', name='ford fairmont (man)', color='blue', size='20.55111111111111', marker='o')]"
      ]
     },
     "execution_count": 10,
     "metadata": {},
     "output_type": "execute_result"
    }
   ],
   "source": [
    "auto_rdd.collect()"
   ]
  },
  {
   "cell_type": "code",
   "execution_count": 11,
   "metadata": {
    "scrolled": true
   },
   "outputs": [
    {
     "data": {
      "text/plain": [
       "[Row(mpg='18.0', cyl='6', displ='250.0', hp='88', weight='3139', accel='14.5', yr='71', origin='US', name='ford mustang', color='red', size='27.370336111111108', marker='o'),\n",
       " Row(mpg='9.0', cyl='8', displ='304.0', hp='193', weight='4732', accel='18.5', yr='70', origin='US', name='hi 1200d', color='green', size='62.199511111111114', marker='o'),\n",
       " Row(mpg='36.1', cyl='4', displ='91.0', hp='60', weight='1800', accel='16.4', yr='78', origin='Asia', name='honda civic cvcc', color='blue', size='9.0', marker='x'),\n",
       " Row(mpg='18.5', cyl='6', displ='250.0', hp='98', weight='3525', accel='19.0', yr='77', origin='US', name='ford granada', color='red', size='34.515625', marker='o'),\n",
       " Row(mpg='34.3', cyl='4', displ='97.0', hp='78', weight='2188', accel='15.8', yr='80', origin='Europe', name='audi 4000', color='blue', size='13.298177777777777', marker='s'),\n",
       " Row(mpg='32.9', cyl='4', displ='119.0', hp='100', weight='2615', accel='14.8', yr='81', origin='Asia', name='datsun 200sx', color='blue', size='18.995069444444447', marker='x'),\n",
       " Row(mpg='32.2', cyl='4', displ='108.0', hp='75', weight='2265', accel='15.2', yr='80', origin='Asia', name='toyota corolla', color='blue', size='14.250625', marker='x'),\n",
       " Row(mpg='22.0', cyl='4', displ='121.0', hp='76', weight='2511', accel='18.0', yr='72', origin='Europe', name='volkswagen 411 (sw)', color='blue', size='17.514224999999996', marker='s'),\n",
       " Row(mpg='15.0', cyl='8', displ='302.0', hp='130', weight='4295', accel='14.9', yr='77', origin='US', name='mercury cougar brougham', color='green', size='51.24173611111111', marker='o'),\n",
       " Row(mpg='17.0', cyl='8', displ='302.0', hp='140', weight='3449', accel='10.5', yr='70', origin='US', name='ford torino', color='green', size='33.04333611111111', marker='o')]"
      ]
     },
     "execution_count": 11,
     "metadata": {},
     "output_type": "execute_result"
    }
   ],
   "source": [
    "auto_rdd.take(10)"
   ]
  },
  {
   "cell_type": "code",
   "execution_count": 12,
   "metadata": {},
   "outputs": [
    {
     "data": {
      "text/plain": [
       "[Row(mpg='9.0', cyl='8', displ='304.0', hp='193', weight='4732', accel='18.5', yr='70', origin='US', name='hi 1200d', color='green', size='62.199511111111114', marker='o'),\n",
       " Row(mpg='46.6', cyl='4', displ='86.0', hp='65', weight='2110', accel='17.9', yr='80', origin='Asia', name='mazda glc', color='blue', size='12.366944444444444', marker='x'),\n",
       " Row(mpg='44.6', cyl='4', displ='91.0', hp='67', weight='1850', accel='13.8', yr='80', origin='Asia', name='honda civic 1500 gl', color='blue', size='9.506944444444445', marker='x'),\n",
       " Row(mpg='44.3', cyl='4', displ='90.0', hp='48', weight='2085', accel='21.7', yr='80', origin='Europe', name='vw rabbit c (diesel)', color='blue', size='12.075625', marker='s'),\n",
       " Row(mpg='44.0', cyl='4', displ='97.0', hp='52', weight='2130', accel='24.6', yr='82', origin='Europe', name='vw pickup', color='blue', size='12.6025', marker='s')]"
      ]
     },
     "execution_count": 12,
     "metadata": {},
     "output_type": "execute_result"
    }
   ],
   "source": [
    "auto_rdd.top(5)"
   ]
  },
  {
   "cell_type": "code",
   "execution_count": 13,
   "metadata": {},
   "outputs": [
    {
     "data": {
      "text/plain": [
       "defaultdict(int,\n",
       "            {'18.0': 17,\n",
       "             '9.0': 1,\n",
       "             '36.1': 2,\n",
       "             '18.5': 3,\n",
       "             '34.3': 1,\n",
       "             '32.9': 1,\n",
       "             '32.2': 1,\n",
       "             '22.0': 10,\n",
       "             '15.0': 16,\n",
       "             '17.0': 7,\n",
       "             '44.0': 1,\n",
       "             '24.5': 2,\n",
       "             '32.0': 6,\n",
       "             '14.0': 19,\n",
       "             '13.0': 20,\n",
       "             '36.0': 6,\n",
       "             '31.0': 7,\n",
       "             '21.5': 3,\n",
       "             '19.0': 12,\n",
       "             '16.0': 13,\n",
       "             '23.0': 9,\n",
       "             '26.0': 14,\n",
       "             '24.0': 11,\n",
       "             '21.0': 7,\n",
       "             '31.3': 1,\n",
       "             '32.7': 1,\n",
       "             '17.6': 2,\n",
       "             '28.0': 10,\n",
       "             '18.1': 2,\n",
       "             '29.0': 8,\n",
       "             '35.1': 1,\n",
       "             '16.5': 3,\n",
       "             '29.9': 1,\n",
       "             '27.2': 3,\n",
       "             '32.1': 1,\n",
       "             '12.0': 6,\n",
       "             '25.0': 10,\n",
       "             '28.4': 1,\n",
       "             '30.9': 1,\n",
       "             '20.0': 9,\n",
       "             '20.8': 1,\n",
       "             '38.0': 4,\n",
       "             '19.9': 1,\n",
       "             '11.0': 4,\n",
       "             '15.5': 5,\n",
       "             '24.2': 1,\n",
       "             '22.5': 1,\n",
       "             '26.8': 1,\n",
       "             '30.7': 1,\n",
       "             '34.1': 2,\n",
       "             '44.6': 1,\n",
       "             '20.5': 3,\n",
       "             '23.2': 1,\n",
       "             '25.5': 2,\n",
       "             '26.6': 2,\n",
       "             '20.3': 1,\n",
       "             '27.0': 9,\n",
       "             '39.1': 1,\n",
       "             '14.5': 1,\n",
       "             '20.2': 4,\n",
       "             '35.0': 2,\n",
       "             '36.4': 1,\n",
       "             '30.0': 7,\n",
       "             '31.9': 1,\n",
       "             '18.6': 1,\n",
       "             '33.0': 3,\n",
       "             '37.2': 1,\n",
       "             '44.3': 1,\n",
       "             '43.4': 1,\n",
       "             '20.6': 2,\n",
       "             '19.2': 3,\n",
       "             '26.4': 1,\n",
       "             '25.8': 1,\n",
       "             '28.1': 1,\n",
       "             '31.5': 2,\n",
       "             '33.5': 3,\n",
       "             '32.4': 2,\n",
       "             '23.9': 2,\n",
       "             '30.5': 2,\n",
       "             '17.5': 5,\n",
       "             '34.0': 2,\n",
       "             '19.8': 1,\n",
       "             '46.6': 1,\n",
       "             '21.6': 1,\n",
       "             '34.4': 1,\n",
       "             '24.3': 1,\n",
       "             '23.5': 1,\n",
       "             '37.0': 3,\n",
       "             '34.7': 1,\n",
       "             '19.4': 2,\n",
       "             '33.7': 1,\n",
       "             '38.1': 1,\n",
       "             '34.5': 1,\n",
       "             '31.6': 1,\n",
       "             '19.1': 1,\n",
       "             '43.1': 1,\n",
       "             '25.4': 2,\n",
       "             '40.8': 1,\n",
       "             '29.8': 2,\n",
       "             '31.8': 1,\n",
       "             '23.7': 1,\n",
       "             '32.3': 1,\n",
       "             '18.2': 1,\n",
       "             '10.0': 2,\n",
       "             '16.9': 1,\n",
       "             '21.1': 1,\n",
       "             '32.8': 1,\n",
       "             '29.5': 2,\n",
       "             '22.4': 1,\n",
       "             '16.2': 1,\n",
       "             '39.4': 1,\n",
       "             '28.8': 1,\n",
       "             '34.2': 1,\n",
       "             '41.5': 1,\n",
       "             '27.9': 1,\n",
       "             '17.7': 1,\n",
       "             '35.7': 1,\n",
       "             '33.8': 1,\n",
       "             '27.5': 1,\n",
       "             '39.0': 1,\n",
       "             '26.5': 1,\n",
       "             '27.4': 1,\n",
       "             '23.8': 1,\n",
       "             '22.3': 1,\n",
       "             '37.3': 1,\n",
       "             '37.7': 1,\n",
       "             '25.1': 1})"
      ]
     },
     "execution_count": 13,
     "metadata": {},
     "output_type": "execute_result"
    }
   ],
   "source": [
    "auto_rdd.countByKey()"
   ]
  },
  {
   "cell_type": "code",
   "execution_count": 14,
   "metadata": {},
   "outputs": [
    {
     "data": {
      "text/plain": [
       "defaultdict(int,\n",
       "            {Row(mpg='18.0', cyl='6', displ='250.0', hp='88', weight='3139', accel='14.5', yr='71', origin='US', name='ford mustang', color='red', size='27.370336111111108', marker='o'): 1,\n",
       "             Row(mpg='9.0', cyl='8', displ='304.0', hp='193', weight='4732', accel='18.5', yr='70', origin='US', name='hi 1200d', color='green', size='62.199511111111114', marker='o'): 1,\n",
       "             Row(mpg='36.1', cyl='4', displ='91.0', hp='60', weight='1800', accel='16.4', yr='78', origin='Asia', name='honda civic cvcc', color='blue', size='9.0', marker='x'): 1,\n",
       "             Row(mpg='18.5', cyl='6', displ='250.0', hp='98', weight='3525', accel='19.0', yr='77', origin='US', name='ford granada', color='red', size='34.515625', marker='o'): 1,\n",
       "             Row(mpg='34.3', cyl='4', displ='97.0', hp='78', weight='2188', accel='15.8', yr='80', origin='Europe', name='audi 4000', color='blue', size='13.298177777777777', marker='s'): 1,\n",
       "             Row(mpg='32.9', cyl='4', displ='119.0', hp='100', weight='2615', accel='14.8', yr='81', origin='Asia', name='datsun 200sx', color='blue', size='18.995069444444447', marker='x'): 1,\n",
       "             Row(mpg='32.2', cyl='4', displ='108.0', hp='75', weight='2265', accel='15.2', yr='80', origin='Asia', name='toyota corolla', color='blue', size='14.250625', marker='x'): 1,\n",
       "             Row(mpg='22.0', cyl='4', displ='121.0', hp='76', weight='2511', accel='18.0', yr='72', origin='Europe', name='volkswagen 411 (sw)', color='blue', size='17.514224999999996', marker='s'): 1,\n",
       "             Row(mpg='15.0', cyl='8', displ='302.0', hp='130', weight='4295', accel='14.9', yr='77', origin='US', name='mercury cougar brougham', color='green', size='51.24173611111111', marker='o'): 1,\n",
       "             Row(mpg='17.0', cyl='8', displ='302.0', hp='140', weight='3449', accel='10.5', yr='70', origin='US', name='ford torino', color='green', size='33.04333611111111', marker='o'): 1,\n",
       "             Row(mpg='44.0', cyl='4', displ='97.0', hp='52', weight='2130', accel='24.6', yr='82', origin='Europe', name='vw pickup', color='blue', size='12.6025', marker='s'): 1,\n",
       "             Row(mpg='24.5', cyl='4', displ='151.0', hp='88', weight='2740', accel='16.0', yr='77', origin='US', name='pontiac sunbird coupe', color='blue', size='20.854444444444443', marker='o'): 1,\n",
       "             Row(mpg='32.0', cyl='4', displ='135.0', hp='84', weight='2295', accel='11.6', yr='82', origin='US', name='dodge rampage', color='blue', size='14.630625000000002', marker='o'): 1,\n",
       "             Row(mpg='14.0', cyl='8', displ='351.0', hp='148', weight='4657', accel='13.5', yr='75', origin='US', name='ford ltd', color='green', size='60.24346944444444', marker='o'): 1,\n",
       "             Row(mpg='15.0', cyl='8', displ='400.0', hp='150', weight='3761', accel='9.5', yr='70', origin='US', name='chevrolet monte carlo', color='green', size='39.29200277777778', marker='o'): 1,\n",
       "             Row(mpg='13.0', cyl='8', displ='307.0', hp='130', weight='4098', accel='14.0', yr='72', origin='US', name='chevrolet chevelle concours (sw)', color='green', size='46.6489', marker='o'): 1,\n",
       "             Row(mpg='36.0', cyl='4', displ='79.0', hp='58', weight='1825', accel='18.6', yr='77', origin='Europe', name='renault 5 gtl', color='blue', size='9.25173611111111', marker='s'): 1,\n",
       "             Row(mpg='31.0', cyl='4', displ='119.0', hp='82', weight='2720', accel='19.4', yr='82', origin='US', name='chevy s-10', color='blue', size='20.55111111111111', marker='o'): 1,\n",
       "             Row(mpg='32.0', cyl='4', displ='71.0', hp='65', weight='1836', accel='21.0', yr='74', origin='Asia', name='toyota corolla 1200', color='blue', size='9.3636', marker='x'): 1,\n",
       "             Row(mpg='21.5', cyl='3', displ='80.0', hp='110', weight='2720', accel='13.5', yr='77', origin='Asia', name='mazda rx-4', color='black', size='20.55111111111111', marker='x'): 1,\n",
       "             Row(mpg='19.0', cyl='6', displ='225.0', hp='95', weight='3264', accel='16.0', yr='75', origin='US', name='plymouth valiant custom', color='red', size='29.593600000000006', marker='o'): 1,\n",
       "             Row(mpg='17.0', cyl='6', displ='231.0', hp='110', weight='3907', accel='21.0', yr='75', origin='US', name='buick century', color='red', size='42.40180277777778', marker='o'): 1,\n",
       "             Row(mpg='16.0', cyl='8', displ='302.0', hp='140', weight='4141', accel='14.0', yr='74', origin='US', name='ford gran torino', color='green', size='47.633002777777776', marker='o'): 1,\n",
       "             Row(mpg='15.0', cyl='8', displ='383.0', hp='170', weight='3563', accel='10.0', yr='70', origin='US', name='dodge challenger se', color='green', size='35.26380277777778', marker='o'): 1,\n",
       "             Row(mpg='23.0', cyl='4', displ='140.0', hp='78', weight='2592', accel='18.5', yr='75', origin='US', name='pontiac astro', color='blue', size='18.6624', marker='o'): 1,\n",
       "             Row(mpg='26.0', cyl='4', displ='98.0', hp='90', weight='2265', accel='15.5', yr='73', origin='Europe', name='fiat 124 sport coupe', color='blue', size='14.250625', marker='s'): 1,\n",
       "             Row(mpg='32.0', cyl='4', displ='144.0', hp='96', weight='2665', accel='13.9', yr='82', origin='Asia', name='toyota celica gt', color='blue', size='19.728402777777777', marker='x'): 1,\n",
       "             Row(mpg='24.0', cyl='4', displ='113.0', hp='95', weight='2372', accel='15.0', yr='70', origin='Asia', name='toyota corona mark ii', color='blue', size='15.628844444444443', marker='x'): 1,\n",
       "             Row(mpg='21.0', cyl='6', displ='231.0', hp='110', weight='3039', accel='15.0', yr='75', origin='US', name='buick skyhawk', color='red', size='25.654225000000004', marker='o'): 1,\n",
       "             Row(mpg='31.3', cyl='4', displ='120.0', hp='75', weight='2542', accel='17.5', yr='80', origin='Asia', name='mazda 626', color='blue', size='17.949344444444442', marker='x'): 1,\n",
       "             Row(mpg='32.7', cyl='6', displ='168.0', hp='132', weight='2910', accel='11.4', yr='80', origin='Asia', name='datsun 280-zx', color='red', size='23.522499999999997', marker='x'): 1,\n",
       "             Row(mpg='15.0', cyl='8', displ='304.0', hp='150', weight='3892', accel='12.5', yr='72', origin='US', name='amc matador (sw)', color='green', size='42.07684444444444', marker='o'): 1,\n",
       "             Row(mpg='23.0', cyl='4', displ='140.0', hp='83', weight='2639', accel='17.0', yr='75', origin='US', name='ford pinto', color='blue', size='19.345336111111113', marker='o'): 1,\n",
       "             Row(mpg='17.6', cyl='6', displ='225.0', hp='85', weight='3465', accel='16.6', yr='81', origin='US', name='chrysler lebaron salon', color='red', size='33.350625', marker='o'): 1,\n",
       "             Row(mpg='28.0', cyl='4', displ='107.0', hp='86', weight='2464', accel='15.5', yr='76', origin='Europe', name='fiat 131', color='blue', size='16.86471111111111', marker='s'): 1,\n",
       "             Row(mpg='24.0', cyl='4', displ='116.0', hp='75', weight='2158', accel='15.5', yr='73', origin='Europe', name='opel manta', color='blue', size='12.936011111111112', marker='s'): 1,\n",
       "             Row(mpg='14.0', cyl='8', displ='302.0', hp='140', weight='4638', accel='16.0', yr='74', origin='US', name='ford gran torino (sw)', color='green', size='59.752900000000004', marker='o'): 1,\n",
       "             Row(mpg='18.1', cyl='8', displ='302.0', hp='139', weight='3205', accel='11.2', yr='78', origin='US', name='ford futura', color='green', size='28.53340277777778', marker='o'): 1,\n",
       "             Row(mpg='36.0', cyl='4', displ='98.0', hp='70', weight='2125', accel='17.3', yr='82', origin='US', name='mercury lynx l', color='blue', size='12.543402777777777', marker='o'): 1,\n",
       "             Row(mpg='29.0', cyl='4', displ='85.0', hp='52', weight='2035', accel='22.2', yr='76', origin='US', name='chevrolet chevette', color='blue', size='11.503402777777778', marker='o'): 1,\n",
       "             Row(mpg='35.1', cyl='4', displ='81.0', hp='60', weight='1760', accel='16.1', yr='81', origin='Asia', name='honda civic 1300', color='blue', size='8.604444444444443', marker='x'): 1,\n",
       "             Row(mpg='36.0', cyl='4', displ='135.0', hp='84', weight='2370', accel='13.0', yr='82', origin='US', name='dodge charger 2.2', color='blue', size='15.602500000000001', marker='o'): 1,\n",
       "             Row(mpg='16.5', cyl='8', displ='351.0', hp='138', weight='3955', accel='13.2', yr='79', origin='US', name='mercury grand marquis', color='green', size='43.450069444444445', marker='o'): 1,\n",
       "             Row(mpg='16.0', cyl='8', displ='400.0', hp='180', weight='4220', accel='11.1', yr='77', origin='US', name='pontiac grand prix lj', color='green', size='49.467777777777776', marker='o'): 1,\n",
       "             Row(mpg='29.9', cyl='4', displ='98.0', hp='65', weight='2380', accel='20.7', yr='81', origin='US', name='ford escort 2h', color='blue', size='15.734444444444446', marker='o'): 1,\n",
       "             Row(mpg='31.0', cyl='4', displ='79.0', hp='67', weight='1950', accel='19.0', yr='74', origin='Asia', name='datsun b210', color='blue', size='10.5625', marker='x'): 1,\n",
       "             Row(mpg='27.2', cyl='4', displ='119.0', hp='97', weight='2300', accel='14.7', yr='78', origin='Asia', name='datsun 510', color='blue', size='14.694444444444446', marker='x'): 1,\n",
       "             Row(mpg='14.0', cyl='8', displ='318.0', hp='150', weight='4457', accel='13.5', yr='74', origin='US', name='dodge coronet custom (sw)', color='green', size='55.18013611111112', marker='o'): 1,\n",
       "             Row(mpg='32.1', cyl='4', displ='98.0', hp='70', weight='2120', accel='15.5', yr='80', origin='US', name='chevrolet chevette', color='blue', size='12.484444444444444', marker='o'): 1,\n",
       "             Row(mpg='15.0', cyl='6', displ='250.0', hp='100', weight='3336', accel='17.0', yr='74', origin='US', name='chevrolet nova', color='red', size='30.913599999999995', marker='o'): 1,\n",
       "             Row(mpg='12.0', cyl='8', displ='383.0', hp='180', weight='4955', accel='11.5', yr='71', origin='US', name='dodge monaco (sw)', color='green', size='68.20006944444444', marker='o'): 1,\n",
       "             Row(mpg='17.6', cyl='8', displ='302.0', hp='129', weight='3725', accel='13.4', yr='79', origin='US', name='ford ltd landau', color='green', size='38.54340277777777', marker='o'): 1,\n",
       "             Row(mpg='25.0', cyl='4', displ='113.0', hp='95', weight='2228', accel='14.0', yr='71', origin='Asia', name='toyota corona', color='blue', size='13.788844444444445', marker='x'): 1,\n",
       "             Row(mpg='28.4', cyl='4', displ='151.0', hp='90', weight='2670', accel='16.0', yr='79', origin='US', name='buick skylark limited', color='blue', size='19.802500000000002', marker='o'): 1,\n",
       "             Row(mpg='29.0', cyl='4', displ='98.0', hp='83', weight='2219', accel='16.5', yr='74', origin='Europe', name='audi fox', color='blue', size='13.677669444444444', marker='s'): 1,\n",
       "             Row(mpg='30.9', cyl='4', displ='105.0', hp='75', weight='2230', accel='14.5', yr='78', origin='US', name='dodge omni', color='blue', size='13.813611111111111', marker='o'): 1,\n",
       "             Row(mpg='20.0', cyl='6', displ='232.0', hp='100', weight='2914', accel='16.0', yr='75', origin='US', name='amc gremlin', color='red', size='23.58721111111111', marker='o'): 1,\n",
       "             Row(mpg='20.8', cyl='6', displ='200.0', hp='85', weight='3070', accel='16.7', yr='78', origin='US', name='mercury zephyr', color='red', size='26.180277777777775', marker='o'): 1,\n",
       "             Row(mpg='22.0', cyl='6', displ='232.0', hp='112', weight='2835', accel='14.7', yr='82', origin='US', name='ford granada l', color='red', size='22.325624999999995', marker='o'): 1,\n",
       "             Row(mpg='38.0', cyl='4', displ='91.0', hp='67', weight='1965', accel='15.0', yr='82', origin='Asia', name='honda civic', color='blue', size='10.725624999999999', marker='x'): 1,\n",
       "             Row(mpg='31.0', cyl='4', displ='71.0', hp='65', weight='1773', accel='19.0', yr='71', origin='Asia', name='toyota corolla 1200', color='blue', size='8.732025', marker='x'): 1,\n",
       "             Row(mpg='19.0', cyl='6', displ='250.0', hp='88', weight='3302', accel='15.5', yr='71', origin='US', name='ford torino 500', color='red', size='30.286677777777772', marker='o'): 1,\n",
       "             Row(mpg='16.0', cyl='6', displ='250.0', hp='100', weight='3781', accel='17.0', yr='74', origin='US', name='chevrolet chevelle malibu classic', color='red', size='39.71100277777778', marker='o'): 1,\n",
       "             Row(mpg='25.0', cyl='4', displ='140.0', hp='75', weight='2542', accel='17.0', yr='74', origin='US', name='chevrolet vega', color='blue', size='17.949344444444442', marker='o'): 1,\n",
       "             Row(mpg='22.0', cyl='6', displ='225.0', hp='100', weight='3233', accel='15.4', yr='76', origin='US', name='plymouth valiant', color='red', size='29.034136111111113', marker='o'): 1,\n",
       "             Row(mpg='26.0', cyl='4', displ='91.0', hp='70', weight='1955', accel='20.5', yr='71', origin='US', name='plymouth cricket', color='blue', size='10.616736111111111', marker='o'): 1,\n",
       "             Row(mpg='13.0', cyl='8', displ='350.0', hp='145', weight='4055', accel='12.0', yr='76', origin='US', name='chevy c10', color='green', size='45.67506944444445', marker='o'): 1,\n",
       "             Row(mpg='19.9', cyl='8', displ='260.0', hp='110', weight='3365', accel='15.5', yr='78', origin='US', name='oldsmobile cutlass salon brougham', color='green', size='31.45340277777778', marker='o'): 1,\n",
       "             Row(mpg='11.0', cyl='8', displ='318.0', hp='210', weight='4382', accel='13.5', yr='70', origin='US', name='dodge d200', color='green', size='53.33867777777778', marker='o'): 1,\n",
       "             Row(mpg='28.0', cyl='4', displ='98.0', hp='80', weight='2164', accel='15.0', yr='72', origin='US', name='dodge colt (sw)', color='blue', size='13.008044444444444', marker='o'): 1,\n",
       "             Row(mpg='15.5', cyl='8', displ='318.0', hp='145', weight='4140', accel='13.7', yr='77', origin='US', name='dodge monaco brougham', color='green', size='47.61000000000001', marker='o'): 1,\n",
       "             Row(mpg='26.0', cyl='4', displ='96.0', hp='69', weight='2189', accel='18.0', yr='72', origin='Europe', name='renault 12 (sw)', color='blue', size='13.310336111111111', marker='s'): 1,\n",
       "             Row(mpg='14.0', cyl='8', displ='318.0', hp='150', weight='4237', accel='14.5', yr='73', origin='US', name='plymouth fury gran sedan', color='green', size='49.86713611111111', marker='o'): 1,\n",
       "             Row(mpg='12.0', cyl='8', displ='429.0', hp='198', weight='4952', accel='11.5', yr='73', origin='US', name='mercury marquis brougham', color='green', size='68.11751111111111', marker='o'): 1,\n",
       "             Row(mpg='24.2', cyl='6', displ='146.0', hp='120', weight='2930', accel='13.8', yr='81', origin='Asia', name='datsun 810 maxima', color='red', size='23.84694444444445', marker='x'): 1,\n",
       "             Row(mpg='25.0', cyl='4', displ='140.0', hp='92', weight='2572', accel='14.9', yr='76', origin='US', name='capri ii', color='blue', size='18.375511111111116', marker='o'): 1,\n",
       "             Row(mpg='22.5', cyl='6', displ='232.0', hp='90', weight='3085', accel='17.6', yr='76', origin='US', name='amc hornet', color='red', size='26.43673611111111', marker='o'): 1,\n",
       "             Row(mpg='26.8', cyl='6', displ='173.0', hp='115', weight='2700', accel='12.9', yr='79', origin='US', name='oldsmobile omega brougham', color='red', size='20.25', marker='o'): 1,\n",
       "             Row(mpg='23.0', cyl='6', displ='198.0', hp='95', weight='2904', accel='16.0', yr='73', origin='US', name='plymouth duster', color='red', size='23.4256', marker='o'): 1,\n",
       "             Row(mpg='26.0', cyl='4', displ='116.0', hp='75', weight='2246', accel='14.0', yr='74', origin='Europe', name='fiat 124 tc', color='blue', size='14.012544444444444', marker='s'): 1,\n",
       "             Row(mpg='30.7', cyl='6', displ='145.0', hp='76', weight='3160', accel='19.6', yr='81', origin='Europe', name='volvo diesel', color='red', size='27.737777777777776', marker='s'): 1,\n",
       "             Row(mpg='31.0', cyl='4', displ='79.0', hp='67', weight='2000', accel='16.0', yr='74', origin='Europe', name='fiat x1.9', color='blue', size='11.111111111111112', marker='s'): 1,\n",
       "             Row(mpg='27.2', cyl='4', displ='141.0', hp='71', weight='3190', accel='24.8', yr='79', origin='Europe', name='peugeot 504', color='blue', size='28.26694444444444', marker='s'): 1,\n",
       "             Row(mpg='21.5', cyl='6', displ='231.0', hp='115', weight='3245', accel='15.4', yr='79', origin='US', name='pontiac lemans v6', color='red', size='29.250069444444442', marker='o'): 1,\n",
       "             Row(mpg='29.0', cyl='4', displ='135.0', hp='84', weight='2525', accel='16.0', yr='82', origin='US', name='dodge aries se', color='blue', size='17.710069444444443', marker='o'): 1,\n",
       "             Row(mpg='20.0', cyl='4', displ='114.0', hp='91', weight='2582', accel='14.0', yr='73', origin='Europe', name='audi 100ls', color='blue', size='18.518677777777782', marker='s'): 1,\n",
       "             Row(mpg='13.0', cyl='8', displ='350.0', hp='150', weight='4699', accel='14.5', yr='74', origin='US', name='buick century luxus (sw)', color='green', size='61.33500277777778', marker='o'): 1,\n",
       "             Row(mpg='14.0', cyl='8', displ='440.0', hp='215', weight='4312', accel='8.5', yr='70', origin='US', name='plymouth fury iii', color='green', size='51.648177777777775', marker='o'): 1,\n",
       "             Row(mpg='38.0', cyl='4', displ='91.0', hp='67', weight='1995', accel='16.2', yr='82', origin='Asia', name='datsun 310 gx', color='blue', size='11.055625000000001', marker='x'): 1,\n",
       "             Row(mpg='13.0', cyl='8', displ='400.0', hp='175', weight='5140', accel='12.0', yr='71', origin='US', name='pontiac safari (sw)', color='green', size='73.38777777777777', marker='o'): 1,\n",
       "             Row(mpg='24.5', cyl='4', displ='98.0', hp='60', weight='2164', accel='22.1', yr='76', origin='US', name='chevrolet woody', color='blue', size='13.008044444444444', marker='o'): 1,\n",
       "             Row(mpg='13.0', cyl='8', displ='350.0', hp='175', weight='4100', accel='13.0', yr='73', origin='US', name='buick century 350', color='green', size='46.69444444444444', marker='o'): 1,\n",
       "             Row(mpg='25.0', cyl='6', displ='181.0', hp='110', weight='2945', accel='16.4', yr='82', origin='US', name='buick century limited', color='red', size='24.09173611111111', marker='o'): 1,\n",
       "             Row(mpg='24.0', cyl='4', displ='113.0', hp='95', weight='2278', accel='15.5', yr='72', origin='Asia', name='toyota corona hardtop', color='blue', size='14.41467777777778', marker='x'): 1,\n",
       "             Row(mpg='34.1', cyl='4', displ='91.0', hp='68', weight='1985', accel='16.0', yr='81', origin='Asia', name='mazda glc 4', color='blue', size='10.945069444444442', marker='x'): 1,\n",
       "             Row(mpg='13.0', cyl='8', displ='400.0', hp='150', weight='4464', accel='12.0', yr='73', origin='US', name='chevrolet caprice classic', color='green', size='55.35360000000001', marker='o'): 1,\n",
       "             Row(mpg='44.6', cyl='4', displ='91.0', hp='67', weight='1850', accel='13.8', yr='80', origin='Asia', name='honda civic 1500 gl', color='blue', size='9.506944444444445', marker='x'): 1,\n",
       "             Row(mpg='20.5', cyl='6', displ='200.0', hp='95', weight='3155', accel='18.2', yr='78', origin='US', name='chevrolet malibu', color='red', size='27.650069444444448', marker='o'): 1,\n",
       "             Row(mpg='18.0', cyl='6', displ='258.0', hp='110', weight='2962', accel='13.5', yr='71', origin='US', name='amc hornet sportabout (sw)', color='red', size='24.370677777777775', marker='o'): 1,\n",
       "             Row(mpg='23.2', cyl='4', displ='156.0', hp='105', weight='2745', accel='16.7', yr='78', origin='US', name='plymouth sapporo', color='blue', size='20.930625000000003', marker='o'): 1,\n",
       "             Row(mpg='20.0', cyl='4', displ='130.0', hp='102', weight='3150', accel='15.7', yr='76', origin='Europe', name='volvo 245', color='blue', size='27.5625', marker='s'): 1,\n",
       "             Row(mpg='24.0', cyl='4', displ='121.0', hp='110', weight='2660', accel='14.0', yr='73', origin='Europe', name='saab 99le', color='blue', size='19.654444444444447', marker='s'): 1,\n",
       "             Row(mpg='25.5', cyl='4', displ='140.0', hp='89', weight='2755', accel='15.8', yr='77', origin='US', name='ford mustang ii 2+2', color='blue', size='21.083402777777778', marker='o'): 1,\n",
       "             Row(mpg='36.1', cyl='4', displ='98.0', hp='66', weight='1800', accel='14.4', yr='78', origin='US', name='ford fiesta', color='blue', size='9.0', marker='o'): 1,\n",
       "             Row(mpg='23.0', cyl='4', displ='120.0', hp='88', weight='2957', accel='17.0', yr='75', origin='Europe', name='peugeot 504', color='blue', size='24.28846944444445', marker='s'): 1,\n",
       "             Row(mpg='24.0', cyl='4', displ='90.0', hp='75', weight='2108', accel='15.5', yr='74', origin='Europe', name='fiat 128', color='blue', size='12.34351111111111', marker='s'): 1,\n",
       "             Row(mpg='18.0', cyl='6', displ='250.0', hp='78', weight='3574', accel='21.0', yr='76', origin='US', name='ford granada ghia', color='red', size='35.48187777777778', marker='o'): 1,\n",
       "             Row(mpg='26.6', cyl='8', displ='350.0', hp='105', weight='3725', accel='19.0', yr='81', origin='US', name='oldsmobile cutlass ls', color='green', size='38.54340277777777', marker='o'): 1,\n",
       "             Row(mpg='32.0', cyl='4', displ='85.0', hp='70', weight='1990', accel='17.0', yr='76', origin='Asia', name='datsun b-210', color='blue', size='11.000277777777779', marker='x'): 1,\n",
       "             Row(mpg='20.3', cyl='5', displ='131.0', hp='103', weight='2830', accel='15.9', yr='78', origin='Europe', name='audi 5000', color='purple', size='22.246944444444445', marker='s'): 1,\n",
       "             Row(mpg='27.0', cyl='4', displ='97.0', hp='60', weight='1834', accel='19.0', yr='71', origin='Europe', name='volkswagen model 111', color='blue', size='9.343211111111112', marker='s'): 1,\n",
       "             Row(mpg='17.0', cyl='8', displ='304.0', hp='150', weight='3672', accel='11.5', yr='72', origin='US', name='amc ambassador sst', color='green', size='37.4544', marker='o'): 1,\n",
       "             Row(mpg='21.0', cyl='4', displ='140.0', hp='72', weight='2401', accel='19.5', yr='73', origin='US', name='chevrolet vega', color='blue', size='16.013336111111112', marker='o'): 1,\n",
       "             Row(mpg='13.0', cyl='8', displ='400.0', hp='170', weight='4746', accel='12.0', yr='71', origin='US', name='ford country squire (sw)', color='green', size='62.5681', marker='o'): 1,\n",
       "             Row(mpg='24.0', cyl='4', displ='107.0', hp='90', weight='2430', accel='14.5', yr='70', origin='Europe', name='audi 100 ls', color='blue', size='16.4025', marker='s'): 1,\n",
       "             Row(mpg='17.0', cyl='8', displ='260.0', hp='110', weight='4060', accel='19.0', yr='77', origin='US', name='oldsmobile cutlass supreme', color='green', size='45.78777777777778', marker='o'): 1,\n",
       "             Row(mpg='39.1', cyl='4', displ='79.0', hp='58', weight='1755', accel='16.9', yr='81', origin='Asia', name='toyota starlet', color='blue', size='8.555625', marker='x'): 1,\n",
       "             Row(mpg='14.5', cyl='8', displ='351.0', hp='152', weight='4215', accel='12.8', yr='76', origin='US', name='ford gran torino', color='green', size='49.35062500000001', marker='o'): 1,\n",
       "             Row(mpg='13.0', cyl='8', displ='350.0', hp='145', weight='3988', accel='13.0', yr='73', origin='US', name='chevrolet malibu', color='green', size='44.178177777777776', marker='o'): 1,\n",
       "             Row(mpg='20.2', cyl='8', displ='302.0', hp='139', weight='3570', accel='12.8', yr='78', origin='US', name='mercury monarch ghia', color='green', size='35.4025', marker='o'): 1,\n",
       "             Row(mpg='27.0', cyl='4', displ='101.0', hp='83', weight='2202', accel='15.3', yr='76', origin='Europe', name='renault 12tl', color='blue', size='13.4689', marker='s'): 1,\n",
       "             Row(mpg='35.0', cyl='4', displ='72.0', hp='69', weight='1613', accel='18.0', yr='71', origin='Asia', name='datsun 1200', color='blue', size='7.227136111111112', marker='x'): 1,\n",
       "             Row(mpg='15.0', cyl='8', displ='318.0', hp='150', weight='3777', accel='12.5', yr='73', origin='US', name='dodge coronet custom', color='green', size='39.627024999999996', marker='o'): 1,\n",
       "             Row(mpg='36.4', cyl='5', displ='121.0', hp='67', weight='2950', accel='19.9', yr='80', origin='Europe', name='audi 5000s (diesel)', color='purple', size='24.173611111111114', marker='s'): 1,\n",
       "             Row(mpg='30.0', cyl='4', displ='111.0', hp='80', weight='2155', accel='14.8', yr='77', origin='US', name='buick opel isuzu deluxe', color='blue', size='12.900069444444446', marker='o'): 1,\n",
       "             Row(mpg='31.9', cyl='4', displ='89.0', hp='71', weight='1925', accel='14.0', yr='79', origin='Europe', name='vw rabbit custom', color='blue', size='10.293402777777779', marker='s'): 1,\n",
       "             Row(mpg='26.0', cyl='4', displ='97.0', hp='46', weight='1835', accel='20.5', yr='70', origin='Europe', name='volkswagen 1131 deluxe sedan', color='blue', size='9.353402777777777', marker='s'): 1,\n",
       "             Row(mpg='16.0', cyl='6', displ='225.0', hp='105', weight='3439', accel='15.5', yr='71', origin='US', name='plymouth satellite custom', color='red', size='32.85200277777778', marker='o'): 1,\n",
       "             Row(mpg='20.0', cyl='4', displ='140.0', hp='90', weight='2408', accel='19.5', yr='72', origin='US', name='chevrolet vega', color='blue', size='16.106844444444448', marker='o'): 1,\n",
       "             Row(mpg='18.6', cyl='6', displ='225.0', hp='110', weight='3620', accel='18.7', yr='78', origin='US', name='dodge aspen', color='red', size='36.401111111111106', marker='o'): 1,\n",
       "             Row(mpg='14.0', cyl='8', displ='400.0', hp='175', weight='4464', accel='11.5', yr='71', origin='US', name='pontiac catalina brougham', color='green', size='55.35360000000001', marker='o'): 1,\n",
       "             Row(mpg='25.0', cyl='4', displ='97.5', hp='80', weight='2126', accel='17.0', yr='72', origin='US', name='dodge colt hardtop', color='blue', size='12.555211111111111', marker='o'): 1,\n",
       "             Row(mpg='33.0', cyl='4', displ='105.0', hp='74', weight='2190', accel='14.2', yr='81', origin='Europe', name='volkswagen jetta', color='blue', size='13.3225', marker='s'): 1,\n",
       "             Row(mpg='14.0', cyl='8', displ='318.0', hp='150', weight='4096', accel='13.0', yr='71', origin='US', name='plymouth fury iii', color='green', size='46.60337777777779', marker='o'): 1,\n",
       "             Row(mpg='18.5', cyl='8', displ='360.0', hp='150', weight='3940', accel='13.0', yr='79', origin='US', name='chrysler lebaron town @ country (sw)', color='green', size='43.121111111111105', marker='o'): 1,\n",
       "             Row(mpg='37.2', cyl='4', displ='86.0', hp='65', weight='2019', accel='16.4', yr='80', origin='Asia', name='datsun 310', color='blue', size='11.323225', marker='x'): 1,\n",
       "             Row(mpg='18.0', cyl='6', displ='232.0', hp='100', weight='3288', accel='15.5', yr='71', origin='US', name='amc matador', color='red', size='30.030400000000004', marker='o'): 1,\n",
       "             Row(mpg='44.3', cyl='4', displ='90.0', hp='48', weight='2085', accel='21.7', yr='80', origin='Europe', name='vw rabbit c (diesel)', color='blue', size='12.075625', marker='s'): 1,\n",
       "             Row(mpg='18.0', cyl='6', displ='250.0', hp='105', weight='3459', accel='16.0', yr='75', origin='US', name='chevrolet nova', color='red', size='33.235225', marker='o'): 1,\n",
       "             Row(mpg='28.0', cyl='4', displ='140.0', hp='90', weight='2264', accel='15.5', yr='71', origin='US', name='chevrolet vega 2300', color='blue', size='14.238044444444444', marker='o'): 1,\n",
       "             Row(mpg='43.4', cyl='4', displ='90.0', hp='48', weight='2335', accel='23.7', yr='80', origin='Europe', name='vw dasher (diesel)', color='blue', size='15.145069444444443', marker='s'): 1,\n",
       "             Row(mpg='20.6', cyl='6', displ='231.0', hp='105', weight='3380', accel='15.8', yr='78', origin='US', name='buick century special', color='red', size='31.73444444444445', marker='o'): 1,\n",
       "             Row(mpg='19.2', cyl='6', displ='231.0', hp='105', weight='3535', accel='19.2', yr='78', origin='US', name='pontiac phoenix lj', color='red', size='34.71173611111111', marker='o'): 1,\n",
       "             Row(mpg='26.4', cyl='4', displ='140.0', hp='88', weight='2870', accel='18.1', yr='80', origin='US', name='ford fairmont', color='blue', size='22.880277777777778', marker='o'): 1,\n",
       "             Row(mpg='18.0', cyl='6', displ='232.0', hp='100', weight='2945', accel='16.0', yr='73', origin='US', name='amc hornet', color='red', size='24.09173611111111', marker='o'): 1,\n",
       "             Row(mpg='28.0', cyl='4', displ='97.0', hp='75', weight='2155', accel='16.4', yr='76', origin='Asia', name='toyota corolla', color='blue', size='12.900069444444446', marker='x'): 1,\n",
       "             Row(mpg='26.0', cyl='4', displ='121.0', hp='113', weight='2234', accel='12.5', yr='70', origin='Europe', name='bmw 2002', color='blue', size='13.86321111111111', marker='s'): 1,\n",
       "             Row(mpg='13.0', cyl='8', displ='400.0', hp='190', weight='4422', accel='12.5', yr='72', origin='US', name='chrysler newport royal', color='green', size='54.316900000000004', marker='o'): 1,\n",
       "             Row(mpg='25.8', cyl='4', displ='156.0', hp='92', weight='2620', accel='14.4', yr='81', origin='US', name='dodge aries wagon (sw)', color='blue', size='19.067777777777774', marker='o'): 1,\n",
       "             Row(mpg='28.1', cyl='4', displ='141.0', hp='80', weight='3230', accel='20.4', yr='81', origin='Europe', name='peugeot 505s turbo diesel', color='blue', size='28.980277777777783', marker='s'): 1,\n",
       "             Row(mpg='13.0', cyl='8', displ='350.0', hp='165', weight='4274', accel='12.0', yr='72', origin='US', name='chevrolet impala', color='green', size='50.74187777777777', marker='o'): 1,\n",
       "             Row(mpg='16.5', cyl='8', displ='350.0', hp='180', weight='4380', accel='12.1', yr='76', origin='US', name='cadillac seville', color='green', size='53.29', marker='o'): 1,\n",
       "             Row(mpg='31.5', cyl='4', displ='89.0', hp='71', weight='1990', accel='14.9', yr='78', origin='Europe', name='volkswagen scirocco', color='blue', size='11.000277777777779', marker='s'): 1,\n",
       "             Row(mpg='24.0', cyl='4', displ='120.0', hp='97', weight='2489', accel='15.0', yr='74', origin='Asia', name='honda civic', color='blue', size='17.208669444444446', marker='x'): 1,\n",
       "             Row(mpg='15.0', cyl='6', displ='250.0', hp='72', weight='3158', accel='19.5', yr='75', origin='US', name='ford maverick', color='red', size='27.70267777777778', marker='o'): 1,\n",
       "             Row(mpg='18.0', cyl='6', displ='225.0', hp='105', weight='3613', accel='16.5', yr='74', origin='US', name='plymouth satellite sebring', color='red', size='36.26046944444444', marker='o'): 1,\n",
       "             Row(mpg='33.5', cyl='4', displ='151.0', hp='90', weight='2556', accel='13.2', yr='79', origin='US', name='pontiac phoenix', color='blue', size='18.147599999999997', marker='o'): 1,\n",
       "             Row(mpg='32.4', cyl='4', displ='108.0', hp='75', weight='2350', accel='16.8', yr='81', origin='Asia', name='toyota corolla', color='blue', size='15.340277777777777', marker='x'): 1,\n",
       "             Row(mpg='27.0', cyl='4', displ='97.0', hp='88', weight='2130', accel='14.5', yr='70', origin='Asia', name='datsun pl510', color='blue', size='12.6025', marker='x'): 1,\n",
       "             Row(mpg='13.0', cyl='8', displ='350.0', hp='155', weight='4502', accel='13.5', yr='72', origin='US', name='buick lesabre custom', color='green', size='56.300011111111104', marker='o'): 1,\n",
       "             Row(mpg='31.0', cyl='4', displ='91.0', hp='68', weight='1970', accel='17.6', yr='82', origin='Asia', name='mazda glc custom', color='blue', size='10.780277777777776', marker='x'): 1,\n",
       "             Row(mpg='28.0', cyl='4', displ='151.0', hp='90', weight='2678', accel='16.5', yr='80', origin='US', name='chevrolet citation', color='blue', size='19.92134444444444', marker='o'): 1,\n",
       "             Row(mpg='27.2', cyl='4', displ='135.0', hp='84', weight='2490', accel='15.7', yr='81', origin='US', name='plymouth reliant', color='blue', size='17.222500000000004', marker='o'): 1,\n",
       "             Row(mpg='21.0', cyl='4', displ='120.0', hp='87', weight='2979', accel='19.5', yr='72', origin='Europe', name='peugeot 504 (sw)', color='blue', size='24.651225', marker='s'): 1,\n",
       "             Row(mpg='19.0', cyl='4', displ='121.0', hp='112', weight='2868', accel='15.5', yr='73', origin='Europe', name='volvo 144ea', color='blue', size='22.8484', marker='s'): 1,\n",
       "             Row(mpg='25.0', cyl='4', displ='110.0', hp='87', weight='2672', accel='17.5', yr='70', origin='Europe', name='peugeot 504', color='blue', size='19.832177777777776', marker='s'): 1,\n",
       "             Row(mpg='23.0', cyl='8', displ='350.0', hp='125', weight='3900', accel='17.4', yr='79', origin='US', name='cadillac eldorado', color='green', size='42.25', marker='o'): 1,\n",
       "             Row(mpg='19.0', cyl='6', displ='156.0', hp='108', weight='2930', accel='15.5', yr='76', origin='Asia', name='toyota mark ii', color='red', size='23.84694444444445', marker='x'): 1,\n",
       "             Row(mpg='15.5', cyl='8', displ='351.0', hp='142', weight='4054', accel='14.3', yr='79', origin='US', name='ford country squire (sw)', color='green', size='45.652544444444445', marker='o'): 1,\n",
       "             Row(mpg='23.9', cyl='4', displ='119.0', hp='97', weight='2405', accel='14.9', yr='78', origin='Asia', name='datsun 200-sx', color='blue', size='16.066736111111116', marker='x'): 1,\n",
       "             Row(mpg='22.0', cyl='6', displ='250.0', hp='105', weight='3353', accel='14.5', yr='76', origin='US', name='chevrolet nova', color='red', size='31.22946944444444', marker='o'): 1,\n",
       "             Row(mpg='29.0', cyl='4', displ='97.0', hp='75', weight='2171', accel='16.0', yr='75', origin='Asia', name='toyota corolla', color='blue', size='13.09233611111111', marker='x'): 1,\n",
       "             Row(mpg='14.0', cyl='8', displ='302.0', hp='137', weight='4042', accel='14.5', yr='73', origin='US', name='ford gran torino', color='green', size='45.38267777777777', marker='o'): 1,\n",
       "             Row(mpg='15.0', cyl='8', displ='318.0', hp='150', weight='3399', accel='11.0', yr='73', origin='US', name='dodge dart custom', color='green', size='32.092225', marker='o'): 1,\n",
       "             Row(mpg='27.0', cyl='4', displ='112.0', hp='88', weight='2640', accel='18.6', yr='82', origin='US', name='chevrolet cavalier wagon', color='blue', size='19.360000000000003', marker='o'): 1,\n",
       "             Row(mpg='15.0', cyl='8', displ='350.0', hp='145', weight='4440', accel='14.0', yr='75', origin='US', name='chevrolet bel air', color='green', size='54.760000000000005', marker='o'): 1,\n",
       "             Row(mpg='30.5', cyl='4', displ='98.0', hp='63', weight='2051', accel='17.0', yr='77', origin='US', name='chevrolet chevette', color='blue', size='11.685002777777779', marker='o'): 1,\n",
       "             Row(mpg='25.0', cyl='4', displ='104.0', hp='95', weight='2375', accel='17.5', yr='70', origin='Europe', name='saab 99e', color='blue', size='15.668402777777779', marker='s'): 1,\n",
       "             Row(mpg='17.5', cyl='8', displ='305.0', hp='140', weight='4215', accel='13.0', yr='76', origin='US', name='chevrolet chevelle malibu classic', color='green', size='49.35062500000001', marker='o'): 1,\n",
       "             Row(mpg='34.0', cyl='4', displ='112.0', hp='88', weight='2395', accel='18.0', yr='82', origin='US', name='chevrolet cavalier 2-door', color='blue', size='15.933402777777777', marker='o'): 1,\n",
       "             Row(mpg='38.0', cyl='6', displ='262.0', hp='85', weight='3015', accel='17.0', yr='82', origin='US', name='oldsmobile cutlass ciera (diesel)', color='red', size='25.250625000000003', marker='o'): 1,\n",
       "             Row(mpg='30.0', cyl='4', displ='79.0', hp='70', weight='2074', accel='19.5', yr='71', origin='Europe', name='peugeot 304', color='blue', size='11.948544444444444', marker='s'): 1,\n",
       "             Row(mpg='19.8', cyl='6', displ='200.0', hp='85', weight='2990', accel='18.2', yr='79', origin='US', name='mercury zephyr 6', color='red', size='24.83361111111111', marker='o'): 1,\n",
       "             Row(mpg='25.0', cyl='4', displ='121.0', hp='115', weight='2671', accel='13.5', yr='75', origin='Europe', name='saab 99le', color='blue', size='19.817336111111114', marker='s'): 1,\n",
       "             Row(mpg='21.0', cyl='4', displ='122.0', hp='86', weight='2226', accel='16.5', yr='72', origin='US', name='ford pinto runabout', color='blue', size='13.7641', marker='o'): 1,\n",
       "             Row(mpg='26.0', cyl='4', displ='98.0', hp='79', weight='2255', accel='17.7', yr='76', origin='US', name='dodge colt', color='blue', size='14.125069444444444', marker='o'): 1,\n",
       "             Row(mpg='16.5', cyl='6', displ='168.0', hp='120', weight='3820', accel='16.7', yr='76', origin='Europe', name='mercedes-benz 280s', color='red', size='40.53444444444444', marker='s'): 1,\n",
       "             Row(mpg='18.1', cyl='6', displ='258.0', hp='120', weight='3410', accel='15.1', yr='78', origin='US', name='amc concord d/l', color='red', size='32.30027777777778', marker='o'): 1,\n",
       "             Row(mpg='46.6', cyl='4', displ='86.0', hp='65', weight='2110', accel='17.9', yr='80', origin='Asia', name='mazda glc', color='blue', size='12.366944444444444', marker='x'): 1,\n",
       "             Row(mpg='21.5', cyl='4', displ='121.0', hp='110', weight='2600', accel='12.8', yr='77', origin='Europe', name='bmw 320i', color='blue', size='18.777777777777775', marker='s'): 1,\n",
       "             Row(mpg='14.0', cyl='8', displ='454.0', hp='220', weight='4354', accel='9.0', yr='70', origin='US', name='chevrolet impala', color='green', size='52.65921111111111', marker='o'): 1,\n",
       "             Row(mpg='21.6', cyl='4', displ='121.0', hp='115', weight='2795', accel='15.7', yr='78', origin='Europe', name='saab 99gle', color='blue', size='21.700069444444445', marker='s'): 1,\n",
       "             Row(mpg='15.5', cyl='8', displ='350.0', hp='170', weight='4165', accel='11.4', yr='77', origin='US', name='chevrolet monte carlo landau', color='green', size='48.18673611111111', marker='o'): 1,\n",
       "             Row(mpg='20.5', cyl='6', displ='225.0', hp='100', weight='3430', accel='17.2', yr='78', origin='US', name='plymouth volare', color='red', size='32.68027777777778', marker='o'): 1,\n",
       "             Row(mpg='23.9', cyl='8', displ='260.0', hp='90', weight='3420', accel='22.2', yr='79', origin='US', name='oldsmobile cutlass salon brougham', color='green', size='32.49', marker='o'): 1,\n",
       "             Row(mpg='12.0', cyl='8', displ='455.0', hp='225', weight='4951', accel='11.0', yr='73', origin='US', name='buick electra 225 custom', color='green', size='68.09000277777778', marker='o'): 1,\n",
       "             Row(mpg='20.2', cyl='6', displ='200.0', hp='85', weight='2965', accel='15.8', yr='78', origin='US', name='ford fairmont (auto)', color='red', size='24.420069444444444', marker='o'): 1,\n",
       "             Row(mpg='34.4', cyl='4', displ='98.0', hp='65', weight='2045', accel='16.2', yr='81', origin='US', name='ford escort 4w', color='blue', size='11.616736111111111', marker='o'): 1,\n",
       "             Row(mpg='23.0', cyl='4', displ='120.0', hp='97', weight='2506', accel='14.5', yr='72', origin='Asia', name='toyouta corona mark ii (sw)', color='blue', size='17.444544444444446', marker='x'): 1,\n",
       "             Row(mpg='24.3', cyl='4', displ='151.0', hp='90', weight='3003', accel='20.1', yr='80', origin='US', name='amc concord', color='blue', size='25.050024999999998', marker='o'): 1,\n",
       "             Row(mpg='19.0', cyl='6', displ='232.0', hp='90', weight='3211', accel='17.0', yr='75', origin='US', name='amc pacer', color='red', size='28.64033611111111', marker='o'): 1,\n",
       "             Row(mpg='29.0', cyl='4', displ='68.0', hp='49', weight='1867', accel='19.5', yr='73', origin='Europe', name='fiat 128', color='blue', size='9.682469444444445', marker='s'): 1,\n",
       "             Row(mpg='23.5', cyl='6', displ='173.0', hp='110', weight='2725', accel='12.6', yr='81', origin='US', name='chevrolet citation', color='red', size='20.626736111111114', marker='o'): 1,\n",
       "             Row(mpg='34.0', cyl='4', displ='108.0', hp='70', weight='2245', accel='16.9', yr='82', origin='Asia', name='toyota corolla', color='blue', size='14.000069444444444', marker='x'): 1,\n",
       "             Row(mpg='37.0', cyl='4', displ='119.0', hp='92', weight='2434', accel='15.0', yr='80', origin='Asia', name='datsun 510 hatchback', color='blue', size='16.456544444444443', marker='x'): 1,\n",
       "             Row(mpg='33.0', cyl='4', displ='91.0', hp='53', weight='1795', accel='17.5', yr='75', origin='Asia', name='honda civic cvcc', color='blue', size='8.950069444444445', marker='x'): 1,\n",
       "             Row(mpg='18.0', cyl='6', displ='232.0', hp='100', weight='2789', accel='15.0', yr='73', origin='US', name='amc gremlin', color='red', size='21.60700277777778', marker='o'): 1,\n",
       "             Row(mpg='15.0', cyl='8', displ='390.0', hp='190', weight='3850', accel='8.5', yr='70', origin='US', name='amc ambassador dpl', color='green', size='41.173611111111114', marker='o'): 1,\n",
       "             Row(mpg='34.7', cyl='4', displ='105.0', hp='63', weight='2215', accel='14.9', yr='81', origin='US', name='plymouth horizon 4', color='blue', size='13.62840277777778', marker='o'): 1,\n",
       "             Row(mpg='19.4', cyl='6', displ='232.0', hp='90', weight='3210', accel='17.2', yr='78', origin='US', name='amc concord', color='red', size='28.622499999999995', marker='o'): 1,\n",
       "             Row(mpg='32.0', cyl='4', displ='91.0', hp='67', weight='1965', accel='15.7', yr='82', origin='Asia', name='honda civic (auto)', color='blue', size='10.725624999999999', marker='x'): 1,\n",
       "             Row(mpg='34.1', cyl='4', displ='86.0', hp='65', weight='1975', accel='15.2', yr='79', origin='Asia', name='maxda glc deluxe', color='blue', size='10.835069444444443', marker='x'): 1,\n",
       "             Row(mpg='33.7', cyl='4', displ='107.0', hp='75', weight='2210', accel='14.4', yr='81', origin='Asia', name='honda prelude', color='blue', size='13.566944444444443', marker='x'): 1,\n",
       "             Row(mpg='20.0', cyl='6', displ='225.0', hp='100', weight='3651', accel='17.7', yr='76', origin='US', name='dodge aspen se', color='red', size='37.027225', marker='o'): 1,\n",
       "             Row(mpg='15.0', cyl='6', displ='258.0', hp='110', weight='3730', accel='19.0', yr='75', origin='US', name='amc matador', color='red', size='38.64694444444444', marker='o'): 1,\n",
       "             Row(mpg='38.1', cyl='4', displ='89.0', hp='60', weight='1968', accel='18.8', yr='80', origin='Asia', name='toyota corolla tercel', color='blue', size='10.758399999999998', marker='x'): 1,\n",
       "             Row(mpg='26.0', cyl='4', displ='108.0', hp='93', weight='2391', accel='15.5', yr='74', origin='Asia', name='subaru', color='blue', size='15.880225', marker='x'): 1,\n",
       "             Row(mpg='27.0', cyl='4', displ='97.0', hp='88', weight='2100', accel='16.5', yr='72', origin='Asia', name='toyota corolla 1600 (sw)', color='blue', size='12.25', marker='x'): 1,\n",
       "             Row(mpg='16.0', cyl='8', displ='318.0', hp='150', weight='4498', accel='14.5', yr='75', origin='US', name='plymouth grand fury', color='green', size='56.20001111111112', marker='o'): 1,\n",
       "             Row(mpg='17.0', cyl='6', displ='250.0', hp='100', weight='3329', accel='15.5', yr='71', origin='US', name='chevrolet chevelle malibu', color='red', size='30.784002777777772', marker='o'): 1,\n",
       "             Row(mpg='13.0', cyl='8', displ='318.0', hp='150', weight='3940', accel='13.2', yr='76', origin='US', name='plymouth volare premier v8', color='green', size='43.121111111111105', marker='o'): 1,\n",
       "             Row(mpg='28.0', cyl='4', displ='112.0', hp='88', weight='2605', accel='19.6', yr='82', origin='US', name='chevrolet cavalier', color='blue', size='18.850069444444447', marker='o'): 1,\n",
       "             Row(mpg='14.0', cyl='8', displ='455.0', hp='225', weight='3086', accel='10.0', yr='70', origin='US', name='buick estate wagon (sw)', color='green', size='26.45387777777778', marker='o'): 1,\n",
       "             Row(mpg='31.5', cyl='4', displ='98.0', hp='68', weight='2045', accel='18.5', yr='77', origin='Asia', name='honda accord cvcc', color='blue', size='11.616736111111111', marker='x'): 1,\n",
       "             Row(mpg='34.5', cyl='4', displ='105.0', hp='70', weight='2150', accel='14.9', yr='79', origin='US', name='plymouth horizon tc3', color='blue', size='12.840277777777779', marker='o'): 1,\n",
       "             Row(mpg='11.0', cyl='8', displ='429.0', hp='208', weight='4633', accel='11.0', yr='72', origin='US', name='mercury marquis', color='green', size='59.62413611111111', marker='o'): 1,\n",
       "             Row(mpg='16.0', cyl='6', displ='250.0', hp='105', weight='3897', accel='18.5', yr='75', origin='US', name='chevroelt chevelle malibu', color='red', size='42.185025', marker='o'): 1,\n",
       "             Row(mpg='31.6', cyl='4', displ='120.0', hp='74', weight='2635', accel='18.3', yr='81', origin='Asia', name='mazda 626', color='blue', size='19.28673611111111', marker='x'): 1,\n",
       "             Row(mpg='19.1', cyl='6', displ='225.0', hp='90', weight='3381', accel='18.7', yr='80', origin='US', name='dodge aspen', color='red', size='31.753224999999997', marker='o'): 1,\n",
       "             Row(mpg='18.5', cyl='6', displ='250.0', hp='110', weight='3645', accel='16.2', yr='76', origin='US', name='pontiac ventura sj', color='red', size='36.905625', marker='o'): 1,\n",
       "             Row(mpg='15.0', cyl='6', displ='250.0', hp='72', weight='3432', accel='21.0', yr='75', origin='US', name='mercury monarch', color='red', size='32.718399999999995', marker='o'): 1,\n",
       "             Row(mpg='18.0', cyl='6', displ='199.0', hp='97', weight='2774', accel='15.5', yr='70', origin='US', name='amc hornet', color='red', size='21.37521111111111', marker='o'): 1,\n",
       "             Row(mpg='35.0', cyl='4', displ='122.0', hp='88', weight='2500', accel='15.1', yr='80', origin='Europe', name='triumph tr7 coupe', color='blue', size='17.361111111111114', marker='s'): 1,\n",
       "             Row(mpg='20.2', cyl='6', displ='200.0', hp='88', weight='3060', accel='17.1', yr='81', origin='US', name='ford granada gl', color='red', size='26.009999999999998', marker='o'): 1,\n",
       "             Row(mpg='13.0', cyl='8', displ='302.0', hp='129', weight='3169', accel='12.0', yr='75', origin='US', name='ford mustang ii', color='green', size='27.896002777777774', marker='o'): 1,\n",
       "             Row(mpg='31.0', cyl='4', displ='112.0', hp='85', weight='2575', accel='16.2', yr='82', origin='US', name='pontiac j2000 se hatchback', color='blue', size='18.41840277777778', marker='o'): 1,\n",
       "             Row(mpg='22.0', cyl='4', displ='122.0', hp='86', weight='2395', accel='16.0', yr='72', origin='US', name='ford pinto (sw)', color='blue', size='15.933402777777777', marker='o'): 1,\n",
       "             Row(mpg='11.0', cyl='8', displ='400.0', hp='150', weight='4997', accel='14.0', yr='73', origin='US', name='chevrolet impala', color='green', size='69.36113611111111', marker='o'): 1,\n",
       "             Row(mpg='33.5', cyl='4', displ='85.0', hp='70', weight='1945', accel='16.8', yr='77', origin='Asia', name='datsun f-10 hatchback', color='blue', size='10.508402777777778', marker='x'): 1,\n",
       "             Row(mpg='43.1', cyl='4', displ='90.0', hp='48', weight='1985', accel='21.5', yr='78', origin='Europe', name='volkswagen rabbit custom diesel', color='blue', size='10.945069444444442', marker='s'): 1,\n",
       "             Row(mpg='25.4', cyl='5', displ='183.0', hp='77', weight='3530', accel='20.1', yr='79', origin='Europe', name='mercedes benz 300d', color='purple', size='34.61361111111112', marker='s'): 1,\n",
       "             Row(mpg='40.8', cyl='4', displ='85.0', hp='65', weight='2110', accel='19.2', yr='80', origin='Asia', name='datsun 210', color='blue', size='12.366944444444444', marker='x'): 1,\n",
       "             Row(mpg='14.0', cyl='8', displ='400.0', hp='175', weight='4385', accel='12.0', yr='72', origin='US', name='pontiac catalina', color='green', size='53.41173611111112', marker='o'): 1,\n",
       "             Row(mpg='29.8', cyl='4', displ='134.0', hp='90', weight='2711', accel='15.5', yr='80', origin='Asia', name='toyota corona liftback', color='blue', size='20.415336111111113', marker='x'): 1,\n",
       "             Row(mpg='16.0', cyl='8', displ='318.0', hp='150', weight='4190', accel='13.0', yr='76', origin='US', name='dodge coronet brougham', color='green', size='48.76694444444445', marker='o'): 1,\n",
       "             Row(mpg='20.6', cyl='6', displ='225.0', hp='110', weight='3360', accel='16.6', yr='79', origin='US', name='dodge aspen 6', color='red', size='31.359999999999996', marker='o'): 1,\n",
       "             Row(mpg='18.0', cyl='8', displ='307.0', hp='130', weight='3504', accel='12.0', yr='70', origin='US', name='chevrolet chevelle malibu', color='green', size='34.105599999999995', marker='o'): 1,\n",
       "             Row(mpg='33.0', cyl='4', displ='91.0', hp='53', weight='1795', accel='17.4', yr='76', origin='Asia', name='honda civic', color='blue', size='8.950069444444445', marker='x'): 1,\n",
       "             Row(mpg='31.8', cyl='4', displ='85.0', hp='65', weight='2020', accel='19.2', yr='79', origin='Asia', name='datsun 210', color='blue', size='11.334444444444445', marker='x'): 1,\n",
       "             Row(mpg='13.0', cyl='8', displ='351.0', hp='158', weight='4363', accel='13.0', yr='73', origin='US', name='ford ltd', color='green', size='52.877136111111106', marker='o'): 1,\n",
       "             Row(mpg='20.0', cyl='6', displ='198.0', hp='95', weight='3102', accel='16.5', yr='74', origin='US', name='plymouth duster', color='red', size='26.7289', marker='o'): 1,\n",
       "             Row(mpg='32.0', cyl='4', displ='83.0', hp='61', weight='2003', accel='19.0', yr='74', origin='Asia', name='datsun 710', color='blue', size='11.144469444444445', marker='x'): 1,\n",
       "             Row(mpg='13.0', cyl='8', displ='440.0', hp='215', weight='4735', accel='11.0', yr='73', origin='US', name='chrysler new yorker brougham', color='green', size='62.27840277777778', marker='o'): 1,\n",
       "             Row(mpg='23.7', cyl='3', displ='70.0', hp='100', weight='2420', accel='12.5', yr='80', origin='Asia', name='mazda rx-7 gs', color='black', size='16.267777777777777', marker='x'): 1,\n",
       "             Row(mpg='19.2', cyl='8', displ='305.0', hp='145', weight='3425', accel='13.2', yr='78', origin='US', name='chevrolet monte carlo landau', color='green', size='32.58506944444444', marker='o'): 1,\n",
       "             Row(mpg='37.0', cyl='4', displ='91.0', hp='68', weight='2025', accel='18.2', yr='82', origin='Asia', name='mazda glc custom l', color='blue', size='11.390625', marker='x'): 1,\n",
       "             Row(mpg='18.0', cyl='8', displ='318.0', hp='150', weight='3436', accel='11.0', yr='70', origin='US', name='plymouth satellite', color='green', size='32.79471111111111', marker='o'): 1,\n",
       "             Row(mpg='19.0', cyl='4', displ='120.0', hp='88', weight='3270', accel='21.9', yr='76', origin='Europe', name='peugeot 504', color='blue', size='29.7025', marker='s'): 1,\n",
       "             Row(mpg='32.3', cyl='4', displ='97.0', hp='67', weight='2065', accel='17.8', yr='81', origin='Asia', name='subaru', color='blue', size='11.845069444444446', marker='x'): 1,\n",
       "             Row(mpg='18.0', cyl='6', displ='225.0', hp='105', weight='3121', accel='16.5', yr='73', origin='US', name='plymouth valiant', color='red', size='27.057336111111116', marker='o'): 1,\n",
       "             Row(mpg='13.0', cyl='8', displ='360.0', hp='175', weight='3821', accel='11.0', yr='73', origin='US', name='amc ambassador brougham', color='green', size='40.55566944444444', marker='o'): 1,\n",
       "             Row(mpg='12.0', cyl='8', displ='350.0', hp='160', weight='4456', accel='13.5', yr='72', origin='US', name='oldsmobile delta 88 royale', color='green', size='55.15537777777778', marker='o'): 1,\n",
       "             Row(mpg='36.0', cyl='4', displ='105.0', hp='74', weight='1980', accel='15.3', yr='82', origin='Europe', name='volkswagen rabbit l', color='blue', size='10.889999999999999', marker='s'): 1,\n",
       "             Row(mpg='18.2', cyl='8', displ='318.0', hp='135', weight='3830', accel='15.2', yr='79', origin='US', name='dodge st. regis', color='green', size='40.74694444444445', marker='o'): 1,\n",
       "             Row(mpg='19.0', cyl='6', displ='232.0', hp='100', weight='2634', accel='13.0', yr='71', origin='US', name='amc gremlin', color='red', size='19.2721', marker='o'): 1,\n",
       "             Row(mpg='30.0', cyl='4', displ='146.0', hp='67', weight='3250', accel='21.8', yr='80', origin='Europe', name='mercedes-benz 240d', color='blue', size='29.340277777777782', marker='s'): 1,\n",
       "             Row(mpg='15.0', cyl='8', displ='429.0', hp='198', weight='4341', accel='10.0', yr='70', origin='US', name='ford galaxie 500', color='green', size='52.345225000000006', marker='o'): 1,\n",
       "             Row(mpg='11.0', cyl='8', displ='350.0', hp='180', weight='3664', accel='11.0', yr='73', origin='US', name='oldsmobile omega', color='green', size='37.291377777777775', marker='o'): 1,\n",
       "             Row(mpg='10.0', cyl='8', displ='360.0', hp='215', weight='4615', accel='14.0', yr='70', origin='US', name='ford f250', color='green', size='59.16173611111111', marker='o'): 1,\n",
       "             Row(mpg='16.0', cyl='6', displ='250.0', hp='100', weight='3278', accel='18.0', yr='73', origin='US', name='chevrolet nova custom', color='red', size='29.848011111111106', marker='o'): 1,\n",
       "             Row(mpg='14.0', cyl='8', displ='455.0', hp='225', weight='4425', accel='10.0', yr='70', origin='US', name='pontiac catalina', color='green', size='54.390625', marker='o'): 1,\n",
       "             Row(mpg='16.9', cyl='8', displ='350.0', hp='155', weight='4360', accel='14.9', yr='79', origin='US', name='buick estate wagon (sw)', color='green', size='52.80444444444444', marker='o'): 1,\n",
       "             Row(mpg='13.0', cyl='8', displ='360.0', hp='170', weight='4654', accel='13.0', yr='73', origin='US', name='plymouth custom suburb', color='green', size='60.16587777777778', marker='o'): 1,\n",
       "             Row(mpg='25.0', cyl='4', displ='116.0', hp='81', weight='2220', accel='16.9', yr='76', origin='Europe', name='opel 1900', color='blue', size='13.690000000000001', marker='s'): 1,\n",
       "             Row(mpg='21.0', cyl='6', displ='200.0', hp='85', weight='2587', accel='16.0', yr='70', origin='US', name='ford maverick', color='red', size='18.590469444444444', marker='o'): 1,\n",
       "             Row(mpg='21.1', cyl='4', displ='134.0', hp='95', weight='2515', accel='14.8', yr='78', origin='Asia', name='toyota celica gt liftback', color='blue', size='17.570069444444442', marker='x'): 1,\n",
       "             Row(mpg='26.0', cyl='4', displ='122.0', hp='80', weight='2451', accel='16.5', yr='74', origin='US', name='ford pinto', color='blue', size='16.687224999999998', marker='o'): 1,\n",
       "             Row(mpg='28.0', cyl='4', displ='97.0', hp='92', weight='2288', accel='17.0', yr='72', origin='Asia', name='datsun 510 (sw)', color='blue', size='14.541511111111111', marker='x'): 1,\n",
       "             Row(mpg='29.0', cyl='4', displ='90.0', hp='70', weight='1937', accel='14.0', yr='75', origin='Europe', name='volkswagen rabbit', color='blue', size='10.422136111111111', marker='s'): 1,\n",
       "             Row(mpg='16.0', cyl='8', displ='351.0', hp='149', weight='4335', accel='14.5', yr='77', origin='US', name='ford thunderbird', color='green', size='52.200624999999995', marker='o'): 1,\n",
       "             Row(mpg='26.6', cyl='4', displ='151.0', hp='84', weight='2635', accel='16.4', yr='81', origin='US', name='buick skylark', color='blue', size='19.28673611111111', marker='o'): 1,\n",
       "             Row(mpg='19.0', cyl='3', displ='70.0', hp='97', weight='2330', accel='13.5', yr='72', origin='Asia', name='mazda rx2 coupe', color='black', size='15.080277777777777', marker='x'): 1,\n",
       "             Row(mpg='32.8', cyl='4', displ='78.0', hp='52', weight='1985', accel='19.4', yr='78', origin='Asia', name='mazda glc deluxe', color='blue', size='10.945069444444442', marker='x'): 1,\n",
       "             Row(mpg='22.0', cyl='4', displ='140.0', hp='72', weight='2408', accel='19.0', yr='71', origin='US', name='chevrolet vega (sw)', color='blue', size='16.106844444444448', marker='o'): 1,\n",
       "             Row(mpg='19.0', cyl='4', displ='122.0', hp='85', weight='2310', accel='18.5', yr='73', origin='US', name='ford pinto', color='blue', size='14.822500000000002', marker='o'): 1,\n",
       "             Row(mpg='31.0', cyl='4', displ='76.0', hp='52', weight='1649', accel='16.5', yr='74', origin='Asia', name='toyota corona', color='blue', size='7.553336111111112', marker='x'): 1,\n",
       "             Row(mpg='23.0', cyl='4', displ='115.0', hp='95', weight='2694', accel='15.0', yr='75', origin='Europe', name='audi 100ls', color='blue', size='20.160100000000003', marker='s'): 1,\n",
       "             Row(mpg='29.5', cyl='4', displ='97.0', hp='71', weight='1825', accel='12.2', yr='76', origin='Europe', name='volkswagen rabbit', color='blue', size='9.25173611111111', marker='s'): 1,\n",
       "             Row(mpg='17.5', cyl='8', displ='318.0', hp='140', weight='4080', accel='13.7', yr='78', origin='US', name='dodge magnum xe', color='green', size='46.239999999999995', marker='o'): 1,\n",
       "             Row(mpg='19.0', cyl='6', displ='250.0', hp='100', weight='3282', accel='15.0', yr='71', origin='US', name='pontiac firebird', color='red', size='29.920899999999996', marker='o'): 1,\n",
       "             Row(mpg='24.0', cyl='4', displ='134.0', hp='96', weight='2702', accel='13.5', yr='75', origin='Asia', name='toyota corona', color='blue', size='20.280011111111108', marker='x'): 1,\n",
       "             Row(mpg='14.0', cyl='8', displ='304.0', hp='150', weight='4257', accel='15.5', yr='74', origin='US', name='amc matador (sw)', color='green', size='50.339025', marker='o'): 1,\n",
       "             Row(mpg='28.0', cyl='4', displ='90.0', hp='75', weight='2125', accel='14.5', yr='74', origin='US', name='dodge colt', color='blue', size='12.543402777777777', marker='o'): 1,\n",
       "             Row(mpg='21.0', cyl='6', displ='155.0', hp='107', weight='2472', accel='14.0', yr='73', origin='US', name='mercury capri v6', color='red', size='16.9744', marker='o'): 1,\n",
       "             Row(mpg='22.4', cyl='6', displ='231.0', hp='110', weight='3415', accel='15.8', yr='81', origin='US', name='buick century', color='red', size='32.395069444444445', marker='o'): 1,\n",
       "             Row(mpg='36.0', cyl='4', displ='107.0', hp='75', weight='2205', accel='14.5', yr='82', origin='Asia', name='honda accord', color='blue', size='13.505624999999998', marker='x'): 1,\n",
       "             Row(mpg='18.0', cyl='6', displ='171.0', hp='97', weight='2984', accel='14.5', yr='75', origin='US', name='ford pinto', color='red', size='24.734044444444446', marker='o'): 1,\n",
       "             Row(mpg='16.2', cyl='6', displ='163.0', hp='133', weight='3410', accel='15.8', yr='78', origin='Europe', name='peugeot 604sl', color='red', size='32.30027777777778', marker='s'): 1,\n",
       "             Row(mpg='39.4', cyl='4', displ='85.0', hp='70', weight='2070', accel='18.6', yr='78', origin='Asia', name='datsun b210 gx', color='blue', size='11.902500000000002', marker='x'): 1,\n",
       "             Row(mpg='30.0', cyl='4', displ='97.0', hp='67', weight='1985', accel='16.4', yr='77', origin='Asia', name='subaru dl', color='blue', size='10.945069444444442', marker='x'): 1,\n",
       "             Row(mpg='18.0', cyl='4', displ='121.0', hp='112', weight='2933', accel='14.5', yr='72', origin='Europe', name='volvo 145e (sw)', color='blue', size='23.89580277777778', marker='s'): 1,\n",
       "             Row(mpg='17.5', cyl='8', displ='305.0', hp='145', weight='3880', accel='12.5', yr='77', origin='US', name='chevrolet caprice classic', color='green', size='41.81777777777778', marker='o'): 1,\n",
       "             Row(mpg='28.8', cyl='6', displ='173.0', hp='115', weight='2595', accel='11.3', yr='79', origin='US', name='chevrolet citation', color='red', size='18.705625', marker='o'): 1,\n",
       "             Row(mpg='22.0', cyl='4', displ='121.0', hp='98', weight='2945', accel='14.5', yr='75', origin='Europe', name='volvo 244dl', color='blue', size='24.09173611111111', marker='s'): 1,\n",
       "             Row(mpg='34.2', cyl='4', displ='105.0', hp='70', weight='2200', accel='13.2', yr='79', origin='US', name='plymouth horizon', color='blue', size='13.444444444444443', marker='o'): 1,\n",
       "             Row(mpg='30.5', cyl='4', displ='97.0', hp='78', weight='2190', accel='14.1', yr='77', origin='Europe', name='volkswagen dasher', color='blue', size='13.3225', marker='s'): 1,\n",
       "             Row(mpg='16.0', cyl='8', displ='400.0', hp='230', weight='4278', accel='9.5', yr='73', origin='US', name='pontiac grand prix', color='green', size='50.8369', marker='o'): 1,\n",
       "             Row(mpg='38.0', cyl='4', displ='105.0', hp='63', weight='2125', accel='14.7', yr='82', origin='US', name='plymouth horizon miser', color='blue', size='12.543402777777777', marker='o'): 1,\n",
       "             Row(mpg='41.5', cyl='4', displ='98.0', hp='76', weight='2144', accel='14.7', yr='80', origin='Europe', name='vw rabbit', color='blue', size='12.768711111111111', marker='s'): 1,\n",
       "             Row(mpg='27.9', cyl='4', displ='156.0', hp='105', weight='2800', accel='14.4', yr='80', origin='US', name='dodge colt', color='blue', size='21.777777777777782', marker='o'): 1,\n",
       "             Row(mpg='22.0', cyl='6', displ='198.0', hp='95', weight='2833', accel='15.5', yr='70', origin='US', name='plymouth duster', color='red', size='22.29413611111111', marker='o'): 1,\n",
       "             Row(mpg='29.8', cyl='4', displ='89.0', hp='62', weight='1845', accel='15.3', yr='80', origin='Europe', name='vokswagen rabbit', color='blue', size='9.455625000000001', marker='s'): 1,\n",
       "             Row(mpg='17.7', cyl='6', displ='231.0', hp='165', weight='3445', accel='13.4', yr='78', origin='US', name='buick regal sport coupe (turbo)', color='red', size='32.9667361111111', marker='o'): 1,\n",
       "             Row(mpg='15.0', cyl='8', displ='350.0', hp='165', weight='3693', accel='11.5', yr='70', origin='US', name='buick skylark 320', color='green', size='37.884025', marker='o'): 1,\n",
       "             Row(mpg='14.0', cyl='8', displ='340.0', hp='160', weight='3609', accel='8.0', yr='70', origin='US', name=\"plymouth 'cuda 340\", color='green', size='36.18022499999999', marker='o'): 1,\n",
       "             Row(mpg='15.5', cyl='8', displ='400.0', hp='190', weight='4325', accel='12.2', yr='77', origin='US', name='chrysler cordoba', color='green', size='51.96006944444444', marker='o'): 1,\n",
       "             Row(mpg='17.5', cyl='6', displ='258.0', hp='95', weight='3193', accel='17.8', yr='76', origin='US', name='amc pacer d/l', color='red', size='28.320136111111108', marker='o'): 1,\n",
       "             Row(mpg='12.0', cyl='8', displ='350.0', hp='180', weight='4499', accel='12.5', yr='73', origin='US', name='oldsmobile vista cruiser', color='green', size='56.225002777777775', marker='o'): 1,\n",
       "             Row(mpg='29.0', cyl='4', displ='97.0', hp='78', weight='1940', accel='14.5', yr='77', origin='Europe', name='volkswagen rabbit custom', color='blue', size='10.454444444444444', marker='s'): 1,\n",
       "             Row(mpg='15.5', cyl='8', displ='304.0', hp='120', weight='3962', accel='13.9', yr='76', origin='US', name='amc matador', color='green', size='43.60401111111111', marker='o'): 1,\n",
       "             Row(mpg='35.7', cyl='4', displ='98.0', hp='80', weight='1915', accel='14.4', yr='79', origin='US', name='dodge colt hatchback custom', color='blue', size='10.186736111111113', marker='o'): 1,\n",
       "             Row(mpg='26.0', cyl='4', displ='97.0', hp='75', weight='2265', accel='18.2', yr='77', origin='Asia', name='toyota corolla liftback', color='blue', size='14.250625', marker='x'): 1,\n",
       "             Row(mpg='30.0', cyl='4', displ='98.0', hp='68', weight='2155', accel='16.5', yr='78', origin='US', name='chevrolet chevette', color='blue', size='12.900069444444446', marker='o'): 1,\n",
       "             Row(mpg='33.8', cyl='4', displ='97.0', hp='67', weight='2145', accel='18.0', yr='80', origin='Asia', name='subaru dl', color='blue', size='12.780625', marker='x'): 1,\n",
       "             Row(mpg='18.0', cyl='6', displ='225.0', hp='95', weight='3785', accel='19.0', yr='75', origin='US', name='plymouth fury', color='red', size='39.79506944444445', marker='o'): 1,\n",
       "             Row(mpg='13.0', cyl='8', displ='302.0', hp='140', weight='4294', accel='16.0', yr='72', origin='US', name='ford gran torino (sw)', color='green', size='51.21787777777777', marker='o'): 1,\n",
       "             Row(mpg='20.0', cyl='8', displ='262.0', hp='110', weight='3221', accel='13.5', yr='75', origin='US', name='chevrolet monza 2+2', color='green', size='28.819002777777776', marker='o'): 1,\n",
       "             Row(mpg='32.4', cyl='4', displ='107.0', hp='72', weight='2290', accel='17.0', yr='80', origin='Asia', name='honda accord', color='blue', size='14.566944444444445', marker='x'): 1,\n",
       "             Row(mpg='16.0', cyl='8', displ='304.0', hp='150', weight='3433', accel='12.0', yr='70', origin='US', name='amc rebel sst', color='green', size='32.73746944444444', marker='o'): 1,\n",
       "             Row(mpg='27.5', cyl='4', displ='134.0', hp='95', weight='2560', accel='14.2', yr='78', origin='Asia', name='toyota corona', color='blue', size='18.204444444444444', marker='x'): 1,\n",
       "             Row(mpg='23.0', cyl='4', displ='97.0', hp='54', weight='2254', accel='23.5', yr='72', origin='Europe', name='volkswagen type 3', color='blue', size='14.112544444444445', marker='s'): 1,\n",
       "             Row(mpg='14.0', cyl='8', displ='351.0', hp='153', weight='4129', accel='13.0', yr='72', origin='US', name='ford galaxie 500', color='green', size='47.35733611111111', marker='o'): 1,\n",
       "             Row(mpg='17.0', cyl='8', displ='305.0', hp='130', weight='3840', accel='15.4', yr='79', origin='US', name='chevrolet caprice classic', color='green', size='40.96000000000001', marker='o'): 1,\n",
       "             Row(mpg='16.0', cyl='8', displ='400.0', hp='170', weight='4668', accel='11.5', yr='75', origin='US', name='pontiac catalina', color='green', size='60.528400000000005', marker='o'): 1,\n",
       "             Row(mpg='23.0', cyl='4', displ='122.0', hp='86', weight='2220', accel='14.0', yr='71', origin='US', name='mercury capri 2000', color='blue', size='13.690000000000001', marker='o'): 1,\n",
       "             Row(mpg='24.0', cyl='4', displ='119.0', hp='97', weight='2545', accel='17.0', yr='75', origin='Asia', name='datsun 710', color='blue', size='17.99173611111111', marker='x'): 1,\n",
       "             Row(mpg='27.0', cyl='4', displ='151.0', hp='90', weight='2735', accel='18.0', yr='82', origin='US', name='pontiac phoenix', color='blue', size='20.77840277777778', marker='o'): 1,\n",
       "             Row(mpg='15.0', cyl='8', displ='350.0', hp='145', weight='4082', accel='13.0', yr='73', origin='US', name='chevrolet monte carlo s', color='green', size='46.28534444444445', marker='o'): 1,\n",
       "             Row(mpg='27.0', cyl='4', displ='140.0', hp='86', weight='2790', accel='15.6', yr='82', origin='US', name='ford mustang gl', color='blue', size='21.622500000000002', marker='o'): 1,\n",
       "             Row(mpg='28.0', cyl='4', displ='120.0', hp='79', weight='2625', accel='18.6', yr='82', origin='US', name='ford ranger', color='blue', size='19.140625', marker='o'): 1,\n",
       "             Row(mpg='14.0', cyl='8', displ='350.0', hp='165', weight='4209', accel='12.0', yr='71', origin='US', name='chevrolet impala', color='green', size='49.210224999999994', marker='o'): 1,\n",
       "             Row(mpg='33.5', cyl='4', displ='98.0', hp='83', weight='2075', accel='15.9', yr='77', origin='US', name='dodge colt m/m', color='blue', size='11.960069444444445', marker='o'): 1,\n",
       "             Row(mpg='39.0', cyl='4', displ='86.0', hp='64', weight='1875', accel='16.4', yr='81', origin='US', name='plymouth champ', color='blue', size='9.765625', marker='o'): 1,\n",
       "             Row(mpg='24.0', cyl='4', displ='140.0', hp='92', weight='2865', accel='16.4', yr='82', origin='US', name='ford fairmont futura', color='blue', size='22.800625000000004', marker='o'): 1,\n",
       "             Row(mpg='26.5', cyl='4', displ='140.0', hp='72', weight='2565', accel='13.6', yr='76', origin='US', name='ford pinto', color='blue', size='18.275625', marker='o'): 1,\n",
       "             Row(mpg='19.4', cyl='8', displ='318.0', hp='140', weight='3735', accel='13.2', yr='78', origin='US', name='dodge diplomat', color='green', size='38.75062499999999', marker='o'): 1,\n",
       "             Row(mpg='15.0', cyl='8', displ='318.0', hp='150', weight='4135', accel='13.5', yr='72', origin='US', name='plymouth fury iii', color='green', size='47.49506944444445', marker='o'): 1,\n",
       "             Row(mpg='25.5', cyl='4', displ='122.0', hp='96', weight='2300', accel='15.5', yr='77', origin='US', name='plymouth arrow gs', color='blue', size='14.694444444444446', marker='o'): 1,\n",
       "             Row(mpg='14.0', cyl='8', displ='304.0', hp='150', weight='3672', accel='11.5', yr='73', origin='US', name='amc matador', color='green', size='37.4544', marker='o'): 1,\n",
       "             Row(mpg='27.4', cyl='4', displ='121.0', hp='80', weight='2670', accel='15.0', yr='79', origin='US', name='amc spirit dl', color='blue', size='19.802500000000002', marker='o'): 1,\n",
       "             Row(mpg='13.0', cyl='8', displ='302.0', hp='130', weight='3870', accel='15.0', yr='76', origin='US', name='ford f108', color='green', size='41.6025', marker='o'): 1,\n",
       "             Row(mpg='19.0', cyl='6', displ='225.0', hp='100', weight='3630', accel='17.7', yr='77', origin='US', name='plymouth volare custom', color='red', size='36.6025', marker='o'): 1,\n",
       "             Row(mpg='17.0', cyl='6', displ='163.0', hp='125', weight='3140', accel='13.6', yr='78', origin='Europe', name='volvo 264gl', color='red', size='27.387777777777778', marker='s'): 1,\n",
       "             Row(mpg='28.0', cyl='4', displ='116.0', hp='90', weight='2123', accel='14.0', yr='71', origin='Europe', name='opel 1900', color='blue', size='12.519802777777779', marker='s'): 1,\n",
       "             Row(mpg='22.0', cyl='4', displ='108.0', hp='94', weight='2379', accel='16.5', yr='73', origin='Asia', name='datsun 610', color='blue', size='15.721224999999999', marker='x'): 1,\n",
       "             Row(mpg='30.0', cyl='4', displ='88.0', hp='76', weight='2065', accel='14.5', yr='71', origin='Europe', name='fiat 124b', color='blue', size='11.845069444444446', marker='s'): 1,\n",
       "             Row(mpg='18.0', cyl='3', displ='70.0', hp='90', weight='2124', accel='13.5', yr='73', origin='Asia', name='maxda rx3', color='black', size='12.531600000000001', marker='x'): 1,\n",
       "             Row(mpg='14.0', cyl='8', displ='318.0', hp='150', weight='4077', accel='14.0', yr='72', origin='US', name='plymouth satellite custom (sw)', color='green', size='46.172025', marker='o'): 1,\n",
       "             Row(mpg='22.0', cyl='6', displ='146.0', hp='97', weight='2815', accel='14.5', yr='77', origin='Asia', name='datsun 810', color='red', size='22.01173611111111', marker='x'): 1,\n",
       "             Row(mpg='23.8', cyl='4', displ='151.0', hp='85', weight='2855', accel='17.6', yr='78', origin='US', name='oldsmobile starfire sx', color='blue', size='22.641736111111115', marker='o'): 1,\n",
       "             Row(mpg='24.0', cyl='6', displ='200.0', hp='81', weight='3012', accel='17.6', yr='76', origin='US', name='ford maverick', color='red', size='25.200399999999995', marker='o'): 1,\n",
       "             Row(mpg='26.0', cyl='4', displ='97.0', hp='78', weight='2300', accel='14.5', yr='74', origin='Europe', name='opel manta', color='blue', size='14.694444444444446', marker='s'): 1,\n",
       "             Row(mpg='26.0', cyl='4', displ='97.0', hp='46', weight='1950', accel='21.0', yr='73', origin='Europe', name='volkswagen super beetle', color='blue', size='10.5625', marker='s'): 1,\n",
       "             Row(mpg='30.0', cyl='4', displ='135.0', hp='84', weight='2385', accel='12.9', yr='81', origin='US', name='plymouth reliant', color='blue', size='15.800625', marker='o'): 1,\n",
       "             Row(mpg='29.0', cyl='4', displ='90.0', hp='70', weight='1937', accel='14.2', yr='76', origin='Europe', name='vw rabbit', color='blue', size='10.422136111111111', marker='s'): 1,\n",
       "             Row(mpg='14.0', cyl='8', displ='351.0', hp='153', weight='4154', accel='13.5', yr='71', origin='US', name='ford galaxie 500', color='green', size='47.93254444444444', marker='o'): 1,\n",
       "             Row(mpg='25.4', cyl='6', displ='168.0', hp='116', weight='2900', accel='12.6', yr='81', origin='Asia', name='toyota cressida', color='red', size='23.361111111111107', marker='x'): 1,\n",
       "             Row(mpg='19.0', cyl='6', displ='232.0', hp='100', weight='2901', accel='16.0', yr='74', origin='US', name='amc hornet', color='red', size='23.377225', marker='o'): 1,\n",
       "             Row(mpg='12.0', cyl='8', displ='400.0', hp='167', weight='4906', accel='12.5', yr='73', origin='US', name='ford country', color='green', size='66.85787777777776', marker='o'): 1,\n",
       "             Row(mpg='20.0', cyl='4', displ='97.0', hp='88', weight='2279', accel='19.0', yr='73', origin='Asia', name='toyota carina', color='blue', size='14.427336111111112', marker='x'): 1,\n",
       "             Row(mpg='27.0', cyl='4', displ='97.0', hp='88', weight='2130', accel='14.5', yr='71', origin='Asia', name='datsun pl510', color='blue', size='12.6025', marker='x'): 1,\n",
       "             Row(mpg='22.3', cyl='4', displ='140.0', hp='88', weight='2890', accel='17.3', yr='79', origin='US', name='ford fairmont 4', color='blue', size='23.200277777777774', marker='o'): 1,\n",
       "             Row(mpg='10.0', cyl='8', displ='307.0', hp='200', weight='4376', accel='15.0', yr='70', origin='US', name='chevy c20', color='green', size='53.19271111111111', marker='o'): 1,\n",
       "             Row(mpg='19.2', cyl='8', displ='267.0', hp='125', weight='3605', accel='15.0', yr='79', origin='US', name='chevrolet malibu classic (sw)', color='green', size='36.10006944444445', marker='o'): 1,\n",
       "             Row(mpg='26.0', cyl='4', displ='156.0', hp='92', weight='2585', accel='14.5', yr='82', origin='US', name='chrysler lebaron medallion', color='blue', size='18.561736111111113', marker='o'): 1,\n",
       "             Row(mpg='16.0', cyl='6', displ='258.0', hp='110', weight='3632', accel='18.0', yr='74', origin='US', name='amc matador', color='red', size='36.64284444444445', marker='o'): 1,\n",
       "             Row(mpg='37.3', cyl='4', displ='91.0', hp='69', weight='2130', accel='14.7', yr='79', origin='Europe', name='fiat strada custom', color='blue', size='12.6025', marker='s'): 1,\n",
       "             Row(mpg='26.0', cyl='4', displ='79.0', hp='67', weight='1963', accel='15.5', yr='74', origin='Europe', name='volkswagen dasher', color='blue', size='10.703802777777776', marker='s'): 1,\n",
       "             Row(mpg='20.2', cyl='6', displ='232.0', hp='90', weight='3265', accel='18.2', yr='79', origin='US', name='amc concord dl 6', color='red', size='29.61173611111111', marker='o'): 1,\n",
       "             Row(mpg='13.0', cyl='8', displ='318.0', hp='150', weight='3755', accel='14.0', yr='76', origin='US', name='dodge d100', color='green', size='39.16673611111111', marker='o'): 1,\n",
       "             Row(mpg='21.0', cyl='6', displ='199.0', hp='90', weight='2648', accel='15.0', yr='70', origin='US', name='amc gremlin', color='red', size='19.47751111111111', marker='o'): 1,\n",
       "             Row(mpg='25.0', cyl='4', displ='90.0', hp='71', weight='2223', accel='16.5', yr='75', origin='Europe', name='volkswagen dasher', color='blue', size='13.727025000000001', marker='s'): 1,\n",
       "             Row(mpg='20.5', cyl='6', displ='231.0', hp='105', weight='3425', accel='16.9', yr='77', origin='US', name='buick skylark', color='red', size='32.58506944444444', marker='o'): 1,\n",
       "             Row(mpg='37.7', cyl='4', displ='89.0', hp='62', weight='2050', accel='17.3', yr='81', origin='Asia', name='toyota tercel', color='blue', size='11.67361111111111', marker='x'): 1,\n",
       "             Row(mpg='36.0', cyl='4', displ='120.0', hp='88', weight='2160', accel='14.5', yr='82', origin='Asia', name='nissan stanza xe', color='blue', size='12.96', marker='x'): 1,\n",
       "             Row(mpg='20.0', cyl='6', displ='156.0', hp='122', weight='2807', accel='13.5', yr='73', origin='Asia', name='toyota mark ii', color='red', size='21.88680277777778', marker='x'): 1,\n",
       "             Row(mpg='37.0', cyl='4', displ='85.0', hp='65', weight='1975', accel='19.4', yr='81', origin='Asia', name='datsun 210 mpg', color='blue', size='10.835069444444443', marker='x'): 1,\n",
       "             Row(mpg='18.0', cyl='6', displ='250.0', hp='88', weight='3021', accel='16.5', yr='73', origin='US', name='ford maverick', color='red', size='25.351225000000003', marker='o'): 1,\n",
       "             Row(mpg='27.0', cyl='4', displ='151.0', hp='90', weight='2950', accel='17.3', yr='82', origin='US', name='chevrolet camaro', color='blue', size='24.173611111111114', marker='o'): 1,\n",
       "             Row(mpg='29.5', cyl='4', displ='98.0', hp='68', weight='2135', accel='16.6', yr='78', origin='Asia', name='honda accord lx', color='blue', size='12.661736111111109', marker='x'): 1,\n",
       "             Row(mpg='17.5', cyl='6', displ='250.0', hp='110', weight='3520', accel='16.4', yr='77', origin='US', name='chevrolet concours', color='red', size='34.41777777777777', marker='o'): 1,\n",
       "             Row(mpg='25.1', cyl='4', displ='140.0', hp='88', weight='2720', accel='15.4', yr='78', origin='US', name='ford fairmont (man)', color='blue', size='20.55111111111111', marker='o'): 1})"
      ]
     },
     "execution_count": 14,
     "metadata": {},
     "output_type": "execute_result"
    }
   ],
   "source": [
    "auto_rdd.countByValue()"
   ]
  },
  {
   "cell_type": "code",
   "execution_count": 15,
   "metadata": {},
   "outputs": [
    {
     "data": {
      "text/plain": [
       "Row(mpg='9.0', cyl='8', displ='304.0', hp='193', weight='4732', accel='18.5', yr='70', origin='US', name='hi 1200d', color='green', size='62.199511111111114', marker='o')"
      ]
     },
     "execution_count": 15,
     "metadata": {},
     "output_type": "execute_result"
    }
   ],
   "source": [
    "auto_rdd.max()"
   ]
  },
  {
   "cell_type": "code",
   "execution_count": 16,
   "metadata": {},
   "outputs": [
    {
     "data": {
      "text/plain": [
       "Row(mpg='10.0', cyl='8', displ='307.0', hp='200', weight='4376', accel='15.0', yr='70', origin='US', name='chevy c20', color='green', size='53.19271111111111', marker='o')"
      ]
     },
     "execution_count": 16,
     "metadata": {},
     "output_type": "execute_result"
    }
   ],
   "source": [
    "auto_rdd.min()"
   ]
  },
  {
   "cell_type": "code",
   "execution_count": 17,
   "metadata": {},
   "outputs": [
    {
     "name": "stdout",
     "output_type": "stream",
     "text": [
      "Row(mpg='18.0', cyl='6', displ='250.0', hp='88', weight='3139', accel='14.5', yr='71', origin='US', name='ford mustang', color='red', size='27.370336111111108', marker='o')\n",
      "ford mustang\n",
      "\n",
      "Row(mpg='9.0', cyl='8', displ='304.0', hp='193', weight='4732', accel='18.5', yr='70', origin='US', name='hi 1200d', color='green', size='62.199511111111114', marker='o')\n",
      "hi 1200d\n",
      "\n",
      "Row(mpg='36.1', cyl='4', displ='91.0', hp='60', weight='1800', accel='16.4', yr='78', origin='Asia', name='honda civic cvcc', color='blue', size='9.0', marker='x')\n",
      "honda civic cvcc\n",
      "\n",
      "Row(mpg='18.5', cyl='6', displ='250.0', hp='98', weight='3525', accel='19.0', yr='77', origin='US', name='ford granada', color='red', size='34.515625', marker='o')\n",
      "ford granada\n",
      "\n",
      "Row(mpg='34.3', cyl='4', displ='97.0', hp='78', weight='2188', accel='15.8', yr='80', origin='Europe', name='audi 4000', color='blue', size='13.298177777777777', marker='s')\n",
      "audi 4000\n",
      "\n"
     ]
    }
   ],
   "source": [
    "for i in auto_rdd.take(5):\n",
    "    print(i)\n",
    "    print(i['name'])\n",
    "    print()"
   ]
  },
  {
   "cell_type": "code",
   "execution_count": 18,
   "metadata": {},
   "outputs": [
    {
     "data": {
      "text/plain": [
       "['ford mustang', 'hi 1200d', 'honda civic cvcc', 'ford granada', 'audi 4000']"
      ]
     },
     "execution_count": 18,
     "metadata": {},
     "output_type": "execute_result"
    }
   ],
   "source": [
    "auto_rdd.map(lambda x: x['name']).take(5)"
   ]
  },
  {
   "cell_type": "code",
   "execution_count": 19,
   "metadata": {},
   "outputs": [
    {
     "data": {
      "text/plain": [
       "['18.0',\n",
       " '6',\n",
       " '250.0',\n",
       " '88',\n",
       " '3139',\n",
       " '14.5',\n",
       " '71',\n",
       " 'US',\n",
       " 'ford mustang',\n",
       " 'red',\n",
       " '27.370336111111108',\n",
       " 'o',\n",
       " '9.0',\n",
       " '8',\n",
       " '304.0']"
      ]
     },
     "execution_count": 19,
     "metadata": {},
     "output_type": "execute_result"
    }
   ],
   "source": [
    "auto_rdd.flatMap(lambda x: x).take(15)"
   ]
  },
  {
   "cell_type": "markdown",
   "metadata": {},
   "source": [
    "## Dataframe sample will be List"
   ]
  },
  {
   "cell_type": "code",
   "execution_count": 20,
   "metadata": {},
   "outputs": [
    {
     "data": {
      "text/plain": [
       "[Row(mpg='18.0', cyl='6', displ='250.0', hp='88', weight='3139', accel='14.5', yr='71', origin='US', name='ford mustang', color='red', size='27.370336111111108', marker='o')]"
      ]
     },
     "execution_count": 20,
     "metadata": {},
     "output_type": "execute_result"
    }
   ],
   "source": [
    "auto_list = auto.take(1)\n",
    "auto_list"
   ]
  },
  {
   "cell_type": "code",
   "execution_count": 21,
   "metadata": {},
   "outputs": [
    {
     "data": {
      "text/plain": [
       "list"
      ]
     },
     "execution_count": 21,
     "metadata": {},
     "output_type": "execute_result"
    }
   ],
   "source": [
    "type(auto_list)"
   ]
  },
  {
   "cell_type": "markdown",
   "metadata": {},
   "source": [
    "## Convert List to Dataframe"
   ]
  },
  {
   "cell_type": "code",
   "execution_count": 22,
   "metadata": {},
   "outputs": [
    {
     "name": "stdout",
     "output_type": "stream",
     "text": [
      "+----+---+-----+---+------+-----+---+------+------------+-----+------------------+------+\n",
      "| mpg|cyl|displ| hp|weight|accel| yr|origin|        name|color|              size|marker|\n",
      "+----+---+-----+---+------+-----+---+------+------------+-----+------------------+------+\n",
      "|18.0|  6|250.0| 88|  3139| 14.5| 71|    US|ford mustang|  red|27.370336111111108|     o|\n",
      "+----+---+-----+---+------+-----+---+------+------------+-----+------------------+------+\n",
      "\n"
     ]
    }
   ],
   "source": [
    "auto_df = spark.sparkContext.parallelize(auto_list).toDF()\n",
    "auto_df.show()"
   ]
  },
  {
   "cell_type": "code",
   "execution_count": 23,
   "metadata": {},
   "outputs": [
    {
     "data": {
      "text/plain": [
       "pyspark.sql.dataframe.DataFrame"
      ]
     },
     "execution_count": 23,
     "metadata": {},
     "output_type": "execute_result"
    }
   ],
   "source": [
    "type(auto_df)"
   ]
  },
  {
   "cell_type": "markdown",
   "metadata": {},
   "source": [
    "## Convert List to RDD"
   ]
  },
  {
   "cell_type": "code",
   "execution_count": 24,
   "metadata": {},
   "outputs": [
    {
     "data": {
      "text/plain": [
       "ParallelCollectionRDD[44] at parallelize at PythonRDD.scala:195"
      ]
     },
     "execution_count": 24,
     "metadata": {},
     "output_type": "execute_result"
    }
   ],
   "source": [
    "auto_rdd = spark.sparkContext.parallelize(auto_list)\n",
    "auto_rdd"
   ]
  },
  {
   "cell_type": "code",
   "execution_count": 25,
   "metadata": {
    "scrolled": true
   },
   "outputs": [
    {
     "data": {
      "text/plain": [
       "[Row(mpg='18.0', cyl='6', displ='250.0', hp='88', weight='3139', accel='14.5', yr='71', origin='US', name='ford mustang', color='red', size='27.370336111111108', marker='o')]"
      ]
     },
     "execution_count": 25,
     "metadata": {},
     "output_type": "execute_result"
    }
   ],
   "source": [
    "auto_rdd.take(10)"
   ]
  },
  {
   "cell_type": "code",
   "execution_count": 26,
   "metadata": {},
   "outputs": [
    {
     "data": {
      "text/plain": [
       "pyspark.rdd.RDD"
      ]
     },
     "execution_count": 26,
     "metadata": {},
     "output_type": "execute_result"
    }
   ],
   "source": [
    "type(auto_rdd)"
   ]
  },
  {
   "cell_type": "markdown",
   "metadata": {},
   "source": [
    "## Convert RDD to Dataframe"
   ]
  },
  {
   "cell_type": "code",
   "execution_count": 27,
   "metadata": {},
   "outputs": [
    {
     "name": "stdout",
     "output_type": "stream",
     "text": [
      "+----+---+-----+---+------+-----+---+------+------------+-----+------------------+------+\n",
      "| mpg|cyl|displ| hp|weight|accel| yr|origin|        name|color|              size|marker|\n",
      "+----+---+-----+---+------+-----+---+------+------------+-----+------------------+------+\n",
      "|18.0|  6|250.0| 88|  3139| 14.5| 71|    US|ford mustang|  red|27.370336111111108|     o|\n",
      "+----+---+-----+---+------+-----+---+------+------------+-----+------------------+------+\n",
      "\n"
     ]
    }
   ],
   "source": [
    "auto_df = auto_rdd.toDF()\n",
    "auto_df.show()"
   ]
  },
  {
   "cell_type": "code",
   "execution_count": 28,
   "metadata": {},
   "outputs": [
    {
     "data": {
      "text/plain": [
       "pyspark.sql.dataframe.DataFrame"
      ]
     },
     "execution_count": 28,
     "metadata": {},
     "output_type": "execute_result"
    }
   ],
   "source": [
    "type(auto_df)"
   ]
  },
  {
   "cell_type": "markdown",
   "metadata": {},
   "source": [
    "## Column"
   ]
  },
  {
   "cell_type": "code",
   "execution_count": 29,
   "metadata": {},
   "outputs": [
    {
     "data": {
      "text/plain": [
       "Column<b'marker'>"
      ]
     },
     "execution_count": 29,
     "metadata": {},
     "output_type": "execute_result"
    }
   ],
   "source": [
    "auto['marker']"
   ]
  },
  {
   "cell_type": "code",
   "execution_count": 30,
   "metadata": {},
   "outputs": [
    {
     "data": {
      "text/plain": [
       "Column<b'marker[0]'>"
      ]
     },
     "execution_count": 30,
     "metadata": {},
     "output_type": "execute_result"
    }
   ],
   "source": [
    "auto['marker'].getField('0')"
   ]
  },
  {
   "cell_type": "code",
   "execution_count": 31,
   "metadata": {},
   "outputs": [
    {
     "data": {
      "text/plain": [
       "Column<b'marker[0]'>"
      ]
     },
     "execution_count": 31,
     "metadata": {},
     "output_type": "execute_result"
    }
   ],
   "source": [
    "auto['marker'].getItem(0)"
   ]
  }
 ],
 "metadata": {
  "kernelspec": {
   "display_name": "Python 3",
   "language": "python",
   "name": "python3"
  },
  "language_info": {
   "codemirror_mode": {
    "name": "ipython",
    "version": 3
   },
   "file_extension": ".py",
   "mimetype": "text/x-python",
   "name": "python",
   "nbconvert_exporter": "python",
   "pygments_lexer": "ipython3",
   "version": "3.7.4"
  }
 },
 "nbformat": 4,
 "nbformat_minor": 2
}
