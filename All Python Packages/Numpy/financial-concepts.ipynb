{
 "cells": [
  {
   "cell_type": "markdown",
   "metadata": {},
   "source": [
    "# Configuration"
   ]
  },
  {
   "cell_type": "code",
   "execution_count": 1,
   "metadata": {
    "collapsed": true
   },
   "outputs": [],
   "source": [
    "import numpy as np"
   ]
  },
  {
   "cell_type": "markdown",
   "metadata": {},
   "source": [
    "# 1.1) Basic"
   ]
  },
  {
   "cell_type": "markdown",
   "metadata": {},
   "source": [
    "## Rate of return\n",
    "Investment = $10,000 at time = 1\n",
    "\n",
    "Investment = $11,000 at time = 2"
   ]
  },
  {
   "cell_type": "code",
   "execution_count": 2,
   "metadata": {},
   "outputs": [
    {
     "data": {
      "text/plain": [
       "0.1"
      ]
     },
     "execution_count": 2,
     "metadata": {},
     "output_type": "execute_result"
    }
   ],
   "source": [
    "initial_value = 10000\n",
    "final_value = 11000\n",
    "interest = (final_value-initial_value)/initial_value\n",
    "interest"
   ]
  },
  {
   "cell_type": "markdown",
   "metadata": {},
   "source": [
    "## Rate on investment\n",
    "Investment = $10,000 after 1 year with 10% interest rate"
   ]
  },
  {
   "cell_type": "code",
   "execution_count": 3,
   "metadata": {},
   "outputs": [
    {
     "data": {
      "text/plain": [
       "11000.0"
      ]
     },
     "execution_count": 3,
     "metadata": {},
     "output_type": "execute_result"
    }
   ],
   "source": [
    "lifespan = 1\n",
    "final_value = initial_value * (1+interest)**lifespan\n",
    "final_value"
   ]
  },
  {
   "cell_type": "markdown",
   "metadata": {},
   "source": [
    "## Discount Factors\n",
    "$$\n",
    "df = \\frac{1}{(1+r)^t} \\\\\n",
    "v = fv * df\n",
    "$$\n",
    "```python\n",
    "v = initial value of the investment\n",
    "fv = future value of the investment\n",
    "df = discount factor\n",
    "```"
   ]
  },
  {
   "cell_type": "markdown",
   "metadata": {},
   "source": [
    "## Compound interest"
   ]
  },
  {
   "cell_type": "code",
   "execution_count": 4,
   "metadata": {},
   "outputs": [
    {
     "data": {
      "text/plain": [
       "11038.128906249995"
      ]
     },
     "execution_count": 4,
     "metadata": {},
     "output_type": "execute_result"
    }
   ],
   "source": [
    "# If interest compound quarterly\n",
    "lifespan = 1\n",
    "period = 4\n",
    "final_value = initial_value * (1+interest/period)**(lifespan*period)\n",
    "final_value"
   ]
  },
  {
   "cell_type": "code",
   "execution_count": 5,
   "metadata": {},
   "outputs": [
    {
     "data": {
      "text/plain": [
       "11000.0"
      ]
     },
     "execution_count": 5,
     "metadata": {},
     "output_type": "execute_result"
    }
   ],
   "source": [
    "# If interest compound annually\n",
    "lifespan = 1\n",
    "period = 1\n",
    "final_value = initial_value * (1+interest/period)**(lifespan*period)\n",
    "final_value"
   ]
  },
  {
   "cell_type": "markdown",
   "metadata": {},
   "source": [
    "# 1.2) Present and Future Value"
   ]
  },
  {
   "cell_type": "markdown",
   "metadata": {},
   "source": [
    "## Present value\n",
    "Find present value of $10,000 received 3 years from now at a 1% inflation rate"
   ]
  },
  {
   "cell_type": "code",
   "execution_count": 6,
   "metadata": {},
   "outputs": [
    {
     "data": {
      "text/plain": [
       "-9705.9014792764428"
      ]
     },
     "execution_count": 6,
     "metadata": {},
     "output_type": "execute_result"
    }
   ],
   "source": [
    "np.pv(rate=0.01, nper=3, pmt=0, fv=10000)"
   ]
  },
  {
   "cell_type": "markdown",
   "metadata": {},
   "source": [
    "## Future value\n",
    "Find future value of $10000 invested for 3 years at 5% average annual rate of return"
   ]
  },
  {
   "cell_type": "code",
   "execution_count": 7,
   "metadata": {},
   "outputs": [
    {
     "data": {
      "text/plain": [
       "11576.250000000002"
      ]
     },
     "execution_count": 7,
     "metadata": {},
     "output_type": "execute_result"
    }
   ],
   "source": [
    "np.fv(rate=0.05, nper=3, pmt=0, pv=-10000)"
   ]
  },
  {
   "cell_type": "markdown",
   "metadata": {
    "collapsed": true
   },
   "source": [
    "# 1.3) Net Present Value (NPV) and Cash Flows\n",
    "- Cash flows are a series of gains/losses from an investment over time\n",
    "- NPV is the sum of all discounted cash flows\n",
    "- Simple cash flow valuation measure that doesn't allow for the comparisonof different sized projects/lengths\n",
    "\n",
    "$npv = \\sum_{t=1}^T \\frac{C_t}{(1+r)^t} - C_0$"
   ]
  },
  {
   "cell_type": "code",
   "execution_count": 8,
   "metadata": {},
   "outputs": [
    {
     "data": {
      "text/plain": [
       "407.66834957071546"
      ]
     },
     "execution_count": 8,
     "metadata": {},
     "output_type": "execute_result"
    }
   ],
   "source": [
    "# Investment for project 1 at discount rate of 3%\n",
    "cashflow = np.array([-100,100,125,150,175])\n",
    "net_present_value = np.npv(rate=0.03, values=cashflow)\n",
    "net_present_value"
   ]
  },
  {
   "cell_type": "code",
   "execution_count": 9,
   "metadata": {},
   "outputs": [
    {
     "data": {
      "text/plain": [
       "552.40223397273985"
      ]
     },
     "execution_count": 9,
     "metadata": {},
     "output_type": "execute_result"
    }
   ],
   "source": [
    "# Investment for project 2 at discount rate of 3%\n",
    "cashflow = np.array([100,100,-100,200,300])\n",
    "net_present_value = np.npv(rate=0.03, values=cashflow)\n",
    "net_present_value"
   ]
  },
  {
   "cell_type": "markdown",
   "metadata": {},
   "source": [
    "# 2.1) Internal rate of return (IRR)\n",
    "- Used to compare projects pf different sizes and lengths\n",
    "\n",
    "$npv = \\sum_{t=1}^T \\frac{C_t}{(1+IRR)^t} - C_0 = 0$"
   ]
  },
  {
   "cell_type": "code",
   "execution_count": 10,
   "metadata": {},
   "outputs": [
    {
     "data": {
      "text/plain": [
       "1.1130202692195432"
      ]
     },
     "execution_count": 10,
     "metadata": {},
     "output_type": "execute_result"
    }
   ],
   "source": [
    "# IRR for project 1\n",
    "cashflow = np.array([-100,100,125,150,175])\n",
    "np.irr(cashflow)"
   ]
  },
  {
   "cell_type": "markdown",
   "metadata": {
    "collapsed": true
   },
   "source": [
    "# 2.2) Weighted average cost of capital (WACC)\n",
    "$WACC = F_{equity} * C_{equity} + F_{c} * C_{debt} * (1-TR)$\n",
    "\n",
    "- $F_{equity}$ = The proportion (%) of a company's financing via equity\n",
    "- $C_{equity}$ = The cost of a company's equity\n",
    "- $TR$ = The corporate tax rate\n",
    "\n",
    "## Proportion of Financing\n",
    "$$\n",
    "F_{equity} = \\frac{M_{equity}}{M_{total}}\\\\\n",
    "F_{debt} = \\frac{M_{debt}}{M_{total}}\\\\\n",
    "M_{total} = M_{debt} + M_{equity}\\\\\n",
    "$$\n",
    "\n",
    "- $M_{total}$ = Total value of a company's financing\n",
    "- $M_{debt}$ = Market value of a company's debt \n",
    "- $M_{equity}$ = Market value of a company's equity"
   ]
  },
  {
   "cell_type": "markdown",
   "metadata": {},
   "source": [
    "Calculate the WACC of a company with a 12% cost of debt, 14% cost of equity, 20% debt financing and 80% equity financing. Assume a 35% effective corporate tax rate."
   ]
  },
  {
   "cell_type": "code",
   "execution_count": 11,
   "metadata": {},
   "outputs": [
    {
     "data": {
      "text/plain": [
       "0.12760000000000002"
      ]
     },
     "execution_count": 11,
     "metadata": {},
     "output_type": "execute_result"
    }
   ],
   "source": [
    "percent_equity = 0.8\n",
    "percent_debt = 0.2\n",
    "cost_equity = 0.14\n",
    "cost_debt = 0.12\n",
    "tax_rate = 0.35\n",
    "wacc = (percent_equity*cost_equity) + (percent_debt*cost_debt) * (1-tax_rate)\n",
    "wacc"
   ]
  },
  {
   "cell_type": "markdown",
   "metadata": {},
   "source": [
    "Calculate the NPV of a project that produces $100 in cash flow every year for 5 years. Assume a WACC of 13%."
   ]
  },
  {
   "cell_type": "code",
   "execution_count": 12,
   "metadata": {},
   "outputs": [
    {
     "data": {
      "text/plain": [
       "397.44713255432578"
      ]
     },
     "execution_count": 12,
     "metadata": {},
     "output_type": "execute_result"
    }
   ],
   "source": [
    "cashflow = np.repeat(100,5)\n",
    "wacc = 0.13\n",
    "npv = np.npv(wacc, cashflow)\n",
    "npv"
   ]
  },
  {
   "cell_type": "markdown",
   "metadata": {},
   "source": [
    "# 2.3) Equivalent Annual Annuity (EAA)\n",
    "- Used to compare two projects of different lifespans in present value terms"
   ]
  },
  {
   "cell_type": "code",
   "execution_count": 13,
   "metadata": {},
   "outputs": [
    {
     "name": "stdout",
     "output_type": "stream",
     "text": [
      "Project 1 npv: 362.585034014\n",
      "Project 1 irr: 2.0\n"
     ]
    }
   ],
   "source": [
    "# Project 1\n",
    "cashflow1 = np.array([-100,200,300])\n",
    "npv1 = np.npv(0.05, cashflow1)\n",
    "irr1 = np.irr(cashflow1)\n",
    "print('Project 1 npv:',npv1)\n",
    "print('Project 1 irr:',irr1)"
   ]
  },
  {
   "cell_type": "code",
   "execution_count": 14,
   "metadata": {},
   "outputs": [
    {
     "name": "stdout",
     "output_type": "stream",
     "text": [
      "Project 2 npv: 453.63733974\n",
      "Project 2 irr: 0.7862100635772007\n"
     ]
    }
   ],
   "source": [
    "# Project 2\n",
    "cashflow2 = np.append(np.array([-125]), np.repeat(100,7))\n",
    "npv2 = np.npv(0.05, cashflow2)\n",
    "irr2 = np.irr(cashflow2)\n",
    "print('Project 2 npv:',npv2)\n",
    "print('Project 2 irr:',irr2)"
   ]
  },
  {
   "cell_type": "code",
   "execution_count": 15,
   "metadata": {},
   "outputs": [
    {
     "name": "stdout",
     "output_type": "stream",
     "text": [
      "Project 1's EAA: 133.144329897\n",
      "Project 2's EAA: 70.1875919338\n",
      "Project 1 has the highest EAA\n"
     ]
    }
   ],
   "source": [
    "eaa1 = np.pmt(rate=0.05, nper=3, pv=-1*npv1, fv=0)\n",
    "eaa2 = np.pmt(rate=0.05, nper=8, pv=-1*npv2, fv=0)\n",
    "print('Project 1\\'s EAA:', eaa1)\n",
    "print('Project 2\\'s EAA:', eaa2)\n",
    "print('Project 1 has the highest EAA')"
   ]
  },
  {
   "cell_type": "markdown",
   "metadata": {},
   "source": [
    "# 3.1) Annual rate\n",
    "$R_{periodic} = (1+R_{annual})^{\\frac{1}{N}} - 1$\n",
    "- $R$: Interest rate\n",
    "- $N$: Number of payment periods per year"
   ]
  },
  {
   "cell_type": "markdown",
   "metadata": {},
   "source": [
    "Calculate the monthly mortgage payment of a $400,000 30 year loan at 3.8% interest"
   ]
  },
  {
   "cell_type": "code",
   "execution_count": 16,
   "metadata": {},
   "outputs": [
    {
     "name": "stdout",
     "output_type": "stream",
     "text": [
      "Monthly rate: 0.0031128168457330574\n",
      "Monthly mortgage: -1849.14560521\n"
     ]
    }
   ],
   "source": [
    "monthly_rate = (1+0.038)**(1/12) - 1\n",
    "monthly_mortgage = np.pmt(rate=monthly_rate, nper=12*30, pv=400000)\n",
    "print('Monthly rate:',monthly_rate)\n",
    "print('Monthly mortgage:',monthly_mortgage)"
   ]
  },
  {
   "cell_type": "code",
   "execution_count": null,
   "metadata": {
    "collapsed": true
   },
   "outputs": [],
   "source": []
  }
 ],
 "metadata": {
  "kernelspec": {
   "display_name": "Python 3",
   "language": "python",
   "name": "python3"
  },
  "language_info": {
   "codemirror_mode": {
    "name": "ipython",
    "version": 3
   },
   "file_extension": ".py",
   "mimetype": "text/x-python",
   "name": "python",
   "nbconvert_exporter": "python",
   "pygments_lexer": "ipython3",
   "version": "3.6.3"
  }
 },
 "nbformat": 4,
 "nbformat_minor": 2
}
