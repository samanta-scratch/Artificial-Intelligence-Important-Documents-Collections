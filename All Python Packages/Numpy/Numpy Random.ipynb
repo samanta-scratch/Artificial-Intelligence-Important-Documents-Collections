{
 "cells": [
  {
   "cell_type": "markdown",
   "id": "22564e99",
   "metadata": {},
   "source": [
    "## Random Number"
   ]
  },
  {
   "cell_type": "markdown",
   "id": "481f5ead",
   "metadata": {},
   "source": [
    "Numpy provides random module to wrok with random numbers"
   ]
  },
  {
   "cell_type": "code",
   "execution_count": 4,
   "id": "d4a52c8d",
   "metadata": {},
   "outputs": [],
   "source": [
    "import numpy as np\n",
    "from numpy import random"
   ]
  },
  {
   "cell_type": "markdown",
   "id": "760ae90c",
   "metadata": {},
   "source": [
    "* ### randint() method"
   ]
  },
  {
   "cell_type": "markdown",
   "id": "35ceab60",
   "metadata": {},
   "source": [
    "* randint() method return integer random value"
   ]
  },
  {
   "cell_type": "code",
   "execution_count": 7,
   "id": "fcbf7d74",
   "metadata": {},
   "outputs": [
    {
     "data": {
      "text/plain": [
       "95"
      ]
     },
     "execution_count": 7,
     "metadata": {},
     "output_type": "execute_result"
    }
   ],
   "source": [
    "# random value under 100\n",
    "random.randint(100)"
   ]
  },
  {
   "cell_type": "markdown",
   "id": "56659d6d",
   "metadata": {},
   "source": [
    "* randint() method take a size parameter as shape of array"
   ]
  },
  {
   "cell_type": "code",
   "execution_count": 8,
   "id": "b7b9e52d",
   "metadata": {},
   "outputs": [
    {
     "data": {
      "text/plain": [
       "array([95, 44, 48, 33, 78])"
      ]
     },
     "execution_count": 8,
     "metadata": {},
     "output_type": "execute_result"
    }
   ],
   "source": [
    "# 1d array with 5 element\n",
    "random.randint(100, size=5)"
   ]
  },
  {
   "cell_type": "code",
   "execution_count": 10,
   "id": "70dd8f0d",
   "metadata": {},
   "outputs": [
    {
     "data": {
      "text/plain": [
       "array([[92, 96, 82, 45, 29],\n",
       "       [27, 42, 76, 20, 96]])"
      ]
     },
     "execution_count": 10,
     "metadata": {},
     "output_type": "execute_result"
    }
   ],
   "source": [
    "# 2d array with 5 element\n",
    "random.randint(100, size=(2,5))"
   ]
  },
  {
   "cell_type": "markdown",
   "id": "d0ceb82c",
   "metadata": {},
   "source": [
    "* ### rand() method"
   ]
  },
  {
   "cell_type": "markdown",
   "id": "7f29a825",
   "metadata": {},
   "source": [
    "* rand() method return float random value between 0 to 1"
   ]
  },
  {
   "cell_type": "code",
   "execution_count": 12,
   "id": "21eeae27",
   "metadata": {},
   "outputs": [
    {
     "data": {
      "text/plain": [
       "0.3253287653947502"
      ]
     },
     "execution_count": 12,
     "metadata": {},
     "output_type": "execute_result"
    }
   ],
   "source": [
    "random.rand()"
   ]
  },
  {
   "cell_type": "code",
   "execution_count": 13,
   "id": "cd615b2d",
   "metadata": {},
   "outputs": [
    {
     "data": {
      "text/plain": [
       "array([0.85261751, 0.42144015, 0.49604113, 0.23865416, 0.23492317])"
      ]
     },
     "execution_count": 13,
     "metadata": {},
     "output_type": "execute_result"
    }
   ],
   "source": [
    "# 1d array with 5 elements\n",
    "random.rand(5)"
   ]
  },
  {
   "cell_type": "code",
   "execution_count": 14,
   "id": "81d78af1",
   "metadata": {},
   "outputs": [
    {
     "data": {
      "text/plain": [
       "array([[0.32017264, 0.26959633, 0.49578483, 0.69801676, 0.38472602],\n",
       "       [0.48098279, 0.17779158, 0.05597304, 0.17831558, 0.95910167]])"
      ]
     },
     "execution_count": 14,
     "metadata": {},
     "output_type": "execute_result"
    }
   ],
   "source": [
    "# 2d array with 5 elements\n",
    "random.rand(2,5)"
   ]
  },
  {
   "cell_type": "markdown",
   "id": "059c3bb3",
   "metadata": {},
   "source": [
    "* ### choice() method"
   ]
  },
  {
   "cell_type": "markdown",
   "id": "e4450e1b",
   "metadata": {},
   "source": [
    "* choice method generate a random value based on array"
   ]
  },
  {
   "cell_type": "code",
   "execution_count": 16,
   "id": "cbd785c4",
   "metadata": {},
   "outputs": [],
   "source": [
    "arr = np.array([2, 9, 12, 15])"
   ]
  },
  {
   "cell_type": "code",
   "execution_count": 17,
   "id": "d8d5f5f4",
   "metadata": {},
   "outputs": [
    {
     "data": {
      "text/plain": [
       "12"
      ]
     },
     "execution_count": 17,
     "metadata": {},
     "output_type": "execute_result"
    }
   ],
   "source": [
    "random.choice(arr)"
   ]
  },
  {
   "cell_type": "markdown",
   "id": "ede7dbbb",
   "metadata": {},
   "source": [
    "* choice method takes size parameter to define shape of array"
   ]
  },
  {
   "cell_type": "code",
   "execution_count": 18,
   "id": "c3d3c4e8",
   "metadata": {},
   "outputs": [
    {
     "data": {
      "text/plain": [
       "array([[12, 15,  9,  2,  2],\n",
       "       [15,  2,  9,  9,  9],\n",
       "       [12,  2, 15, 15,  9]])"
      ]
     },
     "execution_count": 18,
     "metadata": {},
     "output_type": "execute_result"
    }
   ],
   "source": [
    "random.choice(arr, size = (3,5))"
   ]
  },
  {
   "cell_type": "markdown",
   "id": "2abfe46f",
   "metadata": {},
   "source": [
    "* choice method takes probability(p) parameter of each value of array for data distributions <br>\n",
    "* probability sum should be 1 (means 100%)"
   ]
  },
  {
   "cell_type": "code",
   "execution_count": 29,
   "id": "bcdcca82",
   "metadata": {},
   "outputs": [
    {
     "data": {
      "text/plain": [
       "array([[ 2,  2,  2,  9,  2],\n",
       "       [ 9,  9, 15,  2,  2]])"
      ]
     },
     "execution_count": 29,
     "metadata": {},
     "output_type": "execute_result"
    }
   ],
   "source": [
    "random.choice(arr, p=[0.4, 0.3, 0.2,0.1], size=(2,5))"
   ]
  },
  {
   "cell_type": "markdown",
   "id": "117201bb",
   "metadata": {},
   "source": [
    "* ### permutation() and shuffle() method"
   ]
  },
  {
   "cell_type": "markdown",
   "id": "fbbb0510",
   "metadata": {},
   "source": [
    "* both method refers to an random arrangement of elements of given array"
   ]
  },
  {
   "cell_type": "markdown",
   "id": "18daadec",
   "metadata": {},
   "source": [
    "* <b>permutation()</b> method return re-arranged array but original array unchanged"
   ]
  },
  {
   "cell_type": "code",
   "execution_count": 31,
   "id": "84661a91",
   "metadata": {},
   "outputs": [
    {
     "data": {
      "text/plain": [
       "array([15,  9,  2, 12])"
      ]
     },
     "execution_count": 31,
     "metadata": {},
     "output_type": "execute_result"
    }
   ],
   "source": [
    "random.permutation(arr)"
   ]
  },
  {
   "cell_type": "code",
   "execution_count": 32,
   "id": "1a53ebff",
   "metadata": {},
   "outputs": [
    {
     "data": {
      "text/plain": [
       "array([ 2,  9, 12, 15])"
      ]
     },
     "execution_count": 32,
     "metadata": {},
     "output_type": "execute_result"
    }
   ],
   "source": [
    "# original array\n",
    "arr"
   ]
  },
  {
   "cell_type": "markdown",
   "id": "39f2f4a6",
   "metadata": {},
   "source": [
    "* <b>shuffle</b> method re-arranged original array"
   ]
  },
  {
   "cell_type": "code",
   "execution_count": 35,
   "id": "5a81aa25",
   "metadata": {},
   "outputs": [],
   "source": [
    "arr_ = np.array([4,8,10,5])"
   ]
  },
  {
   "cell_type": "code",
   "execution_count": 39,
   "id": "c5be4ef6",
   "metadata": {},
   "outputs": [],
   "source": [
    "random.shuffle(arr_)"
   ]
  },
  {
   "cell_type": "code",
   "execution_count": 40,
   "id": "b7720d52",
   "metadata": {},
   "outputs": [
    {
     "data": {
      "text/plain": [
       "array([ 5, 10,  4,  8])"
      ]
     },
     "execution_count": 40,
     "metadata": {},
     "output_type": "execute_result"
    }
   ],
   "source": [
    "arr_"
   ]
  },
  {
   "cell_type": "code",
   "execution_count": null,
   "id": "6cacd2af",
   "metadata": {},
   "outputs": [],
   "source": []
  }
 ],
 "metadata": {
  "kernelspec": {
   "display_name": "Python 3 (ipykernel)",
   "language": "python",
   "name": "python3"
  },
  "language_info": {
   "codemirror_mode": {
    "name": "ipython",
    "version": 3
   },
   "file_extension": ".py",
   "mimetype": "text/x-python",
   "name": "python",
   "nbconvert_exporter": "python",
   "pygments_lexer": "ipython3",
   "version": "3.10.4"
  }
 },
 "nbformat": 4,
 "nbformat_minor": 5
}
