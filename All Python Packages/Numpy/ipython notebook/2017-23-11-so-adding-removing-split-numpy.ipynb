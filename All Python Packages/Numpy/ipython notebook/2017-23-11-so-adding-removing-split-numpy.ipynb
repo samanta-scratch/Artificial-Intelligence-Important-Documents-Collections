{
 "cells": [
  {
   "cell_type": "markdown",
   "metadata": {},
   "source": [
    "## Creating, Adding, Split and Removing arrays\n",
    "Numpy, short for Numerical Python, is the fundamental package required for hight performance scientific computing and its best library to learn and apply on data science career.\n",
    "### Here are the main steps we will go through\n",
    "* How to create array in numpy?\n",
    "* How to add two arrays together?\n",
    "* How to delete array in numpy?\n",
    "* Inserts values into arr given index\n",
    "* Split array in given index\n",
    "\n",
    "This is just little illustration.\n",
    "<img src=\"http://community.datacamp.com.s3.amazonaws.com/community/production/ckeditor_assets/pictures/332/content_arrays-axes.png\">"
   ]
  },
  {
   "cell_type": "markdown",
   "metadata": {
    "ExecuteTime": {
     "end_time": "2017-11-23T17:39:21.177354Z",
     "start_time": "2017-11-23T17:39:21.173351Z"
    }
   },
   "source": [
    "#### How to create array in numpy?\n",
    "<b>arange([start,] stop[, step,][, dtype])</b> : \n",
    "\n",
    "arange() will create arrays with regularly incrementing values. Check the docstring for complete information on the various ways it can be used. A few examples will be given here:"
   ]
  },
  {
   "cell_type": "code",
   "execution_count": 1,
   "metadata": {
    "ExecuteTime": {
     "end_time": "2017-11-23T19:42:16.364322Z",
     "start_time": "2017-11-23T19:42:15.329276Z"
    }
   },
   "outputs": [
    {
     "data": {
      "text/plain": [
       "array([0, 1, 2, 3, 4])"
      ]
     },
     "execution_count": 1,
     "metadata": {},
     "output_type": "execute_result"
    }
   ],
   "source": [
    "import numpy as np\n",
    "# we can use the first argument [start]\n",
    "arr = np.arange(5)\n",
    "arr"
   ]
  },
  {
   "cell_type": "code",
   "execution_count": 17,
   "metadata": {
    "ExecuteTime": {
     "end_time": "2017-11-23T17:48:32.582055Z",
     "start_time": "2017-11-23T17:48:32.571061Z"
    }
   },
   "outputs": [
    {
     "name": "stdout",
     "output_type": "stream",
     "text": [
      "array containing [start(1) - end(10)]:  [1 2 3 4 5 6 7 8 9]\n",
      "array containing [start(1) - end(10) - step(2)]:  [1 3 5 7 9]\n"
     ]
    }
   ],
   "source": [
    "# we can pass [start] stop[step]\n",
    "arr2 = np.arange(1, 10)\n",
    "print(\"array containing [start(1) - end(10)]: \",arr2)\n",
    "\n",
    "#apply step\n",
    "arr3 = np.arange(1, 10, 2)\n",
    "print(\"array containing [start(1) - end(10) - step(2)]: \", arr3)"
   ]
  },
  {
   "cell_type": "code",
   "execution_count": 20,
   "metadata": {
    "ExecuteTime": {
     "end_time": "2017-11-23T17:50:31.042640Z",
     "start_time": "2017-11-23T17:50:31.035635Z"
    }
   },
   "outputs": [
    {
     "name": "stdout",
     "output_type": "stream",
     "text": [
      "Shape of array:  (9,)\n",
      "Dtype:  (19,)\n"
     ]
    }
   ],
   "source": [
    "# we can print shape of the array and as well as dtype\n",
    "shp = np.arange(1,10)\n",
    "print(\"Shape of array: \",shp.shape )\n",
    "# dtype\n",
    "dty = np.arange(1,20)\n",
    "print(\"Dtype: \", dty.shape)"
   ]
  },
  {
   "cell_type": "markdown",
   "metadata": {},
   "source": [
    "##### creating 2D array\n",
    "<b>np.array</b>\n",
    "\n",
    "NumPy’s array class is called ndarray. It is also known by the alias array. Note that numpy.array is not the same as the Standard Python Library class array.array, which only handles one-dimensional arrays and offers less functionality. Check the docstring for complete information on the various ways it can be used."
   ]
  },
  {
   "cell_type": "code",
   "execution_count": 43,
   "metadata": {
    "ExecuteTime": {
     "end_time": "2017-11-23T17:57:42.074794Z",
     "start_time": "2017-11-23T17:57:42.063804Z"
    }
   },
   "outputs": [
    {
     "name": "stdout",
     "output_type": "stream",
     "text": [
      "2D shape:  (2, 3)\n",
      "random array:  (3, 3)\n"
     ]
    }
   ],
   "source": [
    "# we can create 2-dimention array\n",
    "d_2 = np.array([[1,2,3],[4,5,6]])\n",
    "d_2\n",
    "print(\"2D shape: \", d_2.shape)\n",
    "# we can use random function\n",
    "rnd = np.random.random(9).reshape(3,3)\n",
    "rnd\n",
    "print(\"random array: \", rnd.shape)"
   ]
  },
  {
   "cell_type": "markdown",
   "metadata": {},
   "source": [
    "#### How to add two arrays together?\n",
    "<b>numpy.concatenate((a1, a2, ...), axis=0)</b>\n",
    "\n",
    "Join a sequence of arrays along an existing axis. Check the docstring for complete information on the various ways it can be used."
   ]
  },
  {
   "cell_type": "code",
   "execution_count": 57,
   "metadata": {
    "ExecuteTime": {
     "end_time": "2017-11-23T18:20:04.893542Z",
     "start_time": "2017-11-23T18:20:04.885536Z"
    }
   },
   "outputs": [
    {
     "data": {
      "text/plain": [
       "array([[1, 2],\n",
       "       [3, 4]])"
      ]
     },
     "execution_count": 57,
     "metadata": {},
     "output_type": "execute_result"
    }
   ],
   "source": [
    "array_1 = np.array([[1, 2], [3, 4]])\n",
    "array_2 = np.array([[5, 6], [7, 8]])\n",
    "array_1"
   ]
  },
  {
   "cell_type": "code",
   "execution_count": 58,
   "metadata": {
    "ExecuteTime": {
     "end_time": "2017-11-23T18:20:22.452839Z",
     "start_time": "2017-11-23T18:20:22.446851Z"
    }
   },
   "outputs": [
    {
     "data": {
      "text/plain": [
       "array([[5, 6],\n",
       "       [7, 8]])"
      ]
     },
     "execution_count": 58,
     "metadata": {},
     "output_type": "execute_result"
    }
   ],
   "source": [
    "array_2 "
   ]
  },
  {
   "cell_type": "code",
   "execution_count": 54,
   "metadata": {
    "ExecuteTime": {
     "end_time": "2017-11-23T18:09:26.867989Z",
     "start_time": "2017-11-23T18:09:26.861984Z"
    }
   },
   "outputs": [
    {
     "data": {
      "text/plain": [
       "array([[1, 2],\n",
       "       [3, 4],\n",
       "       [5, 6],\n",
       "       [7, 8]])"
      ]
     },
     "execution_count": 54,
     "metadata": {},
     "output_type": "execute_result"
    }
   ],
   "source": [
    "# we can add array_2 as rows to the end of array_1\n",
    "# axis 0 = rows\n",
    "np.concatenate((array_1, array_2), axis=0)"
   ]
  },
  {
   "cell_type": "code",
   "execution_count": 55,
   "metadata": {
    "ExecuteTime": {
     "end_time": "2017-11-23T18:09:37.501477Z",
     "start_time": "2017-11-23T18:09:37.495488Z"
    }
   },
   "outputs": [
    {
     "data": {
      "text/plain": [
       "array([[1, 2, 5, 6],\n",
       "       [3, 4, 7, 8]])"
      ]
     },
     "execution_count": 55,
     "metadata": {},
     "output_type": "execute_result"
    }
   ],
   "source": [
    "# we can add array_2 as columns to end of array_1\n",
    "# axis 1 = columns\n",
    "np.concatenate((array_1, array_2), axis=1)"
   ]
  },
  {
   "cell_type": "markdown",
   "metadata": {},
   "source": [
    "#### How to delete array in numpy?\n",
    "<b>numpy.delete(arr, obj, axis=None)</b>\n",
    "\n",
    "Return a new array with sub-arrays along an axis deleted. Check the docstring for complete information on the various ways it can be used."
   ]
  },
  {
   "cell_type": "code",
   "execution_count": 78,
   "metadata": {
    "ExecuteTime": {
     "end_time": "2017-11-23T18:29:34.284861Z",
     "start_time": "2017-11-23T18:29:34.278859Z"
    }
   },
   "outputs": [
    {
     "data": {
      "text/plain": [
       "array([[1, 2, 3],\n",
       "       [4, 5, 6]])"
      ]
     },
     "execution_count": 78,
     "metadata": {},
     "output_type": "execute_result"
    }
   ],
   "source": [
    "del_arry = np.array([[1,2,3],[4,5,6]])\n",
    "del_arry"
   ]
  },
  {
   "cell_type": "code",
   "execution_count": 77,
   "metadata": {
    "ExecuteTime": {
     "end_time": "2017-11-23T18:29:09.155371Z",
     "start_time": "2017-11-23T18:29:09.148383Z"
    }
   },
   "outputs": [
    {
     "data": {
      "text/plain": [
       "array([[1, 2],\n",
       "       [4, 5]])"
      ]
     },
     "execution_count": 77,
     "metadata": {},
     "output_type": "execute_result"
    }
   ],
   "source": [
    "# column 2: [3 and 6]\n",
    "# we can delete columm on index 2 of array\n",
    "del_arry = np.delete(del_arry, 2, axis=1)\n",
    "del_arry"
   ]
  },
  {
   "cell_type": "code",
   "execution_count": 79,
   "metadata": {
    "ExecuteTime": {
     "end_time": "2017-11-23T18:29:47.013079Z",
     "start_time": "2017-11-23T18:29:47.006088Z"
    }
   },
   "outputs": [
    {
     "data": {
      "text/plain": [
       "array([[1, 2, 3]])"
      ]
     },
     "execution_count": 79,
     "metadata": {},
     "output_type": "execute_result"
    }
   ],
   "source": [
    "# row 1: [4, 5, 6]\n",
    "# we can delete row on index 1 of the array\n",
    "del_arry = np.delete(del_arry, 1, axis=0)\n",
    "del_arry"
   ]
  },
  {
   "cell_type": "markdown",
   "metadata": {},
   "source": [
    "#### Inserts values into arr given index?\n",
    "<b>numpy.insert(arr, obj, values, axis=None)</b>\n",
    "\n",
    "Insert values along the given axis before the given indices. Check the docstring for complete information on the various ways it can be used."
   ]
  },
  {
   "cell_type": "code",
   "execution_count": 94,
   "metadata": {
    "ExecuteTime": {
     "end_time": "2017-11-23T18:45:13.168544Z",
     "start_time": "2017-11-23T18:45:13.159538Z"
    }
   },
   "outputs": [
    {
     "data": {
      "text/plain": [
       "array([100,   1,   2,   3,   4,   5,   6,  10])"
      ]
     },
     "execution_count": 94,
     "metadata": {},
     "output_type": "execute_result"
    }
   ],
   "source": [
    "insert_array = np.array([[1,2,3],[4,5,6]])\n",
    "# we can insert values into array index 6 - at the end\n",
    "insert_array = np.insert(insert_array, 6, 10)\n",
    "# we can also insert at the begining \n",
    "insert_array = np.insert(insert_array, 0, 100)\n",
    "insert_array"
   ]
  },
  {
   "cell_type": "code",
   "execution_count": 106,
   "metadata": {
    "ExecuteTime": {
     "end_time": "2017-11-23T18:51:17.172535Z",
     "start_time": "2017-11-23T18:51:17.160541Z"
    }
   },
   "outputs": [
    {
     "name": "stdout",
     "output_type": "stream",
     "text": [
      "original array:\n",
      "[[0 1 2]\n",
      " [3 4 5]\n",
      " [6 7 8]]\n",
      "\n",
      "after inserting 0's on the first column:\n",
      "[[0 0 1 2]\n",
      " [3 0 4 5]\n",
      " [6 0 7 8]]\n"
     ]
    }
   ],
   "source": [
    "# we can fill up the whole column given value\n",
    "insert_2 = np.arange(0,9).reshape(3,3)\n",
    "print(\"original array:\")\n",
    "print(insert_2)\n",
    "\n",
    "# we can insert 0s in second column\n",
    "insert_2 = np.insert(insert_2, 1, 0, axis=1)\n",
    "print(\"\\nafter inserting 0's on the first column:\")\n",
    "print(insert_2)"
   ]
  },
  {
   "cell_type": "code",
   "execution_count": 119,
   "metadata": {
    "ExecuteTime": {
     "end_time": "2017-11-23T18:55:07.100544Z",
     "start_time": "2017-11-23T18:55:07.090537Z"
    }
   },
   "outputs": [
    {
     "data": {
      "text/plain": [
       "array([[ 0, 10,  1,  2],\n",
       "       [10, 10, 10, 10],\n",
       "       [ 3, 10,  4,  5],\n",
       "       [ 6, 10,  7,  8]])"
      ]
     },
     "execution_count": 119,
     "metadata": {},
     "output_type": "execute_result"
    }
   ],
   "source": [
    "# we can also insert list as well\n",
    "list_array = np.arange(0,9).reshape(3,3)\n",
    "list_array = np.insert(list_array, [1], [[10],[10],[10]], axis=1)\n",
    "list_array = np.insert(list_array, [1], 10, axis=0)\n",
    "list_array"
   ]
  },
  {
   "cell_type": "markdown",
   "metadata": {},
   "source": [
    "#### Split array in given index?\n",
    "<b>numpy.split(ary, indices_or_sections, axis=0)</b>\n",
    "\n",
    "Split an array into multiple sub-arrays. Check the docstring for complete information on the various ways it can be used."
   ]
  },
  {
   "cell_type": "code",
   "execution_count": 142,
   "metadata": {
    "ExecuteTime": {
     "end_time": "2017-11-23T19:04:06.421331Z",
     "start_time": "2017-11-23T19:04:06.410324Z"
    }
   },
   "outputs": [
    {
     "name": "stdout",
     "output_type": "stream",
     "text": [
      "Orignal array:\n",
      "  [[1 2 3]\n",
      " [4 5 6]]\n",
      "\n",
      "we have our array splitted into two arrays\n"
     ]
    },
    {
     "data": {
      "text/plain": [
       "[array([[1, 2, 3]]), array([[4, 5, 6]])]"
      ]
     },
     "execution_count": 142,
     "metadata": {},
     "output_type": "execute_result"
    }
   ],
   "source": [
    "or_array = np.array([[1,2,3],[4,5,6]])\n",
    "print(\"Orignal array:\\n \",or_array)\n",
    "#splits arr into 3 sub-arrays \n",
    "split_array = np.split(or_array, 2)\n",
    "print(\"\\nwe have our array splitted into two arrays\")\n",
    "split_array"
   ]
  },
  {
   "cell_type": "code",
   "execution_count": 149,
   "metadata": {
    "ExecuteTime": {
     "end_time": "2017-11-23T19:05:42.918697Z",
     "start_time": "2017-11-23T19:05:42.905687Z"
    }
   },
   "outputs": [
    {
     "name": "stdout",
     "output_type": "stream",
     "text": [
      "copy array:\n",
      " [[  0.   1.   2.   3.]\n",
      " [  4.   5.   6.   7.]\n",
      " [  8.   9.  10.  11.]\n",
      " [ 12.  13.  14.  15.]]\n"
     ]
    },
    {
     "data": {
      "text/plain": [
       "[array([[  0.,   1.],\n",
       "        [  4.,   5.],\n",
       "        [  8.,   9.],\n",
       "        [ 12.,  13.]]), array([[  2.,   3.],\n",
       "        [  6.,   7.],\n",
       "        [ 10.,  11.],\n",
       "        [ 14.,  15.]])]"
      ]
     },
     "execution_count": 149,
     "metadata": {},
     "output_type": "execute_result"
    }
   ],
   "source": [
    "copy_array = np.arange(16.0).reshape(4, 4)\n",
    "#splits arr horizontally on the 5th index\n",
    "print(\"copy array:\\n\",copy_array)\n",
    "\n",
    "# we splits our array into horizontal on the given index\n",
    "h_split = np.hsplit(copy_array, 2)\n",
    "h_split"
   ]
  },
  {
   "cell_type": "code",
   "execution_count": 154,
   "metadata": {
    "ExecuteTime": {
     "end_time": "2017-11-23T19:07:44.861457Z",
     "start_time": "2017-11-23T19:07:44.853451Z"
    }
   },
   "outputs": [
    {
     "data": {
      "text/plain": [
       "[array([[ 0.,  1.,  2.,  3.],\n",
       "        [ 4.,  5.,  6.,  7.]]), array([[  8.,   9.,  10.,  11.],\n",
       "        [ 12.,  13.,  14.,  15.]])]"
      ]
     },
     "execution_count": 154,
     "metadata": {},
     "output_type": "execute_result"
    }
   ],
   "source": [
    "# we can also split array into vertical on the given index\n",
    "h_split = np.vsplit(copy_array, 2)\n",
    "h_split"
   ]
  },
  {
   "cell_type": "code",
   "execution_count": null,
   "metadata": {
    "collapsed": true
   },
   "outputs": [],
   "source": []
  },
  {
   "cell_type": "code",
   "execution_count": null,
   "metadata": {
    "collapsed": true
   },
   "outputs": [],
   "source": []
  },
  {
   "cell_type": "code",
   "execution_count": null,
   "metadata": {
    "collapsed": true
   },
   "outputs": [],
   "source": []
  }
 ],
 "metadata": {
  "kernelspec": {
   "display_name": "Python 3",
   "language": "python",
   "name": "python3"
  },
  "language_info": {
   "codemirror_mode": {
    "name": "ipython",
    "version": 3
   },
   "file_extension": ".py",
   "mimetype": "text/x-python",
   "name": "python",
   "nbconvert_exporter": "python",
   "pygments_lexer": "ipython3",
   "version": "3.6.3"
  },
  "toc": {
   "nav_menu": {},
   "number_sections": true,
   "sideBar": true,
   "skip_h1_title": false,
   "toc_cell": false,
   "toc_position": {},
   "toc_section_display": "block",
   "toc_window_display": false
  }
 },
 "nbformat": 4,
 "nbformat_minor": 2
}
