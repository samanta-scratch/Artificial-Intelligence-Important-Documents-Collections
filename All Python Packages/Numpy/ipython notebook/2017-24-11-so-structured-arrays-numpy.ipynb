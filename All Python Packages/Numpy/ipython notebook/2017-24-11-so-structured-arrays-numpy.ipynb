{
 "cells": [
  {
   "cell_type": "markdown",
   "metadata": {},
   "source": [
    "## Structured Arrays in Numpy\n",
    "Numpy, short for Numerical Python, is the fundamental package required for hight performance scientific computing and its best library to learn and apply on data science career.\n",
    "\n",
    "This is just little illustration.\n",
    "\n",
    "<img style=\"float: left;\" src=\"http://slideplayer.com/6419067/22/images/5/NumPy+Array.jpg\" width=600 height=400>"
   ]
  },
  {
   "cell_type": "code",
   "execution_count": 1,
   "metadata": {
    "ExecuteTime": {
     "end_time": "2017-11-24T23:25:48.047358Z",
     "start_time": "2017-11-24T23:25:46.986167Z"
    },
    "collapsed": true
   },
   "outputs": [],
   "source": [
    "import numpy as np"
   ]
  },
  {
   "cell_type": "code",
   "execution_count": 3,
   "metadata": {
    "ExecuteTime": {
     "end_time": "2017-11-24T23:25:50.741129Z",
     "start_time": "2017-11-24T23:25:50.737126Z"
    },
    "collapsed": true
   },
   "outputs": [],
   "source": [
    "a = np.array([1.0,2.0,3.0,4.0], np.float32)"
   ]
  },
  {
   "cell_type": "code",
   "execution_count": 22,
   "metadata": {
    "ExecuteTime": {
     "end_time": "2017-11-24T23:33:15.053461Z",
     "start_time": "2017-11-24T23:33:15.048457Z"
    }
   },
   "outputs": [
    {
     "data": {
      "text/plain": [
       "array([ 1.+2.j,  3.+4.j], dtype=complex64)"
      ]
     },
     "execution_count": 22,
     "metadata": {},
     "output_type": "execute_result"
    }
   ],
   "source": [
    "# called the function view on our data\n",
    "a.view(np.complex64)"
   ]
  },
  {
   "cell_type": "code",
   "execution_count": 21,
   "metadata": {
    "ExecuteTime": {
     "end_time": "2017-11-24T23:32:48.405790Z",
     "start_time": "2017-11-24T23:32:48.402787Z"
    },
    "collapsed": true
   },
   "outputs": [],
   "source": [
    "# assign our to data to dtype\n",
    "my_dtype = np.dtype([('mass', 'float32'), ('vol', 'float32')])"
   ]
  },
  {
   "cell_type": "code",
   "execution_count": 8,
   "metadata": {
    "ExecuteTime": {
     "end_time": "2017-11-24T23:26:26.444872Z",
     "start_time": "2017-11-24T23:26:26.439869Z"
    }
   },
   "outputs": [
    {
     "data": {
      "text/plain": [
       "array([( 1.,  2.), ( 3.,  4.)],\n",
       "      dtype=[('mass', '<f4'), ('vol', '<f4')])"
      ]
     },
     "execution_count": 8,
     "metadata": {},
     "output_type": "execute_result"
    }
   ],
   "source": [
    "a.view(my_dtype)"
   ]
  },
  {
   "cell_type": "code",
   "execution_count": 9,
   "metadata": {
    "ExecuteTime": {
     "end_time": "2017-11-24T23:26:43.979885Z",
     "start_time": "2017-11-24T23:26:43.972868Z"
    }
   },
   "outputs": [
    {
     "name": "stdout",
     "output_type": "stream",
     "text": [
      "[( 1.,  1.) ( 1.,  2.) ( 2.,  1.) ( 1.,  3.)]\n"
     ]
    }
   ],
   "source": [
    "my_data = np.array([(1,1), (1,2), (2,1), (1,3)], my_dtype)\n",
    "print(my_data)"
   ]
  },
  {
   "cell_type": "code",
   "execution_count": 10,
   "metadata": {
    "ExecuteTime": {
     "end_time": "2017-11-24T23:26:53.283781Z",
     "start_time": "2017-11-24T23:26:53.277777Z"
    }
   },
   "outputs": [
    {
     "data": {
      "text/plain": [
       "( 1.,  1.)"
      ]
     },
     "execution_count": 10,
     "metadata": {},
     "output_type": "execute_result"
    }
   ],
   "source": [
    "my_data[0]"
   ]
  },
  {
   "cell_type": "code",
   "execution_count": 11,
   "metadata": {
    "ExecuteTime": {
     "end_time": "2017-11-24T23:27:05.652223Z",
     "start_time": "2017-11-24T23:27:05.646232Z"
    }
   },
   "outputs": [
    {
     "data": {
      "text/plain": [
       "1.0"
      ]
     },
     "execution_count": 11,
     "metadata": {},
     "output_type": "execute_result"
    }
   ],
   "source": [
    "my_data[0]['vol']"
   ]
  },
  {
   "cell_type": "code",
   "execution_count": 12,
   "metadata": {
    "ExecuteTime": {
     "end_time": "2017-11-24T23:27:13.692994Z",
     "start_time": "2017-11-24T23:27:13.687008Z"
    }
   },
   "outputs": [
    {
     "data": {
      "text/plain": [
       "array([ 1.,  1.,  2.,  1.], dtype=float32)"
      ]
     },
     "execution_count": 12,
     "metadata": {},
     "output_type": "execute_result"
    }
   ],
   "source": [
    "my_data['mass']"
   ]
  },
  {
   "cell_type": "code",
   "execution_count": 13,
   "metadata": {
    "ExecuteTime": {
     "end_time": "2017-11-24T23:27:25.102584Z",
     "start_time": "2017-11-24T23:27:25.095580Z"
    }
   },
   "outputs": [
    {
     "name": "stdout",
     "output_type": "stream",
     "text": [
      "[( 1.,  1.) ( 2.,  1.) ( 1.,  2.) ( 1.,  3.)]\n"
     ]
    }
   ],
   "source": [
    "my_data.sort(order=('vol', 'mass'))\n",
    "print(my_data)"
   ]
  },
  {
   "cell_type": "code",
   "execution_count": 14,
   "metadata": {
    "ExecuteTime": {
     "end_time": "2017-11-24T23:27:34.863094Z",
     "start_time": "2017-11-24T23:27:34.859092Z"
    },
    "collapsed": true
   },
   "outputs": [],
   "source": [
    "person_dtype = np.dtype([('name', 'S10'), ('age', 'int'), ('weight', 'float')])"
   ]
  },
  {
   "cell_type": "code",
   "execution_count": 15,
   "metadata": {
    "ExecuteTime": {
     "end_time": "2017-11-24T23:27:42.003736Z",
     "start_time": "2017-11-24T23:27:41.999737Z"
    }
   },
   "outputs": [
    {
     "data": {
      "text/plain": [
       "22"
      ]
     },
     "execution_count": 15,
     "metadata": {},
     "output_type": "execute_result"
    }
   ],
   "source": [
    "person_dtype.itemsize"
   ]
  },
  {
   "cell_type": "code",
   "execution_count": 16,
   "metadata": {
    "ExecuteTime": {
     "end_time": "2017-11-24T23:27:50.862438Z",
     "start_time": "2017-11-24T23:27:50.858446Z"
    },
    "collapsed": true
   },
   "outputs": [],
   "source": [
    "people = np.empty((3,4), person_dtype)"
   ]
  },
  {
   "cell_type": "code",
   "execution_count": 17,
   "metadata": {
    "ExecuteTime": {
     "end_time": "2017-11-24T23:27:58.358076Z",
     "start_time": "2017-11-24T23:27:58.354073Z"
    },
    "collapsed": true
   },
   "outputs": [],
   "source": [
    "people['age'] = [[33, 25, 47, 54],\n",
    "                 [29, 61, 32, 27],\n",
    "                 [19, 33, 18, 54]]"
   ]
  },
  {
   "cell_type": "code",
   "execution_count": 18,
   "metadata": {
    "ExecuteTime": {
     "end_time": "2017-11-24T23:28:13.006699Z",
     "start_time": "2017-11-24T23:28:13.002715Z"
    },
    "collapsed": true
   },
   "outputs": [],
   "source": [
    "people['weight'] = [[135., 105., 255., 140.],\n",
    "                    [154., 202., 137., 187.],\n",
    "                    [188., 135., 88., 145.]]"
   ]
  },
  {
   "cell_type": "code",
   "execution_count": 19,
   "metadata": {
    "ExecuteTime": {
     "end_time": "2017-11-24T23:28:23.479079Z",
     "start_time": "2017-11-24T23:28:23.473074Z"
    }
   },
   "outputs": [
    {
     "name": "stdout",
     "output_type": "stream",
     "text": [
      "[[(b'', 33,  135.) (b'', 25,  105.) (b'', 47,  255.)\n",
      "  (b'\\x0cz.\\x02', 54,  140.)]\n",
      " [(b'\\xf0\\x01\\rz.\\x02\\x00\\x00\\x90\\xfb', 29,  154.) (b'', 61,  202.)\n",
      "  (b'', 32,  137.) (b'\\rz.\\x02', 27,  187.)]\n",
      " [(b'\\x90\\x04\\rz.\\x02\\x00\\x00\\xe0\\xff', 19,  188.) (b'', 33,  135.)\n",
      "  (b'.\\x02', 18,   88.) (b'', 54,  145.)]]\n"
     ]
    }
   ],
   "source": [
    "print(people)"
   ]
  },
  {
   "cell_type": "code",
   "execution_count": 20,
   "metadata": {
    "ExecuteTime": {
     "end_time": "2017-11-24T23:28:32.180518Z",
     "start_time": "2017-11-24T23:28:32.174510Z"
    }
   },
   "outputs": [
    {
     "data": {
      "text/plain": [
       "(b'', 54,  145.)"
      ]
     },
     "execution_count": 20,
     "metadata": {},
     "output_type": "execute_result"
    }
   ],
   "source": [
    "people[-1,-1]"
   ]
  },
  {
   "cell_type": "code",
   "execution_count": null,
   "metadata": {
    "collapsed": true
   },
   "outputs": [],
   "source": []
  }
 ],
 "metadata": {
  "kernelspec": {
   "display_name": "Python 3",
   "language": "python",
   "name": "python3"
  },
  "language_info": {
   "codemirror_mode": {
    "name": "ipython",
    "version": 3
   },
   "file_extension": ".py",
   "mimetype": "text/x-python",
   "name": "python",
   "nbconvert_exporter": "python",
   "pygments_lexer": "ipython3",
   "version": "3.6.3"
  },
  "toc": {
   "nav_menu": {},
   "number_sections": true,
   "sideBar": true,
   "skip_h1_title": false,
   "toc_cell": false,
   "toc_position": {},
   "toc_section_display": "block",
   "toc_window_display": false
  }
 },
 "nbformat": 4,
 "nbformat_minor": 2
}
