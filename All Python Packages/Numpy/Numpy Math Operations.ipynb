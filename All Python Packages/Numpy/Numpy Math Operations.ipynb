{
 "cells": [
  {
   "cell_type": "markdown",
   "id": "81ead952",
   "metadata": {},
   "source": [
    "# MATH OPERATIONS NUMPY ARRAY"
   ]
  },
  {
   "cell_type": "code",
   "execution_count": 1,
   "id": "d8b93ec5",
   "metadata": {},
   "outputs": [],
   "source": [
    "# import numpy\n",
    "import numpy as np"
   ]
  },
  {
   "cell_type": "code",
   "execution_count": 2,
   "id": "e91948a6",
   "metadata": {},
   "outputs": [],
   "source": [
    "# create array\n",
    "arr = np.array((3, 2, 8, 12))\n",
    "arr_ = np.array((4, 7, 9, 6))"
   ]
  },
  {
   "cell_type": "markdown",
   "id": "1d877ee1",
   "metadata": {},
   "source": [
    "## Simple Arithmetic"
   ]
  },
  {
   "cell_type": "markdown",
   "id": "2fe8c058",
   "metadata": {},
   "source": [
    "* ### Sum"
   ]
  },
  {
   "cell_type": "code",
   "execution_count": 3,
   "id": "2d52c600",
   "metadata": {},
   "outputs": [],
   "source": [
    "# sum of two array\n",
    "arr_sum = arr + arr_"
   ]
  },
  {
   "cell_type": "code",
   "execution_count": 4,
   "id": "98401bdd",
   "metadata": {},
   "outputs": [
    {
     "data": {
      "text/plain": [
       "array([ 7,  9, 17, 18])"
      ]
     },
     "execution_count": 4,
     "metadata": {},
     "output_type": "execute_result"
    }
   ],
   "source": [
    "arr_sum"
   ]
  },
  {
   "cell_type": "code",
   "execution_count": 5,
   "id": "f3c9a219",
   "metadata": {},
   "outputs": [],
   "source": [
    "# sum using add fuction\n",
    "arr_add = np.add(arr, arr_)"
   ]
  },
  {
   "cell_type": "code",
   "execution_count": 6,
   "id": "00389abc",
   "metadata": {},
   "outputs": [
    {
     "data": {
      "text/plain": [
       "array([ 7,  9, 17, 18])"
      ]
     },
     "execution_count": 6,
     "metadata": {},
     "output_type": "execute_result"
    }
   ],
   "source": [
    "arr_add"
   ]
  },
  {
   "cell_type": "markdown",
   "id": "2ec1b01a",
   "metadata": {},
   "source": [
    "* ### Subtraction"
   ]
  },
  {
   "cell_type": "code",
   "execution_count": 7,
   "id": "d1602979",
   "metadata": {},
   "outputs": [],
   "source": [
    "# subtraction\n",
    "arr_sub = arr_ - arr"
   ]
  },
  {
   "cell_type": "code",
   "execution_count": 8,
   "id": "54f28ad7",
   "metadata": {},
   "outputs": [
    {
     "data": {
      "text/plain": [
       "array([ 1,  5,  1, -6])"
      ]
     },
     "execution_count": 8,
     "metadata": {},
     "output_type": "execute_result"
    }
   ],
   "source": [
    "arr_sub"
   ]
  },
  {
   "cell_type": "code",
   "execution_count": 9,
   "id": "f15dc2ca",
   "metadata": {},
   "outputs": [],
   "source": [
    "# subtraction using subtract fucntion\n",
    "arr_subt = np.subtract(arr_, arr)"
   ]
  },
  {
   "cell_type": "code",
   "execution_count": 10,
   "id": "429210e8",
   "metadata": {},
   "outputs": [
    {
     "data": {
      "text/plain": [
       "array([ 1,  5,  1, -6])"
      ]
     },
     "execution_count": 10,
     "metadata": {},
     "output_type": "execute_result"
    }
   ],
   "source": [
    "arr_subt"
   ]
  },
  {
   "cell_type": "markdown",
   "id": "5207d979",
   "metadata": {},
   "source": [
    "* ### Multiplication"
   ]
  },
  {
   "cell_type": "code",
   "execution_count": 11,
   "id": "9b4946d4",
   "metadata": {},
   "outputs": [],
   "source": [
    "arr_mul = arr*arr_"
   ]
  },
  {
   "cell_type": "code",
   "execution_count": 12,
   "id": "8be0032f",
   "metadata": {},
   "outputs": [
    {
     "data": {
      "text/plain": [
       "array([12, 14, 72, 72])"
      ]
     },
     "execution_count": 12,
     "metadata": {},
     "output_type": "execute_result"
    }
   ],
   "source": [
    "arr_mul"
   ]
  },
  {
   "cell_type": "code",
   "execution_count": 13,
   "id": "fb44f8f6",
   "metadata": {},
   "outputs": [],
   "source": [
    "# multiplication using mutiply fuction\n",
    "arr_mul_ = np.multiply(arr, arr_)"
   ]
  },
  {
   "cell_type": "code",
   "execution_count": 14,
   "id": "138cbbe0",
   "metadata": {},
   "outputs": [
    {
     "data": {
      "text/plain": [
       "array([12, 14, 72, 72])"
      ]
     },
     "execution_count": 14,
     "metadata": {},
     "output_type": "execute_result"
    }
   ],
   "source": [
    "arr_mul"
   ]
  },
  {
   "cell_type": "markdown",
   "id": "4e1a402f",
   "metadata": {},
   "source": [
    "* ### Division"
   ]
  },
  {
   "cell_type": "code",
   "execution_count": 15,
   "id": "4aefea99",
   "metadata": {},
   "outputs": [],
   "source": [
    "arr_div = arr / arr_"
   ]
  },
  {
   "cell_type": "code",
   "execution_count": 16,
   "id": "b29728be",
   "metadata": {},
   "outputs": [
    {
     "data": {
      "text/plain": [
       "array([0.75      , 0.28571429, 0.88888889, 2.        ])"
      ]
     },
     "execution_count": 16,
     "metadata": {},
     "output_type": "execute_result"
    }
   ],
   "source": [
    "arr_div"
   ]
  },
  {
   "cell_type": "code",
   "execution_count": 17,
   "id": "9e015df9",
   "metadata": {},
   "outputs": [],
   "source": [
    "#division using divide funtion\n",
    "arr_div_ = np.divide(arr, arr_)"
   ]
  },
  {
   "cell_type": "code",
   "execution_count": 18,
   "id": "e8aa7ab8",
   "metadata": {},
   "outputs": [
    {
     "data": {
      "text/plain": [
       "array([0.75      , 0.28571429, 0.88888889, 2.        ])"
      ]
     },
     "execution_count": 18,
     "metadata": {},
     "output_type": "execute_result"
    }
   ],
   "source": [
    "arr_div"
   ]
  },
  {
   "cell_type": "markdown",
   "id": "c40cf2a4",
   "metadata": {},
   "source": [
    "* ### Power"
   ]
  },
  {
   "cell_type": "code",
   "execution_count": 19,
   "id": "f08c66bf",
   "metadata": {},
   "outputs": [],
   "source": [
    "arr_power = arr**2"
   ]
  },
  {
   "cell_type": "code",
   "execution_count": 20,
   "id": "da441d0c",
   "metadata": {},
   "outputs": [
    {
     "data": {
      "text/plain": [
       "array([  9,   4,  64, 144])"
      ]
     },
     "execution_count": 20,
     "metadata": {},
     "output_type": "execute_result"
    }
   ],
   "source": [
    "arr_power"
   ]
  },
  {
   "cell_type": "code",
   "execution_count": 21,
   "id": "825c0643",
   "metadata": {},
   "outputs": [],
   "source": [
    "# using power function\n",
    "arr_pow = np.power(arr, 2)"
   ]
  },
  {
   "cell_type": "code",
   "execution_count": 22,
   "id": "c896cdb9",
   "metadata": {},
   "outputs": [
    {
     "data": {
      "text/plain": [
       "array([  9,   4,  64, 144], dtype=int32)"
      ]
     },
     "execution_count": 22,
     "metadata": {},
     "output_type": "execute_result"
    }
   ],
   "source": [
    "arr_pow"
   ]
  },
  {
   "cell_type": "code",
   "execution_count": 23,
   "id": "497ae98b",
   "metadata": {},
   "outputs": [],
   "source": [
    "# we can also uses arr instead power's value\n",
    "arr_pow_ = np.power(arr, arr_)"
   ]
  },
  {
   "cell_type": "code",
   "execution_count": 24,
   "id": "5ff425eb",
   "metadata": {},
   "outputs": [
    {
     "data": {
      "text/plain": [
       "array([       81,       128, 134217728,   2985984])"
      ]
     },
     "execution_count": 24,
     "metadata": {},
     "output_type": "execute_result"
    }
   ],
   "source": [
    "arr_pow_"
   ]
  },
  {
   "cell_type": "markdown",
   "id": "8a00f39a",
   "metadata": {},
   "source": [
    "* ### Mod"
   ]
  },
  {
   "cell_type": "code",
   "execution_count": 25,
   "id": "cfef996b",
   "metadata": {},
   "outputs": [],
   "source": [
    "arr_mod = arr%2"
   ]
  },
  {
   "cell_type": "code",
   "execution_count": 26,
   "id": "d624315e",
   "metadata": {},
   "outputs": [
    {
     "data": {
      "text/plain": [
       "array([1, 0, 0, 0], dtype=int32)"
      ]
     },
     "execution_count": 26,
     "metadata": {},
     "output_type": "execute_result"
    }
   ],
   "source": [
    "arr_mod"
   ]
  },
  {
   "cell_type": "code",
   "execution_count": 27,
   "id": "5a65ee04",
   "metadata": {},
   "outputs": [],
   "source": [
    "# using mod and remainder functions - both are same\n",
    "# we can also use arr instead of value\n",
    "ar_mod = np.mod(arr,2)\n",
    "ar_remain = np.remainder(arr,2)"
   ]
  },
  {
   "cell_type": "code",
   "execution_count": 28,
   "id": "84c34790",
   "metadata": {},
   "outputs": [
    {
     "data": {
      "text/plain": [
       "array([1, 0, 0, 0], dtype=int32)"
      ]
     },
     "execution_count": 28,
     "metadata": {},
     "output_type": "execute_result"
    }
   ],
   "source": [
    "ar_mod"
   ]
  },
  {
   "cell_type": "code",
   "execution_count": 29,
   "id": "25ac4ba1",
   "metadata": {},
   "outputs": [
    {
     "data": {
      "text/plain": [
       "array([1, 0, 0, 0], dtype=int32)"
      ]
     },
     "execution_count": 29,
     "metadata": {},
     "output_type": "execute_result"
    }
   ],
   "source": [
    "ar_remain"
   ]
  },
  {
   "cell_type": "markdown",
   "id": "c79932fa",
   "metadata": {},
   "source": [
    "* ### Quotient and mod(divmod) , Absolute value"
   ]
  },
  {
   "cell_type": "code",
   "execution_count": 30,
   "id": "ed0ea578",
   "metadata": {},
   "outputs": [],
   "source": [
    "# divmod function return both the quotient and mod\n",
    "arr_qm = np.divmod(arr,2)"
   ]
  },
  {
   "cell_type": "code",
   "execution_count": 31,
   "id": "10eb6437",
   "metadata": {},
   "outputs": [
    {
     "data": {
      "text/plain": [
       "(array([1, 1, 4, 6], dtype=int32), array([1, 0, 0, 0], dtype=int32))"
      ]
     },
     "execution_count": 31,
     "metadata": {},
     "output_type": "execute_result"
    }
   ],
   "source": [
    "arr_qm"
   ]
  },
  {
   "cell_type": "code",
   "execution_count": 32,
   "id": "b2397cdf",
   "metadata": {},
   "outputs": [],
   "source": [
    "# absolute funtion return positive value like abs funtion of math module\n",
    "abs_ar = [-3, -5, -1, -7, 2]\n",
    "abso = np.absolute(abs_ar)"
   ]
  },
  {
   "cell_type": "code",
   "execution_count": 33,
   "id": "d444505e",
   "metadata": {},
   "outputs": [
    {
     "data": {
      "text/plain": [
       "array([3, 5, 1, 7, 2])"
      ]
     },
     "execution_count": 33,
     "metadata": {},
     "output_type": "execute_result"
    }
   ],
   "source": [
    "abso"
   ]
  },
  {
   "cell_type": "markdown",
   "id": "ccba5aa2",
   "metadata": {},
   "source": [
    "## Rounding Decimals"
   ]
  },
  {
   "cell_type": "markdown",
   "id": "bac0d09f",
   "metadata": {},
   "source": [
    "* ### Fix and Truncation"
   ]
  },
  {
   "cell_type": "code",
   "execution_count": 34,
   "id": "3a303373",
   "metadata": {},
   "outputs": [],
   "source": [
    "# define a floating array\n",
    "dm_arr = np.array((4.1769, 7.029978, -2.5687))"
   ]
  },
  {
   "cell_type": "markdown",
   "id": "279b3a58",
   "metadata": {},
   "source": [
    " fix and trunc both remove the decimal and return float number with 0 decimal"
   ]
  },
  {
   "cell_type": "code",
   "execution_count": 35,
   "id": "b8636825",
   "metadata": {},
   "outputs": [],
   "source": [
    "fix = np.fix(dm_arr)"
   ]
  },
  {
   "cell_type": "code",
   "execution_count": 36,
   "id": "9c9efbae",
   "metadata": {},
   "outputs": [
    {
     "data": {
      "text/plain": [
       "array([ 4.,  7., -2.])"
      ]
     },
     "execution_count": 36,
     "metadata": {},
     "output_type": "execute_result"
    }
   ],
   "source": [
    "fix"
   ]
  },
  {
   "cell_type": "code",
   "execution_count": 37,
   "id": "86c108bc",
   "metadata": {},
   "outputs": [],
   "source": [
    "trunc = np.trunc(dm_arr)"
   ]
  },
  {
   "cell_type": "code",
   "execution_count": 38,
   "id": "6a1cc186",
   "metadata": {},
   "outputs": [
    {
     "data": {
      "text/plain": [
       "array([ 4.,  7., -2.])"
      ]
     },
     "execution_count": 38,
     "metadata": {},
     "output_type": "execute_result"
    }
   ],
   "source": [
    "trunc"
   ]
  },
  {
   "cell_type": "markdown",
   "id": "1b8cf58b",
   "metadata": {},
   "source": [
    "* ### Around funtion"
   ]
  },
  {
   "cell_type": "markdown",
   "id": "ec12d2b9",
   "metadata": {},
   "source": [
    "around funtion increments preceding digit by 1 if element's decimal => 5"
   ]
  },
  {
   "cell_type": "code",
   "execution_count": 39,
   "id": "4395a547",
   "metadata": {},
   "outputs": [
    {
     "data": {
      "text/plain": [
       "array([ 4.,  7., -3.])"
      ]
     },
     "execution_count": 39,
     "metadata": {},
     "output_type": "execute_result"
    }
   ],
   "source": [
    "np.around(dm_arr)"
   ]
  },
  {
   "cell_type": "markdown",
   "id": "aa5fec9b",
   "metadata": {},
   "source": [
    "* ### Floor and Ceil"
   ]
  },
  {
   "cell_type": "markdown",
   "id": "064b030c",
   "metadata": {},
   "source": [
    "foor function return nearest lower integer,\n",
    "ceil function return nerest upper integer"
   ]
  },
  {
   "cell_type": "code",
   "execution_count": 40,
   "id": "9a42b534",
   "metadata": {},
   "outputs": [
    {
     "data": {
      "text/plain": [
       "array([ 4.,  7., -3.])"
      ]
     },
     "execution_count": 40,
     "metadata": {},
     "output_type": "execute_result"
    }
   ],
   "source": [
    "np.floor(dm_arr)"
   ]
  },
  {
   "cell_type": "code",
   "execution_count": 41,
   "id": "69921023",
   "metadata": {},
   "outputs": [
    {
     "data": {
      "text/plain": [
       "array([ 5.,  8., -2.])"
      ]
     },
     "execution_count": 41,
     "metadata": {},
     "output_type": "execute_result"
    }
   ],
   "source": [
    "np.ceil(dm_arr)"
   ]
  },
  {
   "cell_type": "markdown",
   "id": "47932964",
   "metadata": {},
   "source": [
    "## Summations, Products, Differences"
   ]
  },
  {
   "cell_type": "markdown",
   "id": "fe6649a1",
   "metadata": {},
   "source": [
    "sum the values of array or multiple array"
   ]
  },
  {
   "cell_type": "code",
   "execution_count": 42,
   "id": "14b854c0",
   "metadata": {},
   "outputs": [
    {
     "data": {
      "text/plain": [
       "51"
      ]
     },
     "execution_count": 42,
     "metadata": {},
     "output_type": "execute_result"
    }
   ],
   "source": [
    "# sum the values of both array\n",
    "np.sum([arr,arr_])"
   ]
  },
  {
   "cell_type": "code",
   "execution_count": 43,
   "id": "066f1da2",
   "metadata": {},
   "outputs": [
    {
     "data": {
      "text/plain": [
       "array([25, 26])"
      ]
     },
     "execution_count": 43,
     "metadata": {},
     "output_type": "execute_result"
    }
   ],
   "source": [
    "# sum the values of each array. its returns anothr array with sum values\n",
    "np.sum([arr, arr_], axis=1)"
   ]
  },
  {
   "cell_type": "markdown",
   "id": "f289bcc1",
   "metadata": {},
   "source": [
    "* ### Cummulative Sum"
   ]
  },
  {
   "cell_type": "markdown",
   "id": "9482cc5a",
   "metadata": {},
   "source": [
    "Partially adding elements in array "
   ]
  },
  {
   "cell_type": "code",
   "execution_count": 44,
   "id": "a8127332",
   "metadata": {},
   "outputs": [
    {
     "data": {
      "text/plain": [
       "array([ 3,  5, 13, 25])"
      ]
     },
     "execution_count": 44,
     "metadata": {},
     "output_type": "execute_result"
    }
   ],
   "source": [
    "np.cumsum(arr)"
   ]
  },
  {
   "cell_type": "markdown",
   "id": "221ea2ad",
   "metadata": {},
   "source": [
    "* ### Product"
   ]
  },
  {
   "cell_type": "markdown",
   "id": "ef654603",
   "metadata": {},
   "source": [
    "Product of elemensts of array or multiple array"
   ]
  },
  {
   "cell_type": "code",
   "execution_count": 45,
   "id": "6319b40b",
   "metadata": {},
   "outputs": [
    {
     "data": {
      "text/plain": [
       "576"
      ]
     },
     "execution_count": 45,
     "metadata": {},
     "output_type": "execute_result"
    }
   ],
   "source": [
    "np.prod(arr)"
   ]
  },
  {
   "cell_type": "code",
   "execution_count": 46,
   "id": "009b4012",
   "metadata": {},
   "outputs": [
    {
     "data": {
      "text/plain": [
       "870912"
      ]
     },
     "execution_count": 46,
     "metadata": {},
     "output_type": "execute_result"
    }
   ],
   "source": [
    "#product of the elements of two arrays\n",
    "np.prod([arr, arr_])"
   ]
  },
  {
   "cell_type": "code",
   "execution_count": 47,
   "id": "10725a6b",
   "metadata": {},
   "outputs": [
    {
     "data": {
      "text/plain": [
       "array([ 576, 1512])"
      ]
     },
     "execution_count": 47,
     "metadata": {},
     "output_type": "execute_result"
    }
   ],
   "source": [
    "# product of the elements of each array \n",
    "np.prod([arr, arr_], axis=1)"
   ]
  },
  {
   "cell_type": "markdown",
   "id": "13b1ebbe",
   "metadata": {},
   "source": [
    "* ### Cummulative Product"
   ]
  },
  {
   "cell_type": "markdown",
   "id": "05ab1d1a",
   "metadata": {},
   "source": [
    "Partially multiply elements in array "
   ]
  },
  {
   "cell_type": "code",
   "execution_count": 48,
   "id": "1e20a37c",
   "metadata": {},
   "outputs": [
    {
     "data": {
      "text/plain": [
       "array([  3,   6,  48, 576])"
      ]
     },
     "execution_count": 48,
     "metadata": {},
     "output_type": "execute_result"
    }
   ],
   "source": [
    "np.cumprod(arr)"
   ]
  },
  {
   "cell_type": "markdown",
   "id": "5f3b3fcc",
   "metadata": {},
   "source": [
    "* ### Difference"
   ]
  },
  {
   "cell_type": "markdown",
   "id": "91c994e5",
   "metadata": {},
   "source": [
    "Subract two successive elements"
   ]
  },
  {
   "cell_type": "code",
   "execution_count": 49,
   "id": "5ff05925",
   "metadata": {},
   "outputs": [
    {
     "data": {
      "text/plain": [
       "array([-1,  6,  4])"
      ]
     },
     "execution_count": 49,
     "metadata": {},
     "output_type": "execute_result"
    }
   ],
   "source": [
    "np.diff(arr)"
   ]
  },
  {
   "cell_type": "code",
   "execution_count": 50,
   "id": "967925fb",
   "metadata": {},
   "outputs": [
    {
     "data": {
      "text/plain": [
       "array([ 7, -2])"
      ]
     },
     "execution_count": 50,
     "metadata": {},
     "output_type": "execute_result"
    }
   ],
   "source": [
    "# n = vlaue, if we want difference multiple time \n",
    "# here second time =  6-(-1), 4-6\n",
    "np.diff(arr, n=2)"
   ]
  },
  {
   "cell_type": "markdown",
   "id": "3c7d1faf",
   "metadata": {},
   "source": [
    "## Logs"
   ]
  },
  {
   "cell_type": "markdown",
   "id": "c2b59e1a",
   "metadata": {},
   "source": [
    "log2 fucntion - perform log at base 2"
   ]
  },
  {
   "cell_type": "code",
   "execution_count": 51,
   "id": "b03fad18",
   "metadata": {},
   "outputs": [
    {
     "data": {
      "text/plain": [
       "array([1.5849625, 1.       , 3.       , 3.5849625])"
      ]
     },
     "execution_count": 51,
     "metadata": {},
     "output_type": "execute_result"
    }
   ],
   "source": [
    "np.log2(arr)"
   ]
  },
  {
   "cell_type": "markdown",
   "id": "d5b1c804",
   "metadata": {},
   "source": [
    "log10 function - perform log at base 10"
   ]
  },
  {
   "cell_type": "code",
   "execution_count": 52,
   "id": "5de2710c",
   "metadata": {},
   "outputs": [
    {
     "data": {
      "text/plain": [
       "array([0.47712125, 0.30103   , 0.90308999, 1.07918125])"
      ]
     },
     "execution_count": 52,
     "metadata": {},
     "output_type": "execute_result"
    }
   ],
   "source": [
    "np.log10(arr)"
   ]
  },
  {
   "cell_type": "markdown",
   "id": "71e7be16",
   "metadata": {},
   "source": [
    "log fuction - perform log at base e"
   ]
  },
  {
   "cell_type": "code",
   "execution_count": 53,
   "id": "73273442",
   "metadata": {},
   "outputs": [
    {
     "data": {
      "text/plain": [
       "array([1.09861229, 0.69314718, 2.07944154, 2.48490665])"
      ]
     },
     "execution_count": 53,
     "metadata": {},
     "output_type": "execute_result"
    }
   ],
   "source": [
    "np.log(arr)"
   ]
  },
  {
   "cell_type": "markdown",
   "id": "ec5a732b",
   "metadata": {},
   "source": [
    "* ### Log at Any Base"
   ]
  },
  {
   "cell_type": "markdown",
   "id": "0916e4d7",
   "metadata": {},
   "source": [
    "Numpy does not have any function to take log at any base <br>\n",
    "We can create own function using <b>frompyfunc</b> inbuilt function with math.log module<br>\n",
    "<b>frompyfunc[function, input, output]<b>\n",
    "    <ol>\n",
    "        <li>function - name of function or mehod, which we use for creating own fucntion</li>\n",
    "        <li>input - number of input arguments</li>\n",
    "        <li>output - number of output</li>\n",
    "    </ol>"
   ]
  },
  {
   "cell_type": "code",
   "execution_count": 54,
   "id": "ed7c42f3",
   "metadata": {},
   "outputs": [],
   "source": [
    "from math import log\n",
    "logN = np.frompyfunc(log,2,1)\n",
    "#here 2 argument- one value or array, one base"
   ]
  },
  {
   "cell_type": "code",
   "execution_count": 55,
   "id": "0abe3305",
   "metadata": {},
   "outputs": [
    {
     "data": {
      "text/plain": [
       "1.4445902826453896"
      ]
     },
     "execution_count": 55,
     "metadata": {},
     "output_type": "execute_result"
    }
   ],
   "source": [
    "logN(50,15)"
   ]
  },
  {
   "cell_type": "code",
   "execution_count": 56,
   "id": "93f98bc4",
   "metadata": {},
   "outputs": [
    {
     "data": {
      "text/plain": [
       "array([0.42831734103139474, 0.27023815442731974, 0.8107144632819592,\n",
       "       0.9687936498860342], dtype=object)"
      ]
     },
     "execution_count": 56,
     "metadata": {},
     "output_type": "execute_result"
    }
   ],
   "source": [
    "logN(arr,13)"
   ]
  },
  {
   "cell_type": "markdown",
   "id": "9184c692",
   "metadata": {},
   "source": [
    "## LCM (Lowest Common Multiple)"
   ]
  },
  {
   "cell_type": "code",
   "execution_count": 57,
   "id": "f0a004d0",
   "metadata": {},
   "outputs": [
    {
     "data": {
      "text/plain": [
       "60"
      ]
     },
     "execution_count": 57,
     "metadata": {},
     "output_type": "execute_result"
    }
   ],
   "source": [
    "np.lcm(12,20)"
   ]
  },
  {
   "cell_type": "code",
   "execution_count": 58,
   "id": "b717b061",
   "metadata": {},
   "outputs": [
    {
     "data": {
      "text/plain": [
       "24"
      ]
     },
     "execution_count": 58,
     "metadata": {},
     "output_type": "execute_result"
    }
   ],
   "source": [
    "# to find lcm of array  \n",
    "np.lcm.reduce(arr)"
   ]
  },
  {
   "cell_type": "markdown",
   "id": "bab26480",
   "metadata": {},
   "source": [
    "## GCD (Greatest Common Denominator)"
   ]
  },
  {
   "cell_type": "code",
   "execution_count": 59,
   "id": "4085ad49",
   "metadata": {},
   "outputs": [
    {
     "data": {
      "text/plain": [
       "4"
      ]
     },
     "execution_count": 59,
     "metadata": {},
     "output_type": "execute_result"
    }
   ],
   "source": [
    "np.gcd(12,20)"
   ]
  },
  {
   "cell_type": "code",
   "execution_count": 60,
   "id": "11f202d4",
   "metadata": {},
   "outputs": [
    {
     "data": {
      "text/plain": [
       "1"
      ]
     },
     "execution_count": 60,
     "metadata": {},
     "output_type": "execute_result"
    }
   ],
   "source": [
    "# to find gcd of array\n",
    "np.gcd.reduce(arr)"
   ]
  },
  {
   "cell_type": "markdown",
   "id": "fd1c7988",
   "metadata": {},
   "source": [
    "## Trigonometric Functions"
   ]
  },
  {
   "cell_type": "markdown",
   "id": "dc6eff54",
   "metadata": {},
   "source": [
    "Numpy provides <b>sin, cos, tan</b> function"
   ]
  },
  {
   "cell_type": "code",
   "execution_count": 61,
   "id": "4ac0472c",
   "metadata": {},
   "outputs": [],
   "source": [
    "# sin, cos, tan vlaue of pi/2\n",
    "sin = np.sin(np.pi/2)\n",
    "cos = np.cos(np.pi/2)\n",
    "tan = np.tan(np.pi/2)"
   ]
  },
  {
   "cell_type": "code",
   "execution_count": 62,
   "id": "d380547b",
   "metadata": {},
   "outputs": [
    {
     "data": {
      "text/plain": [
       "1.0"
      ]
     },
     "execution_count": 62,
     "metadata": {},
     "output_type": "execute_result"
    }
   ],
   "source": [
    "sin"
   ]
  },
  {
   "cell_type": "code",
   "execution_count": 63,
   "id": "5288bb57",
   "metadata": {},
   "outputs": [
    {
     "data": {
      "text/plain": [
       "6.123233995736766e-17"
      ]
     },
     "execution_count": 63,
     "metadata": {},
     "output_type": "execute_result"
    }
   ],
   "source": [
    "cos"
   ]
  },
  {
   "cell_type": "code",
   "execution_count": 64,
   "id": "b022ac72",
   "metadata": {},
   "outputs": [
    {
     "data": {
      "text/plain": [
       "1.633123935319537e+16"
      ]
     },
     "execution_count": 64,
     "metadata": {},
     "output_type": "execute_result"
    }
   ],
   "source": [
    "tan"
   ]
  },
  {
   "cell_type": "code",
   "execution_count": 65,
   "id": "9406274c",
   "metadata": {},
   "outputs": [
    {
     "data": {
      "text/plain": [
       "array([ 0.14112001,  0.90929743,  0.98935825, -0.53657292])"
      ]
     },
     "execution_count": 65,
     "metadata": {},
     "output_type": "execute_result"
    }
   ],
   "source": [
    "# sin values of array\n",
    "np.sin(arr)"
   ]
  },
  {
   "cell_type": "markdown",
   "id": "3c774065",
   "metadata": {},
   "source": [
    "Convert values to degrees"
   ]
  },
  {
   "cell_type": "code",
   "execution_count": 66,
   "id": "0330d7b3",
   "metadata": {},
   "outputs": [
    {
     "data": {
      "text/plain": [
       "array([171.88733854, 114.59155903, 458.3662361 , 687.54935416])"
      ]
     },
     "execution_count": 66,
     "metadata": {},
     "output_type": "execute_result"
    }
   ],
   "source": [
    "np.rad2deg(arr)"
   ]
  },
  {
   "cell_type": "code",
   "execution_count": 67,
   "id": "1f2d96cc",
   "metadata": {},
   "outputs": [],
   "source": [
    "deg = np.array([30, 180, 270, 135])"
   ]
  },
  {
   "cell_type": "markdown",
   "id": "990e74e4",
   "metadata": {},
   "source": [
    "Convert degree arr to radians"
   ]
  },
  {
   "cell_type": "code",
   "execution_count": 68,
   "id": "20b23ff6",
   "metadata": {},
   "outputs": [
    {
     "data": {
      "text/plain": [
       "array([0.52359878, 3.14159265, 4.71238898, 2.35619449])"
      ]
     },
     "execution_count": 68,
     "metadata": {},
     "output_type": "execute_result"
    }
   ],
   "source": [
    "np.deg2rad(deg)"
   ]
  },
  {
   "cell_type": "markdown",
   "id": "0b43d708",
   "metadata": {},
   "source": [
    "* ### Hyperbolic Functions"
   ]
  },
  {
   "cell_type": "markdown",
   "id": "a49fc6b6",
   "metadata": {},
   "source": [
    "Numpy provides sinh, cosh, tanh functions"
   ]
  },
  {
   "cell_type": "code",
   "execution_count": 69,
   "id": "54650ecb",
   "metadata": {},
   "outputs": [
    {
     "data": {
      "text/plain": [
       "2.3012989023072947"
      ]
     },
     "execution_count": 69,
     "metadata": {},
     "output_type": "execute_result"
    }
   ],
   "source": [
    "np.sinh(np.pi/2)"
   ]
  },
  {
   "cell_type": "code",
   "execution_count": 70,
   "id": "7488220d",
   "metadata": {},
   "outputs": [
    {
     "data": {
      "text/plain": [
       "2.5091784786580567"
      ]
     },
     "execution_count": 70,
     "metadata": {},
     "output_type": "execute_result"
    }
   ],
   "source": [
    "np.cosh(np.pi/2)"
   ]
  },
  {
   "cell_type": "code",
   "execution_count": 71,
   "id": "c90ba7ac",
   "metadata": {},
   "outputs": [
    {
     "data": {
      "text/plain": [
       "0.9171523356672744"
      ]
     },
     "execution_count": 71,
     "metadata": {},
     "output_type": "execute_result"
    }
   ],
   "source": [
    "np.tanh(np.pi/2)"
   ]
  },
  {
   "cell_type": "markdown",
   "id": "9b1265b7",
   "metadata": {},
   "source": [
    "* ### Find Angle"
   ]
  },
  {
   "cell_type": "markdown",
   "id": "389bf880",
   "metadata": {},
   "source": [
    "finding angles from values of sine, cos and tan"
   ]
  },
  {
   "cell_type": "code",
   "execution_count": 72,
   "id": "79589361",
   "metadata": {},
   "outputs": [
    {
     "data": {
      "text/plain": [
       "1.5707963267948966"
      ]
     },
     "execution_count": 72,
     "metadata": {},
     "output_type": "execute_result"
    }
   ],
   "source": [
    "np.arcsin(1.0)"
   ]
  },
  {
   "cell_type": "code",
   "execution_count": 73,
   "id": "48da2c2c",
   "metadata": {},
   "outputs": [
    {
     "data": {
      "text/plain": [
       "0.0"
      ]
     },
     "execution_count": 73,
     "metadata": {},
     "output_type": "execute_result"
    }
   ],
   "source": [
    "np.arccos(1.0)"
   ]
  },
  {
   "cell_type": "code",
   "execution_count": 74,
   "id": "38a87334",
   "metadata": {},
   "outputs": [
    {
     "data": {
      "text/plain": [
       "0.7853981633974483"
      ]
     },
     "execution_count": 74,
     "metadata": {},
     "output_type": "execute_result"
    }
   ],
   "source": [
    "np.arctan(1.0)"
   ]
  },
  {
   "cell_type": "markdown",
   "id": "7aaeaa15",
   "metadata": {},
   "source": [
    "finding angles from values of sinh, cosh and tanh"
   ]
  },
  {
   "cell_type": "code",
   "execution_count": 75,
   "id": "ed4e4389",
   "metadata": {},
   "outputs": [
    {
     "data": {
      "text/plain": [
       "1.5702785434849782"
      ]
     },
     "execution_count": 75,
     "metadata": {},
     "output_type": "execute_result"
    }
   ],
   "source": [
    "np.arcsinh(2.3)"
   ]
  },
  {
   "cell_type": "code",
   "execution_count": 76,
   "id": "9ccdbf2f",
   "metadata": {},
   "outputs": [
    {
     "data": {
      "text/plain": [
       "1.6472311463710958"
      ]
     },
     "execution_count": 76,
     "metadata": {},
     "output_type": "execute_result"
    }
   ],
   "source": [
    "np.arcsinh(2.5)"
   ]
  },
  {
   "cell_type": "code",
   "execution_count": 77,
   "id": "a2ef537f",
   "metadata": {},
   "outputs": [
    {
     "data": {
      "text/plain": [
       "0.881373587019543"
      ]
     },
     "execution_count": 77,
     "metadata": {},
     "output_type": "execute_result"
    }
   ],
   "source": [
    "np.arcsinh(1.0)"
   ]
  },
  {
   "cell_type": "markdown",
   "id": "947c9396",
   "metadata": {},
   "source": [
    "* ### Find Hypotenues"
   ]
  },
  {
   "cell_type": "markdown",
   "id": "5c54ed52",
   "metadata": {},
   "source": [
    "finding hypotenues using pythagoras theorem "
   ]
  },
  {
   "cell_type": "code",
   "execution_count": 78,
   "id": "f686aa72",
   "metadata": {},
   "outputs": [
    {
     "data": {
      "text/plain": [
       "5.0"
      ]
     },
     "execution_count": 78,
     "metadata": {},
     "output_type": "execute_result"
    }
   ],
   "source": [
    "# hypot function take two value base and perpendicular\n",
    "np.hypot(4,3)"
   ]
  },
  {
   "cell_type": "markdown",
   "id": "c5c90722",
   "metadata": {},
   "source": [
    "## Set Operations"
   ]
  },
  {
   "cell_type": "markdown",
   "id": "2f72b00e",
   "metadata": {},
   "source": [
    "union1d method - find unique values fo two arrays"
   ]
  },
  {
   "cell_type": "code",
   "execution_count": 79,
   "id": "620c1b0b",
   "metadata": {},
   "outputs": [
    {
     "data": {
      "text/plain": [
       "array([ 2,  3,  4,  6,  7,  8,  9, 12])"
      ]
     },
     "execution_count": 79,
     "metadata": {},
     "output_type": "execute_result"
    }
   ],
   "source": [
    "np.union1d(arr,arr_)"
   ]
  },
  {
   "cell_type": "markdown",
   "id": "f3e47ec3",
   "metadata": {},
   "source": [
    "intersect1d method - find only the values that are present in both arrays"
   ]
  },
  {
   "cell_type": "code",
   "execution_count": 80,
   "id": "571da771",
   "metadata": {},
   "outputs": [
    {
     "data": {
      "text/plain": [
       "array([], dtype=int32)"
      ]
     },
     "execution_count": 80,
     "metadata": {},
     "output_type": "execute_result"
    }
   ],
   "source": [
    "np.intersect1d(arr,arr_)"
   ]
  },
  {
   "cell_type": "code",
   "execution_count": 81,
   "id": "075c9c6f",
   "metadata": {},
   "outputs": [
    {
     "data": {
      "text/plain": [
       "array([3])"
      ]
     },
     "execution_count": 81,
     "metadata": {},
     "output_type": "execute_result"
    }
   ],
   "source": [
    "np.intersect1d([3,4,1],[7,3,2])"
   ]
  },
  {
   "cell_type": "markdown",
   "id": "09235ea5",
   "metadata": {},
   "source": [
    "unique method - find unique elements from an array"
   ]
  },
  {
   "cell_type": "code",
   "execution_count": 82,
   "id": "8b154bfe",
   "metadata": {},
   "outputs": [
    {
     "data": {
      "text/plain": [
       "array([ 2,  3,  8, 12])"
      ]
     },
     "execution_count": 82,
     "metadata": {},
     "output_type": "execute_result"
    }
   ],
   "source": [
    "np.unique(arr)"
   ]
  },
  {
   "cell_type": "markdown",
   "id": "b9e0ee8c",
   "metadata": {},
   "source": [
    "* ### Find Difference"
   ]
  },
  {
   "cell_type": "markdown",
   "id": "c533aee6",
   "metadata": {},
   "source": [
    "find only the values in first array that is not present in second array<br>\n",
    "   <b>setdiff1d<b/> fucntion"
   ]
  },
  {
   "cell_type": "code",
   "execution_count": 83,
   "id": "a3e95729",
   "metadata": {},
   "outputs": [],
   "source": [
    "set_arr = np.array([4,3,9,12])\n",
    "set_arr_ = np.array([5,2,10,9])"
   ]
  },
  {
   "cell_type": "code",
   "execution_count": 84,
   "id": "a05e682c",
   "metadata": {},
   "outputs": [
    {
     "data": {
      "text/plain": [
       "array([ 3,  4, 12])"
      ]
     },
     "execution_count": 84,
     "metadata": {},
     "output_type": "execute_result"
    }
   ],
   "source": [
    "np.setdiff1d(set_arr, set_arr_)"
   ]
  },
  {
   "cell_type": "markdown",
   "id": "558b4deb",
   "metadata": {},
   "source": [
    "* ### Find Symmetric Difference"
   ]
  },
  {
   "cell_type": "markdown",
   "id": "23ee655b",
   "metadata": {},
   "source": [
    "find only the values that are not present in both set(array)<br>\n",
    "<b>setxor1d</b> method"
   ]
  },
  {
   "cell_type": "code",
   "execution_count": 85,
   "id": "288510b8",
   "metadata": {},
   "outputs": [
    {
     "data": {
      "text/plain": [
       "array([ 2,  3,  4,  5, 10, 12])"
      ]
     },
     "execution_count": 85,
     "metadata": {},
     "output_type": "execute_result"
    }
   ],
   "source": [
    "np.setxor1d(set_arr, set_arr_)"
   ]
  },
  {
   "cell_type": "markdown",
   "id": "be8b5ac8",
   "metadata": {},
   "source": [
    "## Statistics"
   ]
  },
  {
   "cell_type": "markdown",
   "id": "37677059",
   "metadata": {},
   "source": [
    "* ### Mean funtion"
   ]
  },
  {
   "cell_type": "markdown",
   "id": "16040522",
   "metadata": {},
   "source": [
    "find average of array"
   ]
  },
  {
   "cell_type": "code",
   "execution_count": 86,
   "id": "b08de46e",
   "metadata": {},
   "outputs": [],
   "source": [
    "sts_arr = np.array([5,9,12,23,25])"
   ]
  },
  {
   "cell_type": "code",
   "execution_count": 87,
   "id": "ae7ad221",
   "metadata": {},
   "outputs": [
    {
     "data": {
      "text/plain": [
       "14.8"
      ]
     },
     "execution_count": 87,
     "metadata": {},
     "output_type": "execute_result"
    }
   ],
   "source": [
    "np.mean(sts_arr)"
   ]
  },
  {
   "cell_type": "markdown",
   "id": "0b09b573",
   "metadata": {},
   "source": [
    "* ### median"
   ]
  },
  {
   "cell_type": "markdown",
   "id": "171ed5a9",
   "metadata": {},
   "source": [
    "find midle element of array"
   ]
  },
  {
   "cell_type": "code",
   "execution_count": 88,
   "id": "84f95c03",
   "metadata": {},
   "outputs": [
    {
     "data": {
      "text/plain": [
       "12.0"
      ]
     },
     "execution_count": 88,
     "metadata": {},
     "output_type": "execute_result"
    }
   ],
   "source": [
    "np.median(sts_arr)"
   ]
  },
  {
   "cell_type": "markdown",
   "id": "055918b9",
   "metadata": {},
   "source": [
    "When two element in midle, its automatically calculate average of that elements<br>\n",
    "<b>(midle element + midle element)/2</b>"
   ]
  },
  {
   "cell_type": "code",
   "execution_count": 89,
   "id": "2179285b",
   "metadata": {},
   "outputs": [],
   "source": [
    "sts_arr_ = np.array([8,10,12,15,19,22])"
   ]
  },
  {
   "cell_type": "code",
   "execution_count": 90,
   "id": "04c1c819",
   "metadata": {},
   "outputs": [
    {
     "data": {
      "text/plain": [
       "13.5"
      ]
     },
     "execution_count": 90,
     "metadata": {},
     "output_type": "execute_result"
    }
   ],
   "source": [
    "np.median(sts_arr_)"
   ]
  },
  {
   "cell_type": "code",
   "execution_count": 91,
   "id": "c174ccd5",
   "metadata": {},
   "outputs": [
    {
     "data": {
      "text/plain": [
       "13.5"
      ]
     },
     "execution_count": 91,
     "metadata": {},
     "output_type": "execute_result"
    }
   ],
   "source": [
    "np.average([12,15])"
   ]
  },
  {
   "cell_type": "markdown",
   "id": "0dd50801",
   "metadata": {},
   "source": [
    "* ## Variance"
   ]
  },
  {
   "cell_type": "markdown",
   "id": "7752c5a2",
   "metadata": {},
   "source": [
    "Variance = sum of square of diffrence of mean and each elements<br>\n",
    "<b>var = (mean-first)**2 + (mean-second)**2 + ............+(mean-n)**2</b>"
   ]
  },
  {
   "cell_type": "code",
   "execution_count": 92,
   "id": "29853cfb",
   "metadata": {},
   "outputs": [],
   "source": [
    "var = np.var(sts_arr)"
   ]
  },
  {
   "cell_type": "code",
   "execution_count": 93,
   "id": "9ffce4a5",
   "metadata": {},
   "outputs": [
    {
     "data": {
      "text/plain": [
       "61.76000000000001"
      ]
     },
     "execution_count": 93,
     "metadata": {},
     "output_type": "execute_result"
    }
   ],
   "source": [
    "var"
   ]
  },
  {
   "cell_type": "markdown",
   "id": "902746a8",
   "metadata": {},
   "source": [
    "* ### Standard Deviation"
   ]
  },
  {
   "cell_type": "markdown",
   "id": "cd414c77",
   "metadata": {},
   "source": [
    "Standard Deviation = square root of variance<br>\n",
    "<b>std = sqrt(var)</b>"
   ]
  },
  {
   "cell_type": "code",
   "execution_count": 94,
   "id": "6d93b09e",
   "metadata": {},
   "outputs": [
    {
     "data": {
      "text/plain": [
       "7.858753081755401"
      ]
     },
     "execution_count": 94,
     "metadata": {},
     "output_type": "execute_result"
    }
   ],
   "source": [
    "np.std(sts_arr)"
   ]
  },
  {
   "cell_type": "code",
   "execution_count": 95,
   "id": "8156e8ad",
   "metadata": {},
   "outputs": [
    {
     "data": {
      "text/plain": [
       "7.858753081755401"
      ]
     },
     "execution_count": 95,
     "metadata": {},
     "output_type": "execute_result"
    }
   ],
   "source": [
    "np.sqrt(var)"
   ]
  }
 ],
 "metadata": {
  "kernelspec": {
   "display_name": "Python 3 (ipykernel)",
   "language": "python",
   "name": "python3"
  },
  "language_info": {
   "codemirror_mode": {
    "name": "ipython",
    "version": 3
   },
   "file_extension": ".py",
   "mimetype": "text/x-python",
   "name": "python",
   "nbconvert_exporter": "python",
   "pygments_lexer": "ipython3",
   "version": "3.10.4"
  }
 },
 "nbformat": 4,
 "nbformat_minor": 5
}
