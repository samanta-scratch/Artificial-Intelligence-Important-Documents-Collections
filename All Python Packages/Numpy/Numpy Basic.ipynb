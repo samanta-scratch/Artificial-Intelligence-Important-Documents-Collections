{
 "cells": [
  {
   "cell_type": "markdown",
   "id": "2267eed2",
   "metadata": {},
   "source": [
    "# BASIC FUNCTION IN NUMPY"
   ]
  },
  {
   "cell_type": "code",
   "execution_count": 1,
   "id": "727b47db",
   "metadata": {},
   "outputs": [
    {
     "data": {
      "text/plain": [
       "'1.22.4'"
      ]
     },
     "execution_count": 1,
     "metadata": {},
     "output_type": "execute_result"
    }
   ],
   "source": [
    "# import numpy library\n",
    "import numpy as np\n",
    "# version of numpy\n",
    "np.__version__"
   ]
  },
  {
   "cell_type": "code",
   "execution_count": 2,
   "id": "50820d39",
   "metadata": {},
   "outputs": [
    {
     "data": {
      "text/plain": [
       "['ALLOW_THREADS',\n",
       " 'AxisError',\n",
       " 'BUFSIZE',\n",
       " 'CLIP',\n",
       " 'ComplexWarning',\n",
       " 'DataSource',\n",
       " 'ERR_CALL',\n",
       " 'ERR_DEFAULT',\n",
       " 'ERR_IGNORE',\n",
       " 'ERR_LOG',\n",
       " 'ERR_PRINT',\n",
       " 'ERR_RAISE',\n",
       " 'ERR_WARN',\n",
       " 'FLOATING_POINT_SUPPORT',\n",
       " 'FPE_DIVIDEBYZERO',\n",
       " 'FPE_INVALID',\n",
       " 'FPE_OVERFLOW',\n",
       " 'FPE_UNDERFLOW',\n",
       " 'False_',\n",
       " 'Inf',\n",
       " 'Infinity',\n",
       " 'MAXDIMS',\n",
       " 'MAY_SHARE_BOUNDS',\n",
       " 'MAY_SHARE_EXACT',\n",
       " 'ModuleDeprecationWarning',\n",
       " 'NAN',\n",
       " 'NINF',\n",
       " 'NZERO',\n",
       " 'NaN',\n",
       " 'PINF',\n",
       " 'PZERO',\n",
       " 'RAISE',\n",
       " 'RankWarning',\n",
       " 'SHIFT_DIVIDEBYZERO',\n",
       " 'SHIFT_INVALID',\n",
       " 'SHIFT_OVERFLOW',\n",
       " 'SHIFT_UNDERFLOW',\n",
       " 'ScalarType',\n",
       " 'Tester',\n",
       " 'TooHardError',\n",
       " 'True_',\n",
       " 'UFUNC_BUFSIZE_DEFAULT',\n",
       " 'UFUNC_PYVALS_NAME',\n",
       " 'VisibleDeprecationWarning',\n",
       " 'WRAP',\n",
       " '_CopyMode',\n",
       " '_NoValue',\n",
       " '_UFUNC_API',\n",
       " '__NUMPY_SETUP__',\n",
       " '__all__',\n",
       " '__builtins__',\n",
       " '__cached__',\n",
       " '__config__',\n",
       " '__deprecated_attrs__',\n",
       " '__dir__',\n",
       " '__doc__',\n",
       " '__expired_functions__',\n",
       " '__file__',\n",
       " '__getattr__',\n",
       " '__git_version__',\n",
       " '__loader__',\n",
       " '__name__',\n",
       " '__package__',\n",
       " '__path__',\n",
       " '__spec__',\n",
       " '__version__',\n",
       " '_add_newdoc_ufunc',\n",
       " '_distributor_init',\n",
       " '_financial_names',\n",
       " '_from_dlpack',\n",
       " '_globals',\n",
       " '_mat',\n",
       " '_pytesttester',\n",
       " '_version',\n",
       " 'abs',\n",
       " 'absolute',\n",
       " 'add',\n",
       " 'add_docstring',\n",
       " 'add_newdoc',\n",
       " 'add_newdoc_ufunc',\n",
       " 'alen',\n",
       " 'all',\n",
       " 'allclose',\n",
       " 'alltrue',\n",
       " 'amax',\n",
       " 'amin',\n",
       " 'angle',\n",
       " 'any',\n",
       " 'append',\n",
       " 'apply_along_axis',\n",
       " 'apply_over_axes',\n",
       " 'arange',\n",
       " 'arccos',\n",
       " 'arccosh',\n",
       " 'arcsin',\n",
       " 'arcsinh',\n",
       " 'arctan',\n",
       " 'arctan2',\n",
       " 'arctanh',\n",
       " 'argmax',\n",
       " 'argmin',\n",
       " 'argpartition',\n",
       " 'argsort',\n",
       " 'argwhere',\n",
       " 'around',\n",
       " 'array',\n",
       " 'array2string',\n",
       " 'array_equal',\n",
       " 'array_equiv',\n",
       " 'array_repr',\n",
       " 'array_split',\n",
       " 'array_str',\n",
       " 'asanyarray',\n",
       " 'asarray',\n",
       " 'asarray_chkfinite',\n",
       " 'ascontiguousarray',\n",
       " 'asfarray',\n",
       " 'asfortranarray',\n",
       " 'asmatrix',\n",
       " 'asscalar',\n",
       " 'atleast_1d',\n",
       " 'atleast_2d',\n",
       " 'atleast_3d',\n",
       " 'average',\n",
       " 'bartlett',\n",
       " 'base_repr',\n",
       " 'binary_repr',\n",
       " 'bincount',\n",
       " 'bitwise_and',\n",
       " 'bitwise_not',\n",
       " 'bitwise_or',\n",
       " 'bitwise_xor',\n",
       " 'blackman',\n",
       " 'block',\n",
       " 'bmat',\n",
       " 'bool8',\n",
       " 'bool_',\n",
       " 'broadcast',\n",
       " 'broadcast_arrays',\n",
       " 'broadcast_shapes',\n",
       " 'broadcast_to',\n",
       " 'busday_count',\n",
       " 'busday_offset',\n",
       " 'busdaycalendar',\n",
       " 'byte',\n",
       " 'byte_bounds',\n",
       " 'bytes0',\n",
       " 'bytes_',\n",
       " 'c_',\n",
       " 'can_cast',\n",
       " 'cast',\n",
       " 'cbrt',\n",
       " 'cdouble',\n",
       " 'ceil',\n",
       " 'cfloat',\n",
       " 'char',\n",
       " 'character',\n",
       " 'chararray',\n",
       " 'choose',\n",
       " 'clip',\n",
       " 'clongdouble',\n",
       " 'clongfloat',\n",
       " 'column_stack',\n",
       " 'common_type',\n",
       " 'compare_chararrays',\n",
       " 'compat',\n",
       " 'complex128',\n",
       " 'complex64',\n",
       " 'complex_',\n",
       " 'complexfloating',\n",
       " 'compress',\n",
       " 'concatenate',\n",
       " 'conj',\n",
       " 'conjugate',\n",
       " 'convolve',\n",
       " 'copy',\n",
       " 'copysign',\n",
       " 'copyto',\n",
       " 'core',\n",
       " 'corrcoef',\n",
       " 'correlate',\n",
       " 'cos',\n",
       " 'cosh',\n",
       " 'count_nonzero',\n",
       " 'cov',\n",
       " 'cross',\n",
       " 'csingle',\n",
       " 'ctypeslib',\n",
       " 'cumprod',\n",
       " 'cumproduct',\n",
       " 'cumsum',\n",
       " 'datetime64',\n",
       " 'datetime_as_string',\n",
       " 'datetime_data',\n",
       " 'deg2rad',\n",
       " 'degrees',\n",
       " 'delete',\n",
       " 'deprecate',\n",
       " 'deprecate_with_doc',\n",
       " 'diag',\n",
       " 'diag_indices',\n",
       " 'diag_indices_from',\n",
       " 'diagflat',\n",
       " 'diagonal',\n",
       " 'diff',\n",
       " 'digitize',\n",
       " 'disp',\n",
       " 'divide',\n",
       " 'divmod',\n",
       " 'dot',\n",
       " 'double',\n",
       " 'dsplit',\n",
       " 'dstack',\n",
       " 'dtype',\n",
       " 'e',\n",
       " 'ediff1d',\n",
       " 'einsum',\n",
       " 'einsum_path',\n",
       " 'emath',\n",
       " 'empty',\n",
       " 'empty_like',\n",
       " 'equal',\n",
       " 'errstate',\n",
       " 'euler_gamma',\n",
       " 'exp',\n",
       " 'exp2',\n",
       " 'expand_dims',\n",
       " 'expm1',\n",
       " 'extract',\n",
       " 'eye',\n",
       " 'fabs',\n",
       " 'fastCopyAndTranspose',\n",
       " 'fft',\n",
       " 'fill_diagonal',\n",
       " 'find_common_type',\n",
       " 'finfo',\n",
       " 'fix',\n",
       " 'flatiter',\n",
       " 'flatnonzero',\n",
       " 'flexible',\n",
       " 'flip',\n",
       " 'fliplr',\n",
       " 'flipud',\n",
       " 'float16',\n",
       " 'float32',\n",
       " 'float64',\n",
       " 'float_',\n",
       " 'float_power',\n",
       " 'floating',\n",
       " 'floor',\n",
       " 'floor_divide',\n",
       " 'fmax',\n",
       " 'fmin',\n",
       " 'fmod',\n",
       " 'format_float_positional',\n",
       " 'format_float_scientific',\n",
       " 'format_parser',\n",
       " 'frexp',\n",
       " 'frombuffer',\n",
       " 'fromfile',\n",
       " 'fromfunction',\n",
       " 'fromiter',\n",
       " 'frompyfunc',\n",
       " 'fromregex',\n",
       " 'fromstring',\n",
       " 'full',\n",
       " 'full_like',\n",
       " 'gcd',\n",
       " 'generic',\n",
       " 'genfromtxt',\n",
       " 'geomspace',\n",
       " 'get_array_wrap',\n",
       " 'get_include',\n",
       " 'get_printoptions',\n",
       " 'getbufsize',\n",
       " 'geterr',\n",
       " 'geterrcall',\n",
       " 'geterrobj',\n",
       " 'gradient',\n",
       " 'greater',\n",
       " 'greater_equal',\n",
       " 'half',\n",
       " 'hamming',\n",
       " 'hanning',\n",
       " 'heaviside',\n",
       " 'histogram',\n",
       " 'histogram2d',\n",
       " 'histogram_bin_edges',\n",
       " 'histogramdd',\n",
       " 'hsplit',\n",
       " 'hstack',\n",
       " 'hypot',\n",
       " 'i0',\n",
       " 'identity',\n",
       " 'iinfo',\n",
       " 'imag',\n",
       " 'in1d',\n",
       " 'index_exp',\n",
       " 'indices',\n",
       " 'inexact',\n",
       " 'inf',\n",
       " 'info',\n",
       " 'infty',\n",
       " 'inner',\n",
       " 'insert',\n",
       " 'int0',\n",
       " 'int16',\n",
       " 'int32',\n",
       " 'int64',\n",
       " 'int8',\n",
       " 'int_',\n",
       " 'intc',\n",
       " 'integer',\n",
       " 'interp',\n",
       " 'intersect1d',\n",
       " 'intp',\n",
       " 'invert',\n",
       " 'is_busday',\n",
       " 'isclose',\n",
       " 'iscomplex',\n",
       " 'iscomplexobj',\n",
       " 'isfinite',\n",
       " 'isfortran',\n",
       " 'isin',\n",
       " 'isinf',\n",
       " 'isnan',\n",
       " 'isnat',\n",
       " 'isneginf',\n",
       " 'isposinf',\n",
       " 'isreal',\n",
       " 'isrealobj',\n",
       " 'isscalar',\n",
       " 'issctype',\n",
       " 'issubclass_',\n",
       " 'issubdtype',\n",
       " 'issubsctype',\n",
       " 'iterable',\n",
       " 'ix_',\n",
       " 'kaiser',\n",
       " 'kron',\n",
       " 'lcm',\n",
       " 'ldexp',\n",
       " 'left_shift',\n",
       " 'less',\n",
       " 'less_equal',\n",
       " 'lexsort',\n",
       " 'lib',\n",
       " 'linalg',\n",
       " 'linspace',\n",
       " 'little_endian',\n",
       " 'load',\n",
       " 'loadtxt',\n",
       " 'log',\n",
       " 'log10',\n",
       " 'log1p',\n",
       " 'log2',\n",
       " 'logaddexp',\n",
       " 'logaddexp2',\n",
       " 'logical_and',\n",
       " 'logical_not',\n",
       " 'logical_or',\n",
       " 'logical_xor',\n",
       " 'logspace',\n",
       " 'longcomplex',\n",
       " 'longdouble',\n",
       " 'longfloat',\n",
       " 'longlong',\n",
       " 'lookfor',\n",
       " 'ma',\n",
       " 'mask_indices',\n",
       " 'mat',\n",
       " 'math',\n",
       " 'matmul',\n",
       " 'matrix',\n",
       " 'matrixlib',\n",
       " 'max',\n",
       " 'maximum',\n",
       " 'maximum_sctype',\n",
       " 'may_share_memory',\n",
       " 'mean',\n",
       " 'median',\n",
       " 'memmap',\n",
       " 'meshgrid',\n",
       " 'mgrid',\n",
       " 'min',\n",
       " 'min_scalar_type',\n",
       " 'minimum',\n",
       " 'mintypecode',\n",
       " 'mod',\n",
       " 'modf',\n",
       " 'moveaxis',\n",
       " 'msort',\n",
       " 'multiply',\n",
       " 'nan',\n",
       " 'nan_to_num',\n",
       " 'nanargmax',\n",
       " 'nanargmin',\n",
       " 'nancumprod',\n",
       " 'nancumsum',\n",
       " 'nanmax',\n",
       " 'nanmean',\n",
       " 'nanmedian',\n",
       " 'nanmin',\n",
       " 'nanpercentile',\n",
       " 'nanprod',\n",
       " 'nanquantile',\n",
       " 'nanstd',\n",
       " 'nansum',\n",
       " 'nanvar',\n",
       " 'nbytes',\n",
       " 'ndarray',\n",
       " 'ndenumerate',\n",
       " 'ndim',\n",
       " 'ndindex',\n",
       " 'nditer',\n",
       " 'negative',\n",
       " 'nested_iters',\n",
       " 'newaxis',\n",
       " 'nextafter',\n",
       " 'nonzero',\n",
       " 'not_equal',\n",
       " 'numarray',\n",
       " 'number',\n",
       " 'obj2sctype',\n",
       " 'object0',\n",
       " 'object_',\n",
       " 'ogrid',\n",
       " 'oldnumeric',\n",
       " 'ones',\n",
       " 'ones_like',\n",
       " 'os',\n",
       " 'outer',\n",
       " 'packbits',\n",
       " 'pad',\n",
       " 'partition',\n",
       " 'percentile',\n",
       " 'pi',\n",
       " 'piecewise',\n",
       " 'place',\n",
       " 'poly',\n",
       " 'poly1d',\n",
       " 'polyadd',\n",
       " 'polyder',\n",
       " 'polydiv',\n",
       " 'polyfit',\n",
       " 'polyint',\n",
       " 'polymul',\n",
       " 'polynomial',\n",
       " 'polysub',\n",
       " 'polyval',\n",
       " 'positive',\n",
       " 'power',\n",
       " 'printoptions',\n",
       " 'prod',\n",
       " 'product',\n",
       " 'promote_types',\n",
       " 'ptp',\n",
       " 'put',\n",
       " 'put_along_axis',\n",
       " 'putmask',\n",
       " 'quantile',\n",
       " 'r_',\n",
       " 'rad2deg',\n",
       " 'radians',\n",
       " 'random',\n",
       " 'ravel',\n",
       " 'ravel_multi_index',\n",
       " 'real',\n",
       " 'real_if_close',\n",
       " 'rec',\n",
       " 'recarray',\n",
       " 'recfromcsv',\n",
       " 'recfromtxt',\n",
       " 'reciprocal',\n",
       " 'record',\n",
       " 'remainder',\n",
       " 'repeat',\n",
       " 'require',\n",
       " 'reshape',\n",
       " 'resize',\n",
       " 'result_type',\n",
       " 'right_shift',\n",
       " 'rint',\n",
       " 'roll',\n",
       " 'rollaxis',\n",
       " 'roots',\n",
       " 'rot90',\n",
       " 'round',\n",
       " 'round_',\n",
       " 'row_stack',\n",
       " 's_',\n",
       " 'safe_eval',\n",
       " 'save',\n",
       " 'savetxt',\n",
       " 'savez',\n",
       " 'savez_compressed',\n",
       " 'sctype2char',\n",
       " 'sctypeDict',\n",
       " 'sctypes',\n",
       " 'searchsorted',\n",
       " 'select',\n",
       " 'set_numeric_ops',\n",
       " 'set_printoptions',\n",
       " 'set_string_function',\n",
       " 'setbufsize',\n",
       " 'setdiff1d',\n",
       " 'seterr',\n",
       " 'seterrcall',\n",
       " 'seterrobj',\n",
       " 'setxor1d',\n",
       " 'shape',\n",
       " 'shares_memory',\n",
       " 'short',\n",
       " 'show_config',\n",
       " 'sign',\n",
       " 'signbit',\n",
       " 'signedinteger',\n",
       " 'sin',\n",
       " 'sinc',\n",
       " 'single',\n",
       " 'singlecomplex',\n",
       " 'sinh',\n",
       " 'size',\n",
       " 'sometrue',\n",
       " 'sort',\n",
       " 'sort_complex',\n",
       " 'source',\n",
       " 'spacing',\n",
       " 'split',\n",
       " 'sqrt',\n",
       " 'square',\n",
       " 'squeeze',\n",
       " 'stack',\n",
       " 'std',\n",
       " 'str0',\n",
       " 'str_',\n",
       " 'string_',\n",
       " 'subtract',\n",
       " 'sum',\n",
       " 'swapaxes',\n",
       " 'sys',\n",
       " 'take',\n",
       " 'take_along_axis',\n",
       " 'tan',\n",
       " 'tanh',\n",
       " 'tensordot',\n",
       " 'test',\n",
       " 'testing',\n",
       " 'tile',\n",
       " 'timedelta64',\n",
       " 'trace',\n",
       " 'tracemalloc_domain',\n",
       " 'transpose',\n",
       " 'trapz',\n",
       " 'tri',\n",
       " 'tril',\n",
       " 'tril_indices',\n",
       " 'tril_indices_from',\n",
       " 'trim_zeros',\n",
       " 'triu',\n",
       " 'triu_indices',\n",
       " 'triu_indices_from',\n",
       " 'true_divide',\n",
       " 'trunc',\n",
       " 'typecodes',\n",
       " 'typename',\n",
       " 'ubyte',\n",
       " 'ufunc',\n",
       " 'uint',\n",
       " 'uint0',\n",
       " 'uint16',\n",
       " 'uint32',\n",
       " 'uint64',\n",
       " 'uint8',\n",
       " 'uintc',\n",
       " 'uintp',\n",
       " 'ulonglong',\n",
       " 'unicode_',\n",
       " 'union1d',\n",
       " 'unique',\n",
       " 'unpackbits',\n",
       " 'unravel_index',\n",
       " 'unsignedinteger',\n",
       " 'unwrap',\n",
       " 'use_hugepage',\n",
       " 'ushort',\n",
       " 'vander',\n",
       " 'var',\n",
       " 'vdot',\n",
       " 'vectorize',\n",
       " 'version',\n",
       " 'void',\n",
       " 'void0',\n",
       " 'vsplit',\n",
       " 'vstack',\n",
       " 'warnings',\n",
       " 'where',\n",
       " 'who',\n",
       " 'zeros',\n",
       " 'zeros_like']"
      ]
     },
     "execution_count": 2,
     "metadata": {},
     "output_type": "execute_result"
    }
   ],
   "source": [
    "# list of method in numpy\n",
    "dir(np)"
   ]
  },
  {
   "cell_type": "code",
   "execution_count": 3,
   "id": "4ff13750",
   "metadata": {},
   "outputs": [
    {
     "data": {
      "text/plain": [
       "600"
      ]
     },
     "execution_count": 3,
     "metadata": {},
     "output_type": "execute_result"
    }
   ],
   "source": [
    "# how many method\n",
    "len(dir(np))"
   ]
  },
  {
   "cell_type": "markdown",
   "id": "0287b6a9",
   "metadata": {},
   "source": [
    " define a array/ ndarray"
   ]
  },
  {
   "cell_type": "code",
   "execution_count": 4,
   "id": "ad3d0178",
   "metadata": {},
   "outputs": [],
   "source": [
    "arr = np.array([2, 5, 8 , 10])"
   ]
  },
  {
   "cell_type": "code",
   "execution_count": 5,
   "id": "7a790dff",
   "metadata": {},
   "outputs": [
    {
     "data": {
      "text/plain": [
       "array([ 2,  5,  8, 10])"
      ]
     },
     "execution_count": 5,
     "metadata": {},
     "output_type": "execute_result"
    }
   ],
   "source": [
    "arr"
   ]
  },
  {
   "cell_type": "code",
   "execution_count": 6,
   "id": "e31b1774",
   "metadata": {},
   "outputs": [],
   "source": [
    "# define array with tuple\n",
    "arr2 = np.array((2,4,6,8))"
   ]
  },
  {
   "cell_type": "code",
   "execution_count": 7,
   "id": "fa3b8794",
   "metadata": {},
   "outputs": [
    {
     "data": {
      "text/plain": [
       "array([2, 4, 6, 8])"
      ]
     },
     "execution_count": 7,
     "metadata": {},
     "output_type": "execute_result"
    }
   ],
   "source": [
    "arr2"
   ]
  },
  {
   "cell_type": "code",
   "execution_count": 8,
   "id": "dbed1066",
   "metadata": {},
   "outputs": [],
   "source": [
    "# define 2 dimention array or 3-dimention array\n",
    "arr_2d = np.array([[2,4,6,8],[3,6,9,12]])\n",
    "arr_3d = np.array([[[2,4,6,8],[3,6,9,12]], [[4,8,12,16],[5,10,15,20]]])\n",
    "# we can define n-dirmention array"
   ]
  },
  {
   "cell_type": "code",
   "execution_count": 9,
   "id": "05dde73b",
   "metadata": {},
   "outputs": [
    {
     "data": {
      "text/plain": [
       "array([[ 2,  4,  6,  8],\n",
       "       [ 3,  6,  9, 12]])"
      ]
     },
     "execution_count": 9,
     "metadata": {},
     "output_type": "execute_result"
    }
   ],
   "source": [
    "arr_2d"
   ]
  },
  {
   "cell_type": "code",
   "execution_count": 10,
   "id": "422a73d3",
   "metadata": {},
   "outputs": [
    {
     "data": {
      "text/plain": [
       "array([[[ 2,  4,  6,  8],\n",
       "        [ 3,  6,  9, 12]],\n",
       "\n",
       "       [[ 4,  8, 12, 16],\n",
       "        [ 5, 10, 15, 20]]])"
      ]
     },
     "execution_count": 10,
     "metadata": {},
     "output_type": "execute_result"
    }
   ],
   "source": [
    "arr_3d"
   ]
  },
  {
   "cell_type": "markdown",
   "id": "1b1ad4de",
   "metadata": {},
   "source": [
    "find dimention of array"
   ]
  },
  {
   "cell_type": "code",
   "execution_count": 11,
   "id": "5afc77ff",
   "metadata": {},
   "outputs": [
    {
     "data": {
      "text/plain": [
       "3"
      ]
     },
     "execution_count": 11,
     "metadata": {},
     "output_type": "execute_result"
    }
   ],
   "source": [
    "arr_3d.ndim"
   ]
  },
  {
   "cell_type": "markdown",
   "id": "95cae738",
   "metadata": {},
   "source": [
    "indexing in array"
   ]
  },
  {
   "cell_type": "code",
   "execution_count": 12,
   "id": "3d1d00ec",
   "metadata": {},
   "outputs": [
    {
     "name": "stdout",
     "output_type": "stream",
     "text": [
      "8\n",
      "6\n",
      "12\n"
     ]
    }
   ],
   "source": [
    "# index start with 0 \n",
    "print(arr[2]) # 1d array indexing - access 3 element of array = 8\n",
    "\n",
    "print(arr_2d[0,2]) #2d array indexing - access 3 element of first arr = 6\n",
    "\n",
    "# 3d array indexing - access 3 element of first arr in second arr = 12\n",
    "print(arr_3d[1, 0, 2]) "
   ]
  },
  {
   "cell_type": "code",
   "execution_count": 13,
   "id": "c5108f73",
   "metadata": {},
   "outputs": [
    {
     "name": "stdout",
     "output_type": "stream",
     "text": [
      "10\n",
      "8\n",
      "12\n"
     ]
    }
   ],
   "source": [
    "# negative indexing\n",
    "print(arr[-1]) # 1d array - access last element of array = 10\n",
    "\n",
    "print(arr_2d[-2, -1]) # 2d array - access last elment of first array = 8\n",
    "\n",
    "# 3d array - access second last element of first array in second array = 12\n",
    "print(arr_3d[1, -2, -2]) "
   ]
  },
  {
   "cell_type": "code",
   "execution_count": 14,
   "id": "7a594564",
   "metadata": {},
   "outputs": [
    {
     "data": {
      "text/plain": [
       "array([[0., 0., 0.],\n",
       "       [0., 0., 0.]])"
      ]
     },
     "execution_count": 14,
     "metadata": {},
     "output_type": "execute_result"
    }
   ],
   "source": [
    "# we can create zero value array\n",
    "# create 2d array with 3 element\n",
    "np.zeros([2,3])"
   ]
  },
  {
   "cell_type": "code",
   "execution_count": 15,
   "id": "040251f8",
   "metadata": {},
   "outputs": [
    {
     "data": {
      "text/plain": [
       "array([[1., 1., 1., 1., 1., 1., 1.],\n",
       "       [1., 1., 1., 1., 1., 1., 1.],\n",
       "       [1., 1., 1., 1., 1., 1., 1.]])"
      ]
     },
     "execution_count": 15,
     "metadata": {},
     "output_type": "execute_result"
    }
   ],
   "source": [
    "# similiar zeros , we can create one value array\n",
    "# 3d array with 7 element\n",
    "np.ones([3,7])"
   ]
  },
  {
   "cell_type": "code",
   "execution_count": 16,
   "id": "ce3fcdbf",
   "metadata": {},
   "outputs": [
    {
     "data": {
      "text/plain": [
       "array([[2.12199579e-314, 1.34958932e-311, 1.58101007e-321,\n",
       "        3.79442416e-321, 0.00000000e+000]])"
      ]
     },
     "execution_count": 16,
     "metadata": {},
     "output_type": "execute_result"
    }
   ],
   "source": [
    "# also create a empty\n",
    "em = np.empty((1,5))\n",
    "em"
   ]
  },
  {
   "cell_type": "code",
   "execution_count": 17,
   "id": "93397a37",
   "metadata": {},
   "outputs": [
    {
     "data": {
      "text/plain": [
       "array([0, 1, 2, 3, 4, 5, 6, 7, 8, 9])"
      ]
     },
     "execution_count": 17,
     "metadata": {},
     "output_type": "execute_result"
    }
   ],
   "source": [
    "# define array with arange\n",
    "np.arange(10)"
   ]
  },
  {
   "cell_type": "code",
   "execution_count": 18,
   "id": "493a9270",
   "metadata": {},
   "outputs": [],
   "source": [
    "# arnage[start, end, defferent]\n",
    "rang = np.arange(5,50,10)"
   ]
  },
  {
   "cell_type": "code",
   "execution_count": 19,
   "id": "325a8c8f",
   "metadata": {},
   "outputs": [
    {
     "data": {
      "text/plain": [
       "array([ 5, 15, 25, 35, 45])"
      ]
     },
     "execution_count": 19,
     "metadata": {},
     "output_type": "execute_result"
    }
   ],
   "source": [
    "rang"
   ]
  },
  {
   "cell_type": "code",
   "execution_count": 20,
   "id": "49e3ac70",
   "metadata": {},
   "outputs": [],
   "source": [
    "# define array with linspace \n",
    "# similiar arange but define same space between elements linspace[star, end, no_of_element]\n",
    "lspace = np.linspace(5,50,10)"
   ]
  },
  {
   "cell_type": "code",
   "execution_count": 21,
   "id": "fc024ce3",
   "metadata": {},
   "outputs": [
    {
     "data": {
      "text/plain": [
       "array([ 5., 10., 15., 20., 25., 30., 35., 40., 45., 50.])"
      ]
     },
     "execution_count": 21,
     "metadata": {},
     "output_type": "execute_result"
    }
   ],
   "source": [
    "lspace"
   ]
  },
  {
   "cell_type": "markdown",
   "id": "e12e5081",
   "metadata": {},
   "source": [
    "##  Tranform Array "
   ]
  },
  {
   "cell_type": "code",
   "execution_count": 22,
   "id": "1fbdd383",
   "metadata": {},
   "outputs": [
    {
     "data": {
      "text/plain": [
       "array([[ 2,  4,  6,  8],\n",
       "       [ 3,  6,  9, 12]])"
      ]
     },
     "execution_count": 22,
     "metadata": {},
     "output_type": "execute_result"
    }
   ],
   "source": [
    "# tranfrom array - convert row to column and column to row\n",
    "arr_2d"
   ]
  },
  {
   "cell_type": "code",
   "execution_count": 23,
   "id": "b5386261",
   "metadata": {},
   "outputs": [
    {
     "data": {
      "text/plain": [
       "array([[ 2,  3],\n",
       "       [ 4,  6],\n",
       "       [ 6,  9],\n",
       "       [ 8, 12]])"
      ]
     },
     "execution_count": 23,
     "metadata": {},
     "output_type": "execute_result"
    }
   ],
   "source": [
    "arr_2d.T"
   ]
  },
  {
   "cell_type": "markdown",
   "id": "d9e3e90d",
   "metadata": {},
   "source": [
    "## SLICING OF NUMPY ARRAY "
   ]
  },
  {
   "cell_type": "code",
   "execution_count": 24,
   "id": "01544a60",
   "metadata": {},
   "outputs": [
    {
     "name": "stdout",
     "output_type": "stream",
     "text": [
      "[5 8]\n",
      "[3 6]\n",
      "\n",
      "\n",
      "[[4 6]\n",
      " [6 9]]\n"
     ]
    }
   ],
   "source": [
    "# slicing of 1d array[start:end]\n",
    "print(arr[1:3]) # 5, 8\n",
    "\n",
    "# slicing of 2d array[arr_index or [start:end], start:end]\n",
    "print(arr_2d[1,:2]) # print 2 starting element of second arr\n",
    "\n",
    "# slicing of 3d array[arr_index, arr_index, start:end]\n",
    "# print second and third element of all array inside first arr\n",
    "# [4,6][6,9]\n",
    "print('\\n')\n",
    "print(arr_3d[0,:,1:3])"
   ]
  },
  {
   "cell_type": "markdown",
   "id": "a59a5eac",
   "metadata": {},
   "source": [
    "## Data Types"
   ]
  },
  {
   "cell_type": "markdown",
   "id": "f3884029",
   "metadata": {},
   "source": [
    "find data types"
   ]
  },
  {
   "cell_type": "code",
   "execution_count": 25,
   "id": "1793d358",
   "metadata": {},
   "outputs": [
    {
     "name": "stdout",
     "output_type": "stream",
     "text": [
      "int32\n",
      "int32\n",
      "int32\n"
     ]
    }
   ],
   "source": [
    "print(arr.dtype)\n",
    "print(arr_2d.dtype)\n",
    "print(arr_3d.dtype)"
   ]
  },
  {
   "cell_type": "markdown",
   "id": "7a9102a1",
   "metadata": {},
   "source": [
    "define data types"
   ]
  },
  {
   "cell_type": "code",
   "execution_count": 26,
   "id": "d13e8463",
   "metadata": {},
   "outputs": [],
   "source": [
    "new_arr = np.array([5,10,15,20], dtype = 'i8') # i8 = integer 4 byte"
   ]
  },
  {
   "cell_type": "code",
   "execution_count": 27,
   "id": "e687313d",
   "metadata": {},
   "outputs": [
    {
     "data": {
      "text/plain": [
       "dtype('int64')"
      ]
     },
     "execution_count": 27,
     "metadata": {},
     "output_type": "execute_result"
    }
   ],
   "source": [
    "new_arr.dtype"
   ]
  },
  {
   "cell_type": "markdown",
   "id": "e513875f",
   "metadata": {},
   "source": [
    "convert data type"
   ]
  },
  {
   "cell_type": "code",
   "execution_count": 28,
   "id": "a7862bf9",
   "metadata": {},
   "outputs": [
    {
     "data": {
      "text/plain": [
       "array([ 5., 10., 15., 20.], dtype=float32)"
      ]
     },
     "execution_count": 28,
     "metadata": {},
     "output_type": "execute_result"
    }
   ],
   "source": [
    "float_arr = new_arr.astype('f')\n",
    "float_arr"
   ]
  },
  {
   "cell_type": "markdown",
   "id": "99611828",
   "metadata": {},
   "source": [
    "## Copy and View and Revel"
   ]
  },
  {
   "cell_type": "markdown",
   "id": "8f81ed86",
   "metadata": {},
   "source": [
    "make copy of a array"
   ]
  },
  {
   "cell_type": "code",
   "execution_count": 29,
   "id": "4e04056a",
   "metadata": {},
   "outputs": [
    {
     "data": {
      "text/plain": [
       "array([[ 2,  4,  6,  8],\n",
       "       [ 3,  6,  9, 12]])"
      ]
     },
     "execution_count": 29,
     "metadata": {},
     "output_type": "execute_result"
    }
   ],
   "source": [
    "copy_arr = arr_2d.copy()\n",
    "copy_arr"
   ]
  },
  {
   "cell_type": "code",
   "execution_count": 30,
   "id": "a65a9bbf",
   "metadata": {},
   "outputs": [
    {
     "data": {
      "text/plain": [
       "array([[ 2,  4,  6, 10],\n",
       "       [ 3,  6,  9, 12]])"
      ]
     },
     "execution_count": 30,
     "metadata": {},
     "output_type": "execute_result"
    }
   ],
   "source": [
    "# make change in copy array not effect original array\n",
    "copy_arr[0,-1] = 10  # 8 = 10\n",
    "copy_arr"
   ]
  },
  {
   "cell_type": "markdown",
   "id": "b8847a74",
   "metadata": {},
   "source": [
    "make view, change in view effect original array"
   ]
  },
  {
   "cell_type": "code",
   "execution_count": 31,
   "id": "9188d3dd",
   "metadata": {},
   "outputs": [
    {
     "data": {
      "text/plain": [
       "array([ 2,  5,  8, 10])"
      ]
     },
     "execution_count": 31,
     "metadata": {},
     "output_type": "execute_result"
    }
   ],
   "source": [
    "view = arr.view()\n",
    "view"
   ]
  },
  {
   "cell_type": "code",
   "execution_count": 32,
   "id": "a115f6f1",
   "metadata": {},
   "outputs": [
    {
     "name": "stdout",
     "output_type": "stream",
     "text": [
      "[ 2  6  8 10]\n",
      "[ 2  6  8 10]\n"
     ]
    }
   ],
   "source": [
    "view[1] = 6\n",
    "print(view)\n",
    "print(arr)"
   ]
  },
  {
   "cell_type": "markdown",
   "id": "d5394f00",
   "metadata": {},
   "source": [
    "convert multi dimension array in 1d flat array - original array"
   ]
  },
  {
   "cell_type": "code",
   "execution_count": 33,
   "id": "52d9a059",
   "metadata": {},
   "outputs": [
    {
     "data": {
      "text/plain": [
       "array([ 3,  4,  8, 12,  5,  9, 21,  3, 15,  8])"
      ]
     },
     "execution_count": 33,
     "metadata": {},
     "output_type": "execute_result"
    }
   ],
   "source": [
    "ndarr = np.array([[3,4,8,12,5],[9,21, 3, 15, 8]])\n",
    "ndarr.ravel()"
   ]
  },
  {
   "cell_type": "code",
   "execution_count": 34,
   "id": "de071c39",
   "metadata": {},
   "outputs": [
    {
     "data": {
      "text/plain": [
       "array([ 3,  4,  8, 12,  5,  9, 21,  3, 15,  8])"
      ]
     },
     "execution_count": 34,
     "metadata": {},
     "output_type": "execute_result"
    }
   ],
   "source": [
    "ndarr.ravel()"
   ]
  },
  {
   "cell_type": "code",
   "execution_count": 35,
   "id": "d9fe34c6",
   "metadata": {},
   "outputs": [
    {
     "data": {
      "text/plain": [
       "array([ 3,  9,  4, 21,  8,  3, 12, 15,  5,  8])"
      ]
     },
     "execution_count": 35,
     "metadata": {},
     "output_type": "execute_result"
    }
   ],
   "source": [
    "# we define order [ C: row-major order(default), F: column-major order, ]\n",
    "ndarr.ravel(order='F')"
   ]
  },
  {
   "cell_type": "markdown",
   "id": "907c7d42",
   "metadata": {},
   "source": [
    "## Size, Byte, Shape and Reshape"
   ]
  },
  {
   "cell_type": "markdown",
   "id": "945d5734",
   "metadata": {},
   "source": [
    "print size of array"
   ]
  },
  {
   "cell_type": "code",
   "execution_count": 36,
   "id": "9eb0a804",
   "metadata": {},
   "outputs": [
    {
     "name": "stdout",
     "output_type": "stream",
     "text": [
      "4\n",
      "8\n",
      "16\n"
     ]
    }
   ],
   "source": [
    "print(arr.size)\n",
    "print(arr_2d.size)\n",
    "print(arr_3d.size)"
   ]
  },
  {
   "cell_type": "markdown",
   "id": "59798e5f",
   "metadata": {},
   "source": [
    "print bytes of array"
   ]
  },
  {
   "cell_type": "code",
   "execution_count": 37,
   "id": "b5880b29",
   "metadata": {},
   "outputs": [
    {
     "name": "stdout",
     "output_type": "stream",
     "text": [
      "16\n",
      "32\n",
      "64\n"
     ]
    }
   ],
   "source": [
    "print(arr.nbytes)\n",
    "print(arr_2d.nbytes)\n",
    "print(arr_3d.nbytes)"
   ]
  },
  {
   "cell_type": "code",
   "execution_count": 38,
   "id": "3af9c117",
   "metadata": {},
   "outputs": [
    {
     "data": {
      "text/plain": [
       "<function numpy.shape(a)>"
      ]
     },
     "execution_count": 38,
     "metadata": {},
     "output_type": "execute_result"
    }
   ],
   "source": [
    "np.shape"
   ]
  },
  {
   "cell_type": "markdown",
   "id": "e0ae12a7",
   "metadata": {},
   "source": [
    "shape return tuple- number of element according dimensions"
   ]
  },
  {
   "cell_type": "code",
   "execution_count": 39,
   "id": "fd3b8b1c",
   "metadata": {},
   "outputs": [
    {
     "name": "stdout",
     "output_type": "stream",
     "text": [
      "(4,)\n",
      "(2, 4)\n",
      "(2, 2, 4)\n"
     ]
    }
   ],
   "source": [
    "print(arr.shape)      # 1d array - 4 element\n",
    "print(arr_2d.shape)   # 2d array - 2 arr inside arr, 4 element in every arr\n",
    "print(arr_3d.shape)   # 3d arr - 2 element arr, 2 element arr, 4 element"
   ]
  },
  {
   "cell_type": "markdown",
   "id": "e7e2610c",
   "metadata": {},
   "source": [
    "reshape a arr(3d array to 1d array)"
   ]
  },
  {
   "cell_type": "code",
   "execution_count": 40,
   "id": "4ccdfa6b",
   "metadata": {},
   "outputs": [],
   "source": [
    "reshape_arr = arr_3d.reshape(16) "
   ]
  },
  {
   "cell_type": "code",
   "execution_count": 41,
   "id": "4b59caf6",
   "metadata": {},
   "outputs": [
    {
     "data": {
      "text/plain": [
       "array([ 2,  4,  6,  8,  3,  6,  9, 12,  4,  8, 12, 16,  5, 10, 15, 20])"
      ]
     },
     "execution_count": 41,
     "metadata": {},
     "output_type": "execute_result"
    }
   ],
   "source": [
    "reshape_arr"
   ]
  },
  {
   "cell_type": "code",
   "execution_count": 42,
   "id": "9ad789a1",
   "metadata": {},
   "outputs": [],
   "source": [
    "# convert a multidimensional array into 1d array\n",
    "arr1d = arr_3d.reshape(-1)"
   ]
  },
  {
   "cell_type": "code",
   "execution_count": 43,
   "id": "39cdc635",
   "metadata": {},
   "outputs": [
    {
     "data": {
      "text/plain": [
       "array([ 2,  4,  6,  8,  3,  6,  9, 12,  4,  8, 12, 16,  5, 10, 15, 20])"
      ]
     },
     "execution_count": 43,
     "metadata": {},
     "output_type": "execute_result"
    }
   ],
   "source": [
    "arr1d"
   ]
  },
  {
   "cell_type": "code",
   "execution_count": 44,
   "id": "a66dd340",
   "metadata": {},
   "outputs": [],
   "source": [
    "reshape_arr1d = arr.reshape(2,2) # 1d array 2d array"
   ]
  },
  {
   "cell_type": "code",
   "execution_count": 45,
   "id": "2fee43f3",
   "metadata": {},
   "outputs": [
    {
     "data": {
      "text/plain": [
       "array([[ 2,  6],\n",
       "       [ 8, 10]])"
      ]
     },
     "execution_count": 45,
     "metadata": {},
     "output_type": "execute_result"
    }
   ],
   "source": [
    "reshape_arr1d"
   ]
  },
  {
   "cell_type": "markdown",
   "id": "0ff1969c",
   "metadata": {},
   "source": [
    "## Array Iterating"
   ]
  },
  {
   "cell_type": "markdown",
   "id": "98e6e03d",
   "metadata": {},
   "source": [
    "python iteration with for loop "
   ]
  },
  {
   "cell_type": "code",
   "execution_count": 46,
   "id": "43cb5713",
   "metadata": {},
   "outputs": [
    {
     "name": "stdout",
     "output_type": "stream",
     "text": [
      "2\n",
      "4\n",
      "6\n",
      "8\n",
      "3\n",
      "6\n",
      "9\n",
      "12\n"
     ]
    }
   ],
   "source": [
    "# iterate 2d array\n",
    "for arr in arr_2d:\n",
    "    for a in arr:\n",
    "        print(a)"
   ]
  },
  {
   "cell_type": "code",
   "execution_count": 47,
   "id": "15c12b19",
   "metadata": {},
   "outputs": [
    {
     "name": "stdout",
     "output_type": "stream",
     "text": [
      "2\n",
      "4\n",
      "6\n",
      "8\n",
      "3\n",
      "6\n",
      "9\n",
      "12\n",
      "4\n",
      "8\n",
      "12\n",
      "16\n",
      "5\n",
      "10\n",
      "15\n",
      "20\n"
     ]
    }
   ],
   "source": [
    "# iterate 3d array\n",
    "for arr in arr_3d:\n",
    "    for ar in arr:\n",
    "        for a in ar:\n",
    "            print(a)"
   ]
  },
  {
   "cell_type": "markdown",
   "id": "14fc7333",
   "metadata": {},
   "source": [
    "numpy iteration - nditer()"
   ]
  },
  {
   "cell_type": "code",
   "execution_count": 48,
   "id": "bee54ed0",
   "metadata": {},
   "outputs": [
    {
     "name": "stdout",
     "output_type": "stream",
     "text": [
      "2\n",
      "4\n",
      "6\n",
      "8\n",
      "3\n",
      "6\n",
      "9\n",
      "12\n"
     ]
    }
   ],
   "source": [
    "# 2d array \n",
    "for a in np.nditer(arr_2d):\n",
    "    print(a)"
   ]
  },
  {
   "cell_type": "code",
   "execution_count": 49,
   "id": "88ef2e43",
   "metadata": {},
   "outputs": [
    {
     "name": "stdout",
     "output_type": "stream",
     "text": [
      "2\n",
      "4\n",
      "6\n",
      "8\n",
      "3\n",
      "6\n",
      "9\n",
      "12\n",
      "4\n",
      "8\n",
      "12\n",
      "16\n",
      "5\n",
      "10\n",
      "15\n",
      "20\n"
     ]
    }
   ],
   "source": [
    "# 3d array\n",
    "for a in np.nditer(arr_3d):\n",
    "    print(a)"
   ]
  },
  {
   "cell_type": "markdown",
   "id": "c8b3d0b1",
   "metadata": {},
   "source": [
    "iterate multi dimension using flat"
   ]
  },
  {
   "cell_type": "code",
   "execution_count": 50,
   "id": "fd2a21ee",
   "metadata": {},
   "outputs": [
    {
     "name": "stdout",
     "output_type": "stream",
     "text": [
      "2\n",
      "4\n",
      "6\n",
      "8\n",
      "3\n",
      "6\n",
      "9\n",
      "12\n",
      "4\n",
      "8\n",
      "12\n",
      "16\n",
      "5\n",
      "10\n",
      "15\n",
      "20\n"
     ]
    }
   ],
   "source": [
    "# flat - 1d iterator over multi dimension array, converts multi dimension array in 1d array then iterate\n",
    "for a in arr_3d.flat:\n",
    "    print(a)"
   ]
  },
  {
   "cell_type": "code",
   "execution_count": 51,
   "id": "b74f467b",
   "metadata": {},
   "outputs": [
    {
     "name": "stdout",
     "output_type": "stream",
     "text": [
      "Index : 0,  Element : 2\n",
      "Index : 1,  Element : 4\n",
      "Index : 2,  Element : 6\n",
      "Index : 3,  Element : 8\n",
      "Index : 4,  Element : 3\n",
      "Index : 5,  Element : 6\n",
      "Index : 6,  Element : 9\n",
      "Index : 7,  Element : 12\n",
      "Index : 8,  Element : 4\n",
      "Index : 9,  Element : 8\n",
      "Index : 10,  Element : 12\n",
      "Index : 11,  Element : 16\n",
      "Index : 12,  Element : 5\n",
      "Index : 13,  Element : 10\n",
      "Index : 14,  Element : 15\n",
      "Index : 15,  Element : 20\n"
     ]
    }
   ],
   "source": [
    "# check index \n",
    "for i, a in enumerate(arr_3d.flat):\n",
    "    print(f\"Index : {i},  Element : {a}\")"
   ]
  },
  {
   "cell_type": "markdown",
   "id": "76ef4132",
   "metadata": {},
   "source": [
    "change value using flat [index]"
   ]
  },
  {
   "cell_type": "code",
   "execution_count": 52,
   "id": "b6047fbc",
   "metadata": {},
   "outputs": [
    {
     "name": "stdout",
     "output_type": "stream",
     "text": [
      "[[[ 2  4  6  8]\n",
      "  [ 3  6  9 12]]\n",
      "\n",
      " [[ 4  8  7 16]\n",
      "  [ 5 10 15 20]]]\n"
     ]
    }
   ],
   "source": [
    "arr_3d.flat[10] = 7  \n",
    "print(arr_3d)"
   ]
  },
  {
   "cell_type": "code",
   "execution_count": 53,
   "id": "47ec92aa",
   "metadata": {},
   "outputs": [
    {
     "name": "stdout",
     "output_type": "stream",
     "text": [
      "[[[ 2  4  6  8]\n",
      "  [ 5  5  5  5]]\n",
      "\n",
      " [[ 4  8  7 16]\n",
      "  [ 5 10 15 20]]]\n"
     ]
    }
   ],
   "source": [
    "# change value in range flat[start:end]\n",
    "arr_3d.flat[4:8] = 5\n",
    "print(arr_3d)"
   ]
  },
  {
   "cell_type": "markdown",
   "id": "e572e58e",
   "metadata": {},
   "source": [
    "iteration with ndenumerate"
   ]
  },
  {
   "cell_type": "code",
   "execution_count": 54,
   "id": "2bc33f96",
   "metadata": {},
   "outputs": [
    {
     "name": "stdout",
     "output_type": "stream",
     "text": [
      "(0, 0, 0) 2\n",
      "(0, 0, 1) 4\n",
      "(0, 0, 2) 6\n",
      "(0, 0, 3) 8\n",
      "(0, 1, 0) 5\n",
      "(0, 1, 1) 5\n",
      "(0, 1, 2) 5\n",
      "(0, 1, 3) 5\n",
      "(1, 0, 0) 4\n",
      "(1, 0, 1) 8\n",
      "(1, 0, 2) 7\n",
      "(1, 0, 3) 16\n",
      "(1, 1, 0) 5\n",
      "(1, 1, 1) 10\n",
      "(1, 1, 2) 15\n",
      "(1, 1, 3) 20\n"
     ]
    }
   ],
   "source": [
    "for idx, a in np.ndenumerate(arr_3d):\n",
    "    print(idx, a)"
   ]
  },
  {
   "cell_type": "markdown",
   "id": "ec9315d3",
   "metadata": {},
   "source": [
    "## Join Numpy Arrays"
   ]
  },
  {
   "cell_type": "markdown",
   "id": "11ed0fc9",
   "metadata": {},
   "source": [
    "join two array with concatenate"
   ]
  },
  {
   "cell_type": "code",
   "execution_count": 55,
   "id": "53d3cd55",
   "metadata": {},
   "outputs": [
    {
     "data": {
      "text/plain": [
       "array([ 2,  5,  8, 10,  2,  4,  6,  8])"
      ]
     },
     "execution_count": 55,
     "metadata": {},
     "output_type": "execute_result"
    }
   ],
   "source": [
    "arr = np.array([2, 5, 8 , 10])\n",
    "arr2 = np.array((2,4,6,8))\n",
    "np.concatenate((arr, arr2))"
   ]
  },
  {
   "cell_type": "code",
   "execution_count": 56,
   "id": "7a9113d3",
   "metadata": {},
   "outputs": [
    {
     "data": {
      "text/plain": [
       "array([ 2,  4,  6,  8,  2,  5,  8, 10])"
      ]
     },
     "execution_count": 56,
     "metadata": {},
     "output_type": "execute_result"
    }
   ],
   "source": [
    "np.concatenate((arr2,arr))"
   ]
  },
  {
   "cell_type": "code",
   "execution_count": 57,
   "id": "df2bf0c2",
   "metadata": {},
   "outputs": [],
   "source": [
    "arr_2d_ = np.array([[4,8,12,16],[5,10,15,20]])"
   ]
  },
  {
   "cell_type": "code",
   "execution_count": 58,
   "id": "9d2c30b7",
   "metadata": {},
   "outputs": [
    {
     "data": {
      "text/plain": [
       "array([[ 4,  8, 12, 16],\n",
       "       [ 5, 10, 15, 20]])"
      ]
     },
     "execution_count": 58,
     "metadata": {},
     "output_type": "execute_result"
    }
   ],
   "source": [
    "arr_2d_"
   ]
  },
  {
   "cell_type": "code",
   "execution_count": 59,
   "id": "7b7dbf2a",
   "metadata": {},
   "outputs": [
    {
     "data": {
      "text/plain": [
       "array([[ 2,  4,  6,  8],\n",
       "       [ 3,  6,  9, 12]])"
      ]
     },
     "execution_count": 59,
     "metadata": {},
     "output_type": "execute_result"
    }
   ],
   "source": [
    "arr_2d"
   ]
  },
  {
   "cell_type": "markdown",
   "id": "0bf493c1",
   "metadata": {},
   "source": [
    "concatenate with axis "
   ]
  },
  {
   "cell_type": "code",
   "execution_count": 60,
   "id": "a077f067",
   "metadata": {},
   "outputs": [
    {
     "data": {
      "text/plain": [
       "array([[ 2,  4,  6,  8,  4,  8, 12, 16],\n",
       "       [ 3,  6,  9, 12,  5, 10, 15, 20]])"
      ]
     },
     "execution_count": 60,
     "metadata": {},
     "output_type": "execute_result"
    }
   ],
   "source": [
    "np.concatenate((arr_2d, arr_2d_), axis=1) # add in row"
   ]
  },
  {
   "cell_type": "code",
   "execution_count": 61,
   "id": "f2538423",
   "metadata": {},
   "outputs": [
    {
     "data": {
      "text/plain": [
       "array([[ 2,  4,  6,  8],\n",
       "       [ 3,  6,  9, 12],\n",
       "       [ 4,  8, 12, 16],\n",
       "       [ 5, 10, 15, 20]])"
      ]
     },
     "execution_count": 61,
     "metadata": {},
     "output_type": "execute_result"
    }
   ],
   "source": [
    "np.concatenate((arr_2d, arr_2d_), axis = 0) #add in column"
   ]
  },
  {
   "cell_type": "markdown",
   "id": "c18ac919",
   "metadata": {},
   "source": [
    "join array with stack - it join arr not elements"
   ]
  },
  {
   "cell_type": "code",
   "execution_count": 62,
   "id": "6ca5dd8c",
   "metadata": {},
   "outputs": [
    {
     "data": {
      "text/plain": [
       "array([[ 2,  2],\n",
       "       [ 4,  5],\n",
       "       [ 6,  8],\n",
       "       [ 8, 10]])"
      ]
     },
     "execution_count": 62,
     "metadata": {},
     "output_type": "execute_result"
    }
   ],
   "source": [
    "# 1d array + 1d array = 2d array - we can pass axis\n",
    "stack = np.stack((arr2, arr), axis = 1)\n",
    "stack"
   ]
  },
  {
   "cell_type": "code",
   "execution_count": 63,
   "id": "2ee9ce3d",
   "metadata": {},
   "outputs": [
    {
     "data": {
      "text/plain": [
       "2"
      ]
     },
     "execution_count": 63,
     "metadata": {},
     "output_type": "execute_result"
    }
   ],
   "source": [
    "# check join array dimension\n",
    "stack.ndim"
   ]
  },
  {
   "cell_type": "code",
   "execution_count": 64,
   "id": "1f28e59a",
   "metadata": {},
   "outputs": [
    {
     "data": {
      "text/plain": [
       "array([[[ 2,  4,  6,  8],\n",
       "        [ 3,  6,  9, 12]],\n",
       "\n",
       "       [[ 4,  8, 12, 16],\n",
       "        [ 5, 10, 15, 20]]])"
      ]
     },
     "execution_count": 64,
     "metadata": {},
     "output_type": "execute_result"
    }
   ],
   "source": [
    "stack_ = np.stack((arr_2d, arr_2d_)) \n",
    "stack_"
   ]
  },
  {
   "cell_type": "code",
   "execution_count": 65,
   "id": "1ba578f7",
   "metadata": {},
   "outputs": [
    {
     "data": {
      "text/plain": [
       "3"
      ]
     },
     "execution_count": 65,
     "metadata": {},
     "output_type": "execute_result"
    }
   ],
   "source": [
    "# check join array dimension - 3d array\n",
    "stack_.ndim"
   ]
  },
  {
   "cell_type": "code",
   "execution_count": 66,
   "id": "d329c2d7",
   "metadata": {},
   "outputs": [
    {
     "data": {
      "text/plain": [
       "array([ 2,  5,  8, 10,  2,  4,  6,  8])"
      ]
     },
     "execution_count": 66,
     "metadata": {},
     "output_type": "execute_result"
    }
   ],
   "source": [
    "# use hstack for join element of array in row\n",
    "np.hstack((arr,arr2))"
   ]
  },
  {
   "cell_type": "code",
   "execution_count": 67,
   "id": "2901206c",
   "metadata": {},
   "outputs": [
    {
     "data": {
      "text/plain": [
       "array([[ 2,  5,  8, 10],\n",
       "       [ 2,  4,  6,  8]])"
      ]
     },
     "execution_count": 67,
     "metadata": {},
     "output_type": "execute_result"
    }
   ],
   "source": [
    "# vstack for join element of array in column\n",
    "np.vstack((arr,arr2))"
   ]
  },
  {
   "cell_type": "code",
   "execution_count": 68,
   "id": "3f0d0ede",
   "metadata": {},
   "outputs": [
    {
     "data": {
      "text/plain": [
       "array([[[ 2,  2],\n",
       "        [ 5,  4],\n",
       "        [ 8,  6],\n",
       "        [10,  8]]])"
      ]
     },
     "execution_count": 68,
     "metadata": {},
     "output_type": "execute_result"
    }
   ],
   "source": [
    "# dstack - join according depth \n",
    "# 4 element in array - 4 arr inside arr\n",
    "np.dstack((arr,arr2))"
   ]
  },
  {
   "cell_type": "markdown",
   "id": "565b6d98",
   "metadata": {},
   "source": [
    "## Split Array"
   ]
  },
  {
   "cell_type": "code",
   "execution_count": 69,
   "id": "37151463",
   "metadata": {},
   "outputs": [
    {
     "data": {
      "text/plain": [
       "[array([2, 5]), array([ 8, 10])]"
      ]
     },
     "execution_count": 69,
     "metadata": {},
     "output_type": "execute_result"
    }
   ],
   "source": [
    "# split a arr in multiple arr\n",
    "# array_split(array, split_part)\n",
    "np.array_split(arr, 2)"
   ]
  },
  {
   "cell_type": "code",
   "execution_count": 70,
   "id": "c4d2ab8e",
   "metadata": {},
   "outputs": [
    {
     "data": {
      "text/plain": [
       "[array([2, 5]), array([8]), array([10])]"
      ]
     },
     "execution_count": 70,
     "metadata": {},
     "output_type": "execute_result"
    }
   ],
   "source": [
    "np.array_split(arr,3)"
   ]
  },
  {
   "cell_type": "code",
   "execution_count": 71,
   "id": "cdaf85ce",
   "metadata": {},
   "outputs": [
    {
     "ename": "ValueError",
     "evalue": "array split does not result in an equal division",
     "output_type": "error",
     "traceback": [
      "\u001b[1;31m---------------------------------------------------------------------------\u001b[0m",
      "\u001b[1;31mValueError\u001b[0m                                Traceback (most recent call last)",
      "Input \u001b[1;32mIn [71]\u001b[0m, in \u001b[0;36m<cell line: 2>\u001b[1;34m()\u001b[0m\n\u001b[0;32m      1\u001b[0m \u001b[38;5;66;03m# we split() method but it split equal part otherwise raise error\u001b[39;00m\n\u001b[1;32m----> 2\u001b[0m \u001b[43mnp\u001b[49m\u001b[38;5;241;43m.\u001b[39;49m\u001b[43msplit\u001b[49m\u001b[43m(\u001b[49m\u001b[43marr\u001b[49m\u001b[43m,\u001b[49m\u001b[38;5;241;43m3\u001b[39;49m\u001b[43m)\u001b[49m\n",
      "File \u001b[1;32m<__array_function__ internals>:180\u001b[0m, in \u001b[0;36msplit\u001b[1;34m(*args, **kwargs)\u001b[0m\n",
      "File \u001b[1;32m~\\Desktop\\Python\\python\\lib\\site-packages\\numpy\\lib\\shape_base.py:872\u001b[0m, in \u001b[0;36msplit\u001b[1;34m(ary, indices_or_sections, axis)\u001b[0m\n\u001b[0;32m    870\u001b[0m     N \u001b[38;5;241m=\u001b[39m ary\u001b[38;5;241m.\u001b[39mshape[axis]\n\u001b[0;32m    871\u001b[0m     \u001b[38;5;28;01mif\u001b[39;00m N \u001b[38;5;241m%\u001b[39m sections:\n\u001b[1;32m--> 872\u001b[0m         \u001b[38;5;28;01mraise\u001b[39;00m \u001b[38;5;167;01mValueError\u001b[39;00m(\n\u001b[0;32m    873\u001b[0m             \u001b[38;5;124m'\u001b[39m\u001b[38;5;124marray split does not result in an equal division\u001b[39m\u001b[38;5;124m'\u001b[39m) \u001b[38;5;28;01mfrom\u001b[39;00m \u001b[38;5;28mNone\u001b[39m\n\u001b[0;32m    874\u001b[0m \u001b[38;5;28;01mreturn\u001b[39;00m array_split(ary, indices_or_sections, axis)\n",
      "\u001b[1;31mValueError\u001b[0m: array split does not result in an equal division"
     ]
    }
   ],
   "source": [
    "# we split() method but it split equal part otherwise raise error\n",
    "np.split(arr,3)"
   ]
  },
  {
   "cell_type": "code",
   "execution_count": 72,
   "id": "1908dc94",
   "metadata": {},
   "outputs": [
    {
     "data": {
      "text/plain": [
       "[array([2, 5]), array([ 8, 10])]"
      ]
     },
     "execution_count": 72,
     "metadata": {},
     "output_type": "execute_result"
    }
   ],
   "source": [
    "# split equal division\n",
    "np.split(arr,2)"
   ]
  },
  {
   "cell_type": "code",
   "execution_count": 73,
   "id": "9323c672",
   "metadata": {},
   "outputs": [
    {
     "data": {
      "text/plain": [
       "[array([[2, 4],\n",
       "        [3, 6]]),\n",
       " array([[ 6,  8],\n",
       "        [ 9, 12]])]"
      ]
     },
     "execution_count": 73,
     "metadata": {},
     "output_type": "execute_result"
    }
   ],
   "source": [
    "# hsplit - not work in 1d array\n",
    "np.hsplit(arr_2d,2)"
   ]
  },
  {
   "cell_type": "code",
   "execution_count": 74,
   "id": "14f3fda2",
   "metadata": {},
   "outputs": [
    {
     "data": {
      "text/plain": [
       "[array([[2, 4, 6, 8]]), array([[ 3,  6,  9, 12]])]"
      ]
     },
     "execution_count": 74,
     "metadata": {},
     "output_type": "execute_result"
    }
   ],
   "source": [
    "# vsplit - not work in 1d array\n",
    "np.vsplit(arr_2d,2)"
   ]
  },
  {
   "cell_type": "code",
   "execution_count": 75,
   "id": "1a659a96",
   "metadata": {},
   "outputs": [
    {
     "data": {
      "text/plain": [
       "[array([[[2, 4, 6, 8],\n",
       "         [5, 5, 5, 5]]]),\n",
       " array([[[ 4,  8,  7, 16],\n",
       "         [ 5, 10, 15, 20]]])]"
      ]
     },
     "execution_count": 75,
     "metadata": {},
     "output_type": "execute_result"
    }
   ],
   "source": [
    "# array split 3d array\n",
    "np.array_split(arr_3d, 2)"
   ]
  },
  {
   "cell_type": "code",
   "execution_count": 76,
   "id": "a0a78a31",
   "metadata": {},
   "outputs": [
    {
     "data": {
      "text/plain": [
       "[array([[[ 2,  4,  6,  8]],\n",
       " \n",
       "        [[ 4,  8,  7, 16]]]),\n",
       " array([[[ 5,  5,  5,  5]],\n",
       " \n",
       "        [[ 5, 10, 15, 20]]])]"
      ]
     },
     "execution_count": 76,
     "metadata": {},
     "output_type": "execute_result"
    }
   ],
   "source": [
    "# array split use axis for row and column(axis=1)\n",
    "np.array_split(arr_3d, 2, axis=1)"
   ]
  },
  {
   "cell_type": "markdown",
   "id": "2f27c81b",
   "metadata": {},
   "source": [
    "## Searching in Array"
   ]
  },
  {
   "cell_type": "code",
   "execution_count": 77,
   "id": "eb2b5b72",
   "metadata": {},
   "outputs": [],
   "source": [
    "# search index using where()\n",
    "ar = np.array([2, 3, 4, 6, 8, 9, 10, 12, 14, 15])\n",
    "search = np.where(ar == 8)"
   ]
  },
  {
   "cell_type": "code",
   "execution_count": 78,
   "id": "57f75abe",
   "metadata": {},
   "outputs": [
    {
     "data": {
      "text/plain": [
       "(array([4], dtype=int64),)"
      ]
     },
     "execution_count": 78,
     "metadata": {},
     "output_type": "execute_result"
    }
   ],
   "source": [
    "search"
   ]
  },
  {
   "cell_type": "code",
   "execution_count": 79,
   "id": "751be1da",
   "metadata": {},
   "outputs": [
    {
     "data": {
      "text/plain": [
       "(array([0, 2, 3, 4, 6, 7, 8], dtype=int64),)"
      ]
     },
     "execution_count": 79,
     "metadata": {},
     "output_type": "execute_result"
    }
   ],
   "source": [
    "# search with condition- show even value index\n",
    "np.where(ar%2==0)"
   ]
  },
  {
   "cell_type": "code",
   "execution_count": 80,
   "id": "af2a1006",
   "metadata": {},
   "outputs": [
    {
     "data": {
      "text/plain": [
       "(array([1, 5, 9], dtype=int64),)"
      ]
     },
     "execution_count": 80,
     "metadata": {},
     "output_type": "execute_result"
    }
   ],
   "source": [
    "# show odd value index\n",
    "np.where(ar%2==1)"
   ]
  },
  {
   "cell_type": "markdown",
   "id": "68a4bad9",
   "metadata": {},
   "source": [
    "## Sorting Array"
   ]
  },
  {
   "cell_type": "code",
   "execution_count": 81,
   "id": "ac4465ce",
   "metadata": {},
   "outputs": [],
   "source": [
    "ar_ = np.array([4,1,3,9,7,15,11,8,18,5])"
   ]
  },
  {
   "cell_type": "code",
   "execution_count": 82,
   "id": "9e088d96",
   "metadata": {},
   "outputs": [
    {
     "data": {
      "text/plain": [
       "array([ 1,  3,  4,  5,  7,  8,  9, 11, 15, 18])"
      ]
     },
     "execution_count": 82,
     "metadata": {},
     "output_type": "execute_result"
    }
   ],
   "source": [
    "#sort array - not change in orignal array(make another copy)\n",
    "np.sort(ar_)"
   ]
  },
  {
   "cell_type": "code",
   "execution_count": 83,
   "id": "c038d914",
   "metadata": {},
   "outputs": [
    {
     "data": {
      "text/plain": [
       "array([[8, 3, 4, 1, 7],\n",
       "       [4, 9, 0, 5, 2]])"
      ]
     },
     "execution_count": 83,
     "metadata": {},
     "output_type": "execute_result"
    }
   ],
   "source": [
    "ar_1 = np.array([[8,3,4,1,7],[4,9,0,5,2]])\n",
    "ar_1"
   ]
  },
  {
   "cell_type": "code",
   "execution_count": 84,
   "id": "2a4aa45d",
   "metadata": {},
   "outputs": [
    {
     "data": {
      "text/plain": [
       "array([[1, 3, 4, 7, 8],\n",
       "       [0, 2, 4, 5, 9]])"
      ]
     },
     "execution_count": 84,
     "metadata": {},
     "output_type": "execute_result"
    }
   ],
   "source": [
    "# sort 2d array\n",
    "np.sort(ar_1)"
   ]
  },
  {
   "cell_type": "code",
   "execution_count": 85,
   "id": "38608912",
   "metadata": {},
   "outputs": [
    {
     "data": {
      "text/plain": [
       "array([[4, 3, 0, 1, 2],\n",
       "       [8, 9, 4, 5, 7]])"
      ]
     },
     "execution_count": 85,
     "metadata": {},
     "output_type": "execute_result"
    }
   ],
   "source": [
    "# sort 2d array with axis \n",
    "# axis = 0 (sort according to column )\n",
    "np.sort(ar_1, axis = 0)"
   ]
  },
  {
   "cell_type": "code",
   "execution_count": 86,
   "id": "d55dfbbd",
   "metadata": {},
   "outputs": [
    {
     "data": {
      "text/plain": [
       "array([[3, 1, 2, 4, 0],\n",
       "       [2, 4, 0, 3, 1]], dtype=int64)"
      ]
     },
     "execution_count": 86,
     "metadata": {},
     "output_type": "execute_result"
    }
   ],
   "source": [
    "# sort and display index array(array of index of element)\n",
    "index_arr = np.argsort(ar_1)\n",
    "index_arr"
   ]
  },
  {
   "cell_type": "code",
   "execution_count": 87,
   "id": "81ae9f7c",
   "metadata": {},
   "outputs": [
    {
     "data": {
      "text/plain": [
       "array([[1, 0, 1, 0, 1],\n",
       "       [0, 1, 0, 1, 0]], dtype=int64)"
      ]
     },
     "execution_count": 87,
     "metadata": {},
     "output_type": "execute_result"
    }
   ],
   "source": [
    "index_arr_ = np.argsort(ar_1, axis=0)\n",
    "index_arr_"
   ]
  },
  {
   "cell_type": "code",
   "execution_count": 88,
   "id": "ae305d41",
   "metadata": {},
   "outputs": [
    {
     "name": "stdout",
     "output_type": "stream",
     "text": [
      "4\n",
      "3\n"
     ]
    }
   ],
   "source": [
    "# find minimum and maximum value's index\n",
    "index_min = np.argmin(index_arr)\n",
    "print(index_min)\n",
    "index_max = np.argmax(index_arr)\n",
    "print(index_max)"
   ]
  },
  {
   "cell_type": "markdown",
   "id": "b7ce3243",
   "metadata": {},
   "source": [
    "## Filter Array"
   ]
  },
  {
   "cell_type": "code",
   "execution_count": 89,
   "id": "f8c69bb2",
   "metadata": {},
   "outputs": [
    {
     "name": "stdout",
     "output_type": "stream",
     "text": [
      "CPU times: total: 0 ns\n",
      "Wall time: 0 ns\n",
      "[False False False  True  True  True  True  True  True False]\n",
      "[ 9  7 15 11  8 18]\n"
     ]
    }
   ],
   "source": [
    "# filter array with condition\n",
    "%time\n",
    "filter = ar_ > 5          # true when conditon true otherwise false\n",
    "filter_ar = ar_[filter]   # array of true value\n",
    "print(filter)\n",
    "print(filter_ar)"
   ]
  },
  {
   "cell_type": "code",
   "execution_count": 90,
   "id": "575cba02",
   "metadata": {},
   "outputs": [
    {
     "name": "stdout",
     "output_type": "stream",
     "text": [
      "CPU times: total: 0 ns\n",
      "Wall time: 0 ns\n",
      "[9, 7, 15, 11, 8, 18]\n"
     ]
    }
   ],
   "source": [
    "# we can also filter with for loop\n",
    "%time\n",
    "filter_ar = []\n",
    "for a in ar_:\n",
    "    if a > 5:\n",
    "        filter_ar.append(a)\n",
    "print(filter_ar)"
   ]
  },
  {
   "cell_type": "markdown",
   "id": "eef98c20",
   "metadata": {},
   "source": [
    "## More"
   ]
  },
  {
   "cell_type": "code",
   "execution_count": 91,
   "id": "3cad4c44",
   "metadata": {},
   "outputs": [
    {
     "data": {
      "text/plain": [
       "8"
      ]
     },
     "execution_count": 91,
     "metadata": {},
     "output_type": "execute_result"
    }
   ],
   "source": [
    "#count nonzeor element \n",
    "np.count_nonzero(arr_2d)"
   ]
  },
  {
   "cell_type": "code",
   "execution_count": 92,
   "id": "0ee08534",
   "metadata": {},
   "outputs": [],
   "source": [
    "# difference betweeen size of python list and numpy array\n",
    "import sys"
   ]
  },
  {
   "cell_type": "code",
   "execution_count": 93,
   "id": "4b20871d",
   "metadata": {},
   "outputs": [],
   "source": [
    "# defien python list\n",
    "py_ar = [4,16,34,67]"
   ]
  },
  {
   "cell_type": "code",
   "execution_count": 94,
   "id": "b824bbec",
   "metadata": {},
   "outputs": [],
   "source": [
    "# define numpy arrray(convert python list to numpy array)\n",
    "np_ar = np.array(py_ar)"
   ]
  },
  {
   "cell_type": "code",
   "execution_count": 95,
   "id": "a6765de1",
   "metadata": {},
   "outputs": [
    {
     "data": {
      "text/plain": [
       "112"
      ]
     },
     "execution_count": 95,
     "metadata": {},
     "output_type": "execute_result"
    }
   ],
   "source": [
    "# size of python list\n",
    "sys.getsizeof(1) * len(py_ar)"
   ]
  },
  {
   "cell_type": "code",
   "execution_count": 96,
   "id": "0da18013",
   "metadata": {},
   "outputs": [
    {
     "data": {
      "text/plain": [
       "16"
      ]
     },
     "execution_count": 96,
     "metadata": {},
     "output_type": "execute_result"
    }
   ],
   "source": [
    "# size of numpy array\n",
    "np_ar.itemsize * np_ar.size"
   ]
  },
  {
   "cell_type": "code",
   "execution_count": 97,
   "id": "9fb46e29",
   "metadata": {},
   "outputs": [
    {
     "data": {
      "text/plain": [
       "[4, 16, 34, 67]"
      ]
     },
     "execution_count": 97,
     "metadata": {},
     "output_type": "execute_result"
    }
   ],
   "source": [
    "# convert numpy array to python list\n",
    "np_ar.tolist()"
   ]
  },
  {
   "cell_type": "code",
   "execution_count": 98,
   "id": "6f38573f",
   "metadata": {},
   "outputs": [],
   "source": [
    "# we save any arr in numpy with name\n",
    "np.save('my_np', np_ar)"
   ]
  },
  {
   "cell_type": "code",
   "execution_count": 99,
   "id": "cc8d9427",
   "metadata": {},
   "outputs": [],
   "source": [
    "# we can use that array any notebook using load and npy extension\n",
    "new_arr = np.load('my_np.npy')"
   ]
  },
  {
   "cell_type": "code",
   "execution_count": 100,
   "id": "7f39af0c",
   "metadata": {},
   "outputs": [
    {
     "data": {
      "text/plain": [
       "array([ 4, 16, 34, 67])"
      ]
     },
     "execution_count": 100,
     "metadata": {},
     "output_type": "execute_result"
    }
   ],
   "source": [
    "new_arr"
   ]
  }
 ],
 "metadata": {
  "kernelspec": {
   "display_name": "Python 3 (ipykernel)",
   "language": "python",
   "name": "python3"
  },
  "language_info": {
   "codemirror_mode": {
    "name": "ipython",
    "version": 3
   },
   "file_extension": ".py",
   "mimetype": "text/x-python",
   "name": "python",
   "nbconvert_exporter": "python",
   "pygments_lexer": "ipython3",
   "version": "3.10.4"
  }
 },
 "nbformat": 4,
 "nbformat_minor": 5
}
