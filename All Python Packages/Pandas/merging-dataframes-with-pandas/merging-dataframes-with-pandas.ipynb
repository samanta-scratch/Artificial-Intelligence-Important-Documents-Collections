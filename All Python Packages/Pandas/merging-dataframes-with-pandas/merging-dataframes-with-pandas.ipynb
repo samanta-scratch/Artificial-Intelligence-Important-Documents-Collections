{
 "cells": [
  {
   "cell_type": "markdown",
   "metadata": {},
   "source": [
    "# 1. Reading multiple data files"
   ]
  },
  {
   "cell_type": "code",
   "execution_count": 1,
   "metadata": {},
   "outputs": [],
   "source": [
    "from glob import glob\n",
    "import os\n",
    "import pandas as pd"
   ]
  },
  {
   "cell_type": "code",
   "execution_count": 2,
   "metadata": {},
   "outputs": [],
   "source": [
    "def print_function(strFunction):\n",
    "    '''\n",
    "    Print string function and its output nicely\n",
    "    \n",
    "    Parameter\n",
    "    ---------\n",
    "    strFunction: str\n",
    "        String representation of a function\n",
    "    \n",
    "    Return\n",
    "    ------\n",
    "    Nicely formatted print output\n",
    "    '''\n",
    "    #print(func)\n",
    "    #print(eval(func))\n",
    "    print('{0}: {1}'.format(strFunction, eval(strFunction)))"
   ]
  },
  {
   "cell_type": "code",
   "execution_count": 3,
   "metadata": {},
   "outputs": [
    {
     "name": "stdout",
     "output_type": "stream",
     "text": [
      "os.getcwd(): /home/anonymous/Documents/github/data-science/pandas/merging-dataframes-with-pandas\n",
      "os.listdir(): ['.ipynb_checkpoints', 'merging-dataframes-with-pandas.ipynb', 'data']\n",
      "os.listdir(\"data\"): ['Sales.zip', 'Summer Olympic medals', 'Sales', 'automobiles.csv', 'oil_price.csv', 'sp500.csv', 'pittsburgh2013.csv', 'exchange.csv', 'Baby names', 'GDP.zip', 'GDP', 'Baby names.zip', 'Summer Olympic medals.zip']\n"
     ]
    }
   ],
   "source": [
    "print_function('os.getcwd()')\n",
    "print_function('os.listdir()')\n",
    "print_function('os.listdir(\"data\")')"
   ]
  },
  {
   "cell_type": "code",
   "execution_count": 4,
   "metadata": {},
   "outputs": [],
   "source": [
    "def getcwd_csv(cwd):\n",
    "    '''\n",
    "    Read all csv in the provided path as [pd.Dataframe, pd.Dataframe, ...]\n",
    "    \n",
    "    Parameter\n",
    "    ---------\n",
    "    cwd: str\n",
    "        Path of current working directory\n",
    "\n",
    "    Return\n",
    "    ------\n",
    "    Return [pd.Dataframe, pd.Dataframe, ...]\n",
    "    '''\n",
    "    import os\n",
    "    import pandas as pd\n",
    "    \n",
    "    ori = os.getcwd()\n",
    "    os.chdir(cwd)\n",
    "    \n",
    "    result = []\n",
    "    \n",
    "    for file in os.listdir():\n",
    "        if 'csv' in file:\n",
    "            print('Appending: {0}'.format(file))\n",
    "            result.append(pd.read_csv(file))\n",
    "\n",
    "    print('Finished appending, the list length: {0}'.format(len(result)))\n",
    "    \n",
    "    if len(result) == 0:\n",
    "        print('There is 0 pd.Dataframe in the list')\n",
    "    elif len(result) > 0:\n",
    "        print('There is {0} pd.Dataframe(s) in the list'.format(len(result)))\n",
    "    else:\n",
    "        print('Something is wrong, please check getcwd_csv() function')\n",
    "    \n",
    "    os.chdir(ori)\n",
    "\n",
    "    return result"
   ]
  },
  {
   "cell_type": "code",
   "execution_count": 5,
   "metadata": {},
   "outputs": [
    {
     "name": "stdout",
     "output_type": "stream",
     "text": [
      "Appending: automobiles.csv\n",
      "Appending: oil_price.csv\n",
      "Appending: sp500.csv\n",
      "Appending: pittsburgh2013.csv\n",
      "Appending: exchange.csv\n",
      "Finished appending, the list length: 5\n",
      "There is 5 pd.Dataframe(s) in the list\n"
     ]
    }
   ],
   "source": [
    "automobiles, oil_price, sp500, pittsburgh2013, exchange = [df for df in getcwd_csv('data')]"
   ]
  },
  {
   "cell_type": "code",
   "execution_count": 6,
   "metadata": {},
   "outputs": [
    {
     "name": "stdout",
     "output_type": "stream",
     "text": [
      "os.getcwd(): /home/anonymous/Documents/github/data-science/pandas/merging-dataframes-with-pandas\n",
      "os.listdir(): ['.ipynb_checkpoints', 'merging-dataframes-with-pandas.ipynb', 'data']\n",
      "os.listdir(\"data\"): ['Sales.zip', 'Summer Olympic medals', 'Sales', 'automobiles.csv', 'oil_price.csv', 'sp500.csv', 'pittsburgh2013.csv', 'exchange.csv', 'Baby names', 'GDP.zip', 'GDP', 'Baby names.zip', 'Summer Olympic medals.zip']\n"
     ]
    }
   ],
   "source": [
    "print_function('os.getcwd()')\n",
    "print_function('os.listdir()')\n",
    "print_function('os.listdir(\"data\")')"
   ]
  },
  {
   "cell_type": "code",
   "execution_count": 7,
   "metadata": {},
   "outputs": [
    {
     "data": {
      "text/plain": [
       "((392, 9), (156, 2), (252, 7), (365, 23), (250, 2))"
      ]
     },
     "execution_count": 7,
     "metadata": {},
     "output_type": "execute_result"
    }
   ],
   "source": [
    "automobiles, oil_price, sp500, pittsburgh2013, exchange = [pd.read_csv(df) for df in glob('data/*.csv')]\n",
    "automobiles.shape, oil_price.shape, sp500.shape, pittsburgh2013.shape, exchange.shape"
   ]
  },
  {
   "cell_type": "code",
   "execution_count": 8,
   "metadata": {
    "scrolled": true
   },
   "outputs": [
    {
     "data": {
      "text/plain": [
       "((1934, 3), (19454, 3))"
      ]
     },
     "execution_count": 8,
     "metadata": {},
     "output_type": "execute_result"
    }
   ],
   "source": [
    "names1981, names1881 = [pd.read_csv(df) for df in glob('data/Baby names/*.csv')]\n",
    "names1881.shape, names1981.shape"
   ]
  },
  {
   "cell_type": "code",
   "execution_count": 9,
   "metadata": {
    "scrolled": true
   },
   "outputs": [
    {
     "data": {
      "text/plain": [
       "((56, 2), (278, 2))"
      ]
     },
     "execution_count": 9,
     "metadata": {},
     "output_type": "execute_result"
    }
   ],
   "source": [
    "gdp_china, gdp_usa = [pd.read_csv(df) for df in glob('data/GDP/*.csv')]\n",
    "gdp_china.shape, gdp_usa.shape"
   ]
  },
  {
   "cell_type": "code",
   "execution_count": 10,
   "metadata": {
    "scrolled": true
   },
   "outputs": [
    {
     "data": {
      "text/plain": [
       "((20, 4), (6, 4), (9, 4), (20, 4), (20, 4), (5, 4))"
      ]
     },
     "execution_count": 10,
     "metadata": {},
     "output_type": "execute_result"
    }
   ],
   "source": [
    "sales_feb_2015, feb_sales_service, feb_sales_software, sales_jan_2015, sales_mar_2015, feb_sales_hardware = [pd.read_csv(df) for df in glob('data/Sales/*.csv')]\n",
    "sales_feb_2015.shape, feb_sales_service.shape, feb_sales_software.shape, sales_jan_2015.shape, sales_mar_2015.shape, feb_sales_hardware.shape"
   ]
  },
  {
   "cell_type": "code",
   "execution_count": 11,
   "metadata": {},
   "outputs": [
    {
     "name": "stdout",
     "output_type": "stream",
     "text": [
      "['data/Summer Olympic medals/Gold.csv', 'data/Summer Olympic medals/silver_top5.csv', 'data/Summer Olympic medals/gold_top5.csv', 'data/Summer Olympic medals/Summer Olympic medalists 1896 to 2008 - ALL MEDALISTS.tsv', 'data/Summer Olympic medals/Bronze.csv', 'data/Summer Olympic medals/Silver.csv', 'data/Summer Olympic medals/Summer Olympic medalists 1896 to 2008 - IOC COUNTRY CODES.csv', 'data/Summer Olympic medals/Summer Olympic medalists 1896 to 2008 - EDITIONS.tsv', 'data/Summer Olympic medals/bronze_top5.csv']\n"
     ]
    },
    {
     "data": {
      "text/plain": [
       "((138, 3), (5, 2), (5, 2), (138, 3), (138, 3), (201, 3), (5, 2))"
      ]
     },
     "execution_count": 11,
     "metadata": {},
     "output_type": "execute_result"
    }
   ],
   "source": [
    "print(glob('data/Summer Olympic medals/*'))\n",
    "gold, silver_top5, gold_top5, bronze, silver, ioc_country_codes, bronze_top5 = [pd.read_csv(df) for df in glob('data/Summer Olympic medals/*.csv')]\n",
    "gold.shape, silver_top5.shape, gold_top5.shape, bronze.shape, silver.shape, ioc_country_codes.shape, bronze_top5.shape"
   ]
  },
  {
   "cell_type": "markdown",
   "metadata": {},
   "source": [
    "## 1.1. Reindexing dataframes"
   ]
  },
  {
   "cell_type": "code",
   "execution_count": 12,
   "metadata": {},
   "outputs": [],
   "source": [
    "def print_dataframes_statistics(dataframes):\n",
    "    '''\n",
    "    Print the statistics of list of dataframes\n",
    "    \n",
    "    Parameter\n",
    "    ---------\n",
    "    dataframes: list\n",
    "        list of Pandas dataframe\n",
    "    \n",
    "    Return\n",
    "    ------\n",
    "    Print output\n",
    "    '''\n",
    "    for dataframe in dataframes:\n",
    "        print(dataframe.info())\n",
    "        print(dataframe.shape)\n",
    "        print(dataframe.head())\n",
    "        print('----------------------------------------\\n')"
   ]
  },
  {
   "cell_type": "code",
   "execution_count": 13,
   "metadata": {
    "scrolled": true
   },
   "outputs": [
    {
     "name": "stdout",
     "output_type": "stream",
     "text": [
      "<class 'pandas.core.frame.DataFrame'>\n",
      "RangeIndex: 138 entries, 0 to 137\n",
      "Data columns (total 3 columns):\n",
      "NOC        138 non-null object\n",
      "Country    138 non-null object\n",
      "Total      96 non-null float64\n",
      "dtypes: float64(1), object(2)\n",
      "memory usage: 3.3+ KB\n",
      "None\n",
      "(138, 3)\n",
      "   NOC         Country   Total\n",
      "0  USA   United States  2088.0\n",
      "1  URS    Soviet Union   838.0\n",
      "2  GBR  United Kingdom   498.0\n",
      "3  FRA          France   378.0\n",
      "4  GER         Germany   407.0\n",
      "----------------------------------------\n",
      "\n",
      "<class 'pandas.core.frame.DataFrame'>\n",
      "RangeIndex: 5 entries, 0 to 4\n",
      "Data columns (total 2 columns):\n",
      "Country    5 non-null object\n",
      "Total      5 non-null float64\n",
      "dtypes: float64(1), object(1)\n",
      "memory usage: 160.0+ bytes\n",
      "None\n",
      "(5, 2)\n",
      "          Country   Total\n",
      "0   United States  1195.0\n",
      "1    Soviet Union   627.0\n",
      "2  United Kingdom   591.0\n",
      "3          France   461.0\n",
      "4           Italy   394.0\n",
      "----------------------------------------\n",
      "\n",
      "<class 'pandas.core.frame.DataFrame'>\n",
      "RangeIndex: 5 entries, 0 to 4\n",
      "Data columns (total 2 columns):\n",
      "Country    5 non-null object\n",
      "Total      5 non-null float64\n",
      "dtypes: float64(1), object(1)\n",
      "memory usage: 160.0+ bytes\n",
      "None\n",
      "(5, 2)\n",
      "          Country   Total\n",
      "0   United States  2088.0\n",
      "1    Soviet Union   838.0\n",
      "2  United Kingdom   498.0\n",
      "3           Italy   460.0\n",
      "4         Germany   407.0\n",
      "----------------------------------------\n",
      "\n",
      "<class 'pandas.core.frame.DataFrame'>\n",
      "RangeIndex: 138 entries, 0 to 137\n",
      "Data columns (total 3 columns):\n",
      "NOC        138 non-null object\n",
      "Country    138 non-null object\n",
      "Total      119 non-null float64\n",
      "dtypes: float64(1), object(2)\n",
      "memory usage: 3.3+ KB\n",
      "None\n",
      "(138, 3)\n",
      "   NOC         Country   Total\n",
      "0  USA   United States  1052.0\n",
      "1  URS    Soviet Union   584.0\n",
      "2  GBR  United Kingdom   505.0\n",
      "3  FRA          France   475.0\n",
      "4  GER         Germany   454.0\n",
      "----------------------------------------\n",
      "\n",
      "<class 'pandas.core.frame.DataFrame'>\n",
      "RangeIndex: 138 entries, 0 to 137\n",
      "Data columns (total 3 columns):\n",
      "NOC        138 non-null object\n",
      "Country    138 non-null object\n",
      "Total      119 non-null float64\n",
      "dtypes: float64(1), object(2)\n",
      "memory usage: 3.3+ KB\n",
      "None\n",
      "(138, 3)\n",
      "   NOC         Country   Total\n",
      "0  USA   United States  1195.0\n",
      "1  URS    Soviet Union   627.0\n",
      "2  GBR  United Kingdom   591.0\n",
      "3  FRA          France   461.0\n",
      "4  GER         Germany   350.0\n",
      "----------------------------------------\n",
      "\n",
      "<class 'pandas.core.frame.DataFrame'>\n",
      "RangeIndex: 201 entries, 0 to 200\n",
      "Data columns (total 3 columns):\n",
      "Country     201 non-null object\n",
      "NOC         201 non-null object\n",
      "ISO code    200 non-null object\n",
      "dtypes: object(3)\n",
      "memory usage: 4.8+ KB\n",
      "None\n",
      "(201, 3)\n",
      "           Country  NOC ISO code\n",
      "0      Afghanistan  AFG       AF\n",
      "1          Albania  ALB       AL\n",
      "2          Algeria  ALG       DZ\n",
      "3  American Samoa*  ASA       AS\n",
      "4          Andorra  AND       AD\n",
      "----------------------------------------\n",
      "\n",
      "<class 'pandas.core.frame.DataFrame'>\n",
      "RangeIndex: 5 entries, 0 to 4\n",
      "Data columns (total 2 columns):\n",
      "Country    5 non-null object\n",
      "Total      5 non-null float64\n",
      "dtypes: float64(1), object(1)\n",
      "memory usage: 160.0+ bytes\n",
      "None\n",
      "(5, 2)\n",
      "          Country   Total\n",
      "0   United States  1052.0\n",
      "1    Soviet Union   584.0\n",
      "2  United Kingdom   505.0\n",
      "3          France   475.0\n",
      "4         Germany   454.0\n",
      "----------------------------------------\n",
      "\n"
     ]
    }
   ],
   "source": [
    "dfs = [gold, silver_top5, gold_top5, \n",
    "       bronze, silver, ioc_country_codes, bronze_top5]\n",
    "\n",
    "print_dataframes_statistics(dfs)"
   ]
  },
  {
   "cell_type": "code",
   "execution_count": null,
   "metadata": {},
   "outputs": [],
   "source": []
  }
 ],
 "metadata": {
  "kernelspec": {
   "display_name": "Python 3",
   "language": "python",
   "name": "python3"
  },
  "language_info": {
   "codemirror_mode": {
    "name": "ipython",
    "version": 3
   },
   "file_extension": ".py",
   "mimetype": "text/x-python",
   "name": "python",
   "nbconvert_exporter": "python",
   "pygments_lexer": "ipython3",
   "version": "3.6.7"
  }
 },
 "nbformat": 4,
 "nbformat_minor": 2
}
