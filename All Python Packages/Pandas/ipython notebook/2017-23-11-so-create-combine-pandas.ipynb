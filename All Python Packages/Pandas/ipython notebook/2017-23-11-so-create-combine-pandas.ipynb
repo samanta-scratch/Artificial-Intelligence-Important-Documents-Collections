{
 "cells": [
  {
   "cell_type": "markdown",
   "metadata": {},
   "source": [
    "## Creating and Combining DataFrame\n",
    "<b>class pandas.DataFrame(data=None, index=None, columns=None, dtype=None, copy=False)</b>\n",
    "\n",
    "Two-dimensional size-mutable, potentially heterogeneous tabular data structure with labeled axes (rows and columns). Arithmetic operations align on both row and column labels. Can be thought of as a dict-like container for Series objects. \n",
    "\n",
    "<b>class pandas.Series(data=None, index=None, dtype=None, name=None, copy=False, fastpath=False)</b>\n",
    "One-dimensional ndarray with axis labels (including time series).\n",
    "\n",
    "Labels need not be unique but must be a hashable type. The object supports both integer- and label-based indexing and provides a host of methods for performing operations involving the index. Statistical methods from ndarray have been overridden to automatically exclude missing data (currently represented as NaN).\n",
    "\n",
    "### Here are the main steps we will go through\n",
    "* How to create dataframe using pandas?\n",
    "* How to combine two data set using pandas?\n",
    "\n",
    "This is Just a little illustration.\n",
    "\n",
    "<img style=\"float: left;\" src=\"https://www.tutorialspoint.com/python_pandas/images/structure_table.jpg\"></img>"
   ]
  },
  {
   "cell_type": "code",
   "execution_count": 5,
   "metadata": {
    "ExecuteTime": {
     "end_time": "2017-11-23T22:07:56.029415Z",
     "start_time": "2017-11-23T22:07:56.025418Z"
    },
    "collapsed": true
   },
   "outputs": [],
   "source": [
    "import pandas as pd\n",
    "import numpy as np"
   ]
  },
  {
   "cell_type": "markdown",
   "metadata": {},
   "source": [
    "#### How to create dataframe using pandas?"
   ]
  },
  {
   "cell_type": "code",
   "execution_count": 16,
   "metadata": {
    "ExecuteTime": {
     "end_time": "2017-11-23T22:16:00.261745Z",
     "start_time": "2017-11-23T22:16:00.245745Z"
    }
   },
   "outputs": [
    {
     "data": {
      "text/html": [
       "<div>\n",
       "<style>\n",
       "    .dataframe thead tr:only-child th {\n",
       "        text-align: right;\n",
       "    }\n",
       "\n",
       "    .dataframe thead th {\n",
       "        text-align: left;\n",
       "    }\n",
       "\n",
       "    .dataframe tbody tr th {\n",
       "        vertical-align: top;\n",
       "    }\n",
       "</style>\n",
       "<table border=\"1\" class=\"dataframe\">\n",
       "  <thead>\n",
       "    <tr style=\"text-align: right;\">\n",
       "      <th></th>\n",
       "      <th>Column_1</th>\n",
       "    </tr>\n",
       "  </thead>\n",
       "  <tbody>\n",
       "    <tr>\n",
       "      <th>0</th>\n",
       "      <td>-0.649263</td>\n",
       "    </tr>\n",
       "    <tr>\n",
       "      <th>1</th>\n",
       "      <td>-0.115861</td>\n",
       "    </tr>\n",
       "    <tr>\n",
       "      <th>2</th>\n",
       "      <td>-1.249926</td>\n",
       "    </tr>\n",
       "    <tr>\n",
       "      <th>3</th>\n",
       "      <td>0.661612</td>\n",
       "    </tr>\n",
       "    <tr>\n",
       "      <th>4</th>\n",
       "      <td>-0.925243</td>\n",
       "    </tr>\n",
       "  </tbody>\n",
       "</table>\n",
       "</div>"
      ],
      "text/plain": [
       "   Column_1\n",
       "0 -0.649263\n",
       "1 -0.115861\n",
       "2 -1.249926\n",
       "3  0.661612\n",
       "4 -0.925243"
      ]
     },
     "execution_count": 16,
     "metadata": {},
     "output_type": "execute_result"
    }
   ],
   "source": [
    "# working with series\n",
    "#create a series\n",
    "s = pd.Series(np.random.randn(5))\n",
    "#create a dataframe column\n",
    "df = pd.DataFrame(s, columns=['Column_1'])\n",
    "df "
   ]
  },
  {
   "cell_type": "code",
   "execution_count": 8,
   "metadata": {
    "ExecuteTime": {
     "end_time": "2017-11-23T22:08:45.821607Z",
     "start_time": "2017-11-23T22:08:45.809604Z"
    }
   },
   "outputs": [
    {
     "data": {
      "text/html": [
       "<div>\n",
       "<style>\n",
       "    .dataframe thead tr:only-child th {\n",
       "        text-align: right;\n",
       "    }\n",
       "\n",
       "    .dataframe thead th {\n",
       "        text-align: left;\n",
       "    }\n",
       "\n",
       "    .dataframe tbody tr th {\n",
       "        vertical-align: top;\n",
       "    }\n",
       "</style>\n",
       "<table border=\"1\" class=\"dataframe\">\n",
       "  <thead>\n",
       "    <tr style=\"text-align: right;\">\n",
       "      <th></th>\n",
       "      <th>Column_1</th>\n",
       "    </tr>\n",
       "  </thead>\n",
       "  <tbody>\n",
       "    <tr>\n",
       "      <th>0</th>\n",
       "      <td>-1.446901</td>\n",
       "    </tr>\n",
       "    <tr>\n",
       "      <th>2</th>\n",
       "      <td>-0.092001</td>\n",
       "    </tr>\n",
       "    <tr>\n",
       "      <th>4</th>\n",
       "      <td>0.337288</td>\n",
       "    </tr>\n",
       "    <tr>\n",
       "      <th>3</th>\n",
       "      <td>0.841177</td>\n",
       "    </tr>\n",
       "    <tr>\n",
       "      <th>1</th>\n",
       "      <td>1.308139</td>\n",
       "    </tr>\n",
       "  </tbody>\n",
       "</table>\n",
       "</div>"
      ],
      "text/plain": [
       "   Column_1\n",
       "0 -1.446901\n",
       "2 -0.092001\n",
       "4  0.337288\n",
       "3  0.841177\n",
       "1  1.308139"
      ]
     },
     "execution_count": 8,
     "metadata": {},
     "output_type": "execute_result"
    }
   ],
   "source": [
    "#sorting \n",
    "df.sort_values(by='Column_1')"
   ]
  },
  {
   "cell_type": "code",
   "execution_count": 10,
   "metadata": {
    "ExecuteTime": {
     "end_time": "2017-11-23T22:09:10.294744Z",
     "start_time": "2017-11-23T22:09:10.282742Z"
    }
   },
   "outputs": [
    {
     "data": {
      "text/html": [
       "<div>\n",
       "<style>\n",
       "    .dataframe thead tr:only-child th {\n",
       "        text-align: right;\n",
       "    }\n",
       "\n",
       "    .dataframe thead th {\n",
       "        text-align: left;\n",
       "    }\n",
       "\n",
       "    .dataframe tbody tr th {\n",
       "        vertical-align: top;\n",
       "    }\n",
       "</style>\n",
       "<table border=\"1\" class=\"dataframe\">\n",
       "  <thead>\n",
       "    <tr style=\"text-align: right;\">\n",
       "      <th></th>\n",
       "      <th>Column_1</th>\n",
       "    </tr>\n",
       "  </thead>\n",
       "  <tbody>\n",
       "    <tr>\n",
       "      <th>0</th>\n",
       "      <td>-1.446901</td>\n",
       "    </tr>\n",
       "    <tr>\n",
       "      <th>2</th>\n",
       "      <td>-0.092001</td>\n",
       "    </tr>\n",
       "    <tr>\n",
       "      <th>3</th>\n",
       "      <td>0.841177</td>\n",
       "    </tr>\n",
       "    <tr>\n",
       "      <th>4</th>\n",
       "      <td>0.337288</td>\n",
       "    </tr>\n",
       "  </tbody>\n",
       "</table>\n",
       "</div>"
      ],
      "text/plain": [
       "   Column_1\n",
       "0 -1.446901\n",
       "2 -0.092001\n",
       "3  0.841177\n",
       "4  0.337288"
      ]
     },
     "execution_count": 10,
     "metadata": {},
     "output_type": "execute_result"
    }
   ],
   "source": [
    "#boolean indexing\n",
    "#It returns all rows in column_name,\n",
    "#that are less than 10\n",
    "df[df['Column_1'] <= 1]"
   ]
  },
  {
   "cell_type": "code",
   "execution_count": 230,
   "metadata": {
    "ExecuteTime": {
     "end_time": "2017-11-23T23:45:40.658807Z",
     "start_time": "2017-11-23T23:45:40.646806Z"
    }
   },
   "outputs": [
    {
     "data": {
      "text/plain": [
       "d   -0.691226\n",
       "b    0.611193\n",
       "a   -0.022808\n",
       "c    0.717137\n",
       "e   -1.631156\n",
       "dtype: float64"
      ]
     },
     "execution_count": 230,
     "metadata": {},
     "output_type": "execute_result"
    }
   ],
   "source": [
    "# creating simple series\n",
    "obj2 = pd.Series(np.random.randn(5), index=['d', 'b', 'a', 'c', 'e'])\n",
    "obj2"
   ]
  },
  {
   "cell_type": "code",
   "execution_count": 20,
   "metadata": {
    "ExecuteTime": {
     "end_time": "2017-11-23T22:16:34.067496Z",
     "start_time": "2017-11-23T22:16:34.059495Z"
    }
   },
   "outputs": [
    {
     "data": {
      "text/plain": [
       "Index(['d', 'b', 'a', 'c', 'e'], dtype='object')"
      ]
     },
     "execution_count": 20,
     "metadata": {},
     "output_type": "execute_result"
    }
   ],
   "source": [
    "obj2.index"
   ]
  },
  {
   "cell_type": "code",
   "execution_count": 229,
   "metadata": {
    "ExecuteTime": {
     "end_time": "2017-11-23T23:45:28.742514Z",
     "start_time": "2017-11-23T23:45:28.734510Z"
    }
   },
   "outputs": [
    {
     "data": {
      "text/plain": [
       "0.35472068069039486"
      ]
     },
     "execution_count": 229,
     "metadata": {},
     "output_type": "execute_result"
    }
   ],
   "source": [
    "# returns the value in e\n",
    "obj2['e']"
   ]
  },
  {
   "cell_type": "code",
   "execution_count": 26,
   "metadata": {
    "ExecuteTime": {
     "end_time": "2017-11-23T22:17:35.093111Z",
     "start_time": "2017-11-23T22:17:35.081098Z"
    }
   },
   "outputs": [
    {
     "data": {
      "text/plain": [
       "b   -0.140732\n",
       "a   -0.310954\n",
       "c   -1.305166\n",
       "e    0.354721\n",
       "dtype: float64"
      ]
     },
     "execution_count": 26,
     "metadata": {},
     "output_type": "execute_result"
    }
   ],
   "source": [
    "# returns all values that are greater than -2\n",
    "obj2[obj2 > -2]"
   ]
  },
  {
   "cell_type": "code",
   "execution_count": 27,
   "metadata": {
    "ExecuteTime": {
     "end_time": "2017-11-23T22:18:23.056189Z",
     "start_time": "2017-11-23T22:18:23.044189Z"
    }
   },
   "outputs": [
    {
     "data": {
      "text/plain": [
       "d   -4.177476\n",
       "b   -0.281464\n",
       "a   -0.621908\n",
       "c   -2.610332\n",
       "e    0.709441\n",
       "dtype: float64"
      ]
     },
     "execution_count": 27,
     "metadata": {},
     "output_type": "execute_result"
    }
   ],
   "source": [
    "# we can do multiplication on dataframe\n",
    "obj2 * 2"
   ]
  },
  {
   "cell_type": "code",
   "execution_count": 28,
   "metadata": {
    "ExecuteTime": {
     "end_time": "2017-11-23T22:18:39.208180Z",
     "start_time": "2017-11-23T22:18:39.200179Z"
    }
   },
   "outputs": [
    {
     "data": {
      "text/plain": [
       "True"
      ]
     },
     "execution_count": 28,
     "metadata": {},
     "output_type": "execute_result"
    }
   ],
   "source": [
    "# we can do boolean expression\n",
    "'b' in obj2"
   ]
  },
  {
   "cell_type": "code",
   "execution_count": 228,
   "metadata": {
    "ExecuteTime": {
     "end_time": "2017-11-23T23:45:13.305409Z",
     "start_time": "2017-11-23T23:45:13.297409Z"
    }
   },
   "outputs": [
    {
     "data": {
      "text/plain": [
       "False"
      ]
     },
     "execution_count": 228,
     "metadata": {},
     "output_type": "execute_result"
    }
   ],
   "source": [
    "# returns false, because 'g' is not defined in our data\n",
    "'g' in obj2"
   ]
  },
  {
   "cell_type": "code",
   "execution_count": 39,
   "metadata": {
    "ExecuteTime": {
     "end_time": "2017-11-23T22:22:34.075698Z",
     "start_time": "2017-11-23T22:22:34.063696Z"
    }
   },
   "outputs": [
    {
     "data": {
      "text/plain": [
       "Cat        24\n",
       "Dog        11\n",
       "Fox        18\n",
       "Horse    1000\n",
       "dtype: int64"
      ]
     },
     "execution_count": 39,
     "metadata": {},
     "output_type": "execute_result"
    }
   ],
   "source": [
    "#Let's see we have this data\n",
    "sdata = {'Cat': 24, 'Dog': 11, 'Fox': 18, 'Horse': 1000}\n",
    "obj3 = pd.Series(sdata)\n",
    "obj3"
   ]
  },
  {
   "cell_type": "code",
   "execution_count": 227,
   "metadata": {
    "ExecuteTime": {
     "end_time": "2017-11-23T23:44:46.676994Z",
     "start_time": "2017-11-23T23:44:46.664997Z"
    }
   },
   "outputs": [
    {
     "data": {
      "text/plain": [
       "Lion        NaN\n",
       "Dog        11.0\n",
       "Cat        24.0\n",
       "Horse    1000.0\n",
       "dtype: float64"
      ]
     },
     "execution_count": 227,
     "metadata": {},
     "output_type": "execute_result"
    }
   ],
   "source": [
    "# defined list, and assign series to it\n",
    "sindex = ['Lion', 'Dog', 'Cat', 'Horse']\n",
    "obj4 = pd.Series(sdata, index=sindex)\n",
    "obj4"
   ]
  },
  {
   "cell_type": "code",
   "execution_count": 226,
   "metadata": {
    "ExecuteTime": {
     "end_time": "2017-11-23T23:44:29.345208Z",
     "start_time": "2017-11-23T23:44:29.333190Z"
    }
   },
   "outputs": [
    {
     "data": {
      "text/plain": [
       "Lion      True\n",
       "Dog      False\n",
       "Cat      False\n",
       "Horse    False\n",
       "dtype: bool"
      ]
     },
     "execution_count": 226,
     "metadata": {},
     "output_type": "execute_result"
    }
   ],
   "source": [
    "# checking if our data contains null\n",
    "obj4.isnull()"
   ]
  },
  {
   "cell_type": "code",
   "execution_count": 44,
   "metadata": {
    "ExecuteTime": {
     "end_time": "2017-11-23T22:24:42.540978Z",
     "start_time": "2017-11-23T22:24:42.528993Z"
    }
   },
   "outputs": [
    {
     "data": {
      "text/plain": [
       "Cat        48.0\n",
       "Dog        22.0\n",
       "Fox         NaN\n",
       "Horse    2000.0\n",
       "Lion        NaN\n",
       "dtype: float64"
      ]
     },
     "execution_count": 44,
     "metadata": {},
     "output_type": "execute_result"
    }
   ],
   "source": [
    "#we can add two dataframe together\n",
    "obj3 + obj4"
   ]
  },
  {
   "cell_type": "code",
   "execution_count": 224,
   "metadata": {
    "ExecuteTime": {
     "end_time": "2017-11-23T23:44:06.146831Z",
     "start_time": "2017-11-23T23:44:06.134828Z"
    }
   },
   "outputs": [
    {
     "data": {
      "text/plain": [
       "0     89\n",
       "1     78\n",
       "2     90\n",
       "3    100\n",
       "4     98\n",
       "dtype: int64"
      ]
     },
     "execution_count": 224,
     "metadata": {},
     "output_type": "execute_result"
    }
   ],
   "source": [
    "# we can create series calling Series function on pandas\n",
    "programming = pd.Series([89,78,90,100,98])\n",
    "programming"
   ]
  },
  {
   "cell_type": "code",
   "execution_count": 223,
   "metadata": {
    "ExecuteTime": {
     "end_time": "2017-11-23T23:43:35.546369Z",
     "start_time": "2017-11-23T23:43:35.534368Z"
    }
   },
   "outputs": [
    {
     "data": {
      "text/plain": [
       "C++        89\n",
       "C          78\n",
       "R          90\n",
       "Python    100\n",
       "Java       98\n",
       "dtype: int64"
      ]
     },
     "execution_count": 223,
     "metadata": {},
     "output_type": "execute_result"
    }
   ],
   "source": [
    "# assign index to names\n",
    "programming.index = ['C++', 'C', 'R', 'Python', 'Java']\n",
    "programming"
   ]
  },
  {
   "cell_type": "code",
   "execution_count": 102,
   "metadata": {
    "ExecuteTime": {
     "end_time": "2017-11-23T22:40:34.734466Z",
     "start_time": "2017-11-23T22:40:34.718467Z"
    }
   },
   "outputs": [
    {
     "data": {
      "text/html": [
       "<div>\n",
       "<style>\n",
       "    .dataframe thead tr:only-child th {\n",
       "        text-align: right;\n",
       "    }\n",
       "\n",
       "    .dataframe thead th {\n",
       "        text-align: left;\n",
       "    }\n",
       "\n",
       "    .dataframe tbody tr th {\n",
       "        vertical-align: top;\n",
       "    }\n",
       "</style>\n",
       "<table border=\"1\" class=\"dataframe\">\n",
       "  <thead>\n",
       "    <tr style=\"text-align: right;\">\n",
       "      <th></th>\n",
       "      <th>Popular</th>\n",
       "      <th>Programming</th>\n",
       "      <th>Year</th>\n",
       "    </tr>\n",
       "  </thead>\n",
       "  <tbody>\n",
       "    <tr>\n",
       "      <th>0</th>\n",
       "      <td>90</td>\n",
       "      <td>C++</td>\n",
       "      <td>1998</td>\n",
       "    </tr>\n",
       "    <tr>\n",
       "      <th>1</th>\n",
       "      <td>79</td>\n",
       "      <td>C</td>\n",
       "      <td>1972</td>\n",
       "    </tr>\n",
       "    <tr>\n",
       "      <th>2</th>\n",
       "      <td>75</td>\n",
       "      <td>R</td>\n",
       "      <td>1993</td>\n",
       "    </tr>\n",
       "    <tr>\n",
       "      <th>3</th>\n",
       "      <td>99</td>\n",
       "      <td>Python</td>\n",
       "      <td>1980</td>\n",
       "    </tr>\n",
       "    <tr>\n",
       "      <th>4</th>\n",
       "      <td>97</td>\n",
       "      <td>Java</td>\n",
       "      <td>1991</td>\n",
       "    </tr>\n",
       "  </tbody>\n",
       "</table>\n",
       "</div>"
      ],
      "text/plain": [
       "   Popular Programming  Year\n",
       "0       90         C++  1998\n",
       "1       79           C  1972\n",
       "2       75           R  1993\n",
       "3       99      Python  1980\n",
       "4       97        Java  1991"
      ]
     },
     "execution_count": 102,
     "metadata": {},
     "output_type": "execute_result"
    }
   ],
   "source": [
    "# let's create simple data\n",
    "data = {'Programming': ['C++', 'C', 'R', 'Python', 'Java'],\n",
    "        'Year': [1998, 1972, 1993, 1980, 1991],\n",
    "        'Popular': [90, 79, 75, 99, 97]}\n",
    "frame = pd.DataFrame(data)\n",
    "frame"
   ]
  },
  {
   "cell_type": "code",
   "execution_count": 103,
   "metadata": {
    "ExecuteTime": {
     "end_time": "2017-11-23T22:40:36.986837Z",
     "start_time": "2017-11-23T22:40:36.970836Z"
    }
   },
   "outputs": [
    {
     "data": {
      "text/html": [
       "<div>\n",
       "<style>\n",
       "    .dataframe thead tr:only-child th {\n",
       "        text-align: right;\n",
       "    }\n",
       "\n",
       "    .dataframe thead th {\n",
       "        text-align: left;\n",
       "    }\n",
       "\n",
       "    .dataframe tbody tr th {\n",
       "        vertical-align: top;\n",
       "    }\n",
       "</style>\n",
       "<table border=\"1\" class=\"dataframe\">\n",
       "  <thead>\n",
       "    <tr style=\"text-align: right;\">\n",
       "      <th></th>\n",
       "      <th>Popular</th>\n",
       "      <th>Programming</th>\n",
       "      <th>Year</th>\n",
       "    </tr>\n",
       "  </thead>\n",
       "  <tbody>\n",
       "    <tr>\n",
       "      <th>0</th>\n",
       "      <td>90</td>\n",
       "      <td>C++</td>\n",
       "      <td>1998</td>\n",
       "    </tr>\n",
       "    <tr>\n",
       "      <th>1</th>\n",
       "      <td>79</td>\n",
       "      <td>C</td>\n",
       "      <td>1972</td>\n",
       "    </tr>\n",
       "    <tr>\n",
       "      <th>2</th>\n",
       "      <td>75</td>\n",
       "      <td>R</td>\n",
       "      <td>1993</td>\n",
       "    </tr>\n",
       "    <tr>\n",
       "      <th>3</th>\n",
       "      <td>99</td>\n",
       "      <td>Python</td>\n",
       "      <td>1980</td>\n",
       "    </tr>\n",
       "    <tr>\n",
       "      <th>4</th>\n",
       "      <td>97</td>\n",
       "      <td>Java</td>\n",
       "      <td>1991</td>\n",
       "    </tr>\n",
       "  </tbody>\n",
       "</table>\n",
       "</div>"
      ],
      "text/plain": [
       "   Popular Programming  Year\n",
       "0       90         C++  1998\n",
       "1       79           C  1972\n",
       "2       75           R  1993\n",
       "3       99      Python  1980\n",
       "4       97        Java  1991"
      ]
     },
     "execution_count": 103,
     "metadata": {},
     "output_type": "execute_result"
    }
   ],
   "source": [
    "# set our index \n",
    "pd.DataFrame(data, columns=['Popular', 'Programming', 'Year'])"
   ]
  },
  {
   "cell_type": "code",
   "execution_count": 133,
   "metadata": {
    "ExecuteTime": {
     "end_time": "2017-11-23T22:43:44.629285Z",
     "start_time": "2017-11-23T22:43:44.613283Z"
    }
   },
   "outputs": [
    {
     "data": {
      "text/html": [
       "<div>\n",
       "<style>\n",
       "    .dataframe thead tr:only-child th {\n",
       "        text-align: right;\n",
       "    }\n",
       "\n",
       "    .dataframe thead th {\n",
       "        text-align: left;\n",
       "    }\n",
       "\n",
       "    .dataframe tbody tr th {\n",
       "        vertical-align: top;\n",
       "    }\n",
       "</style>\n",
       "<table border=\"1\" class=\"dataframe\">\n",
       "  <thead>\n",
       "    <tr style=\"text-align: right;\">\n",
       "      <th></th>\n",
       "      <th>Year</th>\n",
       "      <th>Programming</th>\n",
       "      <th>Popular</th>\n",
       "      <th>Users</th>\n",
       "    </tr>\n",
       "  </thead>\n",
       "  <tbody>\n",
       "    <tr>\n",
       "      <th>1</th>\n",
       "      <td>1998</td>\n",
       "      <td>C++</td>\n",
       "      <td>90</td>\n",
       "      <td>NaN</td>\n",
       "    </tr>\n",
       "    <tr>\n",
       "      <th>2</th>\n",
       "      <td>1972</td>\n",
       "      <td>C</td>\n",
       "      <td>79</td>\n",
       "      <td>NaN</td>\n",
       "    </tr>\n",
       "    <tr>\n",
       "      <th>3</th>\n",
       "      <td>1993</td>\n",
       "      <td>R</td>\n",
       "      <td>75</td>\n",
       "      <td>NaN</td>\n",
       "    </tr>\n",
       "    <tr>\n",
       "      <th>4</th>\n",
       "      <td>1980</td>\n",
       "      <td>Python</td>\n",
       "      <td>99</td>\n",
       "      <td>NaN</td>\n",
       "    </tr>\n",
       "    <tr>\n",
       "      <th>5</th>\n",
       "      <td>1991</td>\n",
       "      <td>Java</td>\n",
       "      <td>97</td>\n",
       "      <td>NaN</td>\n",
       "    </tr>\n",
       "  </tbody>\n",
       "</table>\n",
       "</div>"
      ],
      "text/plain": [
       "   Year Programming  Popular Users\n",
       "1  1998         C++       90   NaN\n",
       "2  1972           C       79   NaN\n",
       "3  1993           R       75   NaN\n",
       "4  1980      Python       99   NaN\n",
       "5  1991        Java       97   NaN"
      ]
     },
     "execution_count": 133,
     "metadata": {},
     "output_type": "execute_result"
    }
   ],
   "source": [
    "data2 = pd.DataFrame(data, columns=['Year', 'Programming', 'Popular', 'Users'],\n",
    "                    index=[1,2,3,4,5])\n",
    "data2"
   ]
  },
  {
   "cell_type": "code",
   "execution_count": 134,
   "metadata": {
    "ExecuteTime": {
     "end_time": "2017-11-23T22:43:46.322099Z",
     "start_time": "2017-11-23T22:43:46.314112Z"
    }
   },
   "outputs": [
    {
     "data": {
      "text/plain": [
       "1       C++\n",
       "2         C\n",
       "3         R\n",
       "4    Python\n",
       "5      Java\n",
       "Name: Programming, dtype: object"
      ]
     },
     "execution_count": 134,
     "metadata": {},
     "output_type": "execute_result"
    }
   ],
   "source": [
    "data2['Programming']"
   ]
  },
  {
   "cell_type": "code",
   "execution_count": 135,
   "metadata": {
    "ExecuteTime": {
     "end_time": "2017-11-23T22:43:46.499262Z",
     "start_time": "2017-11-23T22:43:46.487259Z"
    }
   },
   "outputs": [
    {
     "data": {
      "text/plain": [
       "1    90\n",
       "2    79\n",
       "3    75\n",
       "4    99\n",
       "5    97\n",
       "Name: Popular, dtype: int64"
      ]
     },
     "execution_count": 135,
     "metadata": {},
     "output_type": "execute_result"
    }
   ],
   "source": [
    "data2.Popular"
   ]
  },
  {
   "cell_type": "code",
   "execution_count": 137,
   "metadata": {
    "ExecuteTime": {
     "end_time": "2017-11-23T22:43:49.959598Z",
     "start_time": "2017-11-23T22:43:49.943597Z"
    }
   },
   "outputs": [
    {
     "data": {
      "text/html": [
       "<div>\n",
       "<style>\n",
       "    .dataframe thead tr:only-child th {\n",
       "        text-align: right;\n",
       "    }\n",
       "\n",
       "    .dataframe thead th {\n",
       "        text-align: left;\n",
       "    }\n",
       "\n",
       "    .dataframe tbody tr th {\n",
       "        vertical-align: top;\n",
       "    }\n",
       "</style>\n",
       "<table border=\"1\" class=\"dataframe\">\n",
       "  <thead>\n",
       "    <tr style=\"text-align: right;\">\n",
       "      <th></th>\n",
       "      <th>Year</th>\n",
       "      <th>Programming</th>\n",
       "      <th>Popular</th>\n",
       "      <th>Users</th>\n",
       "    </tr>\n",
       "  </thead>\n",
       "  <tbody>\n",
       "    <tr>\n",
       "      <th>1</th>\n",
       "      <td>1998</td>\n",
       "      <td>C++</td>\n",
       "      <td>90</td>\n",
       "      <td>83.0</td>\n",
       "    </tr>\n",
       "    <tr>\n",
       "      <th>2</th>\n",
       "      <td>1972</td>\n",
       "      <td>C</td>\n",
       "      <td>79</td>\n",
       "      <td>43.0</td>\n",
       "    </tr>\n",
       "    <tr>\n",
       "      <th>3</th>\n",
       "      <td>1993</td>\n",
       "      <td>R</td>\n",
       "      <td>75</td>\n",
       "      <td>25.0</td>\n",
       "    </tr>\n",
       "    <tr>\n",
       "      <th>4</th>\n",
       "      <td>1980</td>\n",
       "      <td>Python</td>\n",
       "      <td>99</td>\n",
       "      <td>14.0</td>\n",
       "    </tr>\n",
       "    <tr>\n",
       "      <th>5</th>\n",
       "      <td>1991</td>\n",
       "      <td>Java</td>\n",
       "      <td>97</td>\n",
       "      <td>38.0</td>\n",
       "    </tr>\n",
       "  </tbody>\n",
       "</table>\n",
       "</div>"
      ],
      "text/plain": [
       "   Year Programming  Popular  Users\n",
       "1  1998         C++       90   83.0\n",
       "2  1972           C       79   43.0\n",
       "3  1993           R       75   25.0\n",
       "4  1980      Python       99   14.0\n",
       "5  1991        Java       97   38.0"
      ]
     },
     "execution_count": 137,
     "metadata": {},
     "output_type": "execute_result"
    }
   ],
   "source": [
    "data2.Users = np.random.random(5)*104\n",
    "data2 = np.round(data2)\n",
    "data2"
   ]
  },
  {
   "cell_type": "markdown",
   "metadata": {},
   "source": [
    "#### How to combine two data set using pandas?"
   ]
  },
  {
   "cell_type": "code",
   "execution_count": 169,
   "metadata": {
    "ExecuteTime": {
     "end_time": "2017-11-23T22:57:06.218013Z",
     "start_time": "2017-11-23T22:57:06.206011Z"
    }
   },
   "outputs": [],
   "source": [
    "# we will do merging two dataset together \n",
    "merg1 = {'Edit': 24, 'View': 11, 'Inser': 18, 'Cell': 40}\n",
    "merg1 = pd.Series(merg1)\n",
    "merg1 = pd.DataFrame(merg1, columns=['Merge1'])\n",
    "\n",
    "merg2 = {'Kernel':50, 'Navigate':27, 'Widgets':29,'Help':43}\n",
    "merg2 = pd.Series(merg2)\n",
    "merg2 = pd.DataFrame(merg2, columns=['Merge2'])"
   ]
  },
  {
   "cell_type": "code",
   "execution_count": 170,
   "metadata": {
    "ExecuteTime": {
     "end_time": "2017-11-23T22:57:07.054745Z",
     "start_time": "2017-11-23T22:57:07.046749Z"
    }
   },
   "outputs": [
    {
     "data": {
      "text/html": [
       "<div>\n",
       "<style>\n",
       "    .dataframe thead tr:only-child th {\n",
       "        text-align: right;\n",
       "    }\n",
       "\n",
       "    .dataframe thead th {\n",
       "        text-align: left;\n",
       "    }\n",
       "\n",
       "    .dataframe tbody tr th {\n",
       "        vertical-align: top;\n",
       "    }\n",
       "</style>\n",
       "<table border=\"1\" class=\"dataframe\">\n",
       "  <thead>\n",
       "    <tr style=\"text-align: right;\">\n",
       "      <th></th>\n",
       "      <th>Merge1</th>\n",
       "    </tr>\n",
       "  </thead>\n",
       "  <tbody>\n",
       "    <tr>\n",
       "      <th>Cell</th>\n",
       "      <td>40</td>\n",
       "    </tr>\n",
       "    <tr>\n",
       "      <th>Edit</th>\n",
       "      <td>24</td>\n",
       "    </tr>\n",
       "    <tr>\n",
       "      <th>Inser</th>\n",
       "      <td>18</td>\n",
       "    </tr>\n",
       "    <tr>\n",
       "      <th>View</th>\n",
       "      <td>11</td>\n",
       "    </tr>\n",
       "  </tbody>\n",
       "</table>\n",
       "</div>"
      ],
      "text/plain": [
       "       Merge1\n",
       "Cell       40\n",
       "Edit       24\n",
       "Inser      18\n",
       "View       11"
      ]
     },
     "execution_count": 170,
     "metadata": {},
     "output_type": "execute_result"
    }
   ],
   "source": [
    "merg1"
   ]
  },
  {
   "cell_type": "code",
   "execution_count": 171,
   "metadata": {
    "ExecuteTime": {
     "end_time": "2017-11-23T22:57:09.779210Z",
     "start_time": "2017-11-23T22:57:09.767210Z"
    }
   },
   "outputs": [
    {
     "data": {
      "text/html": [
       "<div>\n",
       "<style>\n",
       "    .dataframe thead tr:only-child th {\n",
       "        text-align: right;\n",
       "    }\n",
       "\n",
       "    .dataframe thead th {\n",
       "        text-align: left;\n",
       "    }\n",
       "\n",
       "    .dataframe tbody tr th {\n",
       "        vertical-align: top;\n",
       "    }\n",
       "</style>\n",
       "<table border=\"1\" class=\"dataframe\">\n",
       "  <thead>\n",
       "    <tr style=\"text-align: right;\">\n",
       "      <th></th>\n",
       "      <th>Merge2</th>\n",
       "    </tr>\n",
       "  </thead>\n",
       "  <tbody>\n",
       "    <tr>\n",
       "      <th>Help</th>\n",
       "      <td>43</td>\n",
       "    </tr>\n",
       "    <tr>\n",
       "      <th>Kernel</th>\n",
       "      <td>50</td>\n",
       "    </tr>\n",
       "    <tr>\n",
       "      <th>Navigate</th>\n",
       "      <td>27</td>\n",
       "    </tr>\n",
       "    <tr>\n",
       "      <th>Widgets</th>\n",
       "      <td>29</td>\n",
       "    </tr>\n",
       "  </tbody>\n",
       "</table>\n",
       "</div>"
      ],
      "text/plain": [
       "          Merge2\n",
       "Help          43\n",
       "Kernel        50\n",
       "Navigate      27\n",
       "Widgets       29"
      ]
     },
     "execution_count": 171,
     "metadata": {},
     "output_type": "execute_result"
    }
   ],
   "source": [
    "merg2"
   ]
  },
  {
   "cell_type": "code",
   "execution_count": 195,
   "metadata": {
    "ExecuteTime": {
     "end_time": "2017-11-23T23:29:28.525462Z",
     "start_time": "2017-11-23T23:29:28.509461Z"
    }
   },
   "outputs": [
    {
     "data": {
      "text/html": [
       "<div>\n",
       "<style>\n",
       "    .dataframe thead tr:only-child th {\n",
       "        text-align: right;\n",
       "    }\n",
       "\n",
       "    .dataframe thead th {\n",
       "        text-align: left;\n",
       "    }\n",
       "\n",
       "    .dataframe tbody tr th {\n",
       "        vertical-align: top;\n",
       "    }\n",
       "</style>\n",
       "<table border=\"1\" class=\"dataframe\">\n",
       "  <thead>\n",
       "    <tr style=\"text-align: right;\">\n",
       "      <th></th>\n",
       "      <th>Merge1</th>\n",
       "      <th>Merge2</th>\n",
       "    </tr>\n",
       "  </thead>\n",
       "  <tbody>\n",
       "    <tr>\n",
       "      <th>Cell</th>\n",
       "      <td>40</td>\n",
       "      <td>NaN</td>\n",
       "    </tr>\n",
       "    <tr>\n",
       "      <th>Edit</th>\n",
       "      <td>24</td>\n",
       "      <td>NaN</td>\n",
       "    </tr>\n",
       "    <tr>\n",
       "      <th>Inser</th>\n",
       "      <td>18</td>\n",
       "      <td>NaN</td>\n",
       "    </tr>\n",
       "    <tr>\n",
       "      <th>View</th>\n",
       "      <td>11</td>\n",
       "      <td>NaN</td>\n",
       "    </tr>\n",
       "  </tbody>\n",
       "</table>\n",
       "</div>"
      ],
      "text/plain": [
       "       Merge1  Merge2\n",
       "Cell       40     NaN\n",
       "Edit       24     NaN\n",
       "Inser      18     NaN\n",
       "View       11     NaN"
      ]
     },
     "execution_count": 195,
     "metadata": {},
     "output_type": "execute_result"
    }
   ],
   "source": [
    "#join matching rows from bdf to adf\n",
    "#pd.merge(merg1, merg2, left_index=True, right_index=True)\n",
    "join = merg1.join(merg2)\n",
    "join"
   ]
  },
  {
   "cell_type": "code",
   "execution_count": 199,
   "metadata": {
    "ExecuteTime": {
     "end_time": "2017-11-23T23:30:48.201352Z",
     "start_time": "2017-11-23T23:30:48.189352Z"
    }
   },
   "outputs": [
    {
     "data": {
      "text/html": [
       "<div>\n",
       "<style>\n",
       "    .dataframe thead tr:only-child th {\n",
       "        text-align: right;\n",
       "    }\n",
       "\n",
       "    .dataframe thead th {\n",
       "        text-align: left;\n",
       "    }\n",
       "\n",
       "    .dataframe tbody tr th {\n",
       "        vertical-align: top;\n",
       "    }\n",
       "</style>\n",
       "<table border=\"1\" class=\"dataframe\">\n",
       "  <thead>\n",
       "    <tr style=\"text-align: right;\">\n",
       "      <th></th>\n",
       "      <th>Merge1</th>\n",
       "      <th>Merge2</th>\n",
       "    </tr>\n",
       "  </thead>\n",
       "  <tbody>\n",
       "    <tr>\n",
       "      <th>Cell</th>\n",
       "      <td>40</td>\n",
       "      <td>12.0</td>\n",
       "    </tr>\n",
       "    <tr>\n",
       "      <th>Edit</th>\n",
       "      <td>24</td>\n",
       "      <td>12.0</td>\n",
       "    </tr>\n",
       "    <tr>\n",
       "      <th>Inser</th>\n",
       "      <td>18</td>\n",
       "      <td>12.0</td>\n",
       "    </tr>\n",
       "    <tr>\n",
       "      <th>View</th>\n",
       "      <td>11</td>\n",
       "      <td>12.0</td>\n",
       "    </tr>\n",
       "  </tbody>\n",
       "</table>\n",
       "</div>"
      ],
      "text/plain": [
       "       Merge1  Merge2\n",
       "Cell       40    12.0\n",
       "Edit       24    12.0\n",
       "Inser      18    12.0\n",
       "View       11    12.0"
      ]
     },
     "execution_count": 199,
     "metadata": {},
     "output_type": "execute_result"
    }
   ],
   "source": [
    "#replace all NA/null data with value\n",
    "join = join.fillna(12)\n",
    "join"
   ]
  },
  {
   "cell_type": "code",
   "execution_count": 201,
   "metadata": {
    "ExecuteTime": {
     "end_time": "2017-11-23T23:31:40.313865Z",
     "start_time": "2017-11-23T23:31:40.297863Z"
    }
   },
   "outputs": [
    {
     "data": {
      "text/html": [
       "<div>\n",
       "<style>\n",
       "    .dataframe thead tr:only-child th {\n",
       "        text-align: right;\n",
       "    }\n",
       "\n",
       "    .dataframe thead th {\n",
       "        text-align: left;\n",
       "    }\n",
       "\n",
       "    .dataframe tbody tr th {\n",
       "        vertical-align: top;\n",
       "    }\n",
       "</style>\n",
       "<table border=\"1\" class=\"dataframe\">\n",
       "  <thead>\n",
       "    <tr style=\"text-align: right;\">\n",
       "      <th></th>\n",
       "      <th>Merge1</th>\n",
       "      <th>Merge2</th>\n",
       "      <th>Area</th>\n",
       "    </tr>\n",
       "  </thead>\n",
       "  <tbody>\n",
       "    <tr>\n",
       "      <th>Cell</th>\n",
       "      <td>40</td>\n",
       "      <td>12.0</td>\n",
       "      <td>480.0</td>\n",
       "    </tr>\n",
       "    <tr>\n",
       "      <th>Edit</th>\n",
       "      <td>24</td>\n",
       "      <td>12.0</td>\n",
       "      <td>288.0</td>\n",
       "    </tr>\n",
       "    <tr>\n",
       "      <th>Inser</th>\n",
       "      <td>18</td>\n",
       "      <td>12.0</td>\n",
       "      <td>216.0</td>\n",
       "    </tr>\n",
       "    <tr>\n",
       "      <th>View</th>\n",
       "      <td>11</td>\n",
       "      <td>12.0</td>\n",
       "      <td>132.0</td>\n",
       "    </tr>\n",
       "  </tbody>\n",
       "</table>\n",
       "</div>"
      ],
      "text/plain": [
       "       Merge1  Merge2   Area\n",
       "Cell       40    12.0  480.0\n",
       "Edit       24    12.0  288.0\n",
       "Inser      18    12.0  216.0\n",
       "View       11    12.0  132.0"
      ]
     },
     "execution_count": 201,
     "metadata": {},
     "output_type": "execute_result"
    }
   ],
   "source": [
    "#compute and append one or more new columns\n",
    "join = join.assign(Area=lambda df: join.Merge1*join.Merge2)\n",
    "join"
   ]
  },
  {
   "cell_type": "code",
   "execution_count": 205,
   "metadata": {
    "ExecuteTime": {
     "end_time": "2017-11-23T23:31:58.358659Z",
     "start_time": "2017-11-23T23:31:58.342658Z"
    }
   },
   "outputs": [
    {
     "data": {
      "text/html": [
       "<div>\n",
       "<style>\n",
       "    .dataframe thead tr:only-child th {\n",
       "        text-align: right;\n",
       "    }\n",
       "\n",
       "    .dataframe thead th {\n",
       "        text-align: left;\n",
       "    }\n",
       "\n",
       "    .dataframe tbody tr th {\n",
       "        vertical-align: top;\n",
       "    }\n",
       "</style>\n",
       "<table border=\"1\" class=\"dataframe\">\n",
       "  <thead>\n",
       "    <tr style=\"text-align: right;\">\n",
       "      <th></th>\n",
       "      <th>Merge1</th>\n",
       "      <th>Merge2</th>\n",
       "      <th>Area</th>\n",
       "      <th>Volume</th>\n",
       "    </tr>\n",
       "  </thead>\n",
       "  <tbody>\n",
       "    <tr>\n",
       "      <th>Cell</th>\n",
       "      <td>40</td>\n",
       "      <td>12.0</td>\n",
       "      <td>480.0</td>\n",
       "      <td>230400.0</td>\n",
       "    </tr>\n",
       "    <tr>\n",
       "      <th>Edit</th>\n",
       "      <td>24</td>\n",
       "      <td>12.0</td>\n",
       "      <td>288.0</td>\n",
       "      <td>82944.0</td>\n",
       "    </tr>\n",
       "    <tr>\n",
       "      <th>Inser</th>\n",
       "      <td>18</td>\n",
       "      <td>12.0</td>\n",
       "      <td>216.0</td>\n",
       "      <td>46656.0</td>\n",
       "    </tr>\n",
       "    <tr>\n",
       "      <th>View</th>\n",
       "      <td>11</td>\n",
       "      <td>12.0</td>\n",
       "      <td>132.0</td>\n",
       "      <td>17424.0</td>\n",
       "    </tr>\n",
       "  </tbody>\n",
       "</table>\n",
       "</div>"
      ],
      "text/plain": [
       "       Merge1  Merge2   Area    Volume\n",
       "Cell       40    12.0  480.0  230400.0\n",
       "Edit       24    12.0  288.0   82944.0\n",
       "Inser      18    12.0  216.0   46656.0\n",
       "View       11    12.0  132.0   17424.0"
      ]
     },
     "execution_count": 205,
     "metadata": {},
     "output_type": "execute_result"
    }
   ],
   "source": [
    "#add single column\n",
    "join['Volume'] = join.Merge1*join.Merge2*join.Area\n",
    "join"
   ]
  },
  {
   "cell_type": "code",
   "execution_count": 209,
   "metadata": {
    "ExecuteTime": {
     "end_time": "2017-11-23T23:33:06.567217Z",
     "start_time": "2017-11-23T23:33:06.551209Z"
    }
   },
   "outputs": [
    {
     "data": {
      "text/html": [
       "<div>\n",
       "<style>\n",
       "    .dataframe thead tr:only-child th {\n",
       "        text-align: right;\n",
       "    }\n",
       "\n",
       "    .dataframe thead th {\n",
       "        text-align: left;\n",
       "    }\n",
       "\n",
       "    .dataframe tbody tr th {\n",
       "        vertical-align: top;\n",
       "    }\n",
       "</style>\n",
       "<table border=\"1\" class=\"dataframe\">\n",
       "  <thead>\n",
       "    <tr style=\"text-align: right;\">\n",
       "      <th></th>\n",
       "      <th>Merge1</th>\n",
       "      <th>Merge2</th>\n",
       "      <th>Area</th>\n",
       "      <th>Volume</th>\n",
       "    </tr>\n",
       "  </thead>\n",
       "  <tbody>\n",
       "    <tr>\n",
       "      <th>Cell</th>\n",
       "      <td>40</td>\n",
       "      <td>12.0</td>\n",
       "      <td>480.0</td>\n",
       "      <td>230400.0</td>\n",
       "    </tr>\n",
       "    <tr>\n",
       "      <th>Edit</th>\n",
       "      <td>24</td>\n",
       "      <td>12.0</td>\n",
       "      <td>288.0</td>\n",
       "      <td>82944.0</td>\n",
       "    </tr>\n",
       "  </tbody>\n",
       "</table>\n",
       "</div>"
      ],
      "text/plain": [
       "      Merge1  Merge2   Area    Volume\n",
       "Cell      40    12.0  480.0  230400.0\n",
       "Edit      24    12.0  288.0   82944.0"
      ]
     },
     "execution_count": 209,
     "metadata": {},
     "output_type": "execute_result"
    }
   ],
   "source": [
    "join.head(2)"
   ]
  },
  {
   "cell_type": "code",
   "execution_count": 208,
   "metadata": {
    "ExecuteTime": {
     "end_time": "2017-11-23T23:33:01.949834Z",
     "start_time": "2017-11-23T23:33:01.937828Z"
    }
   },
   "outputs": [
    {
     "data": {
      "text/html": [
       "<div>\n",
       "<style>\n",
       "    .dataframe thead tr:only-child th {\n",
       "        text-align: right;\n",
       "    }\n",
       "\n",
       "    .dataframe thead th {\n",
       "        text-align: left;\n",
       "    }\n",
       "\n",
       "    .dataframe tbody tr th {\n",
       "        vertical-align: top;\n",
       "    }\n",
       "</style>\n",
       "<table border=\"1\" class=\"dataframe\">\n",
       "  <thead>\n",
       "    <tr style=\"text-align: right;\">\n",
       "      <th></th>\n",
       "      <th>Merge1</th>\n",
       "      <th>Merge2</th>\n",
       "      <th>Area</th>\n",
       "      <th>Volume</th>\n",
       "    </tr>\n",
       "  </thead>\n",
       "  <tbody>\n",
       "    <tr>\n",
       "      <th>Inser</th>\n",
       "      <td>18</td>\n",
       "      <td>12.0</td>\n",
       "      <td>216.0</td>\n",
       "      <td>46656.0</td>\n",
       "    </tr>\n",
       "    <tr>\n",
       "      <th>View</th>\n",
       "      <td>11</td>\n",
       "      <td>12.0</td>\n",
       "      <td>132.0</td>\n",
       "      <td>17424.0</td>\n",
       "    </tr>\n",
       "  </tbody>\n",
       "</table>\n",
       "</div>"
      ],
      "text/plain": [
       "       Merge1  Merge2   Area   Volume\n",
       "Inser      18    12.0  216.0  46656.0\n",
       "View       11    12.0  132.0  17424.0"
      ]
     },
     "execution_count": 208,
     "metadata": {},
     "output_type": "execute_result"
    }
   ],
   "source": [
    "join.tail(2)"
   ]
  },
  {
   "cell_type": "code",
   "execution_count": 210,
   "metadata": {
    "ExecuteTime": {
     "end_time": "2017-11-23T23:33:24.149966Z",
     "start_time": "2017-11-23T23:33:24.133963Z"
    }
   },
   "outputs": [
    {
     "data": {
      "text/html": [
       "<div>\n",
       "<style>\n",
       "    .dataframe thead tr:only-child th {\n",
       "        text-align: right;\n",
       "    }\n",
       "\n",
       "    .dataframe thead th {\n",
       "        text-align: left;\n",
       "    }\n",
       "\n",
       "    .dataframe tbody tr th {\n",
       "        vertical-align: top;\n",
       "    }\n",
       "</style>\n",
       "<table border=\"1\" class=\"dataframe\">\n",
       "  <thead>\n",
       "    <tr style=\"text-align: right;\">\n",
       "      <th></th>\n",
       "      <th>Merge1</th>\n",
       "      <th>Merge2</th>\n",
       "      <th>Area</th>\n",
       "      <th>Volume</th>\n",
       "    </tr>\n",
       "  </thead>\n",
       "  <tbody>\n",
       "    <tr>\n",
       "      <th>Edit</th>\n",
       "      <td>24</td>\n",
       "      <td>12.0</td>\n",
       "      <td>288.0</td>\n",
       "      <td>82944.0</td>\n",
       "    </tr>\n",
       "    <tr>\n",
       "      <th>Inser</th>\n",
       "      <td>18</td>\n",
       "      <td>12.0</td>\n",
       "      <td>216.0</td>\n",
       "      <td>46656.0</td>\n",
       "    </tr>\n",
       "  </tbody>\n",
       "</table>\n",
       "</div>"
      ],
      "text/plain": [
       "       Merge1  Merge2   Area   Volume\n",
       "Edit       24    12.0  288.0  82944.0\n",
       "Inser      18    12.0  216.0  46656.0"
      ]
     },
     "execution_count": 210,
     "metadata": {},
     "output_type": "execute_result"
    }
   ],
   "source": [
    "#randomly select fraction of rows\n",
    "join.sample(frac=0.5)"
   ]
  },
  {
   "cell_type": "code",
   "execution_count": 211,
   "metadata": {
    "ExecuteTime": {
     "end_time": "2017-11-23T23:34:23.659765Z",
     "start_time": "2017-11-23T23:34:23.647755Z"
    }
   },
   "outputs": [
    {
     "data": {
      "text/html": [
       "<div>\n",
       "<style>\n",
       "    .dataframe thead tr:only-child th {\n",
       "        text-align: right;\n",
       "    }\n",
       "\n",
       "    .dataframe thead th {\n",
       "        text-align: left;\n",
       "    }\n",
       "\n",
       "    .dataframe tbody tr th {\n",
       "        vertical-align: top;\n",
       "    }\n",
       "</style>\n",
       "<table border=\"1\" class=\"dataframe\">\n",
       "  <thead>\n",
       "    <tr style=\"text-align: right;\">\n",
       "      <th></th>\n",
       "      <th>Merge1</th>\n",
       "      <th>Merge2</th>\n",
       "      <th>Area</th>\n",
       "      <th>Volume</th>\n",
       "    </tr>\n",
       "  </thead>\n",
       "  <tbody>\n",
       "    <tr>\n",
       "      <th>View</th>\n",
       "      <td>11</td>\n",
       "      <td>12.0</td>\n",
       "      <td>132.0</td>\n",
       "      <td>17424.0</td>\n",
       "    </tr>\n",
       "    <tr>\n",
       "      <th>Inser</th>\n",
       "      <td>18</td>\n",
       "      <td>12.0</td>\n",
       "      <td>216.0</td>\n",
       "      <td>46656.0</td>\n",
       "    </tr>\n",
       "    <tr>\n",
       "      <th>Edit</th>\n",
       "      <td>24</td>\n",
       "      <td>12.0</td>\n",
       "      <td>288.0</td>\n",
       "      <td>82944.0</td>\n",
       "    </tr>\n",
       "    <tr>\n",
       "      <th>Cell</th>\n",
       "      <td>40</td>\n",
       "      <td>12.0</td>\n",
       "      <td>480.0</td>\n",
       "      <td>230400.0</td>\n",
       "    </tr>\n",
       "  </tbody>\n",
       "</table>\n",
       "</div>"
      ],
      "text/plain": [
       "       Merge1  Merge2   Area    Volume\n",
       "View       11    12.0  132.0   17424.0\n",
       "Inser      18    12.0  216.0   46656.0\n",
       "Edit       24    12.0  288.0   82944.0\n",
       "Cell       40    12.0  480.0  230400.0"
      ]
     },
     "execution_count": 211,
     "metadata": {},
     "output_type": "execute_result"
    }
   ],
   "source": [
    "#order rows by values of a column (low to high)\n",
    "join.sort_values('Volume')"
   ]
  },
  {
   "cell_type": "code",
   "execution_count": 213,
   "metadata": {
    "ExecuteTime": {
     "end_time": "2017-11-23T23:34:48.985636Z",
     "start_time": "2017-11-23T23:34:48.969635Z"
    }
   },
   "outputs": [
    {
     "data": {
      "text/html": [
       "<div>\n",
       "<style>\n",
       "    .dataframe thead tr:only-child th {\n",
       "        text-align: right;\n",
       "    }\n",
       "\n",
       "    .dataframe thead th {\n",
       "        text-align: left;\n",
       "    }\n",
       "\n",
       "    .dataframe tbody tr th {\n",
       "        vertical-align: top;\n",
       "    }\n",
       "</style>\n",
       "<table border=\"1\" class=\"dataframe\">\n",
       "  <thead>\n",
       "    <tr style=\"text-align: right;\">\n",
       "      <th></th>\n",
       "      <th>Merge1</th>\n",
       "      <th>Merge2</th>\n",
       "      <th>Area</th>\n",
       "      <th>Volume</th>\n",
       "    </tr>\n",
       "  </thead>\n",
       "  <tbody>\n",
       "    <tr>\n",
       "      <th>Cell</th>\n",
       "      <td>40</td>\n",
       "      <td>12.0</td>\n",
       "      <td>480.0</td>\n",
       "      <td>230400.0</td>\n",
       "    </tr>\n",
       "    <tr>\n",
       "      <th>Edit</th>\n",
       "      <td>24</td>\n",
       "      <td>12.0</td>\n",
       "      <td>288.0</td>\n",
       "      <td>82944.0</td>\n",
       "    </tr>\n",
       "    <tr>\n",
       "      <th>Inser</th>\n",
       "      <td>18</td>\n",
       "      <td>12.0</td>\n",
       "      <td>216.0</td>\n",
       "      <td>46656.0</td>\n",
       "    </tr>\n",
       "    <tr>\n",
       "      <th>View</th>\n",
       "      <td>11</td>\n",
       "      <td>12.0</td>\n",
       "      <td>132.0</td>\n",
       "      <td>17424.0</td>\n",
       "    </tr>\n",
       "  </tbody>\n",
       "</table>\n",
       "</div>"
      ],
      "text/plain": [
       "       Merge1  Merge2   Area    Volume\n",
       "Cell       40    12.0  480.0  230400.0\n",
       "Edit       24    12.0  288.0   82944.0\n",
       "Inser      18    12.0  216.0   46656.0\n",
       "View       11    12.0  132.0   17424.0"
      ]
     },
     "execution_count": 213,
     "metadata": {},
     "output_type": "execute_result"
    }
   ],
   "source": [
    "#order row by values of a column (high to low)\n",
    "join.sort_values('Volume', ascending=False)"
   ]
  },
  {
   "cell_type": "code",
   "execution_count": 217,
   "metadata": {
    "ExecuteTime": {
     "end_time": "2017-11-23T23:36:00.559733Z",
     "start_time": "2017-11-23T23:36:00.551736Z"
    }
   },
   "outputs": [],
   "source": [
    "#return the columns of a dataframe - by renaming\n",
    "join = join.rename(columns={'Merge1':'X','Merge2':'Y'})"
   ]
  },
  {
   "cell_type": "code",
   "execution_count": 218,
   "metadata": {
    "ExecuteTime": {
     "end_time": "2017-11-23T23:36:02.067809Z",
     "start_time": "2017-11-23T23:36:02.051808Z"
    }
   },
   "outputs": [
    {
     "data": {
      "text/html": [
       "<div>\n",
       "<style>\n",
       "    .dataframe thead tr:only-child th {\n",
       "        text-align: right;\n",
       "    }\n",
       "\n",
       "    .dataframe thead th {\n",
       "        text-align: left;\n",
       "    }\n",
       "\n",
       "    .dataframe tbody tr th {\n",
       "        vertical-align: top;\n",
       "    }\n",
       "</style>\n",
       "<table border=\"1\" class=\"dataframe\">\n",
       "  <thead>\n",
       "    <tr style=\"text-align: right;\">\n",
       "      <th></th>\n",
       "      <th>X</th>\n",
       "      <th>Y</th>\n",
       "      <th>Area</th>\n",
       "      <th>Volume</th>\n",
       "    </tr>\n",
       "  </thead>\n",
       "  <tbody>\n",
       "    <tr>\n",
       "      <th>Cell</th>\n",
       "      <td>40</td>\n",
       "      <td>12.0</td>\n",
       "      <td>480.0</td>\n",
       "      <td>230400.0</td>\n",
       "    </tr>\n",
       "    <tr>\n",
       "      <th>Edit</th>\n",
       "      <td>24</td>\n",
       "      <td>12.0</td>\n",
       "      <td>288.0</td>\n",
       "      <td>82944.0</td>\n",
       "    </tr>\n",
       "    <tr>\n",
       "      <th>Inser</th>\n",
       "      <td>18</td>\n",
       "      <td>12.0</td>\n",
       "      <td>216.0</td>\n",
       "      <td>46656.0</td>\n",
       "    </tr>\n",
       "    <tr>\n",
       "      <th>View</th>\n",
       "      <td>11</td>\n",
       "      <td>12.0</td>\n",
       "      <td>132.0</td>\n",
       "      <td>17424.0</td>\n",
       "    </tr>\n",
       "  </tbody>\n",
       "</table>\n",
       "</div>"
      ],
      "text/plain": [
       "        X     Y   Area    Volume\n",
       "Cell   40  12.0  480.0  230400.0\n",
       "Edit   24  12.0  288.0   82944.0\n",
       "Inser  18  12.0  216.0   46656.0\n",
       "View   11  12.0  132.0   17424.0"
      ]
     },
     "execution_count": 218,
     "metadata": {},
     "output_type": "execute_result"
    }
   ],
   "source": [
    "join"
   ]
  },
  {
   "cell_type": "code",
   "execution_count": 220,
   "metadata": {
    "ExecuteTime": {
     "end_time": "2017-11-23T23:36:47.632250Z",
     "start_time": "2017-11-23T23:36:47.620250Z"
    }
   },
   "outputs": [
    {
     "data": {
      "text/plain": [
       "12.0    4\n",
       "Name: Y, dtype: int64"
      ]
     },
     "execution_count": 220,
     "metadata": {},
     "output_type": "execute_result"
    }
   ],
   "source": [
    "#count number of rows with each unique value of variable\n",
    "join['Y'].value_counts()"
   ]
  },
  {
   "cell_type": "code",
   "execution_count": 221,
   "metadata": {
    "ExecuteTime": {
     "end_time": "2017-11-23T23:37:00.257989Z",
     "start_time": "2017-11-23T23:37:00.249989Z"
    }
   },
   "outputs": [
    {
     "data": {
      "text/plain": [
       "4"
      ]
     },
     "execution_count": 221,
     "metadata": {},
     "output_type": "execute_result"
    }
   ],
   "source": [
    "#number of rows in dataframe\n",
    "len(join)"
   ]
  },
  {
   "cell_type": "code",
   "execution_count": 222,
   "metadata": {
    "ExecuteTime": {
     "end_time": "2017-11-23T23:37:13.156619Z",
     "start_time": "2017-11-23T23:37:13.128618Z"
    }
   },
   "outputs": [
    {
     "data": {
      "text/html": [
       "<div>\n",
       "<style>\n",
       "    .dataframe thead tr:only-child th {\n",
       "        text-align: right;\n",
       "    }\n",
       "\n",
       "    .dataframe thead th {\n",
       "        text-align: left;\n",
       "    }\n",
       "\n",
       "    .dataframe tbody tr th {\n",
       "        vertical-align: top;\n",
       "    }\n",
       "</style>\n",
       "<table border=\"1\" class=\"dataframe\">\n",
       "  <thead>\n",
       "    <tr style=\"text-align: right;\">\n",
       "      <th></th>\n",
       "      <th>X</th>\n",
       "      <th>Y</th>\n",
       "      <th>Area</th>\n",
       "      <th>Volume</th>\n",
       "    </tr>\n",
       "  </thead>\n",
       "  <tbody>\n",
       "    <tr>\n",
       "      <th>count</th>\n",
       "      <td>4.000000</td>\n",
       "      <td>4.0</td>\n",
       "      <td>4.000000</td>\n",
       "      <td>4.000000</td>\n",
       "    </tr>\n",
       "    <tr>\n",
       "      <th>mean</th>\n",
       "      <td>23.250000</td>\n",
       "      <td>12.0</td>\n",
       "      <td>279.000000</td>\n",
       "      <td>94356.000000</td>\n",
       "    </tr>\n",
       "    <tr>\n",
       "      <th>std</th>\n",
       "      <td>12.365948</td>\n",
       "      <td>0.0</td>\n",
       "      <td>148.391374</td>\n",
       "      <td>94572.769696</td>\n",
       "    </tr>\n",
       "    <tr>\n",
       "      <th>min</th>\n",
       "      <td>11.000000</td>\n",
       "      <td>12.0</td>\n",
       "      <td>132.000000</td>\n",
       "      <td>17424.000000</td>\n",
       "    </tr>\n",
       "    <tr>\n",
       "      <th>25%</th>\n",
       "      <td>16.250000</td>\n",
       "      <td>12.0</td>\n",
       "      <td>195.000000</td>\n",
       "      <td>39348.000000</td>\n",
       "    </tr>\n",
       "    <tr>\n",
       "      <th>50%</th>\n",
       "      <td>21.000000</td>\n",
       "      <td>12.0</td>\n",
       "      <td>252.000000</td>\n",
       "      <td>64800.000000</td>\n",
       "    </tr>\n",
       "    <tr>\n",
       "      <th>75%</th>\n",
       "      <td>28.000000</td>\n",
       "      <td>12.0</td>\n",
       "      <td>336.000000</td>\n",
       "      <td>119808.000000</td>\n",
       "    </tr>\n",
       "    <tr>\n",
       "      <th>max</th>\n",
       "      <td>40.000000</td>\n",
       "      <td>12.0</td>\n",
       "      <td>480.000000</td>\n",
       "      <td>230400.000000</td>\n",
       "    </tr>\n",
       "  </tbody>\n",
       "</table>\n",
       "</div>"
      ],
      "text/plain": [
       "               X     Y        Area         Volume\n",
       "count   4.000000   4.0    4.000000       4.000000\n",
       "mean   23.250000  12.0  279.000000   94356.000000\n",
       "std    12.365948   0.0  148.391374   94572.769696\n",
       "min    11.000000  12.0  132.000000   17424.000000\n",
       "25%    16.250000  12.0  195.000000   39348.000000\n",
       "50%    21.000000  12.0  252.000000   64800.000000\n",
       "75%    28.000000  12.0  336.000000  119808.000000\n",
       "max    40.000000  12.0  480.000000  230400.000000"
      ]
     },
     "execution_count": 222,
     "metadata": {},
     "output_type": "execute_result"
    }
   ],
   "source": [
    "#descriptive statistics\n",
    "join.describe()"
   ]
  },
  {
   "cell_type": "markdown",
   "metadata": {},
   "source": [
    "### Thank you, more to come soon!"
   ]
  },
  {
   "cell_type": "code",
   "execution_count": null,
   "metadata": {
    "collapsed": true
   },
   "outputs": [],
   "source": []
  }
 ],
 "metadata": {
  "kernelspec": {
   "display_name": "Python 3",
   "language": "python",
   "name": "python3"
  },
  "language_info": {
   "codemirror_mode": {
    "name": "ipython",
    "version": 3
   },
   "file_extension": ".py",
   "mimetype": "text/x-python",
   "name": "python",
   "nbconvert_exporter": "python",
   "pygments_lexer": "ipython3",
   "version": "3.6.3"
  },
  "toc": {
   "nav_menu": {},
   "number_sections": true,
   "sideBar": true,
   "skip_h1_title": false,
   "toc_cell": false,
   "toc_position": {},
   "toc_section_display": "block",
   "toc_window_display": false
  }
 },
 "nbformat": 4,
 "nbformat_minor": 2
}
