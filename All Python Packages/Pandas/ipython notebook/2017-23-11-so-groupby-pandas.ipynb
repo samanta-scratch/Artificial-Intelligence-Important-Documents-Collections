{
 "cells": [
  {
   "cell_type": "markdown",
   "metadata": {},
   "source": [
    "## Groupby\n",
    "<b>DataFrame.groupby(by=None, axis=0, level=None, as_index=True, sort=True, group_keys=True, squeeze=False, **kwargs)</b>\n",
    "\n",
    "Group series using mapper (dict or key function, apply given function to group, return result as series) or by a series of columns.\n",
    "\n",
    "### Any groupby operation involves one of the following operations on the original object. They are −\n",
    "\n",
    "* Splitting the Object\n",
    "\n",
    "* Applying a function\n",
    "\n",
    "* Combining the results\n",
    "\n",
    "<img style=\"float: left;\" src=\"https://i.stack.imgur.com/sgCn1.jpg\"></img>"
   ]
  },
  {
   "cell_type": "code",
   "execution_count": 1,
   "metadata": {
    "ExecuteTime": {
     "end_time": "2017-11-24T00:04:41.065464Z",
     "start_time": "2017-11-24T00:04:30.509551Z"
    },
    "collapsed": true
   },
   "outputs": [],
   "source": [
    "# import library\n",
    "import pandas as pd"
   ]
  },
  {
   "cell_type": "code",
   "execution_count": 4,
   "metadata": {
    "ExecuteTime": {
     "end_time": "2017-11-24T00:06:50.751134Z",
     "start_time": "2017-11-24T00:06:50.722114Z"
    }
   },
   "outputs": [
    {
     "data": {
      "text/html": [
       "<div>\n",
       "<style>\n",
       "    .dataframe thead tr:only-child th {\n",
       "        text-align: right;\n",
       "    }\n",
       "\n",
       "    .dataframe thead th {\n",
       "        text-align: left;\n",
       "    }\n",
       "\n",
       "    .dataframe tbody tr th {\n",
       "        vertical-align: top;\n",
       "    }\n",
       "</style>\n",
       "<table border=\"1\" class=\"dataframe\">\n",
       "  <thead>\n",
       "    <tr style=\"text-align: right;\">\n",
       "      <th></th>\n",
       "      <th>Grade</th>\n",
       "      <th>Rank</th>\n",
       "      <th>Students</th>\n",
       "      <th>Year</th>\n",
       "    </tr>\n",
       "  </thead>\n",
       "  <tbody>\n",
       "    <tr>\n",
       "      <th>0</th>\n",
       "      <td>87</td>\n",
       "      <td>1</td>\n",
       "      <td>S1</td>\n",
       "      <td>2014</td>\n",
       "    </tr>\n",
       "    <tr>\n",
       "      <th>1</th>\n",
       "      <td>79</td>\n",
       "      <td>2</td>\n",
       "      <td>S2</td>\n",
       "      <td>2015</td>\n",
       "    </tr>\n",
       "    <tr>\n",
       "      <th>2</th>\n",
       "      <td>83</td>\n",
       "      <td>2</td>\n",
       "      <td>S3</td>\n",
       "      <td>2014</td>\n",
       "    </tr>\n",
       "    <tr>\n",
       "      <th>3</th>\n",
       "      <td>73</td>\n",
       "      <td>3</td>\n",
       "      <td>S3</td>\n",
       "      <td>2015</td>\n",
       "    </tr>\n",
       "    <tr>\n",
       "      <th>4</th>\n",
       "      <td>74</td>\n",
       "      <td>3</td>\n",
       "      <td>S1</td>\n",
       "      <td>2014</td>\n",
       "    </tr>\n",
       "    <tr>\n",
       "      <th>5</th>\n",
       "      <td>81</td>\n",
       "      <td>4</td>\n",
       "      <td>S4</td>\n",
       "      <td>2015</td>\n",
       "    </tr>\n",
       "    <tr>\n",
       "      <th>6</th>\n",
       "      <td>56</td>\n",
       "      <td>1</td>\n",
       "      <td>S4</td>\n",
       "      <td>2016</td>\n",
       "    </tr>\n",
       "    <tr>\n",
       "      <th>7</th>\n",
       "      <td>78</td>\n",
       "      <td>1</td>\n",
       "      <td>S3</td>\n",
       "      <td>2017</td>\n",
       "    </tr>\n",
       "    <tr>\n",
       "      <th>8</th>\n",
       "      <td>94</td>\n",
       "      <td>2</td>\n",
       "      <td>S2</td>\n",
       "      <td>2016</td>\n",
       "    </tr>\n",
       "    <tr>\n",
       "      <th>9</th>\n",
       "      <td>70</td>\n",
       "      <td>4</td>\n",
       "      <td>S2</td>\n",
       "      <td>2014</td>\n",
       "    </tr>\n",
       "    <tr>\n",
       "      <th>10</th>\n",
       "      <td>80</td>\n",
       "      <td>1</td>\n",
       "      <td>S4</td>\n",
       "      <td>2015</td>\n",
       "    </tr>\n",
       "    <tr>\n",
       "      <th>11</th>\n",
       "      <td>69</td>\n",
       "      <td>2</td>\n",
       "      <td>S3</td>\n",
       "      <td>2017</td>\n",
       "    </tr>\n",
       "  </tbody>\n",
       "</table>\n",
       "</div>"
      ],
      "text/plain": [
       "    Grade  Rank Students  Year\n",
       "0      87     1       S1  2014\n",
       "1      79     2       S2  2015\n",
       "2      83     2       S3  2014\n",
       "3      73     3       S3  2015\n",
       "4      74     3       S1  2014\n",
       "5      81     4       S4  2015\n",
       "6      56     1       S4  2016\n",
       "7      78     1       S3  2017\n",
       "8      94     2       S2  2016\n",
       "9      70     4       S2  2014\n",
       "10     80     1       S4  2015\n",
       "11     69     2       S3  2017"
      ]
     },
     "execution_count": 4,
     "metadata": {},
     "output_type": "execute_result"
    }
   ],
   "source": [
    "data = {'Students': ['S1', 'S2', 'S3', 'S3', 'S1',\n",
    "         'S4', 'S4', 'S3', 'S2', 'S2', 'S4', 'S3'],\n",
    "         'Rank': [1, 2, 2, 3, 3,4 ,1 ,1,2 , 4,1,2],\n",
    "         'Year': [2014,2015,2014,2015,2014,2015,2016,2017,2016,2014,2015,2017],\n",
    "         'Grade':[87,79,83,73,74,81,56,78,94,70,80,69]}\n",
    "df = pd.DataFrame(data)\n",
    "df"
   ]
  },
  {
   "cell_type": "markdown",
   "metadata": {},
   "source": [
    "### Split Data into Groups\n",
    "Pandas object can be split into any of their objects. There are multiple ways to split an object like −\n",
    "\n",
    "* obj.groupby('key')\n",
    "* obj.groupby(['key1','key2'])\n",
    "* obj.groupby(key,axis=1)\n",
    "\n",
    "Let us now see how the grouping objects can be applied to the DataFrame object"
   ]
  },
  {
   "cell_type": "code",
   "execution_count": 7,
   "metadata": {
    "ExecuteTime": {
     "end_time": "2017-11-24T00:08:51.636222Z",
     "start_time": "2017-11-24T00:08:51.631218Z"
    }
   },
   "outputs": [
    {
     "data": {
      "text/plain": [
       "<pandas.core.groupby.DataFrameGroupBy object at 0x0000015F54F9B748>"
      ]
     },
     "execution_count": 7,
     "metadata": {},
     "output_type": "execute_result"
    }
   ],
   "source": [
    "# let's groupby students\n",
    "df.groupby('Students')"
   ]
  },
  {
   "cell_type": "code",
   "execution_count": 8,
   "metadata": {
    "ExecuteTime": {
     "end_time": "2017-11-24T00:09:07.418319Z",
     "start_time": "2017-11-24T00:09:07.411309Z"
    }
   },
   "outputs": [
    {
     "data": {
      "text/plain": [
       "{'S1': Int64Index([0, 4], dtype='int64'),\n",
       " 'S2': Int64Index([1, 8, 9], dtype='int64'),\n",
       " 'S3': Int64Index([2, 3, 7, 11], dtype='int64'),\n",
       " 'S4': Int64Index([5, 6, 10], dtype='int64')}"
      ]
     },
     "execution_count": 8,
     "metadata": {},
     "output_type": "execute_result"
    }
   ],
   "source": [
    "# to view groups \n",
    "df.groupby('Students').groups"
   ]
  },
  {
   "cell_type": "code",
   "execution_count": 9,
   "metadata": {
    "ExecuteTime": {
     "end_time": "2017-11-24T00:09:45.225318Z",
     "start_time": "2017-11-24T00:09:45.215329Z"
    }
   },
   "outputs": [
    {
     "data": {
      "text/plain": [
       "{('S1', 2014): Int64Index([0, 4], dtype='int64'),\n",
       " ('S2', 2014): Int64Index([9], dtype='int64'),\n",
       " ('S2', 2015): Int64Index([1], dtype='int64'),\n",
       " ('S2', 2016): Int64Index([8], dtype='int64'),\n",
       " ('S3', 2014): Int64Index([2], dtype='int64'),\n",
       " ('S3', 2015): Int64Index([3], dtype='int64'),\n",
       " ('S3', 2017): Int64Index([7, 11], dtype='int64'),\n",
       " ('S4', 2015): Int64Index([5, 10], dtype='int64'),\n",
       " ('S4', 2016): Int64Index([6], dtype='int64')}"
      ]
     },
     "execution_count": 9,
     "metadata": {},
     "output_type": "execute_result"
    }
   ],
   "source": [
    "# you can group by with multiple columns \n",
    "df.groupby(['Students','Year']).groups"
   ]
  },
  {
   "cell_type": "code",
   "execution_count": 11,
   "metadata": {
    "ExecuteTime": {
     "end_time": "2017-11-24T00:11:31.416455Z",
     "start_time": "2017-11-24T00:11:31.386435Z"
    }
   },
   "outputs": [
    {
     "name": "stdout",
     "output_type": "stream",
     "text": [
      "S1\n",
      "   Grade  Rank Students  Year\n",
      "0     87     1       S1  2014\n",
      "4     74     3       S1  2014\n",
      "S2\n",
      "   Grade  Rank Students  Year\n",
      "1     79     2       S2  2015\n",
      "8     94     2       S2  2016\n",
      "9     70     4       S2  2014\n",
      "S3\n",
      "    Grade  Rank Students  Year\n",
      "2      83     2       S3  2014\n",
      "3      73     3       S3  2015\n",
      "7      78     1       S3  2017\n",
      "11     69     2       S3  2017\n",
      "S4\n",
      "    Grade  Rank Students  Year\n",
      "5      81     4       S4  2015\n",
      "6      56     1       S4  2016\n",
      "10     80     1       S4  2015\n"
     ]
    }
   ],
   "source": [
    "# iterating through groups\n",
    "grouped = df.groupby('Students')\n",
    "for student, group_name in grouped:\n",
    "    print(student)\n",
    "    print(group_name)"
   ]
  },
  {
   "cell_type": "code",
   "execution_count": 13,
   "metadata": {
    "ExecuteTime": {
     "end_time": "2017-11-24T00:12:20.602901Z",
     "start_time": "2017-11-24T00:12:20.591894Z"
    }
   },
   "outputs": [
    {
     "name": "stdout",
     "output_type": "stream",
     "text": [
      "   Grade  Rank Students  Year\n",
      "0     87     1       S1  2014\n",
      "2     83     2       S3  2014\n",
      "4     74     3       S1  2014\n",
      "9     70     4       S2  2014\n"
     ]
    }
   ],
   "source": [
    "# select group by value\n",
    "grouped = df.groupby('Year')\n",
    "print(grouped.get_group(2014))"
   ]
  },
  {
   "cell_type": "code",
   "execution_count": 16,
   "metadata": {
    "ExecuteTime": {
     "end_time": "2017-11-24T00:13:12.100005Z",
     "start_time": "2017-11-24T00:13:12.092011Z"
    }
   },
   "outputs": [
    {
     "name": "stdout",
     "output_type": "stream",
     "text": [
      "Year\n",
      "2014    78.50\n",
      "2015    78.25\n",
      "2016    75.00\n",
      "2017    73.50\n",
      "Name: Grade, dtype: float64\n"
     ]
    }
   ],
   "source": [
    "# find the mean of grouped by data\n",
    "import numpy as np\n",
    "grouped = df.groupby('Year')\n",
    "print(grouped['Grade'].agg(np.mean))"
   ]
  },
  {
   "cell_type": "code",
   "execution_count": 18,
   "metadata": {
    "ExecuteTime": {
     "end_time": "2017-11-24T00:13:56.892785Z",
     "start_time": "2017-11-24T00:13:56.884779Z"
    }
   },
   "outputs": [
    {
     "name": "stdout",
     "output_type": "stream",
     "text": [
      "Students\n",
      "S1    80.0\n",
      "S2    81.0\n",
      "S3    76.0\n",
      "S4    72.0\n",
      "Name: Grade, dtype: float64\n"
     ]
    }
   ],
   "source": [
    "# find the average for all students\n",
    "grouped = df.groupby('Students')\n",
    "print(grouped['Grade'].agg(np.mean).round())"
   ]
  },
  {
   "cell_type": "code",
   "execution_count": 19,
   "metadata": {
    "ExecuteTime": {
     "end_time": "2017-11-24T00:14:47.056466Z",
     "start_time": "2017-11-24T00:14:47.048460Z"
    }
   },
   "outputs": [
    {
     "name": "stdout",
     "output_type": "stream",
     "text": [
      "Year  Grade\n",
      "2014  70       1\n",
      "      74       1\n",
      "      83       1\n",
      "      87       1\n",
      "2015  73       1\n",
      "      79       1\n",
      "      80       1\n",
      "      81       1\n",
      "2016  56       1\n",
      "      94       1\n",
      "2017  69       1\n",
      "      78       1\n",
      "Name: Grade, dtype: int64\n"
     ]
    }
   ],
   "source": [
    "# count \n",
    "grouped = df.groupby('Year')\n",
    "print(grouped['Grade'].value_counts())"
   ]
  },
  {
   "cell_type": "code",
   "execution_count": 21,
   "metadata": {
    "ExecuteTime": {
     "end_time": "2017-11-24T00:16:32.773924Z",
     "start_time": "2017-11-24T00:16:32.760913Z"
    }
   },
   "outputs": [
    {
     "data": {
      "text/html": [
       "<div>\n",
       "<style>\n",
       "    .dataframe thead tr:only-child th {\n",
       "        text-align: right;\n",
       "    }\n",
       "\n",
       "    .dataframe thead th {\n",
       "        text-align: left;\n",
       "    }\n",
       "\n",
       "    .dataframe tbody tr th {\n",
       "        vertical-align: top;\n",
       "    }\n",
       "</style>\n",
       "<table border=\"1\" class=\"dataframe\">\n",
       "  <thead>\n",
       "    <tr style=\"text-align: right;\">\n",
       "      <th></th>\n",
       "      <th>Grade</th>\n",
       "      <th>Rank</th>\n",
       "      <th>Students</th>\n",
       "      <th>Year</th>\n",
       "    </tr>\n",
       "  </thead>\n",
       "  <tbody>\n",
       "    <tr>\n",
       "      <th>1</th>\n",
       "      <td>79</td>\n",
       "      <td>2</td>\n",
       "      <td>S2</td>\n",
       "      <td>2015</td>\n",
       "    </tr>\n",
       "    <tr>\n",
       "      <th>2</th>\n",
       "      <td>83</td>\n",
       "      <td>2</td>\n",
       "      <td>S3</td>\n",
       "      <td>2014</td>\n",
       "    </tr>\n",
       "    <tr>\n",
       "      <th>3</th>\n",
       "      <td>73</td>\n",
       "      <td>3</td>\n",
       "      <td>S3</td>\n",
       "      <td>2015</td>\n",
       "    </tr>\n",
       "    <tr>\n",
       "      <th>5</th>\n",
       "      <td>81</td>\n",
       "      <td>4</td>\n",
       "      <td>S4</td>\n",
       "      <td>2015</td>\n",
       "    </tr>\n",
       "    <tr>\n",
       "      <th>6</th>\n",
       "      <td>56</td>\n",
       "      <td>1</td>\n",
       "      <td>S4</td>\n",
       "      <td>2016</td>\n",
       "    </tr>\n",
       "    <tr>\n",
       "      <th>7</th>\n",
       "      <td>78</td>\n",
       "      <td>1</td>\n",
       "      <td>S3</td>\n",
       "      <td>2017</td>\n",
       "    </tr>\n",
       "    <tr>\n",
       "      <th>8</th>\n",
       "      <td>94</td>\n",
       "      <td>2</td>\n",
       "      <td>S2</td>\n",
       "      <td>2016</td>\n",
       "    </tr>\n",
       "    <tr>\n",
       "      <th>9</th>\n",
       "      <td>70</td>\n",
       "      <td>4</td>\n",
       "      <td>S2</td>\n",
       "      <td>2014</td>\n",
       "    </tr>\n",
       "    <tr>\n",
       "      <th>10</th>\n",
       "      <td>80</td>\n",
       "      <td>1</td>\n",
       "      <td>S4</td>\n",
       "      <td>2015</td>\n",
       "    </tr>\n",
       "    <tr>\n",
       "      <th>11</th>\n",
       "      <td>69</td>\n",
       "      <td>2</td>\n",
       "      <td>S3</td>\n",
       "      <td>2017</td>\n",
       "    </tr>\n",
       "  </tbody>\n",
       "</table>\n",
       "</div>"
      ],
      "text/plain": [
       "    Grade  Rank Students  Year\n",
       "1      79     2       S2  2015\n",
       "2      83     2       S3  2014\n",
       "3      73     3       S3  2015\n",
       "5      81     4       S4  2015\n",
       "6      56     1       S4  2016\n",
       "7      78     1       S3  2017\n",
       "8      94     2       S2  2016\n",
       "9      70     4       S2  2014\n",
       "10     80     1       S4  2015\n",
       "11     69     2       S3  2017"
      ]
     },
     "execution_count": 21,
     "metadata": {},
     "output_type": "execute_result"
    }
   ],
   "source": [
    "#Filtration filters the data on a defined criteria and returns the subset of data. \n",
    "#The filter() function is used to filter the data.\n",
    "# we are going to find the top 3 students\n",
    "df.groupby('Students').filter(lambda x: len(x) >= 3)"
   ]
  },
  {
   "cell_type": "markdown",
   "metadata": {},
   "source": [
    "### I'll be updating this notebook soon!\n",
    "using real dataset!!"
   ]
  },
  {
   "cell_type": "code",
   "execution_count": null,
   "metadata": {
    "collapsed": true
   },
   "outputs": [],
   "source": []
  }
 ],
 "metadata": {
  "kernelspec": {
   "display_name": "Python 3",
   "language": "python",
   "name": "python3"
  },
  "language_info": {
   "codemirror_mode": {
    "name": "ipython",
    "version": 3
   },
   "file_extension": ".py",
   "mimetype": "text/x-python",
   "name": "python",
   "nbconvert_exporter": "python",
   "pygments_lexer": "ipython3",
   "version": "3.6.3"
  },
  "toc": {
   "nav_menu": {},
   "number_sections": true,
   "sideBar": true,
   "skip_h1_title": false,
   "toc_cell": false,
   "toc_position": {},
   "toc_section_display": "block",
   "toc_window_display": false
  }
 },
 "nbformat": 4,
 "nbformat_minor": 2
}
