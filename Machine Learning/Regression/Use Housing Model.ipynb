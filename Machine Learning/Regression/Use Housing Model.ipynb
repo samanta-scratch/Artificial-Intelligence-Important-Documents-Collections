{
 "cells": [
  {
   "cell_type": "markdown",
   "id": "82c6a6ac",
   "metadata": {},
   "source": [
    "## Using Model"
   ]
  },
  {
   "cell_type": "code",
   "execution_count": 1,
   "id": "c8247f5a",
   "metadata": {},
   "outputs": [],
   "source": [
    "from joblib import load\n",
    "import numpy as np\n",
    "model = load('housing.joblib')"
   ]
  },
  {
   "cell_type": "code",
   "execution_count": 2,
   "id": "0667b614",
   "metadata": {},
   "outputs": [],
   "source": [
    "feature = np.array([[ 2.92292215, -0.48688269,  1.03401929, -0.27288841,  1.1044268 ,\n",
    "       -0.10600147,  1.37085586, -0.93576444,  1.6656792 ,  1.54540449,\n",
    "        0.81029478, -4.6832569 ,  0.2444329 ]])"
   ]
  },
  {
   "cell_type": "code",
   "execution_count": 3,
   "id": "2ca345a9",
   "metadata": {},
   "outputs": [
    {
     "data": {
      "text/plain": [
       "array([12.551])"
      ]
     },
     "execution_count": 3,
     "metadata": {},
     "output_type": "execute_result"
    }
   ],
   "source": [
    "model.predict(feature)"
   ]
  }
 ],
 "metadata": {
  "kernelspec": {
   "display_name": "Python 3 (ipykernel)",
   "language": "python",
   "name": "python3"
  },
  "language_info": {
   "codemirror_mode": {
    "name": "ipython",
    "version": 3
   },
   "file_extension": ".py",
   "mimetype": "text/x-python",
   "name": "python",
   "nbconvert_exporter": "python",
   "pygments_lexer": "ipython3",
   "version": "3.10.4"
  }
 },
 "nbformat": 4,
 "nbformat_minor": 5
}
