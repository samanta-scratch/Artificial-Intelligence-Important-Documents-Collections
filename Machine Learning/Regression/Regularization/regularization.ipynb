{
 "cells": [
  {
   "cell_type": "code",
   "execution_count": 1,
   "id": "22ad22b3",
   "metadata": {},
   "outputs": [],
   "source": [
    "import numpy as np\n",
    "import pandas as pd"
   ]
  },
  {
   "cell_type": "code",
   "execution_count": 2,
   "id": "22e0c8a7",
   "metadata": {},
   "outputs": [
    {
     "data": {
      "text/html": [
       "<div>\n",
       "<style scoped>\n",
       "    .dataframe tbody tr th:only-of-type {\n",
       "        vertical-align: middle;\n",
       "    }\n",
       "\n",
       "    .dataframe tbody tr th {\n",
       "        vertical-align: top;\n",
       "    }\n",
       "\n",
       "    .dataframe thead th {\n",
       "        text-align: right;\n",
       "    }\n",
       "</style>\n",
       "<table border=\"1\" class=\"dataframe\">\n",
       "  <thead>\n",
       "    <tr style=\"text-align: right;\">\n",
       "      <th></th>\n",
       "      <th>Unnamed: 0</th>\n",
       "      <th>work_year</th>\n",
       "      <th>experience_level</th>\n",
       "      <th>employment_type</th>\n",
       "      <th>job_title</th>\n",
       "      <th>salary</th>\n",
       "      <th>salary_currency</th>\n",
       "      <th>salary_in_usd</th>\n",
       "      <th>employee_residence</th>\n",
       "      <th>remote_ratio</th>\n",
       "      <th>company_location</th>\n",
       "      <th>company_size</th>\n",
       "    </tr>\n",
       "  </thead>\n",
       "  <tbody>\n",
       "    <tr>\n",
       "      <th>0</th>\n",
       "      <td>0</td>\n",
       "      <td>2020</td>\n",
       "      <td>MI</td>\n",
       "      <td>FT</td>\n",
       "      <td>Data Scientist</td>\n",
       "      <td>70000</td>\n",
       "      <td>EUR</td>\n",
       "      <td>79833</td>\n",
       "      <td>DE</td>\n",
       "      <td>0</td>\n",
       "      <td>DE</td>\n",
       "      <td>L</td>\n",
       "    </tr>\n",
       "    <tr>\n",
       "      <th>1</th>\n",
       "      <td>1</td>\n",
       "      <td>2020</td>\n",
       "      <td>SE</td>\n",
       "      <td>FT</td>\n",
       "      <td>Machine Learning Scientist</td>\n",
       "      <td>260000</td>\n",
       "      <td>USD</td>\n",
       "      <td>260000</td>\n",
       "      <td>JP</td>\n",
       "      <td>0</td>\n",
       "      <td>JP</td>\n",
       "      <td>S</td>\n",
       "    </tr>\n",
       "    <tr>\n",
       "      <th>2</th>\n",
       "      <td>2</td>\n",
       "      <td>2020</td>\n",
       "      <td>SE</td>\n",
       "      <td>FT</td>\n",
       "      <td>Big Data Engineer</td>\n",
       "      <td>85000</td>\n",
       "      <td>GBP</td>\n",
       "      <td>109024</td>\n",
       "      <td>GB</td>\n",
       "      <td>50</td>\n",
       "      <td>GB</td>\n",
       "      <td>M</td>\n",
       "    </tr>\n",
       "    <tr>\n",
       "      <th>3</th>\n",
       "      <td>3</td>\n",
       "      <td>2020</td>\n",
       "      <td>MI</td>\n",
       "      <td>FT</td>\n",
       "      <td>Product Data Analyst</td>\n",
       "      <td>20000</td>\n",
       "      <td>USD</td>\n",
       "      <td>20000</td>\n",
       "      <td>HN</td>\n",
       "      <td>0</td>\n",
       "      <td>HN</td>\n",
       "      <td>S</td>\n",
       "    </tr>\n",
       "    <tr>\n",
       "      <th>4</th>\n",
       "      <td>4</td>\n",
       "      <td>2020</td>\n",
       "      <td>SE</td>\n",
       "      <td>FT</td>\n",
       "      <td>Machine Learning Engineer</td>\n",
       "      <td>150000</td>\n",
       "      <td>USD</td>\n",
       "      <td>150000</td>\n",
       "      <td>US</td>\n",
       "      <td>50</td>\n",
       "      <td>US</td>\n",
       "      <td>L</td>\n",
       "    </tr>\n",
       "  </tbody>\n",
       "</table>\n",
       "</div>"
      ],
      "text/plain": [
       "   Unnamed: 0  work_year experience_level employment_type  \\\n",
       "0           0       2020               MI              FT   \n",
       "1           1       2020               SE              FT   \n",
       "2           2       2020               SE              FT   \n",
       "3           3       2020               MI              FT   \n",
       "4           4       2020               SE              FT   \n",
       "\n",
       "                    job_title  salary salary_currency  salary_in_usd  \\\n",
       "0              Data Scientist   70000             EUR          79833   \n",
       "1  Machine Learning Scientist  260000             USD         260000   \n",
       "2           Big Data Engineer   85000             GBP         109024   \n",
       "3        Product Data Analyst   20000             USD          20000   \n",
       "4   Machine Learning Engineer  150000             USD         150000   \n",
       "\n",
       "  employee_residence  remote_ratio company_location company_size  \n",
       "0                 DE             0               DE            L  \n",
       "1                 JP             0               JP            S  \n",
       "2                 GB            50               GB            M  \n",
       "3                 HN             0               HN            S  \n",
       "4                 US            50               US            L  "
      ]
     },
     "execution_count": 2,
     "metadata": {},
     "output_type": "execute_result"
    }
   ],
   "source": [
    "df = pd.read_csv('ds_salaries.csv')\n",
    "df.head()"
   ]
  },
  {
   "cell_type": "code",
   "execution_count": 3,
   "id": "893661dd",
   "metadata": {},
   "outputs": [],
   "source": [
    "df.drop(['Unnamed: 0', 'salary', 'salary_currency', ], inplace = True, axis=1)"
   ]
  },
  {
   "cell_type": "code",
   "execution_count": 4,
   "id": "a1ab1718",
   "metadata": {},
   "outputs": [
    {
     "data": {
      "text/html": [
       "<div>\n",
       "<style scoped>\n",
       "    .dataframe tbody tr th:only-of-type {\n",
       "        vertical-align: middle;\n",
       "    }\n",
       "\n",
       "    .dataframe tbody tr th {\n",
       "        vertical-align: top;\n",
       "    }\n",
       "\n",
       "    .dataframe thead th {\n",
       "        text-align: right;\n",
       "    }\n",
       "</style>\n",
       "<table border=\"1\" class=\"dataframe\">\n",
       "  <thead>\n",
       "    <tr style=\"text-align: right;\">\n",
       "      <th></th>\n",
       "      <th>work_year</th>\n",
       "      <th>experience_level</th>\n",
       "      <th>employment_type</th>\n",
       "      <th>job_title</th>\n",
       "      <th>salary_in_usd</th>\n",
       "      <th>employee_residence</th>\n",
       "      <th>remote_ratio</th>\n",
       "      <th>company_location</th>\n",
       "      <th>company_size</th>\n",
       "    </tr>\n",
       "  </thead>\n",
       "  <tbody>\n",
       "    <tr>\n",
       "      <th>0</th>\n",
       "      <td>2020</td>\n",
       "      <td>MI</td>\n",
       "      <td>FT</td>\n",
       "      <td>Data Scientist</td>\n",
       "      <td>79833</td>\n",
       "      <td>DE</td>\n",
       "      <td>0</td>\n",
       "      <td>DE</td>\n",
       "      <td>L</td>\n",
       "    </tr>\n",
       "    <tr>\n",
       "      <th>1</th>\n",
       "      <td>2020</td>\n",
       "      <td>SE</td>\n",
       "      <td>FT</td>\n",
       "      <td>Machine Learning Scientist</td>\n",
       "      <td>260000</td>\n",
       "      <td>JP</td>\n",
       "      <td>0</td>\n",
       "      <td>JP</td>\n",
       "      <td>S</td>\n",
       "    </tr>\n",
       "    <tr>\n",
       "      <th>2</th>\n",
       "      <td>2020</td>\n",
       "      <td>SE</td>\n",
       "      <td>FT</td>\n",
       "      <td>Big Data Engineer</td>\n",
       "      <td>109024</td>\n",
       "      <td>GB</td>\n",
       "      <td>50</td>\n",
       "      <td>GB</td>\n",
       "      <td>M</td>\n",
       "    </tr>\n",
       "    <tr>\n",
       "      <th>3</th>\n",
       "      <td>2020</td>\n",
       "      <td>MI</td>\n",
       "      <td>FT</td>\n",
       "      <td>Product Data Analyst</td>\n",
       "      <td>20000</td>\n",
       "      <td>HN</td>\n",
       "      <td>0</td>\n",
       "      <td>HN</td>\n",
       "      <td>S</td>\n",
       "    </tr>\n",
       "    <tr>\n",
       "      <th>4</th>\n",
       "      <td>2020</td>\n",
       "      <td>SE</td>\n",
       "      <td>FT</td>\n",
       "      <td>Machine Learning Engineer</td>\n",
       "      <td>150000</td>\n",
       "      <td>US</td>\n",
       "      <td>50</td>\n",
       "      <td>US</td>\n",
       "      <td>L</td>\n",
       "    </tr>\n",
       "  </tbody>\n",
       "</table>\n",
       "</div>"
      ],
      "text/plain": [
       "   work_year experience_level employment_type                   job_title  \\\n",
       "0       2020               MI              FT              Data Scientist   \n",
       "1       2020               SE              FT  Machine Learning Scientist   \n",
       "2       2020               SE              FT           Big Data Engineer   \n",
       "3       2020               MI              FT        Product Data Analyst   \n",
       "4       2020               SE              FT   Machine Learning Engineer   \n",
       "\n",
       "   salary_in_usd employee_residence  remote_ratio company_location  \\\n",
       "0          79833                 DE             0               DE   \n",
       "1         260000                 JP             0               JP   \n",
       "2         109024                 GB            50               GB   \n",
       "3          20000                 HN             0               HN   \n",
       "4         150000                 US            50               US   \n",
       "\n",
       "  company_size  \n",
       "0            L  \n",
       "1            S  \n",
       "2            M  \n",
       "3            S  \n",
       "4            L  "
      ]
     },
     "execution_count": 4,
     "metadata": {},
     "output_type": "execute_result"
    }
   ],
   "source": [
    "df.head()"
   ]
  },
  {
   "cell_type": "code",
   "execution_count": 5,
   "id": "0f51dc86",
   "metadata": {},
   "outputs": [
    {
     "data": {
      "text/html": [
       "<div>\n",
       "<style scoped>\n",
       "    .dataframe tbody tr th:only-of-type {\n",
       "        vertical-align: middle;\n",
       "    }\n",
       "\n",
       "    .dataframe tbody tr th {\n",
       "        vertical-align: top;\n",
       "    }\n",
       "\n",
       "    .dataframe thead th {\n",
       "        text-align: right;\n",
       "    }\n",
       "</style>\n",
       "<table border=\"1\" class=\"dataframe\">\n",
       "  <thead>\n",
       "    <tr style=\"text-align: right;\">\n",
       "      <th></th>\n",
       "      <th>work_year</th>\n",
       "      <th>salary_in_usd</th>\n",
       "      <th>remote_ratio</th>\n",
       "    </tr>\n",
       "  </thead>\n",
       "  <tbody>\n",
       "    <tr>\n",
       "      <th>count</th>\n",
       "      <td>607.000000</td>\n",
       "      <td>607.000000</td>\n",
       "      <td>607.00000</td>\n",
       "    </tr>\n",
       "    <tr>\n",
       "      <th>mean</th>\n",
       "      <td>2021.405272</td>\n",
       "      <td>112297.869852</td>\n",
       "      <td>70.92257</td>\n",
       "    </tr>\n",
       "    <tr>\n",
       "      <th>std</th>\n",
       "      <td>0.692133</td>\n",
       "      <td>70957.259411</td>\n",
       "      <td>40.70913</td>\n",
       "    </tr>\n",
       "    <tr>\n",
       "      <th>min</th>\n",
       "      <td>2020.000000</td>\n",
       "      <td>2859.000000</td>\n",
       "      <td>0.00000</td>\n",
       "    </tr>\n",
       "    <tr>\n",
       "      <th>25%</th>\n",
       "      <td>2021.000000</td>\n",
       "      <td>62726.000000</td>\n",
       "      <td>50.00000</td>\n",
       "    </tr>\n",
       "    <tr>\n",
       "      <th>50%</th>\n",
       "      <td>2022.000000</td>\n",
       "      <td>101570.000000</td>\n",
       "      <td>100.00000</td>\n",
       "    </tr>\n",
       "    <tr>\n",
       "      <th>75%</th>\n",
       "      <td>2022.000000</td>\n",
       "      <td>150000.000000</td>\n",
       "      <td>100.00000</td>\n",
       "    </tr>\n",
       "    <tr>\n",
       "      <th>max</th>\n",
       "      <td>2022.000000</td>\n",
       "      <td>600000.000000</td>\n",
       "      <td>100.00000</td>\n",
       "    </tr>\n",
       "  </tbody>\n",
       "</table>\n",
       "</div>"
      ],
      "text/plain": [
       "         work_year  salary_in_usd  remote_ratio\n",
       "count   607.000000     607.000000     607.00000\n",
       "mean   2021.405272  112297.869852      70.92257\n",
       "std       0.692133   70957.259411      40.70913\n",
       "min    2020.000000    2859.000000       0.00000\n",
       "25%    2021.000000   62726.000000      50.00000\n",
       "50%    2022.000000  101570.000000     100.00000\n",
       "75%    2022.000000  150000.000000     100.00000\n",
       "max    2022.000000  600000.000000     100.00000"
      ]
     },
     "execution_count": 5,
     "metadata": {},
     "output_type": "execute_result"
    }
   ],
   "source": [
    "df.describe()"
   ]
  },
  {
   "cell_type": "code",
   "execution_count": 6,
   "id": "6edade16",
   "metadata": {},
   "outputs": [
    {
     "name": "stdout",
     "output_type": "stream",
     "text": [
      "<class 'pandas.core.frame.DataFrame'>\n",
      "RangeIndex: 607 entries, 0 to 606\n",
      "Data columns (total 9 columns):\n",
      " #   Column              Non-Null Count  Dtype \n",
      "---  ------              --------------  ----- \n",
      " 0   work_year           607 non-null    int64 \n",
      " 1   experience_level    607 non-null    object\n",
      " 2   employment_type     607 non-null    object\n",
      " 3   job_title           607 non-null    object\n",
      " 4   salary_in_usd       607 non-null    int64 \n",
      " 5   employee_residence  607 non-null    object\n",
      " 6   remote_ratio        607 non-null    int64 \n",
      " 7   company_location    607 non-null    object\n",
      " 8   company_size        607 non-null    object\n",
      "dtypes: int64(3), object(6)\n",
      "memory usage: 42.8+ KB\n"
     ]
    }
   ],
   "source": [
    "# check null in column \n",
    "df.info()"
   ]
  },
  {
   "cell_type": "code",
   "execution_count": 7,
   "id": "89c5ae61",
   "metadata": {},
   "outputs": [
    {
     "data": {
      "text/plain": [
       "<pandas.plotting._core.PlotAccessor object at 0x0000019D1DAF2020>"
      ]
     },
     "execution_count": 7,
     "metadata": {},
     "output_type": "execute_result"
    },
    {
     "data": {
      "image/png": "[encoded data removed]",
      "text/plain": [
       "<Figure size 1080x720 with 4 Axes>"
      ]
     },
     "metadata": {
      "needs_background": "light"
     },
     "output_type": "display_data"
    }
   ],
   "source": [
    "df.hist(bins=30, figsize=(15,10))\n",
    "df.plot"
   ]
  },
  {
   "cell_type": "markdown",
   "id": "f7b06158",
   "metadata": {},
   "source": [
    "## Data Clearning"
   ]
  },
  {
   "cell_type": "code",
   "execution_count": 8,
   "id": "fdd24706",
   "metadata": {},
   "outputs": [
    {
     "name": "stdout",
     "output_type": "stream",
     "text": [
      "work_year =  [2020 2021 2022] \n",
      "\n",
      "experience_level =  ['MI' 'SE' 'EN' 'EX'] \n",
      "\n",
      "employment_type =  ['FT' 'CT' 'PT' 'FL'] \n",
      "\n",
      "job_title =  ['Data Scientist' 'Machine Learning Scientist' 'Big Data Engineer'\n",
      " 'Product Data Analyst' 'Machine Learning Engineer' 'Data Analyst'\n",
      " 'Lead Data Scientist' 'Business Data Analyst' 'Lead Data Engineer'\n",
      " 'Lead Data Analyst' 'Data Engineer' 'Data Science Consultant'\n",
      " 'BI Data Analyst' 'Director of Data Science' 'Research Scientist'\n",
      " 'Machine Learning Manager' 'Data Engineering Manager'\n",
      " 'Machine Learning Infrastructure Engineer' 'ML Engineer' 'AI Scientist'\n",
      " 'Computer Vision Engineer' 'Principal Data Scientist'\n",
      " 'Data Science Manager' 'Head of Data' '3D Computer Vision Researcher'\n",
      " 'Data Analytics Engineer' 'Applied Data Scientist'\n",
      " 'Marketing Data Analyst' 'Cloud Data Engineer' 'Financial Data Analyst'\n",
      " 'Computer Vision Software Engineer' 'Director of Data Engineering'\n",
      " 'Data Science Engineer' 'Principal Data Engineer'\n",
      " 'Machine Learning Developer' 'Applied Machine Learning Scientist'\n",
      " 'Data Analytics Manager' 'Head of Data Science' 'Data Specialist'\n",
      " 'Data Architect' 'Finance Data Analyst' 'Principal Data Analyst'\n",
      " 'Big Data Architect' 'Staff Data Scientist' 'Analytics Engineer'\n",
      " 'ETL Developer' 'Head of Machine Learning' 'NLP Engineer'\n",
      " 'Lead Machine Learning Engineer' 'Data Analytics Lead'] \n",
      "\n",
      "employee_residence =  ['DE' 'JP' 'GB' 'HN' 'US' 'HU' 'NZ' 'FR' 'IN' 'PK' 'PL' 'PT' 'CN' 'GR'\n",
      " 'AE' 'NL' 'MX' 'CA' 'AT' 'NG' 'PH' 'ES' 'DK' 'RU' 'IT' 'HR' 'BG' 'SG'\n",
      " 'BR' 'IQ' 'VN' 'BE' 'UA' 'MT' 'CL' 'RO' 'IR' 'CO' 'MD' 'KE' 'SI' 'HK'\n",
      " 'TR' 'RS' 'PR' 'LU' 'JE' 'CZ' 'AR' 'DZ' 'TN' 'MY' 'EE' 'AU' 'BO' 'IE'\n",
      " 'CH'] \n",
      "\n",
      "remote_ratio =  [  0  50 100] \n",
      "\n",
      "company_location =  ['DE' 'JP' 'GB' 'HN' 'US' 'HU' 'NZ' 'FR' 'IN' 'PK' 'CN' 'GR' 'AE' 'NL'\n",
      " 'MX' 'CA' 'AT' 'NG' 'ES' 'PT' 'DK' 'IT' 'HR' 'LU' 'PL' 'SG' 'RO' 'IQ'\n",
      " 'BR' 'BE' 'UA' 'IL' 'RU' 'MT' 'CL' 'IR' 'CO' 'MD' 'KE' 'SI' 'CH' 'VN'\n",
      " 'AS' 'TR' 'CZ' 'DZ' 'EE' 'MY' 'AU' 'IE'] \n",
      "\n",
      "company_size =  ['L' 'S' 'M'] \n",
      "\n"
     ]
    }
   ],
   "source": [
    "data = ['work_year', 'experience_level', 'employment_type', 'job_title',\n",
    "        'employee_residence', 'remote_ratio',\n",
    "       'company_location', 'company_size']\n",
    "for i in data:\n",
    "    print(f\"{i} = \", df[i].unique(), '\\n')"
   ]
  },
  {
   "cell_type": "code",
   "execution_count": 9,
   "id": "3df81b1f",
   "metadata": {},
   "outputs": [
    {
     "data": {
      "text/plain": [
       "job_title\n",
       "3D Computer Vision Researcher                 1\n",
       "NLP Engineer                                  1\n",
       "Marketing Data Analyst                        1\n",
       "Machine Learning Manager                      1\n",
       "Lead Machine Learning Engineer                1\n",
       "Head of Machine Learning                      1\n",
       "Finance Data Analyst                          1\n",
       "Data Specialist                               1\n",
       "Data Analytics Lead                           1\n",
       "Staff Data Scientist                          1\n",
       "Big Data Architect                            1\n",
       "Director of Data Engineering                  2\n",
       "ETL Developer                                 2\n",
       "Cloud Data Engineer                           2\n",
       "Principal Data Analyst                        2\n",
       "Financial Data Analyst                        2\n",
       "Product Data Analyst                          2\n",
       "Machine Learning Infrastructure Engineer      3\n",
       "Data Science Engineer                         3\n",
       "Lead Data Scientist                           3\n",
       "Lead Data Analyst                             3\n",
       "Computer Vision Software Engineer             3\n",
       "Principal Data Engineer                       3\n",
       "Machine Learning Developer                    3\n",
       "Analytics Engineer                            4\n",
       "Data Analytics Engineer                       4\n",
       "Applied Machine Learning Scientist            4\n",
       "Head of Data Science                          4\n",
       "Applied Data Scientist                        5\n",
       "Head of Data                                  5\n",
       "Data Engineering Manager                      5\n",
       "Business Data Analyst                         5\n",
       "ML Engineer                                   6\n",
       "Computer Vision Engineer                      6\n",
       "BI Data Analyst                               6\n",
       "Lead Data Engineer                            6\n",
       "Data Science Consultant                       7\n",
       "Director of Data Science                      7\n",
       "AI Scientist                                  7\n",
       "Data Analytics Manager                        7\n",
       "Principal Data Scientist                      7\n",
       "Big Data Engineer                             8\n",
       "Machine Learning Scientist                    8\n",
       "Data Architect                               11\n",
       "Data Science Manager                         12\n",
       "Research Scientist                           16\n",
       "Machine Learning Engineer                    41\n",
       "Data Analyst                                 97\n",
       "Data Engineer                               132\n",
       "Data Scientist                              143\n",
       "Name: job_title, dtype: int64"
      ]
     },
     "execution_count": 9,
     "metadata": {},
     "output_type": "execute_result"
    }
   ],
   "source": [
    "# available job_title\n",
    "job_title = df.groupby('job_title')['job_title'].count().sort_values()\n",
    "job_title"
   ]
  },
  {
   "cell_type": "code",
   "execution_count": 10,
   "id": "a4417385",
   "metadata": {},
   "outputs": [],
   "source": [
    "# if job_tile availablity less 4 put into other categary\n",
    "other_cat = job_title[job_title <= 4]\n",
    "title = lambda i:'other' if i in other_cat else i\n",
    "df.job_title = df.job_title.apply(title)"
   ]
  },
  {
   "cell_type": "code",
   "execution_count": 11,
   "id": "fda5a6d2",
   "metadata": {},
   "outputs": [],
   "source": [
    "# residence categary\n",
    "residence = df.groupby('employee_residence')['employee_residence'].count().sort_values(ascending=False)\n",
    "other_rd = residence[residence <= 2]\n",
    "new_rd = lambda i: 'other' if i in other_rd else i\n",
    "df.employee_residence = df.employee_residence.apply(new_rd)"
   ]
  },
  {
   "cell_type": "code",
   "execution_count": 12,
   "id": "a154057c",
   "metadata": {},
   "outputs": [],
   "source": [
    "# location catergary\n",
    "location = df.groupby('company_location')['company_location'].count().sort_values(ascending=False)\n",
    "other_loc = location[location <= 2]\n",
    "new_loc = lambda i: 'other' if i in other_loc else i\n",
    "df.company_location = df.company_location.apply(new_loc)"
   ]
  },
  {
   "cell_type": "markdown",
   "id": "b69b2cac",
   "metadata": {},
   "source": [
    "  # Pipeline"
   ]
  },
  {
   "cell_type": "markdown",
   "id": "0ce0e609",
   "metadata": {},
   "source": [
    "### Split data training and testing"
   ]
  },
  {
   "cell_type": "markdown",
   "id": "9870256e",
   "metadata": {},
   "source": [
    "* split data into train and test according to job title"
   ]
  },
  {
   "cell_type": "code",
   "execution_count": 13,
   "id": "a670349d",
   "metadata": {},
   "outputs": [],
   "source": [
    "from sklearn.model_selection import StratifiedShuffleSplit\n",
    "ssplit = StratifiedShuffleSplit(n_splits=1, test_size=0.2, random_state=42)\n",
    "for train_index, test_index in ssplit.split(df, df['job_title']):\n",
    "    train, test = df.loc[train_index], df.loc[test_index]"
   ]
  },
  {
   "cell_type": "code",
   "execution_count": 14,
   "id": "c6fcecac",
   "metadata": {},
   "outputs": [],
   "source": [
    "X_train = train.drop(['salary_in_usd'], axis = 1)\n",
    "y_train = train['salary_in_usd']\n",
    "X_test = test.drop(['salary_in_usd'], axis = 1)\n",
    "y_test = test['salary_in_usd']"
   ]
  },
  {
   "cell_type": "markdown",
   "id": "7e6adcf2",
   "metadata": {},
   "source": [
    "### create pipeline"
   ]
  },
  {
   "cell_type": "code",
   "execution_count": 15,
   "id": "e9c7acc7",
   "metadata": {},
   "outputs": [],
   "source": [
    "from sklearn.pipeline import Pipeline\n",
    "from sklearn.preprocessing import OneHotEncoder, StandardScaler\n",
    "#define pipeline\n",
    "pipeline = Pipeline([\n",
    "    ('encoder', OneHotEncoder()),\n",
    "#     ('scale', StandardScaler())\n",
    "])\n",
    "pl = pipeline.fit_transform(X_train)"
   ]
  },
  {
   "cell_type": "markdown",
   "id": "9609f782",
   "metadata": {},
   "source": [
    "# Check Correlations"
   ]
  },
  {
   "cell_type": "code",
   "execution_count": 16,
   "id": "2bdbf67a",
   "metadata": {},
   "outputs": [
    {
     "data": {
      "text/plain": [
       "remote_ratio     0.132122\n",
       "work_year        0.170493\n",
       "salary_in_usd    1.000000\n",
       "Name: salary_in_usd, dtype: float64"
      ]
     },
     "execution_count": 16,
     "metadata": {},
     "output_type": "execute_result"
    }
   ],
   "source": [
    "corr = df.corr()\n",
    "corr['salary_in_usd'].sort_values()"
   ]
  },
  {
   "cell_type": "code",
   "execution_count": 17,
   "id": "5e89dfcd",
   "metadata": {},
   "outputs": [
    {
     "data": {
      "text/plain": [
       "array([[<AxesSubplot:xlabel='work_year', ylabel='work_year'>,\n",
       "        <AxesSubplot:xlabel='salary_in_usd', ylabel='work_year'>,\n",
       "        <AxesSubplot:xlabel='remote_ratio', ylabel='work_year'>],\n",
       "       [<AxesSubplot:xlabel='work_year', ylabel='salary_in_usd'>,\n",
       "        <AxesSubplot:xlabel='salary_in_usd', ylabel='salary_in_usd'>,\n",
       "        <AxesSubplot:xlabel='remote_ratio', ylabel='salary_in_usd'>],\n",
       "       [<AxesSubplot:xlabel='work_year', ylabel='remote_ratio'>,\n",
       "        <AxesSubplot:xlabel='salary_in_usd', ylabel='remote_ratio'>,\n",
       "        <AxesSubplot:xlabel='remote_ratio', ylabel='remote_ratio'>]],\n",
       "      dtype=object)"
      ]
     },
     "execution_count": 17,
     "metadata": {},
     "output_type": "execute_result"
    },
    {
     "data": {
      "image/png": "[encoded data removed]",
      "text/plain": [
       "<Figure size 1080x720 with 9 Axes>"
      ]
     },
     "metadata": {
      "needs_background": "light"
     },
     "output_type": "display_data"
    }
   ],
   "source": [
    "scatter = pd.plotting.scatter_matrix\n",
    "scatter(df, figsize= (15, 10))"
   ]
  },
  {
   "cell_type": "code",
   "execution_count": 18,
   "id": "c0d1b3fd",
   "metadata": {},
   "outputs": [
    {
     "data": {
      "text/plain": [
       "<AxesSubplot:xlabel='experience_level', ylabel='salary_in_usd'>"
      ]
     },
     "execution_count": 18,
     "metadata": {},
     "output_type": "execute_result"
    },
    {
     "data": {
      "image/png": "[encoded data removed]",
      "text/plain": [
       "<Figure size 432x288 with 1 Axes>"
      ]
     },
     "metadata": {
      "needs_background": "light"
     },
     "output_type": "display_data"
    }
   ],
   "source": [
    "df.plot(kind = 'scatter', x= 'experience_level', y='salary_in_usd')"
   ]
  },
  {
   "cell_type": "markdown",
   "id": "d35c2634",
   "metadata": {},
   "source": [
    "# Create Model"
   ]
  },
  {
   "cell_type": "markdown",
   "id": "4bf647ae",
   "metadata": {},
   "source": [
    "### Ridge and Lasso Regression"
   ]
  },
  {
   "cell_type": "code",
   "execution_count": 19,
   "id": "de717478",
   "metadata": {},
   "outputs": [],
   "source": [
    "from sklearn.linear_model import Ridge,RidgeCV,Lasso\n",
    "from sklearn.model_selection import cross_val_score, RepeatedKFold"
   ]
  },
  {
   "cell_type": "code",
   "execution_count": 20,
   "id": "269f92c2",
   "metadata": {},
   "outputs": [],
   "source": [
    "# define model - ridge regression\n",
    "# ridge regression (L2 Regularization) use to scale down value of coffiecent(loss + penalty)\n",
    "# alpha hyperparameter\n",
    "model = Ridge(alpha=1.0)"
   ]
  },
  {
   "cell_type": "code",
   "execution_count": 21,
   "id": "dbc8a43a",
   "metadata": {},
   "outputs": [
    {
     "data": {
      "text/html": [
       "<style>#sk-container-id-1 {color: black;background-color: white;}#sk-container-id-1 pre{padding: 0;}#sk-container-id-1 div.sk-toggleable {background-color: white;}#sk-container-id-1 label.sk-toggleable__label {cursor: pointer;display: block;width: 100%;margin-bottom: 0;padding: 0.3em;box-sizing: border-box;text-align: center;}#sk-container-id-1 label.sk-toggleable__label-arrow:before {content: \"▸\";float: left;margin-right: 0.25em;color: #696969;}#sk-container-id-1 label.sk-toggleable__label-arrow:hover:before {color: black;}#sk-container-id-1 div.sk-estimator:hover label.sk-toggleable__label-arrow:before {color: black;}#sk-container-id-1 div.sk-toggleable__content {max-height: 0;max-width: 0;overflow: hidden;text-align: left;background-color: #f0f8ff;}#sk-container-id-1 div.sk-toggleable__content pre {margin: 0.2em;color: black;border-radius: 0.25em;background-color: #f0f8ff;}#sk-container-id-1 input.sk-toggleable__control:checked~div.sk-toggleable__content {max-height: 200px;max-width: 100%;overflow: auto;}#sk-container-id-1 input.sk-toggleable__control:checked~label.sk-toggleable__label-arrow:before {content: \"▾\";}#sk-container-id-1 div.sk-estimator input.sk-toggleable__control:checked~label.sk-toggleable__label {background-color: #d4ebff;}#sk-container-id-1 div.sk-label input.sk-toggleable__control:checked~label.sk-toggleable__label {background-color: #d4ebff;}#sk-container-id-1 input.sk-hidden--visually {border: 0;clip: rect(1px 1px 1px 1px);clip: rect(1px, 1px, 1px, 1px);height: 1px;margin: -1px;overflow: hidden;padding: 0;position: absolute;width: 1px;}#sk-container-id-1 div.sk-estimator {font-family: monospace;background-color: #f0f8ff;border: 1px dotted black;border-radius: 0.25em;box-sizing: border-box;margin-bottom: 0.5em;}#sk-container-id-1 div.sk-estimator:hover {background-color: #d4ebff;}#sk-container-id-1 div.sk-parallel-item::after {content: \"\";width: 100%;border-bottom: 1px solid gray;flex-grow: 1;}#sk-container-id-1 div.sk-label:hover label.sk-toggleable__label {background-color: #d4ebff;}#sk-container-id-1 div.sk-serial::before {content: \"\";position: absolute;border-left: 1px solid gray;box-sizing: border-box;top: 0;bottom: 0;left: 50%;z-index: 0;}#sk-container-id-1 div.sk-serial {display: flex;flex-direction: column;align-items: center;background-color: white;padding-right: 0.2em;padding-left: 0.2em;position: relative;}#sk-container-id-1 div.sk-item {position: relative;z-index: 1;}#sk-container-id-1 div.sk-parallel {display: flex;align-items: stretch;justify-content: center;background-color: white;position: relative;}#sk-container-id-1 div.sk-item::before, #sk-container-id-1 div.sk-parallel-item::before {content: \"\";position: absolute;border-left: 1px solid gray;box-sizing: border-box;top: 0;bottom: 0;left: 50%;z-index: -1;}#sk-container-id-1 div.sk-parallel-item {display: flex;flex-direction: column;z-index: 1;position: relative;background-color: white;}#sk-container-id-1 div.sk-parallel-item:first-child::after {align-self: flex-end;width: 50%;}#sk-container-id-1 div.sk-parallel-item:last-child::after {align-self: flex-start;width: 50%;}#sk-container-id-1 div.sk-parallel-item:only-child::after {width: 0;}#sk-container-id-1 div.sk-dashed-wrapped {border: 1px dashed gray;margin: 0 0.4em 0.5em 0.4em;box-sizing: border-box;padding-bottom: 0.4em;background-color: white;}#sk-container-id-1 div.sk-label label {font-family: monospace;font-weight: bold;display: inline-block;line-height: 1.2em;}#sk-container-id-1 div.sk-label-container {text-align: center;}#sk-container-id-1 div.sk-container {/* jupyter's `normalize.less` sets `[hidden] { display: none; }` but bootstrap.min.css set `[hidden] { display: none !important; }` so we also need the `!important` here to be able to override the default hidden behavior on the sphinx rendered scikit-learn.org. See: https://github.com/scikit-learn/scikit-learn/issues/21755 */display: inline-block !important;position: relative;}#sk-container-id-1 div.sk-text-repr-fallback {display: none;}</style><div id=\"sk-container-id-1\" class=\"sk-top-container\"><div class=\"sk-text-repr-fallback\"><pre>Ridge()</pre><b>In a Jupyter environment, please rerun this cell to show the HTML representation or trust the notebook. <br />On GitHub, the HTML representation is unable to render, please try loading this page with nbviewer.org.</b></div><div class=\"sk-container\" hidden><div class=\"sk-item\"><div class=\"sk-estimator sk-toggleable\"><input class=\"sk-toggleable__control sk-hidden--visually\" id=\"sk-estimator-id-1\" type=\"checkbox\" checked><label for=\"sk-estimator-id-1\" class=\"sk-toggleable__label sk-toggleable__label-arrow\">Ridge</label><div class=\"sk-toggleable__content\"><pre>Ridge()</pre></div></div></div></div></div>"
      ],
      "text/plain": [
       "Ridge()"
      ]
     },
     "execution_count": 21,
     "metadata": {},
     "output_type": "execute_result"
    }
   ],
   "source": [
    "model.fit( pl, y_train)"
   ]
  },
  {
   "cell_type": "code",
   "execution_count": 22,
   "id": "8689d85f",
   "metadata": {},
   "outputs": [
    {
     "data": {
      "text/plain": [
       "array([150092.52589854, 123662.4632513 , 148447.02173507, 180477.48320016,\n",
       "        84148.20945588, 115644.26928856, 148447.02173507,  56023.59528893,\n",
       "       121440.82203433, 119591.98341323, 102192.79061036, 163929.04451054,\n",
       "        40545.20093647, 191606.56526872, 102475.67262878, 198292.7461361 ,\n",
       "       133013.25730678,  86042.40032398,  78680.21608441,  66280.98091625,\n",
       "       157818.15553368, 108642.72377407,  97433.01761246,  90963.7695748 ,\n",
       "       139919.34732547, 148447.02173507,  45859.70828768, 148447.02173507,\n",
       "       137734.13409909,  52519.01288402,  74859.13685919,  10701.2600703 ,\n",
       "         8243.8725205 ,  47197.14809109, 171956.35640646, 125141.9721332 ,\n",
       "        21624.56052889,  27209.98679876, 157818.15553368, 117153.29413888,\n",
       "       133033.59704991, 133256.21197961, 220387.63962832, 157818.15553368,\n",
       "       135347.28896612, 137734.13409909,  25573.45086602, 135854.85976918,\n",
       "        24243.41287214,  28560.27204224, 185090.87182162, 192075.16048725,\n",
       "       143746.48468589, 157818.15553368,  86803.47216366, 119591.98341323,\n",
       "       126576.27207886, 159258.44776112, 189691.06869364, 116861.38225742,\n",
       "        67195.52348634, 163929.04451054,  58552.82126082, 184346.48776297,\n",
       "        42277.801397  , 114891.44636405,  41924.02338287,  80071.53557363,\n",
       "       -13982.75924831,  20824.92441006, 100721.1585576 , 164802.44419931,\n",
       "       135347.28896612,  65329.75942025,  71747.95366261, 138792.48108673,\n",
       "       160393.46176558, 221599.00218231, 135347.28896612,  86120.23141172,\n",
       "       121908.09848575,  41776.38046681,  67799.34675926, 164986.53150147,\n",
       "       119591.98341323,  68627.48954354,  64682.84498676,  58959.93955799,\n",
       "       148447.02173507, 157818.15553368,  27940.51633418, 198292.7461361 ,\n",
       "        86042.40032398, 163129.50011539, 163929.04451054,  80691.14282889,\n",
       "       119591.98341323,  83471.91010611, 157818.15553368,  13315.40328927,\n",
       "       116860.8910478 , 148447.02173507, 103567.62290264,  93280.70025542,\n",
       "       167255.81935727,  49082.96277309,  94063.70046981, 106049.95623138,\n",
       "       128363.00030049,  49825.17776257,  73200.35760333, 118554.84895514,\n",
       "        86971.67129489, 133256.21197961, 169666.05717412, 106492.25064428,\n",
       "        29432.81485571,  66884.44994245, 148447.02173507, 157818.15553368,\n",
       "       115627.0124397 ,  40710.48286253])"
      ]
     },
     "execution_count": 22,
     "metadata": {},
     "output_type": "execute_result"
    }
   ],
   "source": [
    "test_pl = pipeline.transform(X_test)\n",
    "model.predict(test_pl)"
   ]
  },
  {
   "cell_type": "code",
   "execution_count": 23,
   "id": "bbefbe49",
   "metadata": {},
   "outputs": [
    {
     "data": {
      "text/plain": [
       "142    150000\n",
       "542    206699\n",
       "337    243900\n",
       "88     170000\n",
       "510    150000\n",
       "        ...  \n",
       "264     25532\n",
       "381    101570\n",
       "596    210000\n",
       "166     80000\n",
       "271     18907\n",
       "Name: salary_in_usd, Length: 122, dtype: int64"
      ]
     },
     "execution_count": 23,
     "metadata": {},
     "output_type": "execute_result"
    }
   ],
   "source": [
    "y_test"
   ]
  },
  {
   "cell_type": "code",
   "execution_count": 24,
   "id": "34cf3cd4",
   "metadata": {},
   "outputs": [],
   "source": [
    "# RepeatedKFold cross validator(number_of_splits, number_of_repetation_kfold, random_state-set contant value)\n",
    "cv = RepeatedKFold(n_splits=10, n_repeats=10, random_state=4)\n",
    "scores = cross_val_score(model,pl, y_train, cv=cv, scoring='neg_mean_absolute_error')"
   ]
  },
  {
   "cell_type": "code",
   "execution_count": 25,
   "id": "c1f64b33",
   "metadata": {},
   "outputs": [
    {
     "name": "stdout",
     "output_type": "stream",
     "text": [
      " Mean = -33055.47852629492\n",
      "\n",
      " Standard Deviation = 4820.176994048398\n",
      "\n",
      "RMSE =  181.81165673931613\n"
     ]
    }
   ],
   "source": [
    "print(f\" Mean = {np.mean(scores)}\\n\\n Standard Deviation = {np.std(scores)}\\n\" )\n",
    "print('RMSE = ', np.sqrt(-np.mean(scores)))"
   ]
  },
  {
   "cell_type": "code",
   "execution_count": 26,
   "id": "259e5a08",
   "metadata": {},
   "outputs": [
    {
     "data": {
      "text/plain": [
       "0.47258356233619436"
      ]
     },
     "execution_count": 26,
     "metadata": {},
     "output_type": "execute_result"
    }
   ],
   "source": [
    "model.score(test_pl, y_test)"
   ]
  },
  {
   "cell_type": "markdown",
   "id": "6157d415",
   "metadata": {},
   "source": [
    "* RidgeCV"
   ]
  },
  {
   "cell_type": "code",
   "execution_count": 27,
   "id": "db8f33e8",
   "metadata": {},
   "outputs": [],
   "source": [
    "model2 = RidgeCV(scoring = 'neg_mean_absolute_error', cv=cv, fit_intercept = True)\n",
    "reg = model2.fit(pl, y_train)"
   ]
  },
  {
   "cell_type": "code",
   "execution_count": 28,
   "id": "e8b3f2b7",
   "metadata": {},
   "outputs": [
    {
     "data": {
      "text/plain": [
       "10.0"
      ]
     },
     "execution_count": 28,
     "metadata": {},
     "output_type": "execute_result"
    }
   ],
   "source": [
    "reg.alpha_"
   ]
  },
  {
   "cell_type": "code",
   "execution_count": 29,
   "id": "97511e56",
   "metadata": {},
   "outputs": [
    {
     "data": {
      "text/plain": [
       "array([162436.19719025, 124211.52520727, 149447.04422343, 177582.81393245,\n",
       "        61037.54760871, 117792.38052601, 149447.04422343,  54176.89272359,\n",
       "       118884.3835092 , 124240.32121157, 120235.67681088, 163568.33152584,\n",
       "        43140.21767451, 161080.53851268,  94024.98070277, 182563.28018795,\n",
       "       133983.65434847,  92426.78079598,  78068.30513818,  66903.9480845 ,\n",
       "       155799.64122882, 111856.71754508, 101810.36000086,  88666.93503895,\n",
       "       140227.10080278, 149447.04422343,  47787.5260926 , 149447.04422343,\n",
       "       135093.96536377,  61873.64536298,  79817.82451617,  15590.8282387 ,\n",
       "        31944.16069604,  63213.77116626, 168142.38222449, 123825.84369479,\n",
       "        27307.67297589,  35104.76092291, 155799.64122882, 118695.01081415,\n",
       "       130564.12221266, 152042.35368715, 205539.13511642, 155799.64122882,\n",
       "       136349.80153696, 135093.96536377,  39754.17976448, 138178.92255445,\n",
       "        29928.96438969,  53740.75906679, 174528.7353917 , 182137.16857029,\n",
       "       144917.20107232, 155799.64122882,  84310.36859409, 124240.32121157,\n",
       "       131848.75439016, 161745.57767156, 160308.57094181, 113692.8622085 ,\n",
       "        75381.87286426, 163568.33152584,  75743.27491861, 143977.45084505,\n",
       "        73037.7735229 , 119710.47806047,  50395.33576043,  99157.30513596,\n",
       "        -1630.35562755,  26255.56686122, 102411.3497304 , 163408.07440741,\n",
       "       136349.80153696,  68375.73669067,  73627.11888249, 123229.212134  ,\n",
       "       156877.1380674 , 191634.99300898, 136349.80153696,  80704.71276364,\n",
       "        94966.75474019,  45701.92347859,  69742.49433897, 157593.9567774 ,\n",
       "       124240.32121157,  69602.35847096,  68078.96881639,  61183.65432489,\n",
       "       149447.04422343, 155799.64122882,  49123.44014733, 182563.28018795,\n",
       "        92426.78079598, 132391.50245652, 163568.33152584,  86966.29205077,\n",
       "       124240.32121157,  79229.38084287, 155799.64122882,  22294.80550196,\n",
       "       116532.90147564, 149447.04422343,  90830.40675636,  92177.52577408,\n",
       "       163612.53907338,  50315.81437535,  94244.13785212, 101394.32876037,\n",
       "       128741.36835837,  52861.58212632,  66448.68287299, 117272.5342677 ,\n",
       "        85203.30340275, 152042.35368715, 165284.28048432, 111143.07852511,\n",
       "        49128.72800936,  56586.96902823, 149447.04422343, 155799.64122882,\n",
       "       119465.15072367,  60249.26506677])"
      ]
     },
     "execution_count": 29,
     "metadata": {},
     "output_type": "execute_result"
    }
   ],
   "source": [
    "reg.predict(test_pl)"
   ]
  },
  {
   "cell_type": "code",
   "execution_count": 30,
   "id": "f0871070",
   "metadata": {},
   "outputs": [
    {
     "data": {
      "text/plain": [
       "82251.00245683012"
      ]
     },
     "execution_count": 30,
     "metadata": {},
     "output_type": "execute_result"
    }
   ],
   "source": [
    "reg.intercept_"
   ]
  },
  {
   "cell_type": "code",
   "execution_count": 31,
   "id": "f16bd5b4",
   "metadata": {},
   "outputs": [],
   "source": [
    "# find alpha using grid search\n",
    "from sklearn.model_selection import GridSearchCV\n",
    "grid = dict()\n",
    "grid['alpha'] = [0, 10, 0.1]"
   ]
  },
  {
   "cell_type": "code",
   "execution_count": 32,
   "id": "8d545e68",
   "metadata": {},
   "outputs": [],
   "source": [
    "# define search\n",
    "search = GridSearchCV(model, grid, scoring = 'neg_mean_absolute_error', cv=cv)"
   ]
  },
  {
   "cell_type": "code",
   "execution_count": 33,
   "id": "6cf55465",
   "metadata": {},
   "outputs": [],
   "source": [
    "search_reg = search.fit(pl, y_train)"
   ]
  },
  {
   "cell_type": "code",
   "execution_count": 34,
   "id": "b2480324",
   "metadata": {},
   "outputs": [
    {
     "data": {
      "text/plain": [
       "{'alpha': 10}"
      ]
     },
     "execution_count": 34,
     "metadata": {},
     "output_type": "execute_result"
    }
   ],
   "source": [
    "search.best_params_"
   ]
  },
  {
   "cell_type": "markdown",
   "id": "ff4949cf",
   "metadata": {},
   "source": [
    "### Lasso"
   ]
  },
  {
   "cell_type": "code",
   "execution_count": 35,
   "id": "84d97b0b",
   "metadata": {},
   "outputs": [],
   "source": [
    "models = Lasso(alpha=1.0, tol=1)"
   ]
  },
  {
   "cell_type": "code",
   "execution_count": 36,
   "id": "97698e66",
   "metadata": {},
   "outputs": [
    {
     "data": {
      "text/html": [
       "<style>#sk-container-id-2 {color: black;background-color: white;}#sk-container-id-2 pre{padding: 0;}#sk-container-id-2 div.sk-toggleable {background-color: white;}#sk-container-id-2 label.sk-toggleable__label {cursor: pointer;display: block;width: 100%;margin-bottom: 0;padding: 0.3em;box-sizing: border-box;text-align: center;}#sk-container-id-2 label.sk-toggleable__label-arrow:before {content: \"▸\";float: left;margin-right: 0.25em;color: #696969;}#sk-container-id-2 label.sk-toggleable__label-arrow:hover:before {color: black;}#sk-container-id-2 div.sk-estimator:hover label.sk-toggleable__label-arrow:before {color: black;}#sk-container-id-2 div.sk-toggleable__content {max-height: 0;max-width: 0;overflow: hidden;text-align: left;background-color: #f0f8ff;}#sk-container-id-2 div.sk-toggleable__content pre {margin: 0.2em;color: black;border-radius: 0.25em;background-color: #f0f8ff;}#sk-container-id-2 input.sk-toggleable__control:checked~div.sk-toggleable__content {max-height: 200px;max-width: 100%;overflow: auto;}#sk-container-id-2 input.sk-toggleable__control:checked~label.sk-toggleable__label-arrow:before {content: \"▾\";}#sk-container-id-2 div.sk-estimator input.sk-toggleable__control:checked~label.sk-toggleable__label {background-color: #d4ebff;}#sk-container-id-2 div.sk-label input.sk-toggleable__control:checked~label.sk-toggleable__label {background-color: #d4ebff;}#sk-container-id-2 input.sk-hidden--visually {border: 0;clip: rect(1px 1px 1px 1px);clip: rect(1px, 1px, 1px, 1px);height: 1px;margin: -1px;overflow: hidden;padding: 0;position: absolute;width: 1px;}#sk-container-id-2 div.sk-estimator {font-family: monospace;background-color: #f0f8ff;border: 1px dotted black;border-radius: 0.25em;box-sizing: border-box;margin-bottom: 0.5em;}#sk-container-id-2 div.sk-estimator:hover {background-color: #d4ebff;}#sk-container-id-2 div.sk-parallel-item::after {content: \"\";width: 100%;border-bottom: 1px solid gray;flex-grow: 1;}#sk-container-id-2 div.sk-label:hover label.sk-toggleable__label {background-color: #d4ebff;}#sk-container-id-2 div.sk-serial::before {content: \"\";position: absolute;border-left: 1px solid gray;box-sizing: border-box;top: 0;bottom: 0;left: 50%;z-index: 0;}#sk-container-id-2 div.sk-serial {display: flex;flex-direction: column;align-items: center;background-color: white;padding-right: 0.2em;padding-left: 0.2em;position: relative;}#sk-container-id-2 div.sk-item {position: relative;z-index: 1;}#sk-container-id-2 div.sk-parallel {display: flex;align-items: stretch;justify-content: center;background-color: white;position: relative;}#sk-container-id-2 div.sk-item::before, #sk-container-id-2 div.sk-parallel-item::before {content: \"\";position: absolute;border-left: 1px solid gray;box-sizing: border-box;top: 0;bottom: 0;left: 50%;z-index: -1;}#sk-container-id-2 div.sk-parallel-item {display: flex;flex-direction: column;z-index: 1;position: relative;background-color: white;}#sk-container-id-2 div.sk-parallel-item:first-child::after {align-self: flex-end;width: 50%;}#sk-container-id-2 div.sk-parallel-item:last-child::after {align-self: flex-start;width: 50%;}#sk-container-id-2 div.sk-parallel-item:only-child::after {width: 0;}#sk-container-id-2 div.sk-dashed-wrapped {border: 1px dashed gray;margin: 0 0.4em 0.5em 0.4em;box-sizing: border-box;padding-bottom: 0.4em;background-color: white;}#sk-container-id-2 div.sk-label label {font-family: monospace;font-weight: bold;display: inline-block;line-height: 1.2em;}#sk-container-id-2 div.sk-label-container {text-align: center;}#sk-container-id-2 div.sk-container {/* jupyter's `normalize.less` sets `[hidden] { display: none; }` but bootstrap.min.css set `[hidden] { display: none !important; }` so we also need the `!important` here to be able to override the default hidden behavior on the sphinx rendered scikit-learn.org. See: https://github.com/scikit-learn/scikit-learn/issues/21755 */display: inline-block !important;position: relative;}#sk-container-id-2 div.sk-text-repr-fallback {display: none;}</style><div id=\"sk-container-id-2\" class=\"sk-top-container\"><div class=\"sk-text-repr-fallback\"><pre>Lasso(tol=1)</pre><b>In a Jupyter environment, please rerun this cell to show the HTML representation or trust the notebook. <br />On GitHub, the HTML representation is unable to render, please try loading this page with nbviewer.org.</b></div><div class=\"sk-container\" hidden><div class=\"sk-item\"><div class=\"sk-estimator sk-toggleable\"><input class=\"sk-toggleable__control sk-hidden--visually\" id=\"sk-estimator-id-2\" type=\"checkbox\" checked><label for=\"sk-estimator-id-2\" class=\"sk-toggleable__label sk-toggleable__label-arrow\">Lasso</label><div class=\"sk-toggleable__content\"><pre>Lasso(tol=1)</pre></div></div></div></div></div>"
      ],
      "text/plain": [
       "Lasso(tol=1)"
      ]
     },
     "execution_count": 36,
     "metadata": {},
     "output_type": "execute_result"
    }
   ],
   "source": [
    "models.fit(pl, y_train)"
   ]
  },
  {
   "cell_type": "code",
   "execution_count": 37,
   "id": "36b9cdf8",
   "metadata": {},
   "outputs": [
    {
     "data": {
      "text/plain": [
       "array([139727.33847557, 126438.57431745, 153151.42940891, 175961.43385375,\n",
       "       113266.75007489, 105389.60896818, 153151.42940891,  42503.28355698,\n",
       "       125924.69752483, 128111.63877857,  68601.90788157, 176607.8988329 ,\n",
       "        47292.58071911, 213338.85615647, 115288.77319662, 211269.7058127 ,\n",
       "       110516.33605928, 110756.34591855,  80778.30037434,  66446.18940793,\n",
       "       157121.5914575 ,  98781.90059093,  90532.46416735,  98116.32255802,\n",
       "       138002.63649501, 153151.42940891,  60288.32322052, 153151.42940891,\n",
       "       131300.90111703,  51074.6850469 ,  86461.41321264,  -9759.45249069,\n",
       "        24568.29113571,   9461.51778365, 165632.01996322, 126401.83518555,\n",
       "        27749.95904096,  42299.28043653, 157121.5914575 , 119081.30264486,\n",
       "       130408.73636604, 136084.21653516, 215548.69650237, 157121.5914575 ,\n",
       "       133452.58303191, 131300.90111703,  32985.68305999, 148252.36347744,\n",
       "        11713.41226828,  22904.58453509, 189645.55258822, 195767.39655169,\n",
       "       152259.26465793, 157121.5914575 ,  95398.77773156, 128111.63877857,\n",
       "       134233.48274204, 173529.9015353 , 195013.56390329, 118370.93325093,\n",
       "        68843.04402911, 176607.8988329 ,  32683.55045556, 196883.93292094,\n",
       "        36741.2762433 , 127219.47402758,  21936.18767284,  84033.41861429,\n",
       "       -17296.54041065,  18743.7422416 ,  96960.83195705, 163243.43542097,\n",
       "       133452.58303191,  74005.43581057,  80515.14705629, 133762.15253238,\n",
       "       150140.74351327, 236288.94047563, 133452.58303191,  90517.90673475,\n",
       "       148628.9285203 ,  32871.22005951,  71711.3813925 , 155365.72777362,\n",
       "       128111.63877857,  36542.92170364,  73326.81843572,  52229.46189683,\n",
       "       153151.42940891, 157121.5914575 ,  -3043.76640872, 211269.7058127 ,\n",
       "       110756.34591855, 180733.38173758, 176607.8988329 ,  43388.13146807,\n",
       "       128111.63877857,  77194.69814903, 157121.5914575 ,  -5606.85575735,\n",
       "       122538.13346435, 153151.42940891,  86946.3879883 ,  85088.52457753,\n",
       "       164739.85521224,  50669.29232818, 105706.82596383,  97992.46112455,\n",
       "       127330.73906844,  55738.509744  ,  83075.43877846, 122193.69500249,\n",
       "        94084.3569463 , 136084.21653516, 155582.96172736, 108412.79240157,\n",
       "        23549.18244696,  59809.7661396 , 153151.42940891, 157121.5914575 ,\n",
       "       104903.7445544 ,  27553.14783986])"
      ]
     },
     "execution_count": 37,
     "metadata": {},
     "output_type": "execute_result"
    }
   ],
   "source": [
    "models.predict(test_pl)"
   ]
  },
  {
   "cell_type": "code",
   "execution_count": 38,
   "id": "394f5e40",
   "metadata": {},
   "outputs": [
    {
     "data": {
      "text/plain": [
       "142    150000\n",
       "542    206699\n",
       "337    243900\n",
       "88     170000\n",
       "510    150000\n",
       "276     58000\n",
       "504    115000\n",
       "237     46809\n",
       "183     61896\n",
       "330    112900\n",
       "73     150000\n",
       "428    140400\n",
       "530     85000\n",
       "190    152000\n",
       "1      260000\n",
       "Name: salary_in_usd, dtype: int64"
      ]
     },
     "execution_count": 38,
     "metadata": {},
     "output_type": "execute_result"
    }
   ],
   "source": [
    "y_test[:15]"
   ]
  },
  {
   "cell_type": "code",
   "execution_count": 39,
   "id": "a025abef",
   "metadata": {},
   "outputs": [],
   "source": [
    "scores = cross_val_score(models, pl, y_train, cv=cv, scoring='neg_mean_absolute_error')"
   ]
  },
  {
   "cell_type": "code",
   "execution_count": 40,
   "id": "236f1719",
   "metadata": {},
   "outputs": [
    {
     "name": "stdout",
     "output_type": "stream",
     "text": [
      " Mean = -34417.11345185331\n",
      "\n",
      " Standard Deviation = 5291.89615555311\n"
     ]
    }
   ],
   "source": [
    "print(f\" Mean = {np.mean(scores)}\\n\\n Standard Deviation = {np.std(scores)}\" )"
   ]
  }
 ],
 "metadata": {
  "kernelspec": {
   "display_name": "Python 3 (ipykernel)",
   "language": "python",
   "name": "python3"
  },
  "language_info": {
   "codemirror_mode": {
    "name": "ipython",
    "version": 3
   },
   "file_extension": ".py",
   "mimetype": "text/x-python",
   "name": "python",
   "nbconvert_exporter": "python",
   "pygments_lexer": "ipython3",
   "version": "3.10.4"
  }
 },
 "nbformat": 4,
 "nbformat_minor": 5
}
